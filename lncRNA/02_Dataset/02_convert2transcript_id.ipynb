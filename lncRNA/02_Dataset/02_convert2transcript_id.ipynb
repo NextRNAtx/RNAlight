{
 "cells": [
  {
   "cell_type": "markdown",
   "metadata": {},
   "source": [
    "# Bash "
   ]
  },
  {
   "cell_type": "markdown",
   "metadata": {},
   "source": [
    "## Convert gene id to transcript id"
   ]
  },
  {
   "cell_type": "code",
   "execution_count": 7,
   "metadata": {},
   "outputs": [],
   "source": [
    "# File path\n",
    "Nuc=\"./01_lncRNA_info_nuc_gene.tsv\"\n",
    "Cyto=\"./01_lncRNA_info_cyto_gene.tsv\"\n",
    "Gencode_trans_fa=\"../01_Resources/References/gencode.v30.lncRNA_transcripts.fa\""
   ]
  },
  {
   "cell_type": "code",
   "execution_count": 9,
   "metadata": {},
   "outputs": [],
   "source": [
    "# get transcript id for nuc-lncRNA\n",
    "touch Nuc_trans.temp\n",
    "echo \"ensembl_transcript_id\" > Nuc_trans.temp\n",
    "sed '1d' $Nuc | while read line \n",
    "do\n",
    "    gene_id=`echo \"$line\" | cut -f1`\n",
    "    temp=`grep $gene_id ../01_Resources/References/gencode.v30.lncRNA_transcripts_major.txt | cut -d. -f1`\n",
    "    echo \"$temp\">> Nuc_trans.temp\n",
    "done\n",
    "\n",
    "# lncRNA_info_nuc_transcript.tsv  \n",
    "paste Nuc_trans.temp $Nuc | awk -v OFS='\\t' '{print $1,$3,$4}' > 02_lncRNA_info_nuc_transcript.tsv"
   ]
  },
  {
   "cell_type": "code",
   "execution_count": 11,
   "metadata": {},
   "outputs": [],
   "source": [
    "# get transcript id for cyto-lncRNA\n",
    "touch Cyto_trans.temp\n",
    "echo \"ensembl_transcript_id\" > Cyto_trans.temp\n",
    "sed '1d' $Cyto | while read line \n",
    "do\n",
    "    gene_id=`echo \"$line\" | cut -f1`\n",
    "    temp=`grep $gene_id ../01_Resources/References/gencode.v30.lncRNA_transcripts_major.txt | cut -d. -f1`\n",
    "    echo \"$temp\">> Cyto_trans.temp\n",
    "done\n",
    "\n",
    "# lncRNA_info_cyto_transcript.tsv\n",
    "paste Cyto_trans.temp $Cyto | awk -v OFS='\\t' '{print $1,$3,$4}' > 02_lncRNA_info_cyto_transcript.tsv"
   ]
  },
  {
   "cell_type": "code",
   "execution_count": 13,
   "metadata": {},
   "outputs": [],
   "source": [
    "rm *temp"
   ]
  },
  {
   "cell_type": "code",
   "execution_count": null,
   "metadata": {},
   "outputs": [],
   "source": []
  }
 ],
 "metadata": {
  "kernelspec": {
   "display_name": "Bash",
   "language": "bash",
   "name": "bash"
  },
  "language_info": {
   "codemirror_mode": "shell",
   "file_extension": ".sh",
   "mimetype": "text/x-sh",
   "name": "bash"
  }
 },
 "nbformat": 4,
 "nbformat_minor": 4
}
