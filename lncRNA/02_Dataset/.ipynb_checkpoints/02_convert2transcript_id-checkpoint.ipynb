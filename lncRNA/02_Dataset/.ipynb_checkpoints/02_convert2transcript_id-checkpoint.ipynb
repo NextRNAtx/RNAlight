{
 "cells": [
  {
   "cell_type": "markdown",
   "metadata": {},
   "source": [
    "# To drop duplications which may be both in nuc and cyto classes from WMR_Datasets"
   ]
  },
  {
   "cell_type": "code",
   "execution_count": 5,
   "metadata": {},
   "outputs": [],
   "source": [
    "import pandas as pd"
   ]
  },
  {
   "cell_type": "code",
   "execution_count": 6,
   "metadata": {},
   "outputs": [],
   "source": [
    "cyto_f = \"../Original_data/lncRNA_info_cyto_woRNALocate.csv\"\n",
    "nuc_f = \"../Original_data/lncRNA_info_nuc_woRNALocate.csv\"\n",
    "\n",
    "# load data\n",
    "dataset_cyto = pd.read_csv(cyto_f,sep=',',index_col = False)    #1806    \n",
    "dataset_nuc = pd.read_csv(nuc_f,sep=',',index_col = False)    #1986\n",
    "# set tag: nuclear 1 / cytosol 0\n",
    "dataset_nuc['tag'] = 1;dataset_cyto['tag'] = 0\n",
    "# concat the nuc and cyto dataset\n",
    "dataset = pd.concat([dataset_nuc,dataset_cyto]) # 3792\n",
    "# remove duplicated\n",
    "dataset.drop_duplicates(keep=\"first\",subset=[\"ensembl_gene_id\",\"name\",\"cdna\"],inplace=True) # 3792\n",
    "# output nuc_df cyto_df\n",
    "nuc_df = dataset[dataset[\"tag\"] == 1].iloc[:,0:3]\n",
    "nuc_df.to_csv(\"./lncRNA_info_nuc_woRNALocate.tsv.temp\",sep = '\\t', index = False) #1986\n",
    "cyto_df = dataset[dataset[\"tag\"] == 0].iloc[:,0:3]\n",
    "cyto_df.to_csv(\"./lncRNA_info_cyto_woRNALocate.tsv.temp\",sep = '\\t',index = False) #1806"
   ]
  },
  {
   "cell_type": "code",
   "execution_count": 7,
   "metadata": {},
   "outputs": [
    {
     "data": {
      "text/plain": [
       "count      3792.000000\n",
       "mean       1506.691983\n",
       "std        3894.911318\n",
       "min          68.000000\n",
       "5%          382.550000\n",
       "25%         562.000000\n",
       "50%         852.000000\n",
       "75%        1937.000000\n",
       "95%        3825.250000\n",
       "max      205012.000000\n",
       "Name: length, dtype: float64"
      ]
     },
     "execution_count": 7,
     "metadata": {},
     "output_type": "execute_result"
    }
   ],
   "source": [
    "dataset[\"length\"] = dataset[\"cdna\"].apply(len)\n",
    "dataset[\"length\"].describe(percentiles=[.05, .25, .75, .95])\n",
    "dataset.to_csv(\"lncRNA_info_total_len.tsv.temp\",sep = '\\t',index = False)"
   ]
  },
  {
   "cell_type": "markdown",
   "metadata": {},
   "source": [
    "# Convert gene id to transcript id"
   ]
  },
  {
   "cell_type": "code",
   "execution_count": 8,
   "metadata": {},
   "outputs": [],
   "source": [
    "%%bash\n",
    "\n",
    "# file path\n",
    "Nuc=\"./lncRNA_info_nuc_woRNALocate.tsv.temp\"\n",
    "Cyto=\"./lncRNA_info_cyto_woRNALocate.tsv.temp\"\n",
    "Total=\"./lncRNA_info_total_len.tsv.temp\"\n",
    "Gencode_trans_fa=\"./gencode.v30.lncRNA_transcripts.fa\"\n",
    "\n",
    "# get transcript id for nuc-lncRNA\n",
    "touch Nuc_trans.temp\n",
    "echo \"ensembl_transcript_id\" > Nuc_trans.temp\n",
    "sed '1d' $Nuc | while read line \n",
    "do\n",
    "    gene_id=`echo \"$line\" | cut -f1`\n",
    "    temp=`grep $gene_id ../Original_data/gencode.v30.lncRNA_transcripts_major.txt | cut -d. -f1`\n",
    "    echo \"$temp\">> Nuc_trans.temp\n",
    "done\n",
    "\n",
    "# lncRNA_nuc_woRNALocate_transcript.txt   \n",
    "paste Nuc_trans.temp $Nuc | awk -v OFS='\\t' '{print $1,$3,$4}' > lncRNA_info_nuc_woRNALocate.tsv\n",
    "\n",
    "# get transcript id for cyto-lncRNA\n",
    "touch Cyto_trans.temp\n",
    "echo \"ensembl_transcript_id\" > Cyto_trans.temp\n",
    "sed '1d' $Cyto | while read line \n",
    "do\n",
    "    gene_id=`echo \"$line\" | cut -f1`\n",
    "    temp=`grep $gene_id ../Original_data/gencode.v30.lncRNA_transcripts_major.txt | cut -d. -f1`\n",
    "    echo \"$temp\">> Cyto_trans.temp\n",
    "done\n",
    "\n",
    "# lncRNA_cyto_woRNALocate_transcript.txt\n",
    "paste Cyto_trans.temp $Cyto | awk -v OFS='\\t' '{print $1,$3,$4}' > lncRNA_info_cyto_woRNALocate.tsv\n",
    "\n",
    "touch Total_trans.temp\n",
    "echo \"ensembl_transcript_id\" > Total_trans.temp\n",
    "sed '1d' Nuc_trans.temp >> Total_trans.temp\n",
    "sed '1d' Cyto_trans.temp >> Total_trans.temp\n",
    "cut -f2-5 $Total | paste Total_trans.temp - > lncRNA_info_total_len.tsv\n",
    "\n",
    "rm *temp"
   ]
  },
  {
   "cell_type": "code",
   "execution_count": 4,
   "metadata": {},
   "outputs": [],
   "source": [
    "%%bash\n",
    "\n",
    "# file path\n",
    "Nuc=\"./lncRNA_info_nuc_woRNALocate.tsv.temp\"\n",
    "Cyto=\"./lncRNA_info_cyto_woRNALocate.tsv.temp\"\n",
    "Total=\"./lncRNA_info_total_len.tsv.temp\"\n",
    "Gencode_trans_fa=\"./gencode.v30.lncRNA_transcripts.fa\"\n",
    "\n",
    "#convert fasta to tab\n",
    "seqkit fx2tab $Gencode_trans_fa > ./gencode.v30.lncRNA_transcripts.tab\n",
    "\n",
    "\n",
    "# get transcript id for nuc-lncRNA\n",
    "touch Nuc_trans.temp\n",
    "echo \"ensembl_transcript_id\" > Nuc_trans.temp\n",
    "sed '1d' $Nuc | while read line \n",
    "do\n",
    "    gene_id=`echo \"$line\" | cut -f1`\n",
    "    seq=`echo \"$line\" | cut -f3`\n",
    "    if [ \"$gene_id\"==\"ENSG00000281344\" ];then    # this lncRNA is too long(200000nt)\n",
    "        temp=`grep -w $gene_id ./gencode.v30.lncRNA_transcripts.tab | cut -d. -f1 | sed -n '1p'`\n",
    "    else\n",
    "        temp=`grep -w $gene_id ./gencode.v30.lncRNA_transcripts.tab | grep -w $seq | cut -d. -f1 | sed -n '1p'` # duplications of PAR(pseudoautosomal regions)\n",
    "    fi\n",
    "    echo \"$temp\">> Nuc_trans.temp\n",
    "done\n",
    "\n",
    "# lncRNA_nuc_woRNALocate_transcript.txt   \n",
    "paste Nuc_trans.temp $Nuc | awk -v OFS='\\t' '{print $1,$3,$4}' > lncRNA_info_nuc_woRNALocate.tsv\n",
    "\n",
    "# get transcript id for cyto-lncRNA\n",
    "touch Cyto_trans.temp\n",
    "echo \"ensembl_transcript_id\" > Cyto_trans.temp\n",
    "sed '1d' $Cyto | while read line \n",
    "do\n",
    "    gene_id=`echo \"$line\" | cut -f1`\n",
    "    seq=`echo \"$line\" | cut -f3`\n",
    "    grep -w $gene_id ./gencode.v30.lncRNA_transcripts.tab | grep -w $seq | cut -d. -f1 >> Cyto_trans.temp\n",
    "done\n",
    "\n",
    "# lncRNA_cyto_woRNALocate_transcript.txt\n",
    "paste Cyto_trans.temp $Cyto | awk -v OFS='\\t' '{print $1,$3,$4}' > lncRNA_info_cyto_woRNALocate.tsv\n",
    "\n",
    "touch Total_trans.temp\n",
    "echo \"ensembl_transcript_id\" > Total_trans.temp\n",
    "sed '1d' Nuc_trans.temp >> Total_trans.temp\n",
    "sed '1d' Cyto_trans.temp >> Total_trans.temp\n",
    "cut -f2-5 $Total | paste Total_trans.temp - > lncRNA_info_total_len.tsv\n",
    "\n",
    "rm *temp gencode.v30.lncRNA_transcripts.tab"
   ]
  }
 ],
 "metadata": {
  "kernelspec": {
   "display_name": "pytorch",
   "language": "python",
   "name": "pytorch"
  },
  "language_info": {
   "codemirror_mode": {
    "name": "ipython",
    "version": 3
   },
   "file_extension": ".py",
   "mimetype": "text/x-python",
   "name": "python",
   "nbconvert_exporter": "python",
   "pygments_lexer": "ipython3",
   "version": "3.6.10"
  }
 },
 "nbformat": 4,
 "nbformat_minor": 4
}
