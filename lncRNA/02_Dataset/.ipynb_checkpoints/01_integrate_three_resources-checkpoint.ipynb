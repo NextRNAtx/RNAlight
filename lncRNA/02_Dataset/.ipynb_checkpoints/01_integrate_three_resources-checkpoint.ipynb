{
 "cells": [
  {
   "cell_type": "markdown",
   "id": "pharmaceutical-boutique",
   "metadata": {
    "papermill": {
     "duration": 0.020513,
     "end_time": "2021-02-02T05:24:10.198470",
     "exception": false,
     "start_time": "2021-02-02T05:24:10.177957",
     "status": "completed"
    },
    "tags": []
   },
   "source": [
    "# Load datasets"
   ]
  },
  {
   "cell_type": "code",
   "execution_count": 1,
   "id": "corrected-headquarters",
   "metadata": {
    "papermill": {
     "duration": 2.685166,
     "end_time": "2021-02-02T05:24:12.899735",
     "exception": false,
     "start_time": "2021-02-02T05:24:10.214569",
     "status": "completed"
    },
    "tags": []
   },
   "outputs": [],
   "source": [
    "# Human lncRNA GENCODE v30 information\n",
    "lncRNA <- read.csv('./gencode.v30.lncRNA_transcripts_major_compact.txt',sep = '\\t',header = T) #16153\n",
    "# Modify ensebl gene id of lncRNA\n",
    "lncRNA[1] <- apply(lncRNA[1],1,function(x) {strsplit(x, split='.', fixed=TRUE)[[1]][1]})\n",
    "\n",
    "# Three raw datasets\n",
    "lncATLAs <- read.csv('2021-01-29_lncATLAS_noncoding_data_RCI.tsv',sep = '\\t', header = T) # 15929 ncRNAs * 15 = 238935\n",
    "APEX = read.csv('2019_CELL_APEXSeq.tsv',sep ='\\t', header = T) # 3335 RNAs\n",
    "Cefra = read.csv('2018_CeFra_Seq_polyA_plus.tsv',sep = '\\t',header = T) # 63677 RNAs"
   ]
  },
  {
   "cell_type": "markdown",
   "id": "applied-champagne",
   "metadata": {
    "papermill": {
     "duration": 0.016075,
     "end_time": "2021-02-02T05:24:12.940109",
     "exception": false,
     "start_time": "2021-02-02T05:24:12.924034",
     "status": "completed"
    },
    "tags": []
   },
   "source": [
    "# lncATLAs"
   ]
  },
  {
   "cell_type": "code",
   "execution_count": 2,
   "id": "distributed-burns",
   "metadata": {},
   "outputs": [],
   "source": [
    "# Reshape to format, col:cell lines; row: gene\n",
    "lncATLAs <- na.omit(lncATLAs)\n",
    "# 6768 lncRNAs with at least 1 RCI across 15 cellines\n",
    "lncATLAs_reshape <- reshape(lncATLAs[,c(1,2,4)],v.names = 'Value',idvar = 'ENSEMBL.ID',timevar = 'Data.Source',direction = 'wide')\n",
    "rownames(lncATLAs_reshape) <- lncATLAs_reshape[,1]\n",
    "lncATLAs_reshape <- lncATLAs_reshape[,-1]"
   ]
  },
  {
   "cell_type": "code",
   "execution_count": 3,
   "id": "purple-demand",
   "metadata": {},
   "outputs": [
    {
     "data": {
      "text/html": [
       "<table>\n",
       "<caption>A data.frame: 6 × 15</caption>\n",
       "<thead>\n",
       "\t<tr><th></th><th scope=col>Value.MCF.7</th><th scope=col>Value.A549</th><th scope=col>Value.GM12878</th><th scope=col>Value.H1.hESC</th><th scope=col>Value.HeLa.S3</th><th scope=col>Value.HepG2</th><th scope=col>Value.HT1080</th><th scope=col>Value.HUVEC</th><th scope=col>Value.IMR.90</th><th scope=col>Value.K562</th><th scope=col>Value.NCI.H460</th><th scope=col>Value.NHEK</th><th scope=col>Value.SK.MEL.5</th><th scope=col>Value.SK.N.DZ</th><th scope=col>Value.SK.N.SH</th></tr>\n",
       "\t<tr><th></th><th scope=col>&lt;dbl&gt;</th><th scope=col>&lt;dbl&gt;</th><th scope=col>&lt;dbl&gt;</th><th scope=col>&lt;dbl&gt;</th><th scope=col>&lt;dbl&gt;</th><th scope=col>&lt;dbl&gt;</th><th scope=col>&lt;dbl&gt;</th><th scope=col>&lt;dbl&gt;</th><th scope=col>&lt;dbl&gt;</th><th scope=col>&lt;dbl&gt;</th><th scope=col>&lt;dbl&gt;</th><th scope=col>&lt;dbl&gt;</th><th scope=col>&lt;dbl&gt;</th><th scope=col>&lt;dbl&gt;</th><th scope=col>&lt;dbl&gt;</th></tr>\n",
       "</thead>\n",
       "<tbody>\n",
       "\t<tr><th scope=row>ENSG00000082929</th><td> 1.23491</td><td>      NA</td><td>      NA</td><td>       NA</td><td>      NA</td><td>         NA</td><td>      NA</td><td>      NA</td><td>      NA</td><td>       NA</td><td>      NA</td><td>        NA</td><td>       NA</td><td>      NA</td><td>      NA</td></tr>\n",
       "\t<tr><th scope=row>ENSG00000093100</th><td>-2.52324</td><td>-3.15798</td><td>-2.00351</td><td>-2.218200</td><td>-2.05661</td><td>-2.93963000</td><td>-2.53315</td><td>-2.64088</td><td>-3.17702</td><td>-1.871240</td><td>-1.92943</td><td>-2.4176300</td><td>-1.861310</td><td>-1.49035</td><td>-3.98660</td></tr>\n",
       "\t<tr><th scope=row>ENSG00000099869</th><td>      NA</td><td>      NA</td><td>      NA</td><td> 1.000000</td><td>      NA</td><td> 0.00846158</td><td>      NA</td><td>      NA</td><td>      NA</td><td>       NA</td><td>      NA</td><td>        NA</td><td>       NA</td><td>      NA</td><td>      NA</td></tr>\n",
       "\t<tr><th scope=row>ENSG00000100181</th><td>      NA</td><td>      NA</td><td>      NA</td><td>-0.192645</td><td>      NA</td><td>         NA</td><td>      NA</td><td>-1.01879</td><td>      NA</td><td>-0.404775</td><td>      NA</td><td> 0.0238308</td><td>-0.161441</td><td>      NA</td><td>      NA</td></tr>\n",
       "\t<tr><th scope=row>ENSG00000116652</th><td>-4.88753</td><td>-1.84800</td><td>-3.42824</td><td> 1.652080</td><td>      NA</td><td>-4.42626000</td><td>      NA</td><td>      NA</td><td>      NA</td><td>       NA</td><td>-4.98868</td><td>-2.9798200</td><td>       NA</td><td>      NA</td><td>      NA</td></tr>\n",
       "\t<tr><th scope=row>ENSG00000116883</th><td>-4.22716</td><td>-3.03986</td><td>      NA</td><td>-1.841430</td><td>      NA</td><td>-4.23810000</td><td>      NA</td><td>-4.46698</td><td>-4.87990</td><td>-2.258520</td><td>-3.67007</td><td>-4.4907600</td><td>       NA</td><td>      NA</td><td>-5.17126</td></tr>\n",
       "</tbody>\n",
       "</table>\n"
      ],
      "text/latex": [
       "A data.frame: 6 × 15\n",
       "\\begin{tabular}{r|lllllllllllllll}\n",
       "  & Value.MCF.7 & Value.A549 & Value.GM12878 & Value.H1.hESC & Value.HeLa.S3 & Value.HepG2 & Value.HT1080 & Value.HUVEC & Value.IMR.90 & Value.K562 & Value.NCI.H460 & Value.NHEK & Value.SK.MEL.5 & Value.SK.N.DZ & Value.SK.N.SH\\\\\n",
       "  & <dbl> & <dbl> & <dbl> & <dbl> & <dbl> & <dbl> & <dbl> & <dbl> & <dbl> & <dbl> & <dbl> & <dbl> & <dbl> & <dbl> & <dbl>\\\\\n",
       "\\hline\n",
       "\tENSG00000082929 &  1.23491 &       NA &       NA &        NA &       NA &          NA &       NA &       NA &       NA &        NA &       NA &         NA &        NA &       NA &       NA\\\\\n",
       "\tENSG00000093100 & -2.52324 & -3.15798 & -2.00351 & -2.218200 & -2.05661 & -2.93963000 & -2.53315 & -2.64088 & -3.17702 & -1.871240 & -1.92943 & -2.4176300 & -1.861310 & -1.49035 & -3.98660\\\\\n",
       "\tENSG00000099869 &       NA &       NA &       NA &  1.000000 &       NA &  0.00846158 &       NA &       NA &       NA &        NA &       NA &         NA &        NA &       NA &       NA\\\\\n",
       "\tENSG00000100181 &       NA &       NA &       NA & -0.192645 &       NA &          NA &       NA & -1.01879 &       NA & -0.404775 &       NA &  0.0238308 & -0.161441 &       NA &       NA\\\\\n",
       "\tENSG00000116652 & -4.88753 & -1.84800 & -3.42824 &  1.652080 &       NA & -4.42626000 &       NA &       NA &       NA &        NA & -4.98868 & -2.9798200 &        NA &       NA &       NA\\\\\n",
       "\tENSG00000116883 & -4.22716 & -3.03986 &       NA & -1.841430 &       NA & -4.23810000 &       NA & -4.46698 & -4.87990 & -2.258520 & -3.67007 & -4.4907600 &        NA &       NA & -5.17126\\\\\n",
       "\\end{tabular}\n"
      ],
      "text/markdown": [
       "\n",
       "A data.frame: 6 × 15\n",
       "\n",
       "| <!--/--> | Value.MCF.7 &lt;dbl&gt; | Value.A549 &lt;dbl&gt; | Value.GM12878 &lt;dbl&gt; | Value.H1.hESC &lt;dbl&gt; | Value.HeLa.S3 &lt;dbl&gt; | Value.HepG2 &lt;dbl&gt; | Value.HT1080 &lt;dbl&gt; | Value.HUVEC &lt;dbl&gt; | Value.IMR.90 &lt;dbl&gt; | Value.K562 &lt;dbl&gt; | Value.NCI.H460 &lt;dbl&gt; | Value.NHEK &lt;dbl&gt; | Value.SK.MEL.5 &lt;dbl&gt; | Value.SK.N.DZ &lt;dbl&gt; | Value.SK.N.SH &lt;dbl&gt; |\n",
       "|---|---|---|---|---|---|---|---|---|---|---|---|---|---|---|---|\n",
       "| ENSG00000082929 |  1.23491 |       NA |       NA |        NA |       NA |          NA |       NA |       NA |       NA |        NA |       NA |         NA |        NA |       NA |       NA |\n",
       "| ENSG00000093100 | -2.52324 | -3.15798 | -2.00351 | -2.218200 | -2.05661 | -2.93963000 | -2.53315 | -2.64088 | -3.17702 | -1.871240 | -1.92943 | -2.4176300 | -1.861310 | -1.49035 | -3.98660 |\n",
       "| ENSG00000099869 |       NA |       NA |       NA |  1.000000 |       NA |  0.00846158 |       NA |       NA |       NA |        NA |       NA |         NA |        NA |       NA |       NA |\n",
       "| ENSG00000100181 |       NA |       NA |       NA | -0.192645 |       NA |          NA |       NA | -1.01879 |       NA | -0.404775 |       NA |  0.0238308 | -0.161441 |       NA |       NA |\n",
       "| ENSG00000116652 | -4.88753 | -1.84800 | -3.42824 |  1.652080 |       NA | -4.42626000 |       NA |       NA |       NA |        NA | -4.98868 | -2.9798200 |        NA |       NA |       NA |\n",
       "| ENSG00000116883 | -4.22716 | -3.03986 |       NA | -1.841430 |       NA | -4.23810000 |       NA | -4.46698 | -4.87990 | -2.258520 | -3.67007 | -4.4907600 |        NA |       NA | -5.17126 |\n",
       "\n"
      ],
      "text/plain": [
       "                Value.MCF.7 Value.A549 Value.GM12878 Value.H1.hESC\n",
       "ENSG00000082929  1.23491          NA         NA             NA    \n",
       "ENSG00000093100 -2.52324    -3.15798   -2.00351      -2.218200    \n",
       "ENSG00000099869       NA          NA         NA       1.000000    \n",
       "ENSG00000100181       NA          NA         NA      -0.192645    \n",
       "ENSG00000116652 -4.88753    -1.84800   -3.42824       1.652080    \n",
       "ENSG00000116883 -4.22716    -3.03986         NA      -1.841430    \n",
       "                Value.HeLa.S3 Value.HepG2 Value.HT1080 Value.HUVEC Value.IMR.90\n",
       "ENSG00000082929       NA               NA       NA           NA          NA    \n",
       "ENSG00000093100 -2.05661      -2.93963000 -2.53315     -2.64088    -3.17702    \n",
       "ENSG00000099869       NA       0.00846158       NA           NA          NA    \n",
       "ENSG00000100181       NA               NA       NA     -1.01879          NA    \n",
       "ENSG00000116652       NA      -4.42626000       NA           NA          NA    \n",
       "ENSG00000116883       NA      -4.23810000       NA     -4.46698    -4.87990    \n",
       "                Value.K562 Value.NCI.H460 Value.NHEK Value.SK.MEL.5\n",
       "ENSG00000082929        NA        NA               NA        NA     \n",
       "ENSG00000093100 -1.871240  -1.92943       -2.4176300 -1.861310     \n",
       "ENSG00000099869        NA        NA               NA        NA     \n",
       "ENSG00000100181 -0.404775        NA        0.0238308 -0.161441     \n",
       "ENSG00000116652        NA  -4.98868       -2.9798200        NA     \n",
       "ENSG00000116883 -2.258520  -3.67007       -4.4907600        NA     \n",
       "                Value.SK.N.DZ Value.SK.N.SH\n",
       "ENSG00000082929       NA            NA     \n",
       "ENSG00000093100 -1.49035      -3.98660     \n",
       "ENSG00000099869       NA            NA     \n",
       "ENSG00000100181       NA            NA     \n",
       "ENSG00000116652       NA            NA     \n",
       "ENSG00000116883       NA      -5.17126     "
      ]
     },
     "metadata": {},
     "output_type": "display_data"
    }
   ],
   "source": [
    "head(lncATLAs_reshape)"
   ]
  },
  {
   "cell_type": "code",
   "execution_count": 2,
   "id": "approximate-madrid",
   "metadata": {
    "papermill": {
     "duration": 0.376758,
     "end_time": "2021-02-02T05:24:13.332480",
     "exception": false,
     "start_time": "2021-02-02T05:24:12.955722",
     "status": "completed"
    },
    "tags": []
   },
   "outputs": [],
   "source": [
    "# Reshape to format, col:cell lines; row: gene\n",
    "lncATLAs <- na.omit(lncATLAs)\n",
    "# 6768 lncRNAs with at least 1 RCI across 15 cellines\n",
    "lncATLAs_reshape <- reshape(lncATLAs[,c(1,2,4)],v.names = 'Value',idvar = 'ENSEMBL.ID',timevar = 'Data.Source',direction = 'wide')\n",
    "rownames(lncATLAs_reshape) <- lncATLAs_reshape[,1]\n",
    "lncATLAs_reshape <- lncATLAs_reshape[,-1]\n",
    "\n",
    "# Remove RCI value in H1 cell line since the discordance\n",
    "lncATLAs_reshape <- lncATLAs_reshape[,-4]\n",
    "# Calculate the average RCI across cell lines for each lncRNA\n",
    "mean_NAomit <- function(x) {\n",
    "  RCIsum = count = 0\n",
    "  for(i in na.omit(x)) {\n",
    "      RCIsum <- RCIsum+i \n",
    "      count <- count+1\n",
    "  }\n",
    "  return(RCIsum/count)\n",
    "} \n",
    "\n",
    "RCI_mean <- as.data.frame(apply(lncATLAs_reshape,1,mean_NAomit))\n",
    "ensembl_gene_id <- row.names(RCI_mean)\n",
    "RCI_mean <- as.data.frame(cbind(ensembl_gene_id,RCI_mean));\n",
    "colnames(RCI_mean) <- c('ensembl_gene_id','RCI_mean')\n",
    "# 5760 lncRNAs with at least 1 RCI across 14 cellines\n",
    "RCI_mean <- na.omit(RCI_mean) # 5760\n",
    "\n",
    "\n",
    "lncATLAS_Nuc <- as.character(RCI_mean[which(RCI_mean$RCI_mean < -2),'ensembl_gene_id']) # 1983\n",
    "lncATLAS_Cyto <- as.character(RCI_mean[which(RCI_mean$RCI_mean > 0),'ensembl_gene_id']) # 1525"
   ]
  },
  {
   "cell_type": "code",
   "execution_count": 3,
   "id": "medieval-rings",
   "metadata": {
    "papermill": {
     "duration": 0.031672,
     "end_time": "2021-02-02T05:24:13.387962",
     "exception": false,
     "start_time": "2021-02-02T05:24:13.356290",
     "status": "completed"
    },
    "tags": []
   },
   "outputs": [
    {
     "data": {
      "text/html": [
       "6768"
      ],
      "text/latex": [
       "6768"
      ],
      "text/markdown": [
       "6768"
      ],
      "text/plain": [
       "[1] 6768"
      ]
     },
     "metadata": {},
     "output_type": "display_data"
    }
   ],
   "source": [
    "nrow(lncATLAs_reshape)"
   ]
  },
  {
   "cell_type": "code",
   "execution_count": 4,
   "id": "alone-daughter",
   "metadata": {
    "papermill": {
     "duration": 0.036914,
     "end_time": "2021-02-02T05:24:13.443946",
     "exception": false,
     "start_time": "2021-02-02T05:24:13.407032",
     "status": "completed"
    },
    "tags": []
   },
   "outputs": [
    {
     "data": {
      "text/html": [
       "5760"
      ],
      "text/latex": [
       "5760"
      ],
      "text/markdown": [
       "5760"
      ],
      "text/plain": [
       "[1] 5760"
      ]
     },
     "metadata": {},
     "output_type": "display_data"
    }
   ],
   "source": [
    "nrow(RCI_mean)"
   ]
  },
  {
   "cell_type": "code",
   "execution_count": 5,
   "id": "spoken-fellow",
   "metadata": {
    "papermill": {
     "duration": 0.03045,
     "end_time": "2021-02-02T05:24:13.492105",
     "exception": false,
     "start_time": "2021-02-02T05:24:13.461655",
     "status": "completed"
    },
    "tags": []
   },
   "outputs": [
    {
     "data": {
      "text/html": [
       "1983"
      ],
      "text/latex": [
       "1983"
      ],
      "text/markdown": [
       "1983"
      ],
      "text/plain": [
       "[1] 1983"
      ]
     },
     "metadata": {},
     "output_type": "display_data"
    }
   ],
   "source": [
    "length(lncATLAS_Nuc)"
   ]
  },
  {
   "cell_type": "code",
   "execution_count": 6,
   "id": "prescription-numbers",
   "metadata": {
    "papermill": {
     "duration": 0.046115,
     "end_time": "2021-02-02T05:24:13.557191",
     "exception": false,
     "start_time": "2021-02-02T05:24:13.511076",
     "status": "completed"
    },
    "tags": []
   },
   "outputs": [
    {
     "data": {
      "text/html": [
       "1525"
      ],
      "text/latex": [
       "1525"
      ],
      "text/markdown": [
       "1525"
      ],
      "text/plain": [
       "[1] 1525"
      ]
     },
     "metadata": {},
     "output_type": "display_data"
    }
   ],
   "source": [
    "length(lncATLAS_Cyto)"
   ]
  },
  {
   "cell_type": "markdown",
   "id": "homeless-demand",
   "metadata": {
    "papermill": {
     "duration": 0.018401,
     "end_time": "2021-02-02T05:24:13.594232",
     "exception": false,
     "start_time": "2021-02-02T05:24:13.575831",
     "status": "completed"
    },
    "tags": []
   },
   "source": [
    "# APEX-Seq"
   ]
  },
  {
   "cell_type": "code",
   "execution_count": 7,
   "id": "nonprofit-nutrition",
   "metadata": {
    "papermill": {
     "duration": 0.054955,
     "end_time": "2021-02-02T05:24:13.666707",
     "exception": false,
     "start_time": "2021-02-02T05:24:13.611752",
     "status": "completed"
    },
    "tags": []
   },
   "outputs": [],
   "source": [
    "# Select human lncRNAs \n",
    "APEX = APEX[which(APEX$Ensembl_Gene %in% lncRNA$ensembl_gene_id),] #61\n",
    "\n",
    "# For APEX (as mentioned in the original article, log fd > 0.75 is considered for enrichment)\n",
    "# Collapsed 8 loc into binary loc\n",
    "Nuc=vector(); Cyto=vector()\n",
    "for (i in c(1:nrow(APEX))) {\n",
    "  if (APEX[i,'Nucleus_log2FC']>0.75) {Nuc[i] = 1}\n",
    "  else if (APEX[i,'Nucleolus_log2FC']>0.75) {Nuc[i] = 1}\n",
    "  else if (APEX[i,'Lamina_log2FC']>0.75) {Nuc[i] = 1}\n",
    "  else if (APEX[i,'Nuclear_Pore_log2FC']>0.75) {Nuc[i] = 1}\n",
    "  else {Nuc[i] = 0}\n",
    "  if (APEX[i,'Cytosol_log2FC']>0.75) {Cyto[i] = 1}\n",
    "  else if (APEX[i,'ERM_log2FC']>0.75) {Cyto[i] = 1}\n",
    "  else if (APEX[i,'OMM_log2FC']>0.75) {Cyto[i] = 1}\n",
    "  else if (APEX[i,'ER_Lumen_log2FC']>0.75) {Cyto[i] = 1}\n",
    "  else {Cyto[i] = 0}\n",
    "}\n",
    "APEX_loc <- as.data.frame(cbind(APEX,Nuc,Cyto)) # 62\n",
    "#APEX_Nuc <- as.character(APEX_loc[which(APEX_loc$Nuc == 1 & APEX_loc$Cyto == 0),'Ensembl_Gene']) # 42 of 56\n",
    "#APEX_Cyto <- as.character(APEX_loc[which(APEX_loc$Nuc == 0 & APEX_loc$Cyto == 1),'Ensembl_Gene']) # 5 of 19"
   ]
  },
  {
   "cell_type": "code",
   "execution_count": 9,
   "id": "small-traveler",
   "metadata": {
    "execution": {
     "iopub.execute_input": "2021-02-02T05:24:13.767675Z",
     "iopub.status.busy": "2021-02-02T05:24:13.765471Z",
     "iopub.status.idle": "2021-02-02T05:24:13.780929Z",
     "shell.execute_reply": "2021-02-02T05:24:13.780018Z"
    },
    "papermill": {
     "duration": 0.037592,
     "end_time": "2021-02-02T05:24:13.781061",
     "exception": false,
     "start_time": "2021-02-02T05:24:13.743469",
     "status": "completed"
    },
    "tags": []
   },
   "outputs": [
    {
     "data": {
      "text/html": [
       "42"
      ],
      "text/latex": [
       "42"
      ],
      "text/markdown": [
       "42"
      ],
      "text/plain": [
       "[1] 42"
      ]
     },
     "metadata": {},
     "output_type": "display_data"
    }
   ],
   "source": [
    "length(APEX_Nuc)"
   ]
  },
  {
   "cell_type": "code",
   "execution_count": 10,
   "id": "economic-cheese",
   "metadata": {
    "execution": {
     "iopub.execute_input": "2021-02-02T05:24:13.843240Z",
     "iopub.status.busy": "2021-02-02T05:24:13.827914Z",
     "iopub.status.idle": "2021-02-02T05:24:13.852558Z",
     "shell.execute_reply": "2021-02-02T05:24:13.851853Z"
    },
    "papermill": {
     "duration": 0.047972,
     "end_time": "2021-02-02T05:24:13.852746",
     "exception": false,
     "start_time": "2021-02-02T05:24:13.804774",
     "status": "completed"
    },
    "tags": []
   },
   "outputs": [
    {
     "data": {
      "text/html": [
       "5"
      ],
      "text/latex": [
       "5"
      ],
      "text/markdown": [
       "5"
      ],
      "text/plain": [
       "[1] 5"
      ]
     },
     "metadata": {},
     "output_type": "display_data"
    }
   ],
   "source": [
    "length(APEX_Cyto)"
   ]
  },
  {
   "cell_type": "markdown",
   "id": "ideal-picture",
   "metadata": {
    "papermill": {
     "duration": 0.018023,
     "end_time": "2021-02-02T05:24:13.895625",
     "exception": false,
     "start_time": "2021-02-02T05:24:13.877602",
     "status": "completed"
    },
    "tags": []
   },
   "source": [
    "# Cefra-Seq"
   ]
  },
  {
   "cell_type": "code",
   "execution_count": 11,
   "id": "guilty-gateway",
   "metadata": {
    "execution": {
     "iopub.execute_input": "2021-02-02T05:24:13.940466Z",
     "iopub.status.busy": "2021-02-02T05:24:13.937664Z",
     "iopub.status.idle": "2021-02-02T05:24:15.551473Z",
     "shell.execute_reply": "2021-02-02T05:24:15.550946Z"
    },
    "papermill": {
     "duration": 1.638076,
     "end_time": "2021-02-02T05:24:15.551637",
     "exception": false,
     "start_time": "2021-02-02T05:24:13.913561",
     "status": "completed"
    },
    "tags": []
   },
   "outputs": [],
   "source": [
    "# 14746 lncRNAs\n",
    "Cefra <- Cefra[which(Cefra$gene_biotype %in% c('antisense','sense_intronic','lincRNA','processed_transcript')),]\n",
    "\n",
    "ExpressedRNA <- function(cyto_A,cyto_B,insol_A,insol_B,membr_A,membr_B,nucl_A,nucl_B){\n",
    "  exp_cyto <- (cyto_A+cyto_B)/2; exp_insol = (insol_A+insol_B)/2\n",
    "  exp_membr <- (membr_A+membr_B)/2; exp_nucl = (nucl_A+nucl_B)/2\n",
    "  if (exp_cyto >=1|exp_insol>=1|exp_membr>=1|exp_nucl>=1) {expressed <- 1} else{expressed <- 0}\n",
    "  if (expressed == 1) {CNRCI <- max(exp_cyto,exp_insol,exp_membr)/(max(exp_cyto,exp_insol,exp_membr)+exp_nucl)} else{CNRCI<-0}\n",
    "  return(list(expressed = expressed,CNRCI = CNRCI))\n",
    "}\n",
    "\n",
    "expressed = vector(); CNRCI= vector()\n",
    "for (i in c(1:nrow(Cefra))) {\n",
    "  result <- ExpressedRNA(Cefra[i,'cyto_A'],Cefra[i,'cyto_B'],Cefra[i,'insol_A'],Cefra[i,'insol_B'],\n",
    "               Cefra[i,'membr_A'],Cefra[i,'membr_B'],Cefra[i,'nucl_A'],Cefra[i,'nucl_B'])\n",
    "  expressed[i] <- result$expressed; CNRCI[i] <- result$CNRCI\n",
    "}\n",
    "\n",
    "Cefra_high <- Cefra[which(expressed == 1),] # 1621 lncRNAs with high expression\n",
    "CN_RCI_high <- as.data.frame(unlist(CNRCI[which(expressed == 1)]))\n",
    "colnames(CN_RCI_high) <- \"CN_RCI\"\n",
    "Cefra_high <- as.data.frame(cbind(Cefra_high,CN_RCI_high))\n",
    "\n",
    "Cefra_Nuc = as.character(Cefra_high[which(Cefra_high$CN_RCI<0.4),'ensembl_gene_id']) # 528\n",
    "Cefra_Cyto = as.character(Cefra_high[which(Cefra_high$CN_RCI>0.6),'ensembl_gene_id']) # 916"
   ]
  },
  {
   "cell_type": "code",
   "execution_count": 12,
   "id": "another-damage",
   "metadata": {
    "execution": {
     "iopub.execute_input": "2021-02-02T05:24:15.608513Z",
     "iopub.status.busy": "2021-02-02T05:24:15.605686Z",
     "iopub.status.idle": "2021-02-02T05:24:15.623230Z",
     "shell.execute_reply": "2021-02-02T05:24:15.622424Z"
    },
    "papermill": {
     "duration": 0.041636,
     "end_time": "2021-02-02T05:24:15.623401",
     "exception": false,
     "start_time": "2021-02-02T05:24:15.581765",
     "status": "completed"
    },
    "tags": []
   },
   "outputs": [
    {
     "data": {
      "text/html": [
       "14746"
      ],
      "text/latex": [
       "14746"
      ],
      "text/markdown": [
       "14746"
      ],
      "text/plain": [
       "[1] 14746"
      ]
     },
     "metadata": {},
     "output_type": "display_data"
    }
   ],
   "source": [
    "nrow(Cefra)"
   ]
  },
  {
   "cell_type": "code",
   "execution_count": 13,
   "id": "fabulous-mandate",
   "metadata": {
    "execution": {
     "iopub.execute_input": "2021-02-02T05:24:15.668409Z",
     "iopub.status.busy": "2021-02-02T05:24:15.666998Z",
     "iopub.status.idle": "2021-02-02T05:24:15.681543Z",
     "shell.execute_reply": "2021-02-02T05:24:15.680756Z"
    },
    "papermill": {
     "duration": 0.036009,
     "end_time": "2021-02-02T05:24:15.681677",
     "exception": false,
     "start_time": "2021-02-02T05:24:15.645668",
     "status": "completed"
    },
    "tags": []
   },
   "outputs": [
    {
     "data": {
      "text/html": [
       "1621"
      ],
      "text/latex": [
       "1621"
      ],
      "text/markdown": [
       "1621"
      ],
      "text/plain": [
       "[1] 1621"
      ]
     },
     "metadata": {},
     "output_type": "display_data"
    }
   ],
   "source": [
    "nrow(Cefra_high)"
   ]
  },
  {
   "cell_type": "code",
   "execution_count": 14,
   "id": "acting-physiology",
   "metadata": {
    "execution": {
     "iopub.execute_input": "2021-02-02T05:24:15.728841Z",
     "iopub.status.busy": "2021-02-02T05:24:15.726830Z",
     "iopub.status.idle": "2021-02-02T05:24:15.742535Z",
     "shell.execute_reply": "2021-02-02T05:24:15.741835Z"
    },
    "papermill": {
     "duration": 0.039082,
     "end_time": "2021-02-02T05:24:15.742670",
     "exception": false,
     "start_time": "2021-02-02T05:24:15.703588",
     "status": "completed"
    },
    "tags": []
   },
   "outputs": [
    {
     "data": {
      "text/html": [
       "528"
      ],
      "text/latex": [
       "528"
      ],
      "text/markdown": [
       "528"
      ],
      "text/plain": [
       "[1] 528"
      ]
     },
     "metadata": {},
     "output_type": "display_data"
    }
   ],
   "source": [
    "length(Cefra_Nuc)"
   ]
  },
  {
   "cell_type": "code",
   "execution_count": 15,
   "id": "breeding-latitude",
   "metadata": {
    "execution": {
     "iopub.execute_input": "2021-02-02T05:24:15.790438Z",
     "iopub.status.busy": "2021-02-02T05:24:15.788325Z",
     "iopub.status.idle": "2021-02-02T05:24:15.813709Z",
     "shell.execute_reply": "2021-02-02T05:24:15.812885Z"
    },
    "papermill": {
     "duration": 0.049147,
     "end_time": "2021-02-02T05:24:15.813849",
     "exception": false,
     "start_time": "2021-02-02T05:24:15.764702",
     "status": "completed"
    },
    "tags": []
   },
   "outputs": [
    {
     "data": {
      "text/html": [
       "916"
      ],
      "text/latex": [
       "916"
      ],
      "text/markdown": [
       "916"
      ],
      "text/plain": [
       "[1] 916"
      ]
     },
     "metadata": {},
     "output_type": "display_data"
    }
   ],
   "source": [
    "length(Cefra_Cyto)"
   ]
  },
  {
   "cell_type": "markdown",
   "id": "transparent-electron",
   "metadata": {
    "papermill": {
     "duration": 0.019795,
     "end_time": "2021-02-02T05:24:15.855428",
     "exception": false,
     "start_time": "2021-02-02T05:24:15.835633",
     "status": "completed"
    },
    "tags": []
   },
   "source": [
    "# Union and remove bi-localized lncRNAs "
   ]
  },
  {
   "cell_type": "code",
   "execution_count": 16,
   "id": "varied-ownership",
   "metadata": {
    "execution": {
     "iopub.execute_input": "2021-02-02T05:24:15.898690Z",
     "iopub.status.busy": "2021-02-02T05:24:15.897368Z",
     "iopub.status.idle": "2021-02-02T05:24:15.909559Z",
     "shell.execute_reply": "2021-02-02T05:24:15.908651Z"
    },
    "papermill": {
     "duration": 0.035055,
     "end_time": "2021-02-02T05:24:15.909662",
     "exception": false,
     "start_time": "2021-02-02T05:24:15.874607",
     "status": "completed"
    },
    "tags": []
   },
   "outputs": [],
   "source": [
    "# Union\n",
    "Nuc_Union <- union(union(APEX_Nuc,Cefra_Nuc),lncATLAS_Nuc)\n",
    "Cyto_Union <- union(union(APEX_Cyto,Cefra_Cyto),lncATLAS_Cyto)"
   ]
  },
  {
   "cell_type": "code",
   "execution_count": 17,
   "id": "emotional-longer",
   "metadata": {
    "execution": {
     "iopub.execute_input": "2021-02-02T05:24:15.955183Z",
     "iopub.status.busy": "2021-02-02T05:24:15.953732Z",
     "iopub.status.idle": "2021-02-02T05:24:15.977848Z",
     "shell.execute_reply": "2021-02-02T05:24:15.977133Z"
    },
    "papermill": {
     "duration": 0.045948,
     "end_time": "2021-02-02T05:24:15.978024",
     "exception": false,
     "start_time": "2021-02-02T05:24:15.932076",
     "status": "completed"
    },
    "tags": []
   },
   "outputs": [],
   "source": [
    "# Remove bi-localized lncRNAs\n",
    "Nuc_final <- as.data.frame(setdiff(Nuc_Union,Cyto_Union))\n",
    "Cyto_final <- as.data.frame(setdiff(Cyto_Union,Nuc_Union))\n",
    "colnames(Nuc_final) = colnames(Cyto_final) = 'ensembl_gene_id'"
   ]
  },
  {
   "cell_type": "code",
   "execution_count": 18,
   "id": "talented-knock",
   "metadata": {
    "execution": {
     "iopub.execute_input": "2021-02-02T05:24:16.028742Z",
     "iopub.status.busy": "2021-02-02T05:24:16.026902Z",
     "iopub.status.idle": "2021-02-02T05:24:16.041548Z",
     "shell.execute_reply": "2021-02-02T05:24:16.040504Z"
    },
    "papermill": {
     "duration": 0.037659,
     "end_time": "2021-02-02T05:24:16.041670",
     "exception": false,
     "start_time": "2021-02-02T05:24:16.004011",
     "status": "completed"
    },
    "tags": []
   },
   "outputs": [
    {
     "data": {
      "text/html": [
       "2185"
      ],
      "text/latex": [
       "2185"
      ],
      "text/markdown": [
       "2185"
      ],
      "text/plain": [
       "[1] 2185"
      ]
     },
     "metadata": {},
     "output_type": "display_data"
    }
   ],
   "source": [
    "nrow(Nuc_final)"
   ]
  },
  {
   "cell_type": "code",
   "execution_count": 19,
   "id": "dominant-detroit",
   "metadata": {
    "execution": {
     "iopub.execute_input": "2021-02-02T05:24:16.090009Z",
     "iopub.status.busy": "2021-02-02T05:24:16.088511Z",
     "iopub.status.idle": "2021-02-02T05:24:16.102370Z",
     "shell.execute_reply": "2021-02-02T05:24:16.101295Z"
    },
    "papermill": {
     "duration": 0.036252,
     "end_time": "2021-02-02T05:24:16.102473",
     "exception": false,
     "start_time": "2021-02-02T05:24:16.066221",
     "status": "completed"
    },
    "tags": []
   },
   "outputs": [
    {
     "data": {
      "text/html": [
       "1940"
      ],
      "text/latex": [
       "1940"
      ],
      "text/markdown": [
       "1940"
      ],
      "text/plain": [
       "[1] 1940"
      ]
     },
     "metadata": {},
     "output_type": "display_data"
    }
   ],
   "source": [
    "nrow(Cyto_final)"
   ]
  },
  {
   "cell_type": "markdown",
   "id": "absent-control",
   "metadata": {
    "papermill": {
     "duration": 0.021029,
     "end_time": "2021-02-02T05:24:16.148464",
     "exception": false,
     "start_time": "2021-02-02T05:24:16.127435",
     "status": "completed"
    },
    "tags": []
   },
   "source": [
    "# In gencode annotation"
   ]
  },
  {
   "cell_type": "code",
   "execution_count": 20,
   "id": "tired-festival",
   "metadata": {
    "execution": {
     "iopub.execute_input": "2021-02-02T05:24:16.195303Z",
     "iopub.status.busy": "2021-02-02T05:24:16.193541Z",
     "iopub.status.idle": "2021-02-02T05:24:16.234968Z",
     "shell.execute_reply": "2021-02-02T05:24:16.234053Z"
    },
    "papermill": {
     "duration": 0.065572,
     "end_time": "2021-02-02T05:24:16.235307",
     "exception": false,
     "start_time": "2021-02-02T05:24:16.169735",
     "status": "completed"
    },
    "tags": []
   },
   "outputs": [],
   "source": [
    "Nuc_info <- merge.data.frame(lncRNA,Nuc_final,by = 'ensembl_gene_id')\n",
    "Cyto_info <- merge.data.frame(lncRNA,Cyto_final,by = 'ensembl_gene_id')"
   ]
  },
  {
   "cell_type": "code",
   "execution_count": 21,
   "id": "needed-medication",
   "metadata": {
    "execution": {
     "iopub.execute_input": "2021-02-02T05:24:16.289772Z",
     "iopub.status.busy": "2021-02-02T05:24:16.288471Z",
     "iopub.status.idle": "2021-02-02T05:24:16.312609Z",
     "shell.execute_reply": "2021-02-02T05:24:16.311813Z"
    },
    "papermill": {
     "duration": 0.04846,
     "end_time": "2021-02-02T05:24:16.312785",
     "exception": false,
     "start_time": "2021-02-02T05:24:16.264325",
     "status": "completed"
    },
    "tags": []
   },
   "outputs": [
    {
     "data": {
      "text/html": [
       "1986"
      ],
      "text/latex": [
       "1986"
      ],
      "text/markdown": [
       "1986"
      ],
      "text/plain": [
       "[1] 1986"
      ]
     },
     "metadata": {},
     "output_type": "display_data"
    }
   ],
   "source": [
    "nrow(Nuc_info)"
   ]
  },
  {
   "cell_type": "code",
   "execution_count": 22,
   "id": "political-construction",
   "metadata": {
    "execution": {
     "iopub.execute_input": "2021-02-02T05:24:16.382781Z",
     "iopub.status.busy": "2021-02-02T05:24:16.381444Z",
     "iopub.status.idle": "2021-02-02T05:24:16.393891Z",
     "shell.execute_reply": "2021-02-02T05:24:16.392965Z"
    },
    "papermill": {
     "duration": 0.03976,
     "end_time": "2021-02-02T05:24:16.394016",
     "exception": false,
     "start_time": "2021-02-02T05:24:16.354256",
     "status": "completed"
    },
    "tags": []
   },
   "outputs": [
    {
     "data": {
      "text/html": [
       "1806"
      ],
      "text/latex": [
       "1806"
      ],
      "text/markdown": [
       "1806"
      ],
      "text/plain": [
       "[1] 1806"
      ]
     },
     "metadata": {},
     "output_type": "display_data"
    }
   ],
   "source": [
    "nrow(Cyto_info)"
   ]
  },
  {
   "cell_type": "markdown",
   "id": "liberal-sugar",
   "metadata": {
    "papermill": {
     "duration": 0.020762,
     "end_time": "2021-02-02T05:24:16.441631",
     "exception": false,
     "start_time": "2021-02-02T05:24:16.420869",
     "status": "completed"
    },
    "tags": []
   },
   "source": [
    "# Output"
   ]
  },
  {
   "cell_type": "code",
   "execution_count": 23,
   "id": "governing-honey",
   "metadata": {
    "execution": {
     "iopub.execute_input": "2021-02-02T05:24:16.488890Z",
     "iopub.status.busy": "2021-02-02T05:24:16.486651Z",
     "iopub.status.idle": "2021-02-02T05:24:16.608863Z",
     "shell.execute_reply": "2021-02-02T05:24:16.607793Z"
    },
    "papermill": {
     "duration": 0.146953,
     "end_time": "2021-02-02T05:24:16.609006",
     "exception": false,
     "start_time": "2021-02-02T05:24:16.462053",
     "status": "completed"
    },
    "tags": []
   },
   "outputs": [],
   "source": [
    "write.csv(Nuc_info,'lncRNA_info_nuc_woRNALocate.csv',quote = FALSE,row.names = FALSE)\n",
    "write.csv(Cyto_info,'lncRNA_info_cyto_woRNALocate.csv',quote = FALSE,row.names = FALSE)"
   ]
  }
 ],
 "metadata": {
  "kernelspec": {
   "display_name": "R",
   "language": "R",
   "name": "ir"
  },
  "language_info": {
   "codemirror_mode": "r",
   "file_extension": ".r",
   "mimetype": "text/x-r-source",
   "name": "R",
   "pygments_lexer": "r",
   "version": "3.6.3"
  },
  "papermill": {
   "default_parameters": {},
   "duration": 8.977063,
   "end_time": "2021-02-02T05:24:16.779119",
   "environment_variables": {},
   "exception": null,
   "input_path": "/data/rnomics9/yuanguohua/lncRNA-subcellular-localizations/Original_data/02_integret_three_datasets.ipynb",
   "output_path": "/data/rnomics9/yuanguohua/lncRNA-subcellular-localizations/Original_data/02_integret_three_datasets.ipynb",
   "parameters": {},
   "start_time": "2021-02-02T05:24:07.802056",
   "version": "2.3.1"
  }
 },
 "nbformat": 4,
 "nbformat_minor": 5
}
