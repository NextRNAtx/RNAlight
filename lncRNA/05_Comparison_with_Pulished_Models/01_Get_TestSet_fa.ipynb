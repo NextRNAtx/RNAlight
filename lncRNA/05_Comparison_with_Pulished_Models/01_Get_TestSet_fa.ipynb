{
 "cells": [
  {
   "cell_type": "markdown",
   "id": "hungarian-seating",
   "metadata": {},
   "source": [
    "# Bash\n",
    "# To get lncRNA_sublocation_TestSet.fa\n",
    "    Instance of lncRNA_sublocation_TestSet.fa\n",
    "    \n",
    "    >ENST00000376398_1\n",
    "    TGAAATAGGAGCCAAGGTATGCTATGAGCCAAGGATTATGAGTAATCCAGTTTTGTGCAC\n",
    "    TTTAAGCCATTTGAAAAACAGAAAAGCAAAACAACAAAATAATTTTTAAGAAATTGAATA\n",
    "    \n",
    "    ENST00000376398 and 1 are the ensembl id and tag of lncRNA, respectively.(0:Cytosol, 1:Nuclear)"
   ]
  },
  {
   "cell_type": "code",
   "execution_count": 1,
   "id": "opponent-desktop",
   "metadata": {},
   "outputs": [],
   "source": [
    "sed '1d' ../03_Model_Construction/lncRNA_sublocation_TestSet.tsv \\\n",
    "| awk -v OFS='\\t' '{print $1\"_\"$4,$3}' \\\n",
    "| seqkit tab2fx > lncRNA_sublocation_TestSet.fa"
   ]
  }
 ],
 "metadata": {
  "kernelspec": {
   "display_name": "Bash",
   "language": "bash",
   "name": "bash"
  },
  "language_info": {
   "codemirror_mode": "shell",
   "file_extension": ".sh",
   "mimetype": "text/x-sh",
   "name": "bash"
  }
 },
 "nbformat": 4,
 "nbformat_minor": 5
}
