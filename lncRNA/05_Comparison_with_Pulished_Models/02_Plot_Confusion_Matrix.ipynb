{
 "cells": [
  {
   "cell_type": "markdown",
   "id": "resident-chile",
   "metadata": {},
   "source": [
    "# R script"
   ]
  },
  {
   "cell_type": "markdown",
   "id": "intelligent-tours",
   "metadata": {},
   "source": [
    "***\n",
    "###   "
   ]
  },
  {
   "cell_type": "code",
   "execution_count": 14,
   "id": "rough-newfoundland",
   "metadata": {},
   "outputs": [],
   "source": [
    "library(ggplot2)"
   ]
  },
  {
   "cell_type": "markdown",
   "id": "rubber-sixth",
   "metadata": {},
   "source": [
    "## 1. RNALight"
   ]
  },
  {
   "cell_type": "code",
   "execution_count": 6,
   "id": "insured-summer",
   "metadata": {},
   "outputs": [],
   "source": [
    "RNALight_test_set <- read.csv(\"./RNA-Light_lncRNA/Evaluation_Result/lncRNA_sublocation_TestSet_RNA-Light_predict.tsv\",sep = '\\t')\n",
    "RNALight_test_set_df <- RNALight_test_set[,c(1,4,5)]\n",
    "RNALight_test_set_df$tag <- factor(RNALight_test_set_df$tag,levels = c(1,0),labels= c(\"Nuc\",\"Cyto\"))\n",
    "RNALight_test_set_df$predict_label <- factor(RNALight_test_set_df$predict_label,levels = c(1,0),labels= c(\"Nuc\",\"Cyto\"))\n",
    "RNALight_freq = as.data.frame(table(RNALight_test_set_df[,2:3]))"
   ]
  },
  {
   "cell_type": "code",
   "execution_count": 7,
   "id": "sporting-ticket",
   "metadata": {},
   "outputs": [
    {
     "data": {
      "text/html": [
       "<table>\n",
       "<caption>A data.frame: 4 × 3</caption>\n",
       "<thead>\n",
       "\t<tr><th scope=col>tag</th><th scope=col>predict_label</th><th scope=col>Freq</th></tr>\n",
       "\t<tr><th scope=col>&lt;fct&gt;</th><th scope=col>&lt;fct&gt;</th><th scope=col>&lt;int&gt;</th></tr>\n",
       "</thead>\n",
       "<tbody>\n",
       "\t<tr><td>Nuc </td><td>Nuc </td><td>149</td></tr>\n",
       "\t<tr><td>Cyto</td><td>Nuc </td><td> 58</td></tr>\n",
       "\t<tr><td>Nuc </td><td>Cyto</td><td> 47</td></tr>\n",
       "\t<tr><td>Cyto</td><td>Cyto</td><td>126</td></tr>\n",
       "</tbody>\n",
       "</table>\n"
      ],
      "text/latex": [
       "A data.frame: 4 × 3\n",
       "\\begin{tabular}{lll}\n",
       " tag & predict\\_label & Freq\\\\\n",
       " <fct> & <fct> & <int>\\\\\n",
       "\\hline\n",
       "\t Nuc  & Nuc  & 149\\\\\n",
       "\t Cyto & Nuc  &  58\\\\\n",
       "\t Nuc  & Cyto &  47\\\\\n",
       "\t Cyto & Cyto & 126\\\\\n",
       "\\end{tabular}\n"
      ],
      "text/markdown": [
       "\n",
       "A data.frame: 4 × 3\n",
       "\n",
       "| tag &lt;fct&gt; | predict_label &lt;fct&gt; | Freq &lt;int&gt; |\n",
       "|---|---|---|\n",
       "| Nuc  | Nuc  | 149 |\n",
       "| Cyto | Nuc  |  58 |\n",
       "| Nuc  | Cyto |  47 |\n",
       "| Cyto | Cyto | 126 |\n",
       "\n"
      ],
      "text/plain": [
       "  tag  predict_label Freq\n",
       "1 Nuc  Nuc           149 \n",
       "2 Cyto Nuc            58 \n",
       "3 Nuc  Cyto           47 \n",
       "4 Cyto Cyto          126 "
      ]
     },
     "metadata": {},
     "output_type": "display_data"
    }
   ],
   "source": [
    "RNALight_freq"
   ]
  },
  {
   "cell_type": "code",
   "execution_count": 8,
   "id": "printable-basket",
   "metadata": {},
   "outputs": [
    {
     "data": {
      "text/html": [
       "<table>\n",
       "<caption>A data.frame: 4 × 4</caption>\n",
       "<thead>\n",
       "\t<tr><th scope=col>tag</th><th scope=col>predict_label</th><th scope=col>Freq</th><th scope=col>Norm_Freq</th></tr>\n",
       "\t<tr><th scope=col>&lt;fct&gt;</th><th scope=col>&lt;fct&gt;</th><th scope=col>&lt;int&gt;</th><th scope=col>&lt;dbl&gt;</th></tr>\n",
       "</thead>\n",
       "<tbody>\n",
       "\t<tr><td>Nuc </td><td>Nuc </td><td>149</td><td>0.7602041</td></tr>\n",
       "\t<tr><td>Cyto</td><td>Nuc </td><td> 58</td><td>0.3152174</td></tr>\n",
       "\t<tr><td>Nuc </td><td>Cyto</td><td> 47</td><td>0.2397959</td></tr>\n",
       "\t<tr><td>Cyto</td><td>Cyto</td><td>126</td><td>0.6847826</td></tr>\n",
       "</tbody>\n",
       "</table>\n"
      ],
      "text/latex": [
       "A data.frame: 4 × 4\n",
       "\\begin{tabular}{llll}\n",
       " tag & predict\\_label & Freq & Norm\\_Freq\\\\\n",
       " <fct> & <fct> & <int> & <dbl>\\\\\n",
       "\\hline\n",
       "\t Nuc  & Nuc  & 149 & 0.7602041\\\\\n",
       "\t Cyto & Nuc  &  58 & 0.3152174\\\\\n",
       "\t Nuc  & Cyto &  47 & 0.2397959\\\\\n",
       "\t Cyto & Cyto & 126 & 0.6847826\\\\\n",
       "\\end{tabular}\n"
      ],
      "text/markdown": [
       "\n",
       "A data.frame: 4 × 4\n",
       "\n",
       "| tag &lt;fct&gt; | predict_label &lt;fct&gt; | Freq &lt;int&gt; | Norm_Freq &lt;dbl&gt; |\n",
       "|---|---|---|---|\n",
       "| Nuc  | Nuc  | 149 | 0.7602041 |\n",
       "| Cyto | Nuc  |  58 | 0.3152174 |\n",
       "| Nuc  | Cyto |  47 | 0.2397959 |\n",
       "| Cyto | Cyto | 126 | 0.6847826 |\n",
       "\n"
      ],
      "text/plain": [
       "  tag  predict_label Freq Norm_Freq\n",
       "1 Nuc  Nuc           149  0.7602041\n",
       "2 Cyto Nuc            58  0.3152174\n",
       "3 Nuc  Cyto           47  0.2397959\n",
       "4 Cyto Cyto          126  0.6847826"
      ]
     },
     "metadata": {},
     "output_type": "display_data"
    }
   ],
   "source": [
    "# Normalization\n",
    "RNALight_freq$Norm_Freq=0\n",
    "\n",
    "# TP and FP\n",
    "RNALight_freq[c(1,3),]$Norm_Freq <- RNALight_freq[c(1,3),]$Freq /sum(RNALight_freq[c(1,3),]$Freq)\n",
    "# TN and FN\n",
    "RNALight_freq[c(2,4),]$Norm_Freq <- RNALight_freq[c(2,4),]$Freq /sum(RNALight_freq[c(2,4),]$Freq)\n",
    "\n",
    "RNALight_freq"
   ]
  },
  {
   "cell_type": "code",
   "execution_count": 11,
   "id": "beginning-roots",
   "metadata": {},
   "outputs": [
    {
     "data": {
      "image/png": "[encoded data removed]",
      "text/plain": [
       "plot without title"
      ]
     },
     "metadata": {
      "image/png": {
       "height": 420,
       "width": 420
      }
     },
     "output_type": "display_data"
    }
   ],
   "source": [
    "p <- ggplot(data =RNALight_freq,aes(x=predict_label,y=factor(tag,levels = c(\"Cyto\",\"Nuc\")),fill=Norm_Freq)) + \n",
    "geom_tile()+\n",
    "theme_classic()+\n",
    "theme(panel.border = element_rect(colour = \"black\", fill=NA,size = 1.5))+\n",
    "scale_y_discrete(expand = c(0,0))+\n",
    "scale_x_discrete(expand = c(0,0))+\n",
    "scale_fill_gradient(limits = c(0,1), breaks = c(0.2,0.4,0.6,0.8),low = \"white\", high = \"#B71C1C\")\n",
    "ggsave(\"./02_RNA-Light_Confusion_matrix_with_text.pdf\", p, width = 10, height = 10) \n",
    "\n",
    "p"
   ]
  },
  {
   "cell_type": "code",
   "execution_count": 12,
   "id": "liberal-maldives",
   "metadata": {},
   "outputs": [
    {
     "data": {
      "image/png": "[encoded data removed]",
      "text/plain": [
       "plot without title"
      ]
     },
     "metadata": {
      "image/png": {
       "height": 420,
       "width": 420
      }
     },
     "output_type": "display_data"
    }
   ],
   "source": [
    "p <- p +theme(legend.position = \"None\",\n",
    "         axis.text = element_blank(),\n",
    "         axis.title = element_blank(),\n",
    "         axis.ticks = element_blank())\n",
    "ggsave(\"./02_RNA-Light_Confusion_matrix.pdf\", p, width = 10, height = 10) \n",
    "\n",
    "p"
   ]
  },
  {
   "cell_type": "markdown",
   "id": "divine-spanking",
   "metadata": {},
   "source": [
    "*** \n",
    "###  "
   ]
  },
  {
   "cell_type": "markdown",
   "id": "dress-coordinator",
   "metadata": {},
   "source": [
    "## 2. iloc-LncRNA"
   ]
  },
  {
   "cell_type": "code",
   "execution_count": 16,
   "id": "remarkable-listening",
   "metadata": {},
   "outputs": [],
   "source": [
    "iLoc_test_set <- read.csv(\"./iLoc-LncRNA/Evaluation_Result/lncRNA_sublocation_TestSet_iLoc-lncRNA_predict.tsv\",sep = '\\t')\n",
    "iLoc_test_set$tag <- factor(iLoc_test_set$tag,levels = c(1,0),labels= c(\"Nuc\",\"Cyto\"))\n",
    "iLoc_test_set$predict_label <- factor(iLoc_test_set$predict_label,levels = c(1,0),labels= c(\"Nuc\",\"Cyto\"))\n",
    "iLoc_freq = as.data.frame(table(iLoc_test_set[,2:3]))"
   ]
  },
  {
   "cell_type": "code",
   "execution_count": 17,
   "id": "distinct-spice",
   "metadata": {},
   "outputs": [
    {
     "data": {
      "text/html": [
       "<table>\n",
       "<caption>A data.frame: 4 × 3</caption>\n",
       "<thead>\n",
       "\t<tr><th scope=col>tag</th><th scope=col>predict_label</th><th scope=col>Freq</th></tr>\n",
       "\t<tr><th scope=col>&lt;fct&gt;</th><th scope=col>&lt;fct&gt;</th><th scope=col>&lt;int&gt;</th></tr>\n",
       "</thead>\n",
       "<tbody>\n",
       "\t<tr><td>Nuc </td><td>Nuc </td><td> 53</td></tr>\n",
       "\t<tr><td>Cyto</td><td>Nuc </td><td> 30</td></tr>\n",
       "\t<tr><td>Nuc </td><td>Cyto</td><td>143</td></tr>\n",
       "\t<tr><td>Cyto</td><td>Cyto</td><td>154</td></tr>\n",
       "</tbody>\n",
       "</table>\n"
      ],
      "text/latex": [
       "A data.frame: 4 × 3\n",
       "\\begin{tabular}{lll}\n",
       " tag & predict\\_label & Freq\\\\\n",
       " <fct> & <fct> & <int>\\\\\n",
       "\\hline\n",
       "\t Nuc  & Nuc  &  53\\\\\n",
       "\t Cyto & Nuc  &  30\\\\\n",
       "\t Nuc  & Cyto & 143\\\\\n",
       "\t Cyto & Cyto & 154\\\\\n",
       "\\end{tabular}\n"
      ],
      "text/markdown": [
       "\n",
       "A data.frame: 4 × 3\n",
       "\n",
       "| tag &lt;fct&gt; | predict_label &lt;fct&gt; | Freq &lt;int&gt; |\n",
       "|---|---|---|\n",
       "| Nuc  | Nuc  |  53 |\n",
       "| Cyto | Nuc  |  30 |\n",
       "| Nuc  | Cyto | 143 |\n",
       "| Cyto | Cyto | 154 |\n",
       "\n"
      ],
      "text/plain": [
       "  tag  predict_label Freq\n",
       "1 Nuc  Nuc            53 \n",
       "2 Cyto Nuc            30 \n",
       "3 Nuc  Cyto          143 \n",
       "4 Cyto Cyto          154 "
      ]
     },
     "metadata": {},
     "output_type": "display_data"
    }
   ],
   "source": [
    "iLoc_freq"
   ]
  },
  {
   "cell_type": "code",
   "execution_count": 18,
   "id": "pacific-foundation",
   "metadata": {},
   "outputs": [
    {
     "data": {
      "text/html": [
       "<table>\n",
       "<caption>A data.frame: 4 × 4</caption>\n",
       "<thead>\n",
       "\t<tr><th scope=col>tag</th><th scope=col>predict_label</th><th scope=col>Freq</th><th scope=col>Norm_Freq</th></tr>\n",
       "\t<tr><th scope=col>&lt;fct&gt;</th><th scope=col>&lt;fct&gt;</th><th scope=col>&lt;int&gt;</th><th scope=col>&lt;dbl&gt;</th></tr>\n",
       "</thead>\n",
       "<tbody>\n",
       "\t<tr><td>Nuc </td><td>Nuc </td><td> 53</td><td>0.2704082</td></tr>\n",
       "\t<tr><td>Cyto</td><td>Nuc </td><td> 30</td><td>0.1630435</td></tr>\n",
       "\t<tr><td>Nuc </td><td>Cyto</td><td>143</td><td>0.7295918</td></tr>\n",
       "\t<tr><td>Cyto</td><td>Cyto</td><td>154</td><td>0.8369565</td></tr>\n",
       "</tbody>\n",
       "</table>\n"
      ],
      "text/latex": [
       "A data.frame: 4 × 4\n",
       "\\begin{tabular}{llll}\n",
       " tag & predict\\_label & Freq & Norm\\_Freq\\\\\n",
       " <fct> & <fct> & <int> & <dbl>\\\\\n",
       "\\hline\n",
       "\t Nuc  & Nuc  &  53 & 0.2704082\\\\\n",
       "\t Cyto & Nuc  &  30 & 0.1630435\\\\\n",
       "\t Nuc  & Cyto & 143 & 0.7295918\\\\\n",
       "\t Cyto & Cyto & 154 & 0.8369565\\\\\n",
       "\\end{tabular}\n"
      ],
      "text/markdown": [
       "\n",
       "A data.frame: 4 × 4\n",
       "\n",
       "| tag &lt;fct&gt; | predict_label &lt;fct&gt; | Freq &lt;int&gt; | Norm_Freq &lt;dbl&gt; |\n",
       "|---|---|---|---|\n",
       "| Nuc  | Nuc  |  53 | 0.2704082 |\n",
       "| Cyto | Nuc  |  30 | 0.1630435 |\n",
       "| Nuc  | Cyto | 143 | 0.7295918 |\n",
       "| Cyto | Cyto | 154 | 0.8369565 |\n",
       "\n"
      ],
      "text/plain": [
       "  tag  predict_label Freq Norm_Freq\n",
       "1 Nuc  Nuc            53  0.2704082\n",
       "2 Cyto Nuc            30  0.1630435\n",
       "3 Nuc  Cyto          143  0.7295918\n",
       "4 Cyto Cyto          154  0.8369565"
      ]
     },
     "metadata": {},
     "output_type": "display_data"
    }
   ],
   "source": [
    "# Normalization\n",
    "iLoc_freq$Norm_Freq=0\n",
    "\n",
    "# TP and FP\n",
    "iLoc_freq[c(1,3),]$Norm_Freq <- iLoc_freq[c(1,3),]$Freq /sum(iLoc_freq[c(1,3),]$Freq)\n",
    "# TN and FN\n",
    "iLoc_freq[c(2,4),]$Norm_Freq <- iLoc_freq[c(2,4),]$Freq /sum(iLoc_freq[c(2,4),]$Freq)\n",
    "\n",
    "iLoc_freq"
   ]
  },
  {
   "cell_type": "code",
   "execution_count": 20,
   "id": "comparable-invention",
   "metadata": {},
   "outputs": [
    {
     "data": {
      "image/png": "[encoded data removed]",
      "text/plain": [
       "plot without title"
      ]
     },
     "metadata": {
      "image/png": {
       "height": 420,
       "width": 420
      }
     },
     "output_type": "display_data"
    }
   ],
   "source": [
    "p <- ggplot(data =iLoc_freq,aes(x=predict_label,y=factor(tag,levels = c(\"Cyto\",\"Nuc\")),fill=Norm_Freq)) + \n",
    "geom_tile()+\n",
    "theme_classic()+\n",
    "theme(panel.border = element_rect(colour = \"black\", fill=NA,size = 1.5))+\n",
    "scale_y_discrete(expand = c(0,0))+\n",
    "scale_x_discrete(expand = c(0,0))+\n",
    "scale_fill_gradient(limits = c(0,1), breaks = c(0.2,0.4,0.6,0.8),low = \"white\", high = \"#B71C1C\")\n",
    "ggsave(\"./02_iLoc-LncRNA_Confusion_matrix_with_text.pdf\", p, width = 10, height = 10) \n",
    "\n",
    "p"
   ]
  },
  {
   "cell_type": "code",
   "execution_count": 21,
   "id": "excessive-thomson",
   "metadata": {},
   "outputs": [
    {
     "data": {
      "image/png": "[encoded data removed]",
      "text/plain": [
       "plot without title"
      ]
     },
     "metadata": {
      "image/png": {
       "height": 420,
       "width": 420
      }
     },
     "output_type": "display_data"
    }
   ],
   "source": [
    "p <- p +theme(legend.position = \"None\",\n",
    "         axis.text = element_blank(),\n",
    "         axis.title = element_blank(),\n",
    "         axis.ticks = element_blank())\n",
    "ggsave(\"./02_iLoc-LncRNA_Confusion_matrix.pdf\", p, width = 10, height = 10) \n",
    "\n",
    "p"
   ]
  },
  {
   "cell_type": "markdown",
   "id": "formal-cutting",
   "metadata": {},
   "source": [
    "*** \n",
    "### "
   ]
  },
  {
   "cell_type": "markdown",
   "id": "needed-recovery",
   "metadata": {},
   "source": [
    "## 3. lncLocator"
   ]
  },
  {
   "cell_type": "code",
   "execution_count": 22,
   "id": "soviet-hunter",
   "metadata": {},
   "outputs": [],
   "source": [
    "lncLocator_test_set <- read.csv(\"./lncLocator/Evaluation_Result/lncRNA_sublocation_TestSet_lncLocator_predict.tsv\",sep = '\\t')\n",
    "lncLocator_test_set$tag <- factor(lncLocator_test_set$tag,levels = c(1,0),labels= c(\"Nuc\",\"Cyto\"))\n",
    "lncLocator_test_set$predict_label <- factor(lncLocator_test_set$predict_label,levels = c(1,0),labels= c(\"Nuc\",\"Cyto\"))\n",
    "lncLocator_freq = as.data.frame(table(lncLocator_test_set[,2:3]))"
   ]
  },
  {
   "cell_type": "code",
   "execution_count": 23,
   "id": "certified-shield",
   "metadata": {},
   "outputs": [
    {
     "data": {
      "text/html": [
       "<table>\n",
       "<caption>A data.frame: 4 × 3</caption>\n",
       "<thead>\n",
       "\t<tr><th scope=col>tag</th><th scope=col>predict_label</th><th scope=col>Freq</th></tr>\n",
       "\t<tr><th scope=col>&lt;fct&gt;</th><th scope=col>&lt;fct&gt;</th><th scope=col>&lt;int&gt;</th></tr>\n",
       "</thead>\n",
       "<tbody>\n",
       "\t<tr><td>Nuc </td><td>Nuc </td><td> 19</td></tr>\n",
       "\t<tr><td>Cyto</td><td>Nuc </td><td> 15</td></tr>\n",
       "\t<tr><td>Nuc </td><td>Cyto</td><td>177</td></tr>\n",
       "\t<tr><td>Cyto</td><td>Cyto</td><td>169</td></tr>\n",
       "</tbody>\n",
       "</table>\n"
      ],
      "text/latex": [
       "A data.frame: 4 × 3\n",
       "\\begin{tabular}{lll}\n",
       " tag & predict\\_label & Freq\\\\\n",
       " <fct> & <fct> & <int>\\\\\n",
       "\\hline\n",
       "\t Nuc  & Nuc  &  19\\\\\n",
       "\t Cyto & Nuc  &  15\\\\\n",
       "\t Nuc  & Cyto & 177\\\\\n",
       "\t Cyto & Cyto & 169\\\\\n",
       "\\end{tabular}\n"
      ],
      "text/markdown": [
       "\n",
       "A data.frame: 4 × 3\n",
       "\n",
       "| tag &lt;fct&gt; | predict_label &lt;fct&gt; | Freq &lt;int&gt; |\n",
       "|---|---|---|\n",
       "| Nuc  | Nuc  |  19 |\n",
       "| Cyto | Nuc  |  15 |\n",
       "| Nuc  | Cyto | 177 |\n",
       "| Cyto | Cyto | 169 |\n",
       "\n"
      ],
      "text/plain": [
       "  tag  predict_label Freq\n",
       "1 Nuc  Nuc            19 \n",
       "2 Cyto Nuc            15 \n",
       "3 Nuc  Cyto          177 \n",
       "4 Cyto Cyto          169 "
      ]
     },
     "metadata": {},
     "output_type": "display_data"
    }
   ],
   "source": [
    "lncLocator_freq"
   ]
  },
  {
   "cell_type": "code",
   "execution_count": 24,
   "id": "buried-cable",
   "metadata": {},
   "outputs": [
    {
     "data": {
      "text/html": [
       "<table>\n",
       "<caption>A data.frame: 4 × 4</caption>\n",
       "<thead>\n",
       "\t<tr><th scope=col>tag</th><th scope=col>predict_label</th><th scope=col>Freq</th><th scope=col>Norm_Freq</th></tr>\n",
       "\t<tr><th scope=col>&lt;fct&gt;</th><th scope=col>&lt;fct&gt;</th><th scope=col>&lt;int&gt;</th><th scope=col>&lt;dbl&gt;</th></tr>\n",
       "</thead>\n",
       "<tbody>\n",
       "\t<tr><td>Nuc </td><td>Nuc </td><td> 19</td><td>0.09693878</td></tr>\n",
       "\t<tr><td>Cyto</td><td>Nuc </td><td> 15</td><td>0.08152174</td></tr>\n",
       "\t<tr><td>Nuc </td><td>Cyto</td><td>177</td><td>0.90306122</td></tr>\n",
       "\t<tr><td>Cyto</td><td>Cyto</td><td>169</td><td>0.91847826</td></tr>\n",
       "</tbody>\n",
       "</table>\n"
      ],
      "text/latex": [
       "A data.frame: 4 × 4\n",
       "\\begin{tabular}{llll}\n",
       " tag & predict\\_label & Freq & Norm\\_Freq\\\\\n",
       " <fct> & <fct> & <int> & <dbl>\\\\\n",
       "\\hline\n",
       "\t Nuc  & Nuc  &  19 & 0.09693878\\\\\n",
       "\t Cyto & Nuc  &  15 & 0.08152174\\\\\n",
       "\t Nuc  & Cyto & 177 & 0.90306122\\\\\n",
       "\t Cyto & Cyto & 169 & 0.91847826\\\\\n",
       "\\end{tabular}\n"
      ],
      "text/markdown": [
       "\n",
       "A data.frame: 4 × 4\n",
       "\n",
       "| tag &lt;fct&gt; | predict_label &lt;fct&gt; | Freq &lt;int&gt; | Norm_Freq &lt;dbl&gt; |\n",
       "|---|---|---|---|\n",
       "| Nuc  | Nuc  |  19 | 0.09693878 |\n",
       "| Cyto | Nuc  |  15 | 0.08152174 |\n",
       "| Nuc  | Cyto | 177 | 0.90306122 |\n",
       "| Cyto | Cyto | 169 | 0.91847826 |\n",
       "\n"
      ],
      "text/plain": [
       "  tag  predict_label Freq Norm_Freq \n",
       "1 Nuc  Nuc            19  0.09693878\n",
       "2 Cyto Nuc            15  0.08152174\n",
       "3 Nuc  Cyto          177  0.90306122\n",
       "4 Cyto Cyto          169  0.91847826"
      ]
     },
     "metadata": {},
     "output_type": "display_data"
    }
   ],
   "source": [
    "# Normalization\n",
    "lncLocator_freq$Norm_Freq=0\n",
    "\n",
    "# TP and FP\n",
    "lncLocator_freq[c(1,3),]$Norm_Freq <- lncLocator_freq[c(1,3),]$Freq /sum(lncLocator_freq[c(1,3),]$Freq)\n",
    "# TN and FN\n",
    "lncLocator_freq[c(2,4),]$Norm_Freq <- lncLocator_freq[c(2,4),]$Freq /sum(lncLocator_freq[c(2,4),]$Freq)\n",
    "\n",
    "lncLocator_freq"
   ]
  },
  {
   "cell_type": "code",
   "execution_count": 25,
   "id": "direct-racing",
   "metadata": {},
   "outputs": [
    {
     "data": {
      "image/png": "[encoded data removed]",
      "text/plain": [
       "plot without title"
      ]
     },
     "metadata": {
      "image/png": {
       "height": 420,
       "width": 420
      }
     },
     "output_type": "display_data"
    }
   ],
   "source": [
    "p <- ggplot(data =lncLocator_freq,aes(x=predict_label,y=factor(tag,levels = c(\"Cyto\",\"Nuc\")),fill=Norm_Freq)) + \n",
    "geom_tile()+\n",
    "theme_classic()+\n",
    "theme(panel.border = element_rect(colour = \"black\", fill=NA,size = 1.5))+\n",
    "scale_y_discrete(expand = c(0,0))+\n",
    "scale_x_discrete(expand = c(0,0))+\n",
    "scale_fill_gradient(limits = c(0,1), breaks = c(0.2,0.4,0.6,0.8),low = \"white\", high = \"#B71C1C\")\n",
    "ggsave(\"./02_lncLocator_Confusion_matrix_with_text.pdf\", p, width = 10, height = 10) \n",
    "\n",
    "p"
   ]
  },
  {
   "cell_type": "code",
   "execution_count": 28,
   "id": "friendly-austin",
   "metadata": {},
   "outputs": [
    {
     "data": {
      "image/png": "[encoded data removed]",
      "text/plain": [
       "plot without title"
      ]
     },
     "metadata": {
      "image/png": {
       "height": 420,
       "width": 420
      }
     },
     "output_type": "display_data"
    }
   ],
   "source": [
    "p <- p +theme(legend.position = \"None\",\n",
    "         axis.text = element_blank(),\n",
    "         axis.title = element_blank(),\n",
    "         axis.ticks = element_blank())\n",
    "ggsave(\"./02_lncLocator_Confusion_matrix.pdf\", p, width = 10, height = 10) \n",
    "\n",
    "p"
   ]
  }
 ],
 "metadata": {
  "kernelspec": {
   "display_name": "R",
   "language": "R",
   "name": "ir"
  },
  "language_info": {
   "codemirror_mode": "r",
   "file_extension": ".r",
   "mimetype": "text/x-r-source",
   "name": "R",
   "pygments_lexer": "r",
   "version": "3.6.3"
  }
 },
 "nbformat": 4,
 "nbformat_minor": 5
}
