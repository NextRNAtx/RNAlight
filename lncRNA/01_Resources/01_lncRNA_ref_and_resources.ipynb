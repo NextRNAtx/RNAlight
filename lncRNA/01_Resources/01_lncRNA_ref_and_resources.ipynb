{
 "cells": [
  {
   "cell_type": "markdown",
   "id": "eight-nevada",
   "metadata": {},
   "source": [
    "# Bash"
   ]
  },
  {
   "cell_type": "markdown",
   "id": "south-burton",
   "metadata": {},
   "source": [
    "****"
   ]
  },
  {
   "cell_type": "markdown",
   "id": "fuzzy-provincial",
   "metadata": {},
   "source": [
    "## 1. LncRNA annotation"
   ]
  },
  {
   "cell_type": "markdown",
   "id": "considerable-party",
   "metadata": {},
   "source": [
    "+ File: gencode.v30.lncRNA_transcripts.fa\n",
    "+ URL: http://ftp.ebi.ac.uk/pub/databases/gencode/Gencode_human/release_30/gencode.v30.lncRNA_transcripts.fa.gz"
   ]
  },
  {
   "cell_type": "code",
   "execution_count": 7,
   "id": "caroline-endorsement",
   "metadata": {
    "papermill": {
     "duration": 1.805867,
     "end_time": "2021-02-02T05:24:05.390452",
     "exception": false,
     "start_time": "2021-02-02T05:24:03.584585",
     "status": "completed"
    },
    "tags": []
   },
   "outputs": [],
   "source": [
    "# Major isoforms of lncRNAs\n",
    "seqkit fx2tab ./References/gencode.v30.lncRNA_transcripts.fa \\\n",
    "| sort -t '|'  -k5 | awk -F '|'  '!a[$6]++' \\\n",
    "| grep \"201\" > ./References/gencode.v30.lncRNA_transcripts_major.txt\n",
    "\n",
    "sed \"s:\\t::g\" ./References/gencode.v30.lncRNA_transcripts_major.txt \\\n",
    "| awk -F '|' -v OFS='\\t' 'BEGIN{print \"ensembl_gene_id\\tname\\tcdna\"} {print $2,$6,$8}'\\\n",
    "> ./References/gencode.v30.lncRNA_transcripts_major_compact.txt\n",
    "\n",
    "sed \"s:\\t::g\" ./References/gencode.v30.lncRNA_transcripts_major.txt \\\n",
    "| awk -F '|' -v OFS='\\t' 'BEGIN{print \"ensembl_transcript_id\\tname\\tcdna\"} {print $1,$6,$8}'\\\n",
    "> ./References/gencode.v30.lncRNA_transcripts_major_compact_trans_id.txt"
   ]
  },
  {
   "cell_type": "markdown",
   "id": "framed-section",
   "metadata": {},
   "source": [
    "***"
   ]
  },
  {
   "cell_type": "markdown",
   "id": "worldwide-accent",
   "metadata": {},
   "source": [
    "### "
   ]
  },
  {
   "cell_type": "markdown",
   "id": "cosmetic-negative",
   "metadata": {},
   "source": [
    "## 2. LncRNA localization resources"
   ]
  },
  {
   "cell_type": "markdown",
   "id": "expensive-killer",
   "metadata": {},
   "source": [
    "### 2.1 LncATLAS"
   ]
  },
  {
   "cell_type": "markdown",
   "id": "protected-median",
   "metadata": {
    "papermill": {
     "duration": 0.005339,
     "end_time": "2021-02-02T05:24:05.405061",
     "exception": false,
     "start_time": "2021-02-02T05:24:05.399722",
     "status": "completed"
    },
    "tags": []
   },
   "source": [
    "- File: 2021-01-29_lncATLAS_all_data_RCI.csv\n",
    "- URL: https://lncatlas.crg.eu/"
   ]
  },
  {
   "cell_type": "code",
   "execution_count": 5,
   "id": "crazy-anatomy",
   "metadata": {
    "papermill": {
     "duration": 1.166859,
     "end_time": "2021-02-02T05:24:06.576472",
     "exception": false,
     "start_time": "2021-02-02T05:24:05.409613",
     "status": "completed"
    },
    "tags": []
   },
   "outputs": [],
   "source": [
    "# Non-coding RNA\n",
    "awk -F ',' '{if(NR==1||$3==\"CNRCI\" && $6==\"nc\"){print}}' ./Resources/2021-01-29_lncATLAS_all_data_RCI.csv \\\n",
    "| sed 's/,/\\t/g' > ./Resources/2021-01-29_lncATLAS_noncoding_data_RCI.tsv"
   ]
  },
  {
   "cell_type": "markdown",
   "id": "stuffed-narrow",
   "metadata": {},
   "source": [
    "### 2.2 Cefra-seq\n",
    "- File: 2018_CeFra_Seq_polyA_plus.tsv\n",
    "- URL: https://rnajournal.cshlp.org/content/suppl/2017/10/27/rna.063172.117.DC1/Supplemental_File_3.tsv"
   ]
  },
  {
   "cell_type": "markdown",
   "id": "worthy-penny",
   "metadata": {},
   "source": [
    "### 2.3 APEX-seq\n",
    "- File: 2019_CELL_APEXSeq.tsv\n",
    "- URL: https://www.ncbi.nlm.nih.gov/pmc/articles/PMC6786773/bin/NIHMS1531987-supplement-3.xlsx"
   ]
  },
  {
   "cell_type": "markdown",
   "id": "operating-brooklyn",
   "metadata": {},
   "source": [
    "*** "
   ]
  }
 ],
 "metadata": {
  "kernelspec": {
   "display_name": "Bash",
   "language": "bash",
   "name": "bash"
  },
  "language_info": {
   "codemirror_mode": "shell",
   "file_extension": ".sh",
   "mimetype": "text/x-sh",
   "name": "bash"
  },
  "papermill": {
   "default_parameters": {},
   "duration": 53.752945,
   "end_time": "2021-02-02T05:24:07.762501",
   "environment_variables": {},
   "exception": null,
   "input_path": "/data/rnomics9/yuanguohua/lncRNA-subcellular-localizations/Original_data/01_generate_ref_and_input.ipynb",
   "output_path": "/data/rnomics9/yuanguohua/lncRNA-subcellular-localizations/Original_data/01_generate_ref_and_input.ipynb",
   "parameters": {},
   "start_time": "2021-02-02T05:23:14.009556",
   "version": "2.3.1"
  }
 },
 "nbformat": 4,
 "nbformat_minor": 5
}
