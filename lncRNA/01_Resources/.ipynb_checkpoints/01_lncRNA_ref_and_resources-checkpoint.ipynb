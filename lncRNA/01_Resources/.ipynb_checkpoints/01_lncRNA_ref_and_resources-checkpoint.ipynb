{
 "cells": [
  {
   "cell_type": "markdown",
   "id": "pressing-prince",
   "metadata": {
    "papermill": {
     "duration": 0.011658,
     "end_time": "2021-02-02T05:24:03.578059",
     "exception": false,
     "start_time": "2021-02-02T05:24:03.566401",
     "status": "completed"
    },
    "tags": []
   },
   "source": [
    "# To obtain the major isoforms of lncRNAs"
   ]
  },
  {
   "cell_type": "code",
   "execution_count": 1,
   "id": "adjusted-malpractice",
   "metadata": {
    "execution": {
     "iopub.execute_input": "2021-02-02T05:24:03.594756Z",
     "iopub.status.busy": "2021-02-02T05:24:03.593890Z",
     "iopub.status.idle": "2021-02-02T05:24:05.388970Z",
     "shell.execute_reply": "2021-02-02T05:24:05.390094Z"
    },
    "papermill": {
     "duration": 1.805867,
     "end_time": "2021-02-02T05:24:05.390452",
     "exception": false,
     "start_time": "2021-02-02T05:24:03.584585",
     "status": "completed"
    },
    "tags": []
   },
   "outputs": [],
   "source": [
    "seqkit fx2tab /data/rnomics9/yuanguohua/lncRNA-subcellular-localizations/Datasets/gencode.v30.lncRNA_transcripts.fa \\\n",
    "| sort -t '|'  -k5 | awk -F '|'  '!a[$6]++' \\\n",
    "| grep \"201\" > ./gencode.v30.lncRNA_transcripts_major.txt\n",
    "\n",
    "sed \"s:\\t::g\" gencode.v30.lncRNA_transcripts_major.txt \\\n",
    "| awk -F '|' -v OFS='\\t' 'BEGIN{print \"ensembl_gene_id\\tname\\tcdna\"} {print $2,$6,$8}'\\\n",
    "> ./gencode.v30.lncRNA_transcripts_major_compact.txt"
   ]
  },
  {
   "cell_type": "markdown",
   "id": "chief-reply",
   "metadata": {
    "papermill": {
     "duration": 0.005339,
     "end_time": "2021-02-02T05:24:05.405061",
     "exception": false,
     "start_time": "2021-02-02T05:24:05.399722",
     "status": "completed"
    },
    "tags": []
   },
   "source": [
    "# To obtain lncRNAs in LncATLAS"
   ]
  },
  {
   "cell_type": "code",
   "execution_count": 2,
   "id": "reliable-float",
   "metadata": {
    "execution": {
     "iopub.execute_input": "2021-02-02T05:24:05.416825Z",
     "iopub.status.busy": "2021-02-02T05:24:05.416375Z",
     "iopub.status.idle": "2021-02-02T05:24:06.575055Z",
     "shell.execute_reply": "2021-02-02T05:24:06.576157Z"
    },
    "papermill": {
     "duration": 1.166859,
     "end_time": "2021-02-02T05:24:06.576472",
     "exception": false,
     "start_time": "2021-02-02T05:24:05.409613",
     "status": "completed"
    },
    "tags": []
   },
   "outputs": [],
   "source": [
    "awk -F ',' '{if(NR==1||$3==\"CNRCI\" && $6==\"nc\"){print}}' 2021-01-29_lncATLAS_all_data_RCI.csv \\\n",
    "| sed 's/,/\\t/g' > 2021-01-29_lncATLAS_noncoding_data_RCI.tsv"
   ]
  }
 ],
 "metadata": {
  "kernelspec": {
   "display_name": "Bash",
   "language": "bash",
   "name": "bash"
  },
  "language_info": {
   "codemirror_mode": "shell",
   "file_extension": ".sh",
   "mimetype": "text/x-sh",
   "name": "bash"
  },
  "papermill": {
   "default_parameters": {},
   "duration": 53.752945,
   "end_time": "2021-02-02T05:24:07.762501",
   "environment_variables": {},
   "exception": null,
   "input_path": "/data/rnomics9/yuanguohua/lncRNA-subcellular-localizations/Original_data/01_generate_ref_and_input.ipynb",
   "output_path": "/data/rnomics9/yuanguohua/lncRNA-subcellular-localizations/Original_data/01_generate_ref_and_input.ipynb",
   "parameters": {},
   "start_time": "2021-02-02T05:23:14.009556",
   "version": "2.3.1"
  }
 },
 "nbformat": 4,
 "nbformat_minor": 5
}