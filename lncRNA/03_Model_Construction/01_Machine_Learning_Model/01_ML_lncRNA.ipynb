{
 "cells": [
  {
   "cell_type": "markdown",
   "metadata": {},
   "source": [
    "# Python"
   ]
  },
  {
   "cell_type": "markdown",
   "metadata": {},
   "source": [
    "*** "
   ]
  },
  {
   "cell_type": "markdown",
   "metadata": {},
   "source": [
    "## 1. Python import and define functions"
   ]
  },
  {
   "cell_type": "code",
   "execution_count": 1,
   "metadata": {},
   "outputs": [],
   "source": [
    "# Python import\n",
    "import os\n",
    "import copy\n",
    "import random\n",
    "import collections\n",
    "import itertools\n",
    "import numpy as np\n",
    "import pandas as pd\n",
    "import lightgbm as lgb\n",
    "import warnings\n",
    "from sklearn import svm\n",
    "from sklearn.externals import joblib\n",
    "from sklearn.ensemble import RandomForestClassifier\n",
    "from sklearn.model_selection import train_test_split,RandomizedSearchCV\n",
    "import sklearn.metrics as metrics\n",
    "from sklearn.linear_model import LogisticRegression\n",
    "import matplotlib.pyplot as plt"
   ]
  },
  {
   "cell_type": "code",
   "execution_count": 2,
   "metadata": {},
   "outputs": [],
   "source": [
    "# Whether in jupyter notebook\n",
    "def isnotebook() -> bool:\n",
    "    \"\"\"\n",
    "    Returns True if the current execution environment is a jupyter notebook\n",
    "    https://stackoverflow.com/questions/15411967/how-can-i-check-if-code-is-executed-in-the-ipython-notebook\n",
    "    \"\"\"\n",
    "    try:\n",
    "        shell = get_ipython().__class__.__name__\n",
    "        if shell == 'ZMQInteractiveShell':\n",
    "            return True   # Jupyter notebook or qtconsole\n",
    "        elif shell == 'TerminalInteractiveShell':\n",
    "            return False  # Terminal running IPython\n",
    "        else:\n",
    "            return False  # Other type (?)\n",
    "    except NameError:\n",
    "        return False      # Probably standard Python interpreter"
   ]
  },
  {
   "cell_type": "code",
   "execution_count": 3,
   "metadata": {},
   "outputs": [],
   "source": [
    "#get filepath of input and output\n",
    "def get_filepath():\n",
    "    parser = argparse.ArgumentParser()\n",
    "    parser.add_argument(\"-C\",\"-c\",\"--cyto\",dest = \"cytosol\", help = \"Cytosol instances file\")\n",
    "    parser.add_argument(\"-N\",\"-n\",\"--nuc\",dest = \"nuclear\",help = \"Nuclear instances file\")\n",
    "    args = parser.parse_args()\n",
    "    return args"
   ]
  },
  {
   "cell_type": "code",
   "execution_count": 4,
   "metadata": {},
   "outputs": [],
   "source": [
    "# Count the frequency of k-mer in each RNA sequence\n",
    "# k-mer was normalized by total k-mer count of each RNA sequence\n",
    "def _count_kmer(Dataset,k): # k = 3,4,5\n",
    "    \n",
    "    # copy dataset\n",
    "    dataset = copy.deepcopy(Dataset)\n",
    "    # alphbet of nucleotide\n",
    "    nucleotide = ['A','C','G','T']\n",
    "    \n",
    "    # generate k-mers\n",
    "    #  k == 5:\n",
    "    five = list(itertools.product(nucleotide,repeat=5))\n",
    "    pentamer = []\n",
    "    for n in five:\n",
    "        pentamer.append(\"\".join(n))\n",
    "    \n",
    "    #  k == 4:\n",
    "    four = list(itertools.product(nucleotide,repeat=4))\n",
    "    tetramer = []\n",
    "    for n in four:\n",
    "        tetramer.append(\"\".join(n))\n",
    "\n",
    "    # k == 3:\n",
    "    three = list(itertools.product(nucleotide,repeat=3))\n",
    "    threemer = []\n",
    "    for n in three:\n",
    "        threemer.append(\"\".join(n))\n",
    "    \n",
    "    # input features can be combinations of diffrent k values\n",
    "    if k == 34:\n",
    "        table_kmer = dict.fromkeys(threemer,0)\n",
    "        table_kmer.update(dict.fromkeys(tetramer,0))\n",
    "    if k == 45:\n",
    "        table_kmer = dict.fromkeys(tetramer,0)\n",
    "        table_kmer.update(dict.fromkeys(pentamer,0))\n",
    "    if k == 345:\n",
    "        table_kmer = dict.fromkeys(threemer,0)\n",
    "        table_kmer.update(dict.fromkeys(tetramer,0))\n",
    "        table_kmer.update(dict.fromkeys(pentamer,0))\n",
    "\n",
    "    # count k-mer for each sequence\n",
    "    for mer in table_kmer.keys():\n",
    "        table_kmer[mer] = dataset[\"cdna\"].apply(lambda x : x.count(mer))\n",
    "    \n",
    "    # for k-mer raw count without normalization, index: nuc:1 or cyto:0\n",
    "    rawcount_kmer_df = pd.DataFrame(table_kmer)\n",
    "    df1_rawcount = pd.concat([rawcount_kmer_df,dataset[\"ensembl_transcript_id\"]],axis = 1)\n",
    "    df1_rawcount.index = dataset[\"tag\"]\n",
    "\n",
    "    # for k-mer frequency with normalization , index: nuc:1 or cyto:0\n",
    "    freq_kmer_df = rawcount_kmer_df.apply(lambda x: x/x.sum(),axis=1)\n",
    "    df1 = pd.concat([freq_kmer_df,dataset[\"ensembl_transcript_id\"]],axis = 1)\n",
    "    df1.index = dataset[\"tag\"]\n",
    "\n",
    "    return df1,df1_rawcount"
   ]
  },
  {
   "cell_type": "code",
   "execution_count": 5,
   "metadata": {},
   "outputs": [],
   "source": [
    "#Evaluate performance of model\n",
    "def evaluate_performance(y_test, y_pred, y_prob):\n",
    "    # AUROC\n",
    "    auroc = metrics.roc_auc_score(y_test,y_prob)\n",
    "    auroc_curve = metrics.roc_curve(y_test, y_prob)\n",
    "    # AUPRC\n",
    "    auprc=metrics.average_precision_score(y_test, y_prob) \n",
    "    auprc_curve=metrics.precision_recall_curve(y_test, y_prob)\n",
    "    #Accuracy\n",
    "    accuracy=metrics.accuracy_score(y_test,y_pred) \n",
    "    #MCC\n",
    "    mcc=metrics.matthews_corrcoef(y_test,y_pred)\n",
    "    \n",
    "    recall=metrics.recall_score(y_test, y_pred)\n",
    "    precision=metrics.precision_score(y_test, y_pred)\n",
    "    f1=metrics.f1_score(y_test, y_pred)\n",
    "    class_report=metrics.classification_report(y_test, y_pred,target_names = [\"control\",\"case\"])\n",
    "\n",
    "    model_perf = {\"auroc\":auroc,\"auroc_curve\":auroc_curve,\n",
    "                  \"auprc\":auprc,\"auprc_curve\":auprc_curve,\n",
    "                  \"accuracy\":accuracy, \"mcc\": mcc,\n",
    "                  \"recall\":recall,\"precision\":precision,\"f1\":f1,\n",
    "                  \"class_report\":class_report}\n",
    "        \n",
    "    return model_perf"
   ]
  },
  {
   "cell_type": "code",
   "execution_count": 6,
   "metadata": {},
   "outputs": [],
   "source": [
    "# Output result of evaluation\n",
    "def eval_output(model_perf,path):\n",
    "    with open(os.path.join(path,\"Evaluate_Result_TestSet.txt\"),'w') as f:\n",
    "        f.write(\"AUROC=%s\\tAUPRC=%s\\tAccuracy=%s\\tMCC=%s\\tRecall=%s\\tPrecision=%s\\tf1_score=%s\\n\" %\n",
    "               (model_perf[\"auroc\"],model_perf[\"auprc\"],model_perf[\"accuracy\"],model_perf[\"mcc\"],model_perf[\"recall\"],model_perf[\"precision\"],model_perf[\"f1\"]))\n",
    "        f.write(\"\\n######NOTE#######\\n\")\n",
    "        f.write(\"#According to help_documentation of sklearn.metrics.classification_report:in binary classification, recall of the positive class is also known as sensitivity; recall of the negative class is specificity#\\n\\n\")\n",
    "        f.write(model_perf[\"class_report\"])"
   ]
  },
  {
   "cell_type": "code",
   "execution_count": 7,
   "metadata": {},
   "outputs": [],
   "source": [
    "# Plot AUROC of model\n",
    "def plot_AUROC(model_perf,path):\n",
    "    #get AUROC,FPR,TPR and threshold\n",
    "    roc_auc = model_perf[\"auroc\"]\n",
    "    fpr,tpr,threshold = model_perf[\"auroc_curve\"]\n",
    "    #return AUROC info\n",
    "    temp_df = pd.DataFrame({\"FPR\":fpr,\"TPR\":tpr})\n",
    "    temp_df.to_csv(os.path.join(path,\"AUROC_info.txt\"),header = True,index = False, sep = '\\t')\n",
    "    #plot\n",
    "    plt.figure()\n",
    "    lw = 2\n",
    "    plt.figure(figsize=(10,10))\n",
    "    plt.plot(fpr, tpr, color='darkorange',\n",
    "             lw=lw, label='AUROC (area = %0.2f)' % roc_auc) \n",
    "    plt.plot([0, 1], [0, 1], color='navy', lw=lw, linestyle='--')\n",
    "    plt.xlim([0.0, 1.0])\n",
    "    plt.ylim([0.0, 1.0])\n",
    "    plt.xlabel(\"False Positive Rate\")\n",
    "    plt.ylabel(\"True Positive Rate\")\n",
    "    plt.title(\"AUROC of Models\")\n",
    "    plt.legend(loc=\"lower right\")\n",
    "    plt.savefig(os.path.join(path,\"AUROC_TestSet.pdf\"),format = \"pdf\")"
   ]
  },
  {
   "cell_type": "markdown",
   "metadata": {},
   "source": [
    "*** \n",
    "###   "
   ]
  },
  {
   "cell_type": "markdown",
   "metadata": {},
   "source": [
    "##  2. Configution"
   ]
  },
  {
   "cell_type": "code",
   "execution_count": 8,
   "metadata": {},
   "outputs": [],
   "source": [
    "# Random seed\n",
    "SEED = 100\n",
    "random.seed(SEED)\n",
    "np.random.seed(SEED)\n",
    "\n",
    "warnings.filterwarnings(action='ignore')\n",
    "\n",
    "# Output dir\n",
    "output_dir = \"01_ML_Model_Output\"\n",
    "if not (os.path.exists(output_dir)):\n",
    "    os.mkdir(output_dir)"
   ]
  },
  {
   "cell_type": "markdown",
   "metadata": {},
   "source": [
    "*** \n",
    "###   "
   ]
  },
  {
   "cell_type": "markdown",
   "metadata": {},
   "source": [
    "## 3. Data Processing"
   ]
  },
  {
   "cell_type": "code",
   "execution_count": 9,
   "metadata": {
    "scrolled": true
   },
   "outputs": [
    {
     "name": "stdout",
     "output_type": "stream",
     "text": [
      "\n",
      "********************** Start Data Processing **************************\n",
      "\n",
      "********************** Finished Data Processing ***********************\n",
      "CPU times: user 39.8 s, sys: 1.31 s, total: 41.1 s\n",
      "Wall time: 42.5 s\n"
     ]
    }
   ],
   "source": [
    "%%time\n",
    "print(\"\\n********************** Start Data Processing **************************\")\n",
    "\n",
    "# get input_file path\n",
    "if isnotebook():\n",
    "    cyto_f = \"../../02_Dataset/02_lncRNA_info_cyto_transcript.tsv\"\n",
    "    nuc_f = \"../../02_Dataset/02_lncRNA_info_nuc_transcript.tsv\"\n",
    "else:\n",
    "    args = get_filepath()\n",
    "    cyto_f = args.cytosol\n",
    "    nuc_f = args.nuclear\n",
    "    \n",
    "# load data\n",
    "dataset_cyto = pd.read_csv(cyto_f,sep='\\t',index_col = False)    #1806    \n",
    "dataset_nuc = pd.read_csv(nuc_f,sep='\\t',index_col = False)    #1986\n",
    "# Set the tag of RCI(log2FC): nuclear 1 / cytosol 0\n",
    "dataset_nuc['tag'] = 1;dataset_cyto['tag'] = 0\n",
    "# merge the nuc and cyto dataset\n",
    "dataset = pd.concat([dataset_nuc,dataset_cyto]) # 3792\n",
    "# remove duplications(actually,each lncRNA is unique in its class)\n",
    "dataset.drop_duplicates(keep=\"first\",subset=[\"ensembl_transcript_id\",\"name\",\"cdna\"],inplace=True) # 3792\n",
    "\n",
    "# k = 3,4,5 count the normalized and raw count of kmer\n",
    "df_kmer_345,df_kmer_345_rawcount = _count_kmer(dataset,345)\n",
    "df_kmer_345.to_csv(os.path.join(output_dir,\"df_kmer345_freq.tsv\"),sep='\\t')\n",
    "df_kmer_345_rawcount.to_csv(os.path.join(output_dir,\"df_kmer345_rawcount.tsv\"),sep='\\t')\n",
    "# load kmer file\n",
    "# df_kmer_345 = pd.read_csv(os.path.join(output_dir,\"df_kmer345_freq.tsv\"),sep='\\t',index_col= 0)\n",
    "\n",
    "# convert to x:kmer-freq , y:label\n",
    "del df_kmer_345['ensembl_transcript_id']\n",
    "x_kmer = df_kmer_345.values\n",
    "y_kmer = y_kmer = np.array(df_kmer_345.index)\n",
    "# split into training and test sets (9:1)\n",
    "x_train, x_test, y_train, y_test = train_test_split(x_kmer, y_kmer, test_size = 0.1, random_state = SEED)\n",
    "\n",
    "print(\"\\n********************** Finished Data Processing ***********************\")"
   ]
  },
  {
   "cell_type": "markdown",
   "metadata": {},
   "source": [
    "*** \n",
    "###   "
   ]
  },
  {
   "cell_type": "markdown",
   "metadata": {},
   "source": [
    "## 3. Model Construction & Evaluation on Test set"
   ]
  },
  {
   "cell_type": "markdown",
   "metadata": {},
   "source": [
    "- SVM"
   ]
  },
  {
   "cell_type": "code",
   "execution_count": 10,
   "metadata": {},
   "outputs": [
    {
     "name": "stdout",
     "output_type": "stream",
     "text": [
      "\n",
      "*** SVM ***\n",
      "CPU times: user 1min 51s, sys: 1.21 s, total: 1min 52s\n",
      "Wall time: 27min 35s\n"
     ]
    },
    {
     "data": {
      "text/plain": [
       "['01_ML_Model_Output/SVM/best_SVM_model.pkl']"
      ]
     },
     "execution_count": 10,
     "metadata": {},
     "output_type": "execute_result"
    },
    {
     "data": {
      "text/plain": [
       "<Figure size 432x288 with 0 Axes>"
      ]
     },
     "metadata": {},
     "output_type": "display_data"
    },
    {
     "data": {
      "image/png": "[encoded data removed]",
      "text/plain": [
       "<Figure size 720x720 with 1 Axes>"
      ]
     },
     "metadata": {
      "needs_background": "light"
     },
     "output_type": "display_data"
    }
   ],
   "source": [
    "%%time\n",
    "#Construct SVM model\n",
    "print(\"\\n*** SVM ***\")\n",
    "\n",
    "# SVM params\n",
    "SVM_param_dict = {\n",
    "    'kernel':('linear', 'rbf'), \n",
    "    'C':[0.01,0.1,1,10, 100], \n",
    "    'gamma':[0.001, 0.005, 0.1 ,0.5,1, 2],\n",
    "    \"probability\":[True],\n",
    "    \"random_state\":[SEED]\n",
    "}\n",
    "\n",
    "#Initiate model\n",
    "SVM_model = svm.SVC()\n",
    "#Adjust hyper-parameters with 5-fold cross validation\n",
    "SVM_rscv = RandomizedSearchCV(SVM_model, SVM_param_dict, n_iter=100,cv = 5,verbose = 0,\n",
    "                          scoring = \"roc_auc\",random_state=SEED,n_jobs =30)\n",
    "SVM_rscv.fit(x_train, y_train) \n",
    "\n",
    "\n",
    "#Evaluate best SVM model\n",
    "#Output path\n",
    "path = os.path.join(output_dir,\"SVM\")\n",
    "if not (os.path.exists(path)):\n",
    "    os.mkdir(path)\n",
    "    \n",
    "# Model performance(AUROC) on cross-validation dataset\n",
    "SVM_cv_perf = np.array([ SVM_rscv.cv_results_[\"split%s_test_score\"%str(i)] for i in range(5)])[:,SVM_rscv.best_index_]\n",
    "\n",
    "#Get best model with score [max(mean(auc(5 cross validation)))]\n",
    "svm_best_model = SVM_rscv.best_estimator_\n",
    "#Get predict_class(y_pred) and predict_probality_for_case(y_prob) of TestSet\n",
    "y_pred = svm_best_model.predict(x_test)\n",
    "y_prob = svm_best_model.predict_proba(x_test)[:,1]\n",
    "\n",
    "#Get model performance\n",
    "model_perf = evaluate_performance(y_test,y_pred,y_prob)\n",
    "#Output result of evaluation\n",
    "eval_output(model_perf,path)\n",
    "#You can make bar plot consisted of accuracy,sensitivity,specificity,auroc,f1 score,MCC,precision,recall,auprc according to the \"Evaluate_Result_TestSet.txt\"\n",
    "# Plot AUROC\n",
    "plot_AUROC(model_perf,path)\n",
    "\n",
    "#save model\n",
    "joblib.dump(svm_best_model,os.path.join(path,\"best_SVM_model.pkl\"))\n",
    "#load model\n",
    "#svm_best_model = joblib.load(os.path.join(path,\"best_SVM_model.pkl\"))\n",
    "######################################"
   ]
  },
  {
   "cell_type": "markdown",
   "metadata": {},
   "source": [
    "- LightGBM"
   ]
  },
  {
   "cell_type": "code",
   "execution_count": 12,
   "metadata": {},
   "outputs": [
    {
     "name": "stdout",
     "output_type": "stream",
     "text": [
      "\n",
      "*** LightGBM ***\n",
      "CPU times: user 2min 6s, sys: 21.9 s, total: 2min 28s\n",
      "Wall time: 5h 7s\n"
     ]
    },
    {
     "data": {
      "text/plain": [
       "['01_ML_Model_Output/LightGBM/best_LightGBM_model.pkl']"
      ]
     },
     "execution_count": 12,
     "metadata": {},
     "output_type": "execute_result"
    },
    {
     "data": {
      "text/plain": [
       "<Figure size 432x288 with 0 Axes>"
      ]
     },
     "metadata": {},
     "output_type": "display_data"
    },
    {
     "data": {
      "image/png": "[encoded data removed]",
      "text/plain": [
       "<Figure size 720x720 with 1 Axes>"
      ]
     },
     "metadata": {
      "needs_background": "light"
     },
     "output_type": "display_data"
    }
   ],
   "source": [
    "%%time\n",
    "print(\"\\n*** LightGBM ***\")\n",
    "\n",
    "# LightGBM params\n",
    "lgb_param_dict = {\n",
    "    \"learning_rate\":[0.1, 0.05, 0.02, 0.01],\n",
    "    \"num_leaves\": range(10,36,5),\n",
    "    \"max_depth\" : [2,3,4,5,10,20,40,50],\n",
    "    \"min_child_samples\": range(1, 45, 2),\n",
    "    \"colsample_bytree\" : [i / 10 for i in range(2,11)],\n",
    "    \"metric\" : [\"binary_logloss\"],\n",
    "    \"n_jobs\":[1],\n",
    "    \"n_estimators\" : range(100,2500,100),\n",
    "    \"subsample\" :  [i / 10 for i in range(2, 11)],\n",
    "    \"subsample_freq\" : [0, 1, 2],\n",
    "    \"reg_alpha\" : [0, 0.001, 0.005, 0.01, 0.1],\n",
    "    \"reg_lambda\" : [0, 0.001, 0.005, 0.01, 0.1],\n",
    "    \"objective\":[\"binary\"],\n",
    "    \"random_state\":[SEED]\n",
    "}\n",
    "\n",
    "#Initiate model\n",
    "lgb_model = lgb.LGBMClassifier()\n",
    "#Adjust hyper-parameters with 5-fold cross validation\n",
    "lgb_rscv = RandomizedSearchCV(lgb_model, lgb_param_dict, n_iter=1000,cv = 5,verbose = 0,\n",
    "                          scoring = \"roc_auc\",random_state=SEED,n_jobs = 30)\n",
    "lgb_rscv.fit(x_train, y_train)   \n",
    "\n",
    "\n",
    "#Evaluate best LightGBM model\n",
    "#Output path\n",
    "path = os.path.join(output_dir,\"LightGBM\")\n",
    "if not (os.path.exists(path)):\n",
    "    os.mkdir(path)\n",
    "    \n",
    "# Model performance(AUROC) on cross-validation dataset\n",
    "lgb_cv_perf = np.array([ lgb_rscv.cv_results_[\"split%s_test_score\"%str(i)] for i in range(5)])[:,lgb_rscv.best_index_]\n",
    "\n",
    "#Get best model with score [max(mean(auc(5 cross validation)))]\n",
    "lgb_best_model = lgb_rscv.best_estimator_\n",
    "#Get predict_class(y_pred) and predict_probality_for_case(y_prob) of TestSet\n",
    "y_pred = lgb_best_model.predict(x_test)\n",
    "y_prob = lgb_best_model.predict_proba(x_test)[:,1]\n",
    "\n",
    "#Get model performance\n",
    "model_perf = evaluate_performance(y_test,y_pred,y_prob)\n",
    "#Output result of evaluation\n",
    "eval_output(model_perf,path)\n",
    "#You can make bar plot consisted of accuracy,sensitivity,specificity,auroc,f1 score,MCC,precision,recall,auprc according to the \"Evaluate_Result_TestSet.txt\"\n",
    "# Plot AUROC\n",
    "plot_AUROC(model_perf,path)\n",
    "\n",
    "#save model\n",
    "joblib.dump(lgb_best_model,os.path.join(path,\"best_LightGBM_model.pkl\"))\n",
    "#load model\n",
    "#lgb_best_model = joblib.load(os.path.join(path,\"best_LightGBM_model.pkl\"))"
   ]
  },
  {
   "cell_type": "markdown",
   "metadata": {},
   "source": [
    "- Logistic Regression"
   ]
  },
  {
   "cell_type": "code",
   "execution_count": 13,
   "metadata": {},
   "outputs": [
    {
     "name": "stdout",
     "output_type": "stream",
     "text": [
      "\n",
      "*** Logistic Regression  ***\n",
      "CPU times: user 976 ms, sys: 606 ms, total: 1.58 s\n",
      "Wall time: 11.3 s\n"
     ]
    },
    {
     "data": {
      "text/plain": [
       "['01_ML_Model_Output/LogisticRegression/best_LogisticRegression_model.pkl']"
      ]
     },
     "execution_count": 13,
     "metadata": {},
     "output_type": "execute_result"
    },
    {
     "data": {
      "text/plain": [
       "<Figure size 432x288 with 0 Axes>"
      ]
     },
     "metadata": {},
     "output_type": "display_data"
    },
    {
     "data": {
      "image/png": "[encoded data removed]",
      "text/plain": [
       "<Figure size 720x720 with 1 Axes>"
      ]
     },
     "metadata": {
      "needs_background": "light"
     },
     "output_type": "display_data"
    }
   ],
   "source": [
    "%%time\n",
    "#Construct Logistic Regression model\n",
    "print(\"\\n*** Logistic Regression  ***\")\n",
    "\n",
    "# Logistic Regression params\n",
    "lr_param_dict = {\n",
    "    \"penalty\":[\"l2\"],\n",
    "    \"C\":[1e-3, 5e-3, 1e-2, 0.05, 0.1, 0.5,1,5,10,50,100,500,1000],\n",
    "    \"solver\":[\"liblinear\"],\n",
    "    \"random_state\":[SEED]\n",
    "}\n",
    "\n",
    "#Initiate model\n",
    "lr_model = LogisticRegression()\n",
    "#Adjust hyper-parameters with 5-fold cross validation\n",
    "lr_rscv = RandomizedSearchCV(lr_model, lr_param_dict, n_iter=100,cv = 5,verbose = 0,\n",
    "                          scoring = \"roc_auc\",random_state=SEED,n_jobs = 30)\n",
    "lr_rscv.fit(x_train, y_train)  \n",
    "\n",
    "#Evaluate best Lasso model\n",
    "#Output path\n",
    "path = os.path.join(output_dir,\"LogisticRegression\")\n",
    "if not (os.path.exists(path)):\n",
    "    os.mkdir(path)\n",
    "    \n",
    "# Model performance(AUROC) on cross-validation dataset\n",
    "lr_cv_perf = np.array([ lr_rscv.cv_results_[\"split%s_test_score\"%str(i)] for i in range(5)])[:,lr_rscv.best_index_]\n",
    "\n",
    "#Get best model with score [max(mean(auc(5 cross validation)))]\n",
    "lr_best_model = lr_rscv.best_estimator_\n",
    "#Get predict_class(y_pred) and predict_probality_for_case(y_prob) of TestSet\n",
    "y_pred = lr_best_model.predict(x_test)\n",
    "y_prob = lr_best_model.predict_proba(x_test)[:,1]\n",
    "\n",
    "#Get model performance\n",
    "model_perf = evaluate_performance(y_test,y_pred,y_prob)\n",
    "#Output result of evaluation\n",
    "eval_output(model_perf,path)\n",
    "#You can make bar plot consisted of accuracy,sensitivity,specificity,auroc,f1 score,MCC,precision,recall,auprc according to the \"Evaluate_Result_TestSet.txt\"\n",
    "# Plot AUROC\n",
    "plot_AUROC(model_perf,path)\n",
    "\n",
    "#save model\n",
    "joblib.dump(lr_best_model,os.path.join(path,\"best_LogisticRegression_model.pkl\"))\n",
    "#load model\n",
    "#lgb_best_model = joblib.load(os.path.join(path,\"best_LogisticRegression_model.pkl\"))"
   ]
  },
  {
   "cell_type": "markdown",
   "metadata": {},
   "source": [
    "*** \n",
    "###   "
   ]
  },
  {
   "cell_type": "markdown",
   "metadata": {},
   "source": [
    "## 4. Output performance on cross-validation set"
   ]
  },
  {
   "cell_type": "code",
   "execution_count": 14,
   "metadata": {},
   "outputs": [],
   "source": [
    "ML_CV_result = pd.DataFrame({\"SVM\":SVM_cv_perf,\"lgb\":lgb_cv_perf,\"lr\":lr_cv_perf})\n",
    "ML_CV_result.to_csv(os.path.join(output_dir,\"ML_CV_result.tsv\"),sep = '\\t',index = False)"
   ]
  },
  {
   "cell_type": "markdown",
   "metadata": {},
   "source": [
    "*** \n",
    "###   "
   ]
  },
  {
   "cell_type": "markdown",
   "metadata": {},
   "source": [
    "## 5. Output Training set and Test set"
   ]
  },
  {
   "cell_type": "code",
   "execution_count": null,
   "metadata": {},
   "outputs": [],
   "source": [
    "####################### Output TrainingSet and TestSet #######################\n",
    "# load kmer file\n",
    "df_kmer_345_out = pd.read_csv(os.path.join(output_dir,\"df_kmer345_freq.tsv\"),sep='\\t',index_col= False)\n",
    "df_kmer_345_out.index = df_kmer_345_out[\"ensembl_transcript_id\"]\n",
    "# split into training and test sets (9:1)\n",
    "X = df_kmer_345_out.iloc[:,1:-2]\n",
    "y = df_kmer_345_out[\"tag\"]\n",
    "x_train_out, x_test_out, y_train_out, y_test_out = train_test_split(X, y, test_size = 0.1, random_state = SEED)\n",
    "# output\n",
    "TrainingSet_df = dataset[dataset[\"ensembl_transcript_id\"].isin(x_train_out.index)]\n",
    "TrainingSet_df.to_csv(\"../lncRNA_sublocation_TrainingSet.tsv\",sep ='\\t',index = False)\n",
    "TestSet_df = dataset[dataset[\"ensembl_transcript_id\"].isin(x_test_out.index)]\n",
    "TestSet_df.to_csv(\"../lncRNA_sublocation_TestSet.tsv\",sep ='\\t',index = False)"
   ]
  },
  {
   "cell_type": "code",
   "execution_count": null,
   "metadata": {},
   "outputs": [],
   "source": []
  }
 ],
 "metadata": {
  "kernelspec": {
   "display_name": "pytorch",
   "language": "python",
   "name": "pytorch"
  },
  "language_info": {
   "codemirror_mode": {
    "name": "ipython",
    "version": 3
   },
   "file_extension": ".py",
   "mimetype": "text/x-python",
   "name": "python",
   "nbconvert_exporter": "python",
   "pygments_lexer": "ipython3",
   "version": "3.6.10"
  },
  "toc-autonumbering": false,
  "toc-showcode": true,
  "toc-showmarkdowntxt": true
 },
 "nbformat": 4,
 "nbformat_minor": 4
}
