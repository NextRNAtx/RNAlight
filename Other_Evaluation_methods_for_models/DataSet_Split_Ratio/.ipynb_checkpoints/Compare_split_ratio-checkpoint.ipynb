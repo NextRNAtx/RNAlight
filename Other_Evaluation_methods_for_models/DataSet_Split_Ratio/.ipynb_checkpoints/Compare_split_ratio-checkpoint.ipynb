{
 "cells": [
  {
   "cell_type": "code",
   "execution_count": 73,
   "id": "buried-championship",
   "metadata": {},
   "outputs": [],
   "source": [
    "library(ggplot2)\n",
    "library(reshape2)"
   ]
  },
  {
   "cell_type": "code",
   "execution_count": 74,
   "id": "apparent-vietnam",
   "metadata": {},
   "outputs": [],
   "source": [
    "# Get auroc on CV with the maximum mean in the model\n",
    "get_auroc <- function(cv,col_name){\n",
    "    auroc_on_CV_str <- cv[which.max(cv$mean_auroc_on_CV),\"auroc_on_CV\"]\n",
    "    auroc_on_CV_str <- gsub('\\\\]|\\\\[',\"\",auroc_on_CV_str)\n",
    "    auroc_on_CV_df <- data.frame(as.double(unlist(strsplit(auroc_on_CV_str,\",\"))))\n",
    "    colnames(auroc_on_CV_df) <- col_name\n",
    "    return(auroc_on_CV_df)\n",
    "}"
   ]
  },
  {
   "cell_type": "markdown",
   "id": "polar-specification",
   "metadata": {},
   "source": [
    "# lncRNA"
   ]
  },
  {
   "cell_type": "code",
   "execution_count": 75,
   "id": "progressive-april",
   "metadata": {},
   "outputs": [],
   "source": [
    "# Original split ratio of parameter \n",
    "ori_split_ratio_ML_CV <- read.csv(\"/data/rnomics8/yuanguohua/RNAlight_Private/lncRNA/03_Model_Construction/01_Machine_Learning_Model/01_ML_Model_Output/ML_CV_result.tsv\",sep = '\\t')\n",
    "ori_split_ratio_CNN_CV <- read.csv(\"/data/rnomics8/yuanguohua/RNAlight_Private/lncRNA/03_Model_Construction/02_Deep_Learning_Model/01_DL_Model_Output/CNN_4000nt_Model_Output/CNN_CV_result.tsv\",sep='\\t')\n",
    "ori_split_ratio_CNN_RNN_CV <- read.csv(\"/data/rnomics8/yuanguohua/RNAlight_Private/lncRNA/03_Model_Construction/02_Deep_Learning_Model/01_DL_Model_Output/CNN_RNN_4000nt_Model_Output/CNN_RNN_CV_result.tsv\",sep='\\t')\n",
    "ori_split_ratio_RNN_CV <- read.csv(\"/data/rnomics8/yuanguohua/RNAlight_Private/lncRNA/03_Model_Construction/02_Deep_Learning_Model/01_DL_Model_Output/RNN_4000nt_Model_Output/RNN_CV_result.tsv\",sep='\\t')\n",
    "\n",
    "ori_split_ratio_CNN <- get_auroc(ori_split_ratio_CNN_CV,\"CNN\")\n",
    "ori_split_ratio_CNN_RNN <- get_auroc(ori_split_ratio_CNN_RNN_CV,\"CNN_RNN\")\n",
    "ori_split_ratio_RNN <- get_auroc(ori_split_ratio_RNN_CV,\"RNN\")\n",
    "\n",
    "# Combination\n",
    "ori_split_ratio_CV_result <- cbind(ori_split_ratio_ML_CV,ori_split_ratio_CNN,ori_split_ratio_CNN_RNN,ori_split_ratio_RNN)\n",
    "ori_split_ratio_CV_result_long <-melt(ori_split_ratio_CV_result,measure.vars=colnames(ori_split_ratio_CV_result),variable.name=\"model\",value.name=\"auroc\")\n",
    "ori_split_ratio_CV_result_long$split_ratio <- \"9_to_1\""
   ]
  },
  {
   "cell_type": "code",
   "execution_count": 76,
   "id": "intended-switzerland",
   "metadata": {},
   "outputs": [],
   "source": [
    "# Expand split_ratio of parameter \n",
    "exp_split_ratio_ML_CV <- read.csv(\"./lncRNA/01_Machine_Learning_Model/01_ML_Model_Output/ML_CV_result.tsv\",sep = '\\t')\n",
    "exp_split_ratio_CNN_CV <- read.csv(\"./lncRNA/02_Deep_Learning_Model/01_DL_Model_Output/CNN_4000nt_Model_Output/CNN_CV_result.tsv\",sep='\\t')\n",
    "exp_split_ratio_CNN_RNN_CV <- read.csv(\"./lncRNA/02_Deep_Learning_Model/01_DL_Model_Output/CNN_RNN_4000nt_Model_Output/CNN_RNN_CV_result.tsv\",sep='\\t')\n",
    "exp_split_ratio_RNN_CV <- read.csv(\"./lncRNA/02_Deep_Learning_Model/01_DL_Model_Output/RNN_4000nt_Model_Output/RNN_CV_result.tsv\",sep='\\t')\n",
    "\n",
    "exp_split_ratio_CNN <- get_auroc(exp_split_ratio_CNN_CV,\"CNN\")\n",
    "exp_split_ratio_CNN_RNN <- get_auroc(exp_split_ratio_CNN_RNN_CV,\"CNN_RNN\")\n",
    "exp_split_ratio_RNN <- get_auroc(exp_split_ratio_RNN_CV,\"RNN\")\n",
    "\n",
    "# Combination\n",
    "exp_split_ratio_CV_result <- cbind(exp_split_ratio_ML_CV,exp_split_ratio_CNN,exp_split_ratio_CNN_RNN,exp_split_ratio_RNN)\n",
    "exp_split_ratio_CV_result_long <-melt(exp_split_ratio_CV_result,measure.vars=colnames(exp_split_ratio_CV_result),variable.name=\"model\",value.name=\"auroc\")\n",
    "exp_split_ratio_CV_result_long$split_ratio <- \"8_to_2\""
   ]
  },
  {
   "cell_type": "code",
   "execution_count": 77,
   "id": "boxed-ready",
   "metadata": {},
   "outputs": [],
   "source": [
    "total_split_ratio_CV_df <- rbind(ori_split_ratio_CV_result_long, exp_split_ratio_CV_result_long)\n",
    "total_split_ratio_CV_df$model <- factor(total_split_ratio_CV_df$model,levels = c(\"lgb\",\"SVM\",\"lr\",\"CNN\",\"CNN_RNN\",\"RNN\"))\n",
    "total_split_ratio_CV_df$split_ratio <- factor(total_split_ratio_CV_df$split_ratio,levels = c(\"9_to_1\",\"8_to_2\"))"
   ]
  },
  {
   "cell_type": "code",
   "execution_count": 78,
   "id": "smart-excess",
   "metadata": {},
   "outputs": [
    {
     "data": {
      "text/html": [
       "<table>\n",
       "<caption>A data.frame: 6 × 3</caption>\n",
       "<thead>\n",
       "\t<tr><th></th><th scope=col>model</th><th scope=col>auroc</th><th scope=col>split_ratio</th></tr>\n",
       "\t<tr><th></th><th scope=col>&lt;fct&gt;</th><th scope=col>&lt;dbl&gt;</th><th scope=col>&lt;fct&gt;</th></tr>\n",
       "</thead>\n",
       "<tbody>\n",
       "\t<tr><th scope=row>1</th><td>SVM</td><td>0.7464461</td><td>9_to_1</td></tr>\n",
       "\t<tr><th scope=row>2</th><td>SVM</td><td>0.7152471</td><td>9_to_1</td></tr>\n",
       "\t<tr><th scope=row>3</th><td>SVM</td><td>0.7346196</td><td>9_to_1</td></tr>\n",
       "\t<tr><th scope=row>4</th><td>SVM</td><td>0.7238258</td><td>9_to_1</td></tr>\n",
       "\t<tr><th scope=row>5</th><td>SVM</td><td>0.7307832</td><td>9_to_1</td></tr>\n",
       "\t<tr><th scope=row>6</th><td>lgb</td><td>0.7472712</td><td>9_to_1</td></tr>\n",
       "</tbody>\n",
       "</table>\n"
      ],
      "text/latex": [
       "A data.frame: 6 × 3\n",
       "\\begin{tabular}{r|lll}\n",
       "  & model & auroc & split\\_ratio\\\\\n",
       "  & <fct> & <dbl> & <fct>\\\\\n",
       "\\hline\n",
       "\t1 & SVM & 0.7464461 & 9\\_to\\_1\\\\\n",
       "\t2 & SVM & 0.7152471 & 9\\_to\\_1\\\\\n",
       "\t3 & SVM & 0.7346196 & 9\\_to\\_1\\\\\n",
       "\t4 & SVM & 0.7238258 & 9\\_to\\_1\\\\\n",
       "\t5 & SVM & 0.7307832 & 9\\_to\\_1\\\\\n",
       "\t6 & lgb & 0.7472712 & 9\\_to\\_1\\\\\n",
       "\\end{tabular}\n"
      ],
      "text/markdown": [
       "\n",
       "A data.frame: 6 × 3\n",
       "\n",
       "| <!--/--> | model &lt;fct&gt; | auroc &lt;dbl&gt; | split_ratio &lt;fct&gt; |\n",
       "|---|---|---|---|\n",
       "| 1 | SVM | 0.7464461 | 9_to_1 |\n",
       "| 2 | SVM | 0.7152471 | 9_to_1 |\n",
       "| 3 | SVM | 0.7346196 | 9_to_1 |\n",
       "| 4 | SVM | 0.7238258 | 9_to_1 |\n",
       "| 5 | SVM | 0.7307832 | 9_to_1 |\n",
       "| 6 | lgb | 0.7472712 | 9_to_1 |\n",
       "\n"
      ],
      "text/plain": [
       "  model auroc     split_ratio\n",
       "1 SVM   0.7464461 9_to_1     \n",
       "2 SVM   0.7152471 9_to_1     \n",
       "3 SVM   0.7346196 9_to_1     \n",
       "4 SVM   0.7238258 9_to_1     \n",
       "5 SVM   0.7307832 9_to_1     \n",
       "6 lgb   0.7472712 9_to_1     "
      ]
     },
     "metadata": {},
     "output_type": "display_data"
    }
   ],
   "source": [
    "head(total_split_ratio_CV_df )"
   ]
  },
  {
   "cell_type": "code",
   "execution_count": 79,
   "id": "victorian-command",
   "metadata": {},
   "outputs": [
    {
     "data": {
      "image/png": "[encoded data removed]",
      "text/plain": [
       "plot without title"
      ]
     },
     "metadata": {
      "image/png": {
       "height": 420,
       "width": 420
      }
     },
     "output_type": "display_data"
    }
   ],
   "source": [
    "# plot\n",
    "p_box <- ggplot(data=total_split_ratio_CV_df ,aes(x=model,y=auroc,fill = split_ratio))+\n",
    "geom_boxplot(width = 0.6,outlier.color=\"white\")+\n",
    "scale_fill_manual(values =  c(\"#AA4465\",\"#FFA69E\"))+\n",
    "ylim(0.5,0.8)+theme_classic()+\n",
    "theme(axis.text = element_text(size=14),\n",
    "      axis.title = element_text(size=14),\n",
    "      element_line(size = 1.2))\n",
    "ggsave(\"./lncRNA_CV_comparison_split_ratio_with_text.pdf\", p_box, width = 10, height = 10) \n",
    "\n",
    "p_box "
   ]
  },
  {
   "cell_type": "code",
   "execution_count": 80,
   "id": "matched-dynamics",
   "metadata": {},
   "outputs": [
    {
     "data": {
      "image/png": "[encoded data removed]",
      "text/plain": [
       "plot without title"
      ]
     },
     "metadata": {
      "image/png": {
       "height": 420,
       "width": 420
      }
     },
     "output_type": "display_data"
    }
   ],
   "source": [
    "p_box2 <- p_box + theme(axis.text = element_blank(),axis.title = element_blank(),axis.ticks = element_blank(),legend.position = \"None\")\n",
    "ggsave(\"./lncRNA_CV_comparison_split_ratio.pdf\", p_box2, width = 10, height = 10) \n",
    "\n",
    "p_box2"
   ]
  },
  {
   "cell_type": "code",
   "execution_count": 81,
   "id": "informed-admission",
   "metadata": {},
   "outputs": [
    {
     "data": {
      "text/plain": [
       "\n",
       "\tWelch Two Sample t-test\n",
       "\n",
       "data:  exp_split_ratio_CV_result$lgb and ori_split_ratio_CV_result$lgb\n",
       "t = -0.22328, df = 6.7242, p-value = 0.83\n",
       "alternative hypothesis: true difference in means is not equal to 0\n",
       "95 percent confidence interval:\n",
       " -0.02437865  0.02020397\n",
       "sample estimates:\n",
       "mean of x mean of y \n",
       "0.7445786 0.7466660 \n"
      ]
     },
     "metadata": {},
     "output_type": "display_data"
    }
   ],
   "source": [
    "t.test(exp_split_ratio_CV_result$lgb, ori_split_ratio_CV_result$lgb)"
   ]
  },
  {
   "cell_type": "code",
   "execution_count": 82,
   "id": "catholic-diesel",
   "metadata": {},
   "outputs": [
    {
     "data": {
      "text/plain": [
       "\n",
       "\tWelch Two Sample t-test\n",
       "\n",
       "data:  exp_split_ratio_CV_result$SVM and ori_split_ratio_CV_result$SVM\n",
       "t = -0.54906, df = 6.0549, p-value = 0.6026\n",
       "alternative hypothesis: true difference in means is not equal to 0\n",
       "95 percent confidence interval:\n",
       " -0.03363662  0.02128566\n",
       "sample estimates:\n",
       "mean of x mean of y \n",
       "0.7240089 0.7301843 \n"
      ]
     },
     "metadata": {},
     "output_type": "display_data"
    }
   ],
   "source": [
    "t.test(exp_split_ratio_CV_result$SVM, ori_split_ratio_CV_result$SVM)"
   ]
  },
  {
   "cell_type": "code",
   "execution_count": 83,
   "id": "later-roommate",
   "metadata": {},
   "outputs": [
    {
     "data": {
      "text/plain": [
       "\n",
       "\tWelch Two Sample t-test\n",
       "\n",
       "data:  exp_split_ratio_CV_result$lr and ori_split_ratio_CV_result$lr\n",
       "t = -0.70029, df = 7.1184, p-value = 0.506\n",
       "alternative hypothesis: true difference in means is not equal to 0\n",
       "95 percent confidence interval:\n",
       " -0.03094922  0.01676952\n",
       "sample estimates:\n",
       "mean of x mean of y \n",
       "0.7228618 0.7299517 \n"
      ]
     },
     "metadata": {},
     "output_type": "display_data"
    }
   ],
   "source": [
    "t.test(exp_split_ratio_CV_result$lr, ori_split_ratio_CV_result$lr)"
   ]
  },
  {
   "cell_type": "code",
   "execution_count": 84,
   "id": "drawn-latin",
   "metadata": {},
   "outputs": [
    {
     "data": {
      "text/plain": [
       "\n",
       "\tWelch Two Sample t-test\n",
       "\n",
       "data:  exp_split_ratio_CV_result$CNN and ori_split_ratio_CV_result$CNN\n",
       "t = 0.54189, df = 7.6058, p-value = 0.6034\n",
       "alternative hypothesis: true difference in means is not equal to 0\n",
       "95 percent confidence interval:\n",
       " -0.007051111  0.011332011\n",
       "sample estimates:\n",
       "mean of x mean of y \n",
       "0.6419403 0.6397998 \n"
      ]
     },
     "metadata": {},
     "output_type": "display_data"
    }
   ],
   "source": [
    "t.test(exp_split_ratio_CV_result$CNN, ori_split_ratio_CV_result$CNN)"
   ]
  },
  {
   "cell_type": "code",
   "execution_count": 85,
   "id": "sharp-spank",
   "metadata": {},
   "outputs": [
    {
     "data": {
      "text/plain": [
       "\n",
       "\tWelch Two Sample t-test\n",
       "\n",
       "data:  exp_split_ratio_CV_result$CNN_RNN and ori_split_ratio_CV_result$CNN_RNN\n",
       "t = -0.16293, df = 6.698, p-value = 0.8754\n",
       "alternative hypothesis: true difference in means is not equal to 0\n",
       "95 percent confidence interval:\n",
       " -0.03147142  0.02744874\n",
       "sample estimates:\n",
       "mean of x mean of y \n",
       "0.6336889 0.6357003 \n"
      ]
     },
     "metadata": {},
     "output_type": "display_data"
    }
   ],
   "source": [
    "t.test(exp_split_ratio_CV_result$CNN_RNN, ori_split_ratio_CV_result$CNN_RNN)"
   ]
  },
  {
   "cell_type": "code",
   "execution_count": 86,
   "id": "structured-petite",
   "metadata": {},
   "outputs": [
    {
     "data": {
      "text/plain": [
       "\n",
       "\tWelch Two Sample t-test\n",
       "\n",
       "data:  exp_split_ratio_CV_result$RNN and ori_split_ratio_CV_result$RNN\n",
       "t = -0.17631, df = 7.556, p-value = 0.8647\n",
       "alternative hypothesis: true difference in means is not equal to 0\n",
       "95 percent confidence interval:\n",
       " -0.01763657  0.01515501\n",
       "sample estimates:\n",
       "mean of x mean of y \n",
       "0.6195116 0.6207524 \n"
      ]
     },
     "metadata": {},
     "output_type": "display_data"
    }
   ],
   "source": [
    "t.test(exp_split_ratio_CV_result$RNN, ori_split_ratio_CV_result$RNN)"
   ]
  },
  {
   "cell_type": "code",
   "execution_count": 87,
   "id": "offshore-education",
   "metadata": {},
   "outputs": [],
   "source": [
    "# lgb, svm, lr, CNN, CNN_RNN\n",
    "ori_test_result <- data.frame(auc = c(0.7833019077196096,0.7545474711623781,0.7561279946761312,0.718029059449867,0.7091559449866904,0.630129769299024))\n",
    "ori_test_result$model <- c(\"lgb\",\"SVM\",\"lr\",\"CNN\",\"CNN_RNN\",\"RNN\")\n",
    "ori_test_result$split_ratio <- \"9_to_1\"\n",
    "\n",
    "exp_test_result <- data.frame(auc = c(0.7786885245901638,0.7628651677581724,0.7633865876889278,0.7122248640832047,0.6849650301033108,0.651120230700976))\n",
    "exp_test_result$model <- c(\"lgb\",\"SVM\",\"lr\",\"CNN\",\"CNN_RNN\",\"RNN\")\n",
    "exp_test_result$split_ratio <- \"8_to_2\""
   ]
  },
  {
   "cell_type": "code",
   "execution_count": 88,
   "id": "smaller-price",
   "metadata": {},
   "outputs": [],
   "source": [
    "total_split_ratio_test_df <-rbind(ori_test_result,exp_test_result)\n",
    "total_split_ratio_test_df$model <- factor(total_split_ratio_test_df$model,levels = c(\"lgb\",\"SVM\",\"lr\",\"CNN\",\"CNN_RNN\",\"RNN\"))\n",
    "total_split_ratio_test_df$split_ratio <- factor(total_split_ratio_test_df$split_ratio,levels = c(\"9_to_1\",\"8_to_2\"))"
   ]
  },
  {
   "cell_type": "code",
   "execution_count": 89,
   "id": "divided-hawaiian",
   "metadata": {},
   "outputs": [
    {
     "data": {
      "image/png": "[encoded data removed]",
      "text/plain": [
       "plot without title"
      ]
     },
     "metadata": {
      "image/png": {
       "height": 420,
       "width": 420
      }
     },
     "output_type": "display_data"
    }
   ],
   "source": [
    "p_auc_RNALight_bar <- ggplot(total_split_ratio_test_df  ,aes(x=model,y=auc,fill = split_ratio))+\n",
    "geom_bar(stat=\"identity\",position=position_dodge(0.7),width=0.6)+\n",
    "ylim(0,1) +\n",
    "theme_classic()+\n",
    "scale_fill_manual(values=c(\"#AA4465\",\"#FFA69E\"))+\n",
    "theme(axis.text = element_text(size=14),\n",
    "      axis.title = element_text(size=14),\n",
    "element_line(size = 1.2))\n",
    "ggsave(\"./lncRNA_test_comparison_split_ratio_with_text.pdf\",p_auc_RNALight_bar, width = 10, height = 10) \n",
    "p_auc_RNALight_bar"
   ]
  },
  {
   "cell_type": "code",
   "execution_count": 90,
   "id": "educated-worry",
   "metadata": {},
   "outputs": [
    {
     "data": {
      "image/png": "[encoded data removed]",
      "text/plain": [
       "plot without title"
      ]
     },
     "metadata": {
      "image/png": {
       "height": 420,
       "width": 420
      }
     },
     "output_type": "display_data"
    }
   ],
   "source": [
    "p_auc_RNALight_bar2 <-p_auc_RNALight_bar  + theme(axis.text = element_blank(),axis.title = element_blank(),axis.ticks = element_blank(),legend.position = \"None\")\n",
    "ggsave(\"./lncRNA_test_comparison_split_ratio.pdf\",p_auc_RNALight_bar2 , width = 10, height = 10)\n",
    "p_auc_RNALight_bar2 "
   ]
  },
  {
   "cell_type": "code",
   "execution_count": null,
   "id": "scientific-championship",
   "metadata": {},
   "outputs": [],
   "source": []
  },
  {
   "cell_type": "markdown",
   "id": "competent-luxury",
   "metadata": {},
   "source": [
    "# mRNA"
   ]
  },
  {
   "cell_type": "code",
   "execution_count": 91,
   "id": "starting-public",
   "metadata": {},
   "outputs": [],
   "source": [
    "# Original split_ratio of parameter \n",
    "ori_split_ratio_ML_CV <- read.csv(\"/data/rnomics8/yuanguohua/RNAlight_Private/mRNA/03_Model_Construction/01_Machine_Learning_Model/01_ML_Model_Output/ML_CV_result.tsv\",sep = '\\t')\n",
    "ori_split_ratio_CNN_CV <- read.csv(\"/data/rnomics8/yuanguohua/RNAlight_Private/mRNA/03_Model_Construction/02_Deep_Learning_Model/01_DL_Model_Output/CNN_9000nt_Model_Output/CNN_CV_result.tsv\",sep='\\t')\n",
    "ori_split_ratio_CNN_RNN_CV <- read.csv(\"/data/rnomics8/yuanguohua/RNAlight_Private/mRNA/03_Model_Construction/02_Deep_Learning_Model/01_DL_Model_Output/CNN_RNN_9000nt_Model_Output/CNN_RNN_CV_result.tsv\",sep='\\t')\n",
    "ori_split_ratio_RNN_CV <- read.csv(\"/data/rnomics8/yuanguohua/RNAlight_Private/mRNA/03_Model_Construction/02_Deep_Learning_Model/01_DL_Model_Output/RNN_9000nt_Model_Output/RNN_CV_result.tsv\",sep='\\t')\n",
    "\n",
    "ori_split_ratio_CNN <- get_auroc(ori_split_ratio_CNN_CV,\"CNN\")\n",
    "ori_split_ratio_CNN_RNN <- get_auroc(ori_split_ratio_CNN_RNN_CV,\"CNN_RNN\")\n",
    "ori_split_ratio_RNN <- get_auroc(ori_split_ratio_RNN_CV,\"RNN\")\n",
    "\n",
    "# Combination\n",
    "ori_split_ratio_CV_result <- cbind(ori_split_ratio_ML_CV,ori_split_ratio_CNN,ori_split_ratio_CNN_RNN,ori_split_ratio_RNN)\n",
    "ori_split_ratio_CV_result_long <-melt(ori_split_ratio_CV_result,measure.vars=colnames(ori_split_ratio_CV_result),variable.name=\"model\",value.name=\"auroc\")\n",
    "ori_split_ratio_CV_result_long$split_ratio <- \"9_to_1\""
   ]
  },
  {
   "cell_type": "code",
   "execution_count": 92,
   "id": "extraordinary-norwegian",
   "metadata": {},
   "outputs": [],
   "source": [
    "# Expand split_ratio of parameter \n",
    "exp_split_ratio_ML_CV <- read.csv(\"./mRNA/01_Machine_Learning_Model/01_ML_Model_Output/ML_CV_result.tsv\",sep = '\\t')\n",
    "exp_split_ratio_CNN_CV <- read.csv(\"./mRNA/02_Deep_Learning_Model/01_DL_Model_Output/CNN_9000nt_Model_Output/CNN_CV_result.tsv\",sep='\\t')\n",
    "exp_split_ratio_CNN_RNN_CV <- read.csv(\"./mRNA/02_Deep_Learning_Model/01_DL_Model_Output/CNN_RNN_9000nt_Model_Output/CNN_RNN_CV_result.tsv\",sep='\\t')\n",
    "exp_split_ratio_RNN_CV <- read.csv(\"./mRNA/02_Deep_Learning_Model/01_DL_Model_Output/RNN_9000nt_Model_Output/RNN_CV_result.tsv\",sep='\\t')\n",
    "\n",
    "exp_split_ratio_CNN <- get_auroc(exp_split_ratio_CNN_CV,\"CNN\")\n",
    "exp_split_ratio_CNN_RNN <- get_auroc(exp_split_ratio_CNN_RNN_CV,\"CNN_RNN\")\n",
    "exp_split_ratio_RNN <- get_auroc(exp_split_ratio_RNN_CV,\"RNN\")\n",
    "\n",
    "\n",
    "# Combination\n",
    "exp_split_ratio_CV_result <- cbind(exp_split_ratio_ML_CV,exp_split_ratio_CNN,exp_split_ratio_CNN_RNN,exp_split_ratio_RNN)\n",
    "exp_split_ratio_CV_result_long <-melt(exp_split_ratio_CV_result,measure.vars=colnames(exp_split_ratio_CV_result),variable.name=\"model\",value.name=\"auroc\")\n",
    "exp_split_ratio_CV_result_long$split_ratio <- \"8_to_2\""
   ]
  },
  {
   "cell_type": "code",
   "execution_count": 93,
   "id": "other-salmon",
   "metadata": {},
   "outputs": [],
   "source": [
    "total_split_ratio_CV_df <- rbind(ori_split_ratio_CV_result_long, exp_split_ratio_CV_result_long)\n",
    "total_split_ratio_CV_df$model <- factor(total_split_ratio_CV_df$model,levels = c(\"lgb\",\"SVM\",\"lr\",\"CNN\",\"CNN_RNN\",\"RNN\"))\n",
    "total_split_ratio_CV_df$split_ratio <- factor(total_split_ratio_CV_df$split_ratio,levels = c(\"9_to_1\",\"8_to_2\"))"
   ]
  },
  {
   "cell_type": "code",
   "execution_count": 94,
   "id": "better-paintball",
   "metadata": {},
   "outputs": [
    {
     "data": {
      "text/html": [
       "<table>\n",
       "<caption>A data.frame: 6 × 3</caption>\n",
       "<thead>\n",
       "\t<tr><th></th><th scope=col>model</th><th scope=col>auroc</th><th scope=col>split_ratio</th></tr>\n",
       "\t<tr><th></th><th scope=col>&lt;fct&gt;</th><th scope=col>&lt;dbl&gt;</th><th scope=col>&lt;fct&gt;</th></tr>\n",
       "</thead>\n",
       "<tbody>\n",
       "\t<tr><th scope=row>1</th><td>SVM</td><td>0.6947355</td><td>9_to_1</td></tr>\n",
       "\t<tr><th scope=row>2</th><td>SVM</td><td>0.6663987</td><td>9_to_1</td></tr>\n",
       "\t<tr><th scope=row>3</th><td>SVM</td><td>0.6349959</td><td>9_to_1</td></tr>\n",
       "\t<tr><th scope=row>4</th><td>SVM</td><td>0.6721344</td><td>9_to_1</td></tr>\n",
       "\t<tr><th scope=row>5</th><td>SVM</td><td>0.6694973</td><td>9_to_1</td></tr>\n",
       "\t<tr><th scope=row>6</th><td>lgb</td><td>0.7573167</td><td>9_to_1</td></tr>\n",
       "</tbody>\n",
       "</table>\n"
      ],
      "text/latex": [
       "A data.frame: 6 × 3\n",
       "\\begin{tabular}{r|lll}\n",
       "  & model & auroc & split\\_ratio\\\\\n",
       "  & <fct> & <dbl> & <fct>\\\\\n",
       "\\hline\n",
       "\t1 & SVM & 0.6947355 & 9\\_to\\_1\\\\\n",
       "\t2 & SVM & 0.6663987 & 9\\_to\\_1\\\\\n",
       "\t3 & SVM & 0.6349959 & 9\\_to\\_1\\\\\n",
       "\t4 & SVM & 0.6721344 & 9\\_to\\_1\\\\\n",
       "\t5 & SVM & 0.6694973 & 9\\_to\\_1\\\\\n",
       "\t6 & lgb & 0.7573167 & 9\\_to\\_1\\\\\n",
       "\\end{tabular}\n"
      ],
      "text/markdown": [
       "\n",
       "A data.frame: 6 × 3\n",
       "\n",
       "| <!--/--> | model &lt;fct&gt; | auroc &lt;dbl&gt; | split_ratio &lt;fct&gt; |\n",
       "|---|---|---|---|\n",
       "| 1 | SVM | 0.6947355 | 9_to_1 |\n",
       "| 2 | SVM | 0.6663987 | 9_to_1 |\n",
       "| 3 | SVM | 0.6349959 | 9_to_1 |\n",
       "| 4 | SVM | 0.6721344 | 9_to_1 |\n",
       "| 5 | SVM | 0.6694973 | 9_to_1 |\n",
       "| 6 | lgb | 0.7573167 | 9_to_1 |\n",
       "\n"
      ],
      "text/plain": [
       "  model auroc     split_ratio\n",
       "1 SVM   0.6947355 9_to_1     \n",
       "2 SVM   0.6663987 9_to_1     \n",
       "3 SVM   0.6349959 9_to_1     \n",
       "4 SVM   0.6721344 9_to_1     \n",
       "5 SVM   0.6694973 9_to_1     \n",
       "6 lgb   0.7573167 9_to_1     "
      ]
     },
     "metadata": {},
     "output_type": "display_data"
    }
   ],
   "source": [
    "head(total_split_ratio_CV_df )"
   ]
  },
  {
   "cell_type": "code",
   "execution_count": 95,
   "id": "lesbian-tokyo",
   "metadata": {},
   "outputs": [
    {
     "data": {
      "image/png": "[encoded data removed]",
      "text/plain": [
       "plot without title"
      ]
     },
     "metadata": {
      "image/png": {
       "height": 420,
       "width": 420
      }
     },
     "output_type": "display_data"
    }
   ],
   "source": [
    "# plot\n",
    "p_box <- ggplot(data=total_split_ratio_CV_df ,aes(x=model,y=auroc,fill = split_ratio))+\n",
    "geom_boxplot(width = 0.6,outlier.color=\"white\")+\n",
    "scale_fill_manual(values =  c(\"#AA4465\",\"#FFA69E\"))+\n",
    "ylim(0.5,0.8)+theme_classic()+\n",
    "theme(axis.text = element_text(size=14),\n",
    "      axis.title = element_text(size=14),\n",
    "      element_line(size = 1.2))\n",
    "ggsave(\"./mRNA_CV_comparison_split_ratio_with_text.pdf\", p_box, width = 10, height = 10) \n",
    "\n",
    "p_box "
   ]
  },
  {
   "cell_type": "code",
   "execution_count": 96,
   "id": "particular-novel",
   "metadata": {},
   "outputs": [
    {
     "data": {
      "image/png": "[encoded data removed]",
      "text/plain": [
       "plot without title"
      ]
     },
     "metadata": {
      "image/png": {
       "height": 420,
       "width": 420
      }
     },
     "output_type": "display_data"
    }
   ],
   "source": [
    "p_box2 <- p_box + theme(axis.text = element_blank(),axis.title = element_blank(),axis.ticks = element_blank(),legend.position = \"None\")\n",
    "ggsave(\"./mRNA_CV_comparison_split_ratio.pdf\", p_box2, width = 10, height = 10) \n",
    "\n",
    "p_box2"
   ]
  },
  {
   "cell_type": "code",
   "execution_count": 97,
   "id": "alive-equilibrium",
   "metadata": {},
   "outputs": [
    {
     "data": {
      "text/plain": [
       "\n",
       "\tWelch Two Sample t-test\n",
       "\n",
       "data:  exp_split_ratio_CV_result$lgb and ori_split_ratio_CV_result$lgb\n",
       "t = 0.43321, df = 6.8713, p-value = 0.6781\n",
       "alternative hypothesis: true difference in means is not equal to 0\n",
       "95 percent confidence interval:\n",
       " -0.008818419  0.012755883\n",
       "sample estimates:\n",
       "mean of x mean of y \n",
       "0.7587543 0.7567856 \n"
      ]
     },
     "metadata": {},
     "output_type": "display_data"
    }
   ],
   "source": [
    "t.test(exp_split_ratio_CV_result$lgb, ori_split_ratio_CV_result$lgb)"
   ]
  },
  {
   "cell_type": "code",
   "execution_count": 98,
   "id": "advance-rogers",
   "metadata": {},
   "outputs": [
    {
     "data": {
      "text/plain": [
       "\n",
       "\tWelch Two Sample t-test\n",
       "\n",
       "data:  exp_split_ratio_CV_result$SVM and ori_split_ratio_CV_result$SVM\n",
       "t = -0.31175, df = 7.7459, p-value = 0.7635\n",
       "alternative hypothesis: true difference in means is not equal to 0\n",
       "95 percent confidence interval:\n",
       " -0.03270366  0.02495352\n",
       "sample estimates:\n",
       "mean of x mean of y \n",
       "0.6636773 0.6675524 \n"
      ]
     },
     "metadata": {},
     "output_type": "display_data"
    }
   ],
   "source": [
    "t.test(exp_split_ratio_CV_result$SVM, ori_split_ratio_CV_result$SVM)"
   ]
  },
  {
   "cell_type": "code",
   "execution_count": 99,
   "id": "single-chorus",
   "metadata": {},
   "outputs": [
    {
     "data": {
      "text/plain": [
       "\n",
       "\tWelch Two Sample t-test\n",
       "\n",
       "data:  exp_split_ratio_CV_result$lr and ori_split_ratio_CV_result$lr\n",
       "t = -0.34222, df = 7.9997, p-value = 0.741\n",
       "alternative hypothesis: true difference in means is not equal to 0\n",
       "95 percent confidence interval:\n",
       " -0.03033685  0.02249635\n",
       "sample estimates:\n",
       "mean of x mean of y \n",
       "0.6726491 0.6765694 \n"
      ]
     },
     "metadata": {},
     "output_type": "display_data"
    }
   ],
   "source": [
    "t.test(exp_split_ratio_CV_result$lr, ori_split_ratio_CV_result$lr)"
   ]
  },
  {
   "cell_type": "code",
   "execution_count": 100,
   "id": "adverse-starter",
   "metadata": {},
   "outputs": [
    {
     "data": {
      "text/plain": [
       "\n",
       "\tWelch Two Sample t-test\n",
       "\n",
       "data:  exp_split_ratio_CV_result$CNN and ori_split_ratio_CV_result$CNN\n",
       "t = -0.45594, df = 7.8832, p-value = 0.6607\n",
       "alternative hypothesis: true difference in means is not equal to 0\n",
       "95 percent confidence interval:\n",
       " -0.02100107  0.01408226\n",
       "sample estimates:\n",
       "mean of x mean of y \n",
       "0.6696407 0.6731001 \n"
      ]
     },
     "metadata": {},
     "output_type": "display_data"
    }
   ],
   "source": [
    "t.test(exp_split_ratio_CV_result$CNN, ori_split_ratio_CV_result$CNN)"
   ]
  },
  {
   "cell_type": "code",
   "execution_count": 101,
   "id": "removed-ivory",
   "metadata": {},
   "outputs": [
    {
     "data": {
      "text/plain": [
       "\n",
       "\tWelch Two Sample t-test\n",
       "\n",
       "data:  exp_split_ratio_CV_result$CNN_RNN and ori_split_ratio_CV_result$CNN_RNN\n",
       "t = 0.30426, df = 7.9429, p-value = 0.7687\n",
       "alternative hypothesis: true difference in means is not equal to 0\n",
       "95 percent confidence interval:\n",
       " -0.02807089  0.03659214\n",
       "sample estimates:\n",
       "mean of x mean of y \n",
       "0.6001509 0.5958903 \n"
      ]
     },
     "metadata": {},
     "output_type": "display_data"
    }
   ],
   "source": [
    "t.test(exp_split_ratio_CV_result$CNN_RNN, ori_split_ratio_CV_result$CNN_RNN)"
   ]
  },
  {
   "cell_type": "code",
   "execution_count": 102,
   "id": "potential-textbook",
   "metadata": {},
   "outputs": [
    {
     "data": {
      "text/plain": [
       "\n",
       "\tWelch Two Sample t-test\n",
       "\n",
       "data:  exp_split_ratio_CV_result$RNN and ori_split_ratio_CV_result$RNN\n",
       "t = -0.11673, df = 7.9727, p-value = 0.91\n",
       "alternative hypothesis: true difference in means is not equal to 0\n",
       "95 percent confidence interval:\n",
       " -0.03625134  0.03275995\n",
       "sample estimates:\n",
       "mean of x mean of y \n",
       "0.5904984 0.5922441 \n"
      ]
     },
     "metadata": {},
     "output_type": "display_data"
    }
   ],
   "source": [
    "t.test(exp_split_ratio_CV_result$RNN, ori_split_ratio_CV_result$RNN)"
   ]
  },
  {
   "cell_type": "code",
   "execution_count": 103,
   "id": "provincial-money",
   "metadata": {},
   "outputs": [],
   "source": [
    "# lgb, svm, lr, CNN, CNN_RNN\n",
    "ori_test_result <- data.frame(auc = c(0.7984119782214156,0.6981170598911071,0.7136721113127648,0.7086963097398669,0.5650332728372656, 0.5252419842710224))\n",
    "ori_test_result$model <- c(\"lgb\",\"SVM\",\"lr\",\"CNN\",\"CNN_RNN\",\"RNN\")\n",
    "ori_test_result$split_ratio <- \"9_to_1\"\n",
    "\n",
    "exp_test_result <- data.frame(auc = c(0.7894482693577289,0.6979798170329152,0.7048646609450154,0.7460718664528906,0.5640403659341695, 0.5349969751966122))\n",
    "exp_test_result$model <- c(\"lgb\",\"SVM\",\"lr\",\"CNN\",\"CNN_RNN\",\"RNN\")\n",
    "exp_test_result$split_ratio <- \"8_to_2\""
   ]
  },
  {
   "cell_type": "code",
   "execution_count": 104,
   "id": "acute-consciousness",
   "metadata": {},
   "outputs": [],
   "source": [
    "total_split_ratio_test_df <-rbind(ori_test_result,exp_test_result)\n",
    "total_split_ratio_test_df$model <- factor(total_split_ratio_test_df$model,levels = c(\"lgb\",\"SVM\",\"lr\",\"CNN\",\"CNN_RNN\",\"RNN\"))\n",
    "total_split_ratio_test_df$split_ratio <- factor(total_split_ratio_test_df$split_ratio,levels = c(\"9_to_1\",\"8_to_2\"))"
   ]
  },
  {
   "cell_type": "code",
   "execution_count": 105,
   "id": "small-sheet",
   "metadata": {},
   "outputs": [
    {
     "data": {
      "image/png": "[encoded data removed]",
      "text/plain": [
       "plot without title"
      ]
     },
     "metadata": {
      "image/png": {
       "height": 420,
       "width": 420
      }
     },
     "output_type": "display_data"
    }
   ],
   "source": [
    "p_auc_RNALight_bar <- ggplot(total_split_ratio_test_df  ,aes(x=model,y=auc,fill = split_ratio))+\n",
    "geom_bar(stat=\"identity\",position=position_dodge(0.7),width=0.6)+\n",
    "ylim(0,1) +\n",
    "theme_classic()+\n",
    "scale_fill_manual(values=c(\"#AA4465\",\"#FFA69E\"))+\n",
    "theme(axis.text = element_text(size=14),\n",
    "      axis.title = element_text(size=14),\n",
    "element_line(size = 1.2))\n",
    "ggsave(\"./mRNA_test_comparison_split_ratio_with_text.pdf\",p_auc_RNALight_bar, width = 10, height = 10) \n",
    "p_auc_RNALight_bar"
   ]
  },
  {
   "cell_type": "code",
   "execution_count": 106,
   "id": "forced-maker",
   "metadata": {},
   "outputs": [
    {
     "data": {
      "image/png": "[encoded data removed]",
      "text/plain": [
       "plot without title"
      ]
     },
     "metadata": {
      "image/png": {
       "height": 420,
       "width": 420
      }
     },
     "output_type": "display_data"
    }
   ],
   "source": [
    "p_auc_RNALight_bar2 <-p_auc_RNALight_bar  + theme(axis.text = element_blank(),axis.title = element_blank(),axis.ticks = element_blank(),legend.position = \"None\")\n",
    "ggsave(\"./mRNA_test_comparison_split_ratio.pdf\",p_auc_RNALight_bar2 , width = 10, height = 10)\n",
    "p_auc_RNALight_bar2 "
   ]
  },
  {
   "cell_type": "code",
   "execution_count": null,
   "id": "quality-personality",
   "metadata": {},
   "outputs": [],
   "source": []
  }
 ],
 "metadata": {
  "kernelspec": {
   "display_name": "R",
   "language": "R",
   "name": "ir"
  },
  "language_info": {
   "codemirror_mode": "r",
   "file_extension": ".r",
   "mimetype": "text/x-r-source",
   "name": "R",
   "pygments_lexer": "r",
   "version": "3.6.3"
  }
 },
 "nbformat": 4,
 "nbformat_minor": 5
}
