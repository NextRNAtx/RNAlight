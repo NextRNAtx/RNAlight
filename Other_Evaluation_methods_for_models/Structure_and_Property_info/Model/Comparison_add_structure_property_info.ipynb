{
 "cells": [
  {
   "cell_type": "code",
   "execution_count": 2,
   "id": "meaningful-syndication",
   "metadata": {},
   "outputs": [],
   "source": [
    "library(ggplot2)\n",
    "library(reshape2)"
   ]
  },
  {
   "cell_type": "code",
   "execution_count": 20,
   "id": "limited-typing",
   "metadata": {},
   "outputs": [],
   "source": [
    "# Get auroc on CV with the maximum mean in the model\n",
    "get_auroc <- function(cv,col_name){\n",
    "    auroc_on_CV_str <- cv[which.max(cv$mean_auroc_on_CV),\"auroc_on_CV\"]\n",
    "    auroc_on_CV_str <- gsub('\\\\]|\\\\[',\"\",auroc_on_CV_str)\n",
    "    auroc_on_CV_df <- data.frame(as.double(unlist(strsplit(auroc_on_CV_str,\",\"))))\n",
    "    colnames(auroc_on_CV_df) <- col_name\n",
    "    return(auroc_on_CV_df)\n",
    "}"
   ]
  },
  {
   "cell_type": "markdown",
   "id": "welsh-memorabilia",
   "metadata": {},
   "source": [
    "# lncRNA"
   ]
  },
  {
   "cell_type": "code",
   "execution_count": 76,
   "id": "lyric-accountability",
   "metadata": {},
   "outputs": [],
   "source": [
    "# Original kmer features\n",
    "ori_kmer_ML_CV <- read.csv(\"/data/rnomics8/yuanguohua/RNAlight_Private/lncRNA/03_Model_Construction/01_Machine_Learning_Model/01_ML_Model_Output/ML_CV_result.tsv\",sep = '\\t')\n",
    "ori_kmer_CNN_CV <- read.csv(\"/data/rnomics8/yuanguohua/RNAlight_Private/lncRNA/03_Model_Construction/02_Deep_Learning_Model/01_DL_Model_Output/CNN_4000nt_Model_Output/CNN_CV_result.tsv\",sep='\\t')\n",
    "\n",
    "ori_kmer_CNN <- get_auroc(ori_kmer_CNN_CV,\"CNN\")\n",
    "\n",
    "# Combination\n",
    "ori_kmer_CV_result <- cbind(ori_kmer_ML_CV[\"lgb\"],ori_kmer_CNN)\n",
    "ori_kmer_CV_result_long <-melt(ori_kmer_CV_result,measure.vars=colnames(ori_kmer_CV_result),variable.name=\"model\",value.name=\"auroc\")\n",
    "ori_kmer_CV_result_long$feature <- \"ori_kmer\""
   ]
  },
  {
   "cell_type": "code",
   "execution_count": 77,
   "id": "mexican-constant",
   "metadata": {},
   "outputs": [],
   "source": [
    "# structure_porperty\n",
    "structure_porperty_ML_CV <- read.csv(\"./lncRNA/01_RNAlight_Model_Output/ML_CV_result.tsv\",sep = '\\t')\n",
    "structure_porperty_CNN_CV <- read.csv(\"./lncRNA/01_CNN_Output/CNN_4000nt_structure_frequency_Model_Output/CNN_CV_result.tsv\",sep='\\t')\n",
    "\n",
    "structure_porperty_CNN <- get_auroc(structure_porperty_CNN_CV,\"CNN\")\n",
    "\n",
    "# Combination\n",
    "structure_porperty_CV_result <- cbind(structure_porperty_ML_CV,structure_porperty_CNN)\n",
    "colnames(structure_porperty_CV_result) <- c(\"lgb\",\"CNN\")\n",
    "structure_porperty_CV_result_long <-melt(structure_porperty_CV_result,measure.vars=colnames(structure_porperty_CV_result),variable.name=\"model\",value.name=\"auroc\")\n",
    "structure_porperty_CV_result_long$feature <- \"structure_porperty\""
   ]
  },
  {
   "cell_type": "code",
   "execution_count": 78,
   "id": "caroline-dimension",
   "metadata": {},
   "outputs": [
    {
     "data": {
      "text/html": [
       "<table>\n",
       "<caption>A data.frame: 5 × 2</caption>\n",
       "<thead>\n",
       "\t<tr><th scope=col>lgb</th><th scope=col>CNN</th></tr>\n",
       "\t<tr><th scope=col>&lt;dbl&gt;</th><th scope=col>&lt;dbl&gt;</th></tr>\n",
       "</thead>\n",
       "<tbody>\n",
       "\t<tr><td>0.6827589</td><td>0.6325037</td></tr>\n",
       "\t<tr><td>0.6691534</td><td>0.6500732</td></tr>\n",
       "\t<tr><td>0.7500948</td><td>0.6700880</td></tr>\n",
       "\t<tr><td>0.7683030</td><td>0.6260997</td></tr>\n",
       "\t<tr><td>0.7714498</td><td>0.6510264</td></tr>\n",
       "</tbody>\n",
       "</table>\n"
      ],
      "text/latex": [
       "A data.frame: 5 × 2\n",
       "\\begin{tabular}{ll}\n",
       " lgb & CNN\\\\\n",
       " <dbl> & <dbl>\\\\\n",
       "\\hline\n",
       "\t 0.6827589 & 0.6325037\\\\\n",
       "\t 0.6691534 & 0.6500732\\\\\n",
       "\t 0.7500948 & 0.6700880\\\\\n",
       "\t 0.7683030 & 0.6260997\\\\\n",
       "\t 0.7714498 & 0.6510264\\\\\n",
       "\\end{tabular}\n"
      ],
      "text/markdown": [
       "\n",
       "A data.frame: 5 × 2\n",
       "\n",
       "| lgb &lt;dbl&gt; | CNN &lt;dbl&gt; |\n",
       "|---|---|\n",
       "| 0.6827589 | 0.6325037 |\n",
       "| 0.6691534 | 0.6500732 |\n",
       "| 0.7500948 | 0.6700880 |\n",
       "| 0.7683030 | 0.6260997 |\n",
       "| 0.7714498 | 0.6510264 |\n",
       "\n"
      ],
      "text/plain": [
       "  lgb       CNN      \n",
       "1 0.6827589 0.6325037\n",
       "2 0.6691534 0.6500732\n",
       "3 0.7500948 0.6700880\n",
       "4 0.7683030 0.6260997\n",
       "5 0.7714498 0.6510264"
      ]
     },
     "metadata": {},
     "output_type": "display_data"
    }
   ],
   "source": [
    "structure_porperty_CV_result"
   ]
  },
  {
   "cell_type": "code",
   "execution_count": 79,
   "id": "subject-footage",
   "metadata": {},
   "outputs": [],
   "source": [
    "total_feature_CV_df <- rbind(ori_kmer_CV_result_long, structure_porperty_CV_result_long)\n",
    "total_feature_CV_df$model <- factor(total_feature_CV_df$model,levels = c(\"lgb\",\"CNN\"))\n",
    "total_feature_CV_df$feature <- factor(total_feature_CV_df$feature,levels = c(\"ori_kmer\",\"structure_porperty\"))"
   ]
  },
  {
   "cell_type": "code",
   "execution_count": 80,
   "id": "patient-japan",
   "metadata": {},
   "outputs": [
    {
     "data": {
      "image/png": "[encoded data removed]",
      "text/plain": [
       "plot without title"
      ]
     },
     "metadata": {
      "image/png": {
       "height": 420,
       "width": 420
      }
     },
     "output_type": "display_data"
    }
   ],
   "source": [
    "# plot\n",
    "p_box <- ggplot(data=total_feature_CV_df ,aes(x=model,y=auroc,fill = feature))+\n",
    "stat_boxplot(geom = \"errorbar\",width=0.3,position = position_dodge(0.6))+\n",
    "geom_boxplot(width = 0.6,outlier.color=\"white\")+\n",
    "scale_fill_manual(values =  c(\"#bda0bc\",\"#ff928b\"))+\n",
    "ylim(0.5,0.8)+theme_classic()+\n",
    "theme(axis.text = element_text(size=14),\n",
    "      axis.title = element_text(size=14),\n",
    "      element_line(size = 1.2))\n",
    "ggsave(\"./lncRNA_CV_comparison_add_structure_property_with_text.pdf\", p_box, width = 10, height = 10) \n",
    "\n",
    "p_box "
   ]
  },
  {
   "cell_type": "code",
   "execution_count": 81,
   "id": "vocational-concept",
   "metadata": {},
   "outputs": [
    {
     "data": {
      "image/png": "[encoded data removed]",
      "text/plain": [
       "plot without title"
      ]
     },
     "metadata": {
      "image/png": {
       "height": 420,
       "width": 420
      }
     },
     "output_type": "display_data"
    }
   ],
   "source": [
    "p_box2 <- p_box + theme(axis.text = element_blank(),axis.title = element_blank(),axis.ticks = element_blank(),legend.position = \"None\")\n",
    "ggsave(\"./lncRNA_CV_comparison_add_structure_property.pdf\", p_box2, width = 10, height = 10) \n",
    "\n",
    "p_box2"
   ]
  },
  {
   "cell_type": "code",
   "execution_count": 82,
   "id": "painted-policy",
   "metadata": {},
   "outputs": [
    {
     "data": {
      "text/plain": [
       "\n",
       "\tWelch Two Sample t-test\n",
       "\n",
       "data:  ori_kmer_CV_result$lgb and structure_porperty_CV_result$lgb\n",
       "t = 0.81891, df = 4.4139, p-value = 0.4548\n",
       "alternative hypothesis: true difference in means is not equal to 0\n",
       "95 percent confidence interval:\n",
       " -0.04154762  0.07817559\n",
       "sample estimates:\n",
       "mean of x mean of y \n",
       " 0.746666  0.728352 \n"
      ]
     },
     "metadata": {},
     "output_type": "display_data"
    }
   ],
   "source": [
    "t.test(ori_kmer_CV_result$lgb,structure_porperty_CV_result$lgb)"
   ]
  },
  {
   "cell_type": "code",
   "execution_count": 83,
   "id": "flying-fields",
   "metadata": {},
   "outputs": [
    {
     "data": {
      "text/plain": [
       "\n",
       "\tWelch Two Sample t-test\n",
       "\n",
       "data:  ori_kmer_CV_result$CNN and structure_porperty_CV_result$CNN\n",
       "t = -0.75783, df = 4.7952, p-value = 0.4841\n",
       "alternative hypothesis: true difference in means is not equal to 0\n",
       "95 percent confidence interval:\n",
       " -0.02731909  0.01500236\n",
       "sample estimates:\n",
       "mean of x mean of y \n",
       "0.6397998 0.6459582 \n"
      ]
     },
     "metadata": {},
     "output_type": "display_data"
    }
   ],
   "source": [
    "t.test(ori_kmer_CV_result$CNN,structure_porperty_CV_result$CNN)"
   ]
  },
  {
   "cell_type": "code",
   "execution_count": 84,
   "id": "regulation-procedure",
   "metadata": {},
   "outputs": [],
   "source": [
    "# lgb, svm, lr, CNN, CNN_RNN\n",
    "ori_kmer_test_result <- data.frame(auc = c(0.7833019077196096,0.718029059449867))\n",
    "ori_kmer_test_result$model <- c(\"lgb\",\"CNN\")\n",
    "ori_kmer_test_result$feature <- \"ori_kmer\"\n",
    "\n",
    "structure_porperty_test_result <- data.frame(auc = c(0.783329636202307,0.7147293700088732))\n",
    "structure_porperty_test_result$model <- c(\"lgb\",\"CNN\")\n",
    "structure_porperty_test_result$feature <- \"structure_porperty\""
   ]
  },
  {
   "cell_type": "code",
   "execution_count": 85,
   "id": "personal-scholarship",
   "metadata": {},
   "outputs": [],
   "source": [
    "total_feature_test_df <-rbind(ori_kmer_test_result,structure_porperty_test_result)\n",
    "total_feature_test_df$model <- factor(total_feature_test_df$model,levels = c(\"lgb\",\"CNN\"))\n",
    "total_feature_test_df$feature <- factor(total_feature_test_df$feature,levels = c(\"ori_kmer\",\"structure_porperty\"))"
   ]
  },
  {
   "cell_type": "code",
   "execution_count": 86,
   "id": "incorrect-tuition",
   "metadata": {},
   "outputs": [
    {
     "data": {
      "image/png": "[encoded data removed]",
      "text/plain": [
       "plot without title"
      ]
     },
     "metadata": {
      "image/png": {
       "height": 420,
       "width": 420
      }
     },
     "output_type": "display_data"
    }
   ],
   "source": [
    "p_auc_RNALight_bar <- ggplot(total_feature_test_df,aes(x=model,y=auc,fill = feature))+\n",
    "geom_bar(stat=\"identity\",position=position_dodge(0.7),width=0.6)+\n",
    "ylim(0,1) +\n",
    "theme_classic()+\n",
    "scale_fill_manual(values=c(\"#bda0bc\",\"#ff928b\"))+\n",
    "theme(axis.text = element_text(size=14),\n",
    "      axis.title = element_text(size=14),\n",
    "element_line(size = 1.2))\n",
    "ggsave(\"./lncRNA_test_comparison_add_structure_property_with_text.pdf\",p_auc_RNALight_bar, width = 10, height = 10) \n",
    "p_auc_RNALight_bar"
   ]
  },
  {
   "cell_type": "code",
   "execution_count": 87,
   "id": "sixth-publication",
   "metadata": {},
   "outputs": [
    {
     "data": {
      "image/png": "[encoded data removed]",
      "text/plain": [
       "plot without title"
      ]
     },
     "metadata": {
      "image/png": {
       "height": 420,
       "width": 420
      }
     },
     "output_type": "display_data"
    }
   ],
   "source": [
    "p_auc_RNALight_bar2 <-p_auc_RNALight_bar  + theme(axis.text = element_blank(),axis.title = element_blank(),axis.ticks = element_blank(),legend.position = \"None\")\n",
    "ggsave(\"./lncRNA_test_comparison_add_structure_property.pdf\",p_auc_RNALight_bar2 , width = 10, height = 10)\n",
    "p_auc_RNALight_bar2 "
   ]
  },
  {
   "cell_type": "code",
   "execution_count": null,
   "id": "conditional-speaking",
   "metadata": {},
   "outputs": [],
   "source": []
  },
  {
   "cell_type": "code",
   "execution_count": null,
   "id": "proud-strap",
   "metadata": {},
   "outputs": [],
   "source": []
  },
  {
   "cell_type": "markdown",
   "id": "patient-probe",
   "metadata": {},
   "source": [
    "# mRNA"
   ]
  },
  {
   "cell_type": "code",
   "execution_count": 88,
   "id": "characteristic-numbers",
   "metadata": {},
   "outputs": [],
   "source": [
    "# Original kmer features\n",
    "ori_kmer_ML_CV <- read.csv(\"/data/rnomics8/yuanguohua/RNAlight_Private/mRNA/03_Model_Construction/01_Machine_Learning_Model/01_ML_Model_Output/ML_CV_result.tsv\",sep = '\\t')\n",
    "ori_kmer_CNN_CV <- read.csv(\"/data/rnomics8/yuanguohua/RNAlight_Private/mRNA/03_Model_Construction/02_Deep_Learning_Model/01_DL_Model_Output/CNN_9000nt_Model_Output/CNN_CV_result.tsv\",sep='\\t')\n",
    "\n",
    "ori_kmer_CNN <- get_auroc(ori_kmer_CNN_CV,\"CNN\")\n",
    "\n",
    "# Combination\n",
    "ori_kmer_CV_result <- cbind(ori_kmer_ML_CV[\"lgb\"],ori_kmer_CNN)\n",
    "ori_kmer_CV_result_long <-melt(ori_kmer_CV_result,measure.vars=colnames(ori_kmer_CV_result),variable.name=\"model\",value.name=\"auroc\")\n",
    "ori_kmer_CV_result_long$feature <- \"ori_kmer\""
   ]
  },
  {
   "cell_type": "code",
   "execution_count": 89,
   "id": "boxed-consciousness",
   "metadata": {},
   "outputs": [],
   "source": [
    "# structure_porperty\n",
    "structure_porperty_ML_CV <- read.csv(\"./mRNA/01_RNAlight_Model_Output/ML_CV_result.tsv\",sep = '\\t')\n",
    "structure_porperty_CNN_CV <- read.csv(\"./mRNA/01_CNN_Output/CNN_9000nt_structure_frequency_Model_Output/CNN_CV_result.tsv\",sep='\\t')\n",
    "\n",
    "structure_porperty_CNN <- get_auroc(structure_porperty_CNN_CV,\"CNN\")\n",
    "\n",
    "# Combination\n",
    "structure_porperty_CV_result <- cbind(structure_porperty_ML_CV,structure_porperty_CNN)\n",
    "colnames(structure_porperty_CV_result) <- c(\"lgb\",\"CNN\")\n",
    "structure_porperty_CV_result_long <-melt(structure_porperty_CV_result,measure.vars=colnames(structure_porperty_CV_result),variable.name=\"model\",value.name=\"auroc\")\n",
    "structure_porperty_CV_result_long$feature <- \"structure_porperty\""
   ]
  },
  {
   "cell_type": "code",
   "execution_count": 90,
   "id": "desperate-referral",
   "metadata": {},
   "outputs": [
    {
     "data": {
      "text/html": [
       "<table>\n",
       "<caption>A data.frame: 5 × 2</caption>\n",
       "<thead>\n",
       "\t<tr><th scope=col>lgb</th><th scope=col>CNN</th></tr>\n",
       "\t<tr><th scope=col>&lt;dbl&gt;</th><th scope=col>&lt;dbl&gt;</th></tr>\n",
       "</thead>\n",
       "<tbody>\n",
       "\t<tr><td>0.7460203</td><td>0.6591640</td></tr>\n",
       "\t<tr><td>0.7593825</td><td>0.6505895</td></tr>\n",
       "\t<tr><td>0.7338406</td><td>0.6673820</td></tr>\n",
       "\t<tr><td>0.7662099</td><td>0.6920601</td></tr>\n",
       "\t<tr><td>0.7573863</td><td>0.7017167</td></tr>\n",
       "</tbody>\n",
       "</table>\n"
      ],
      "text/latex": [
       "A data.frame: 5 × 2\n",
       "\\begin{tabular}{ll}\n",
       " lgb & CNN\\\\\n",
       " <dbl> & <dbl>\\\\\n",
       "\\hline\n",
       "\t 0.7460203 & 0.6591640\\\\\n",
       "\t 0.7593825 & 0.6505895\\\\\n",
       "\t 0.7338406 & 0.6673820\\\\\n",
       "\t 0.7662099 & 0.6920601\\\\\n",
       "\t 0.7573863 & 0.7017167\\\\\n",
       "\\end{tabular}\n"
      ],
      "text/markdown": [
       "\n",
       "A data.frame: 5 × 2\n",
       "\n",
       "| lgb &lt;dbl&gt; | CNN &lt;dbl&gt; |\n",
       "|---|---|\n",
       "| 0.7460203 | 0.6591640 |\n",
       "| 0.7593825 | 0.6505895 |\n",
       "| 0.7338406 | 0.6673820 |\n",
       "| 0.7662099 | 0.6920601 |\n",
       "| 0.7573863 | 0.7017167 |\n",
       "\n"
      ],
      "text/plain": [
       "  lgb       CNN      \n",
       "1 0.7460203 0.6591640\n",
       "2 0.7593825 0.6505895\n",
       "3 0.7338406 0.6673820\n",
       "4 0.7662099 0.6920601\n",
       "5 0.7573863 0.7017167"
      ]
     },
     "metadata": {},
     "output_type": "display_data"
    }
   ],
   "source": [
    "structure_porperty_CV_result"
   ]
  },
  {
   "cell_type": "code",
   "execution_count": 91,
   "id": "bigger-flower",
   "metadata": {},
   "outputs": [],
   "source": [
    "total_feature_CV_df <- rbind(ori_kmer_CV_result_long, structure_porperty_CV_result_long)\n",
    "total_feature_CV_df$model <- factor(total_feature_CV_df$model,levels = c(\"lgb\",\"CNN\"))\n",
    "total_feature_CV_df$feature <- factor(total_feature_CV_df$feature,levels = c(\"ori_kmer\",\"structure_porperty\"))"
   ]
  },
  {
   "cell_type": "code",
   "execution_count": 92,
   "id": "jewish-universe",
   "metadata": {},
   "outputs": [
    {
     "data": {
      "image/png": "[encoded data removed]",
      "text/plain": [
       "plot without title"
      ]
     },
     "metadata": {
      "image/png": {
       "height": 420,
       "width": 420
      }
     },
     "output_type": "display_data"
    }
   ],
   "source": [
    "# plot\n",
    "p_box <- ggplot(data=total_feature_CV_df ,aes(x=model,y=auroc,fill = feature))+\n",
    "stat_boxplot(geom = \"errorbar\",width=0.3,position = position_dodge(0.6))+\n",
    "geom_boxplot(width = 0.6,outlier.color=\"white\")+\n",
    "scale_fill_manual(values =  c(\"#bda0bc\",\"#ff928b\"))+\n",
    "ylim(0.5,0.8)+theme_classic()+\n",
    "theme(axis.text = element_text(size=14),\n",
    "      axis.title = element_text(size=14),\n",
    "      element_line(size = 1.2))\n",
    "ggsave(\"./mRNA_CV_comparison_add_structure_property_with_text.pdf\", p_box, width = 10, height = 10) \n",
    "\n",
    "p_box "
   ]
  },
  {
   "cell_type": "code",
   "execution_count": 93,
   "id": "skilled-prague",
   "metadata": {},
   "outputs": [
    {
     "data": {
      "image/png": "[encoded data removed]",
      "text/plain": [
       "plot without title"
      ]
     },
     "metadata": {
      "image/png": {
       "height": 420,
       "width": 420
      }
     },
     "output_type": "display_data"
    }
   ],
   "source": [
    "p_box2 <- p_box + theme(axis.text = element_blank(),axis.title = element_blank(),axis.ticks = element_blank(),legend.position = \"None\")\n",
    "ggsave(\"./mRNA_CV_comparison_add_structure_property.pdf\", p_box2, width = 10, height = 10) \n",
    "\n",
    "p_box2"
   ]
  },
  {
   "cell_type": "code",
   "execution_count": 94,
   "id": "bottom-bridge",
   "metadata": {},
   "outputs": [
    {
     "data": {
      "text/plain": [
       "\n",
       "\tWelch Two Sample t-test\n",
       "\n",
       "data:  ori_kmer_CV_result$lgb and structure_porperty_CV_result$lgb\n",
       "t = 0.61535, df = 6.9804, p-value = 0.5578\n",
       "alternative hypothesis: true difference in means is not equal to 0\n",
       "95 percent confidence interval:\n",
       " -0.01199900  0.02043434\n",
       "sample estimates:\n",
       "mean of x mean of y \n",
       "0.7567856 0.7525679 \n"
      ]
     },
     "metadata": {},
     "output_type": "display_data"
    }
   ],
   "source": [
    "t.test(ori_kmer_CV_result$lgb,structure_porperty_CV_result$lgb)"
   ]
  },
  {
   "cell_type": "code",
   "execution_count": 95,
   "id": "taken-private",
   "metadata": {},
   "outputs": [
    {
     "data": {
      "text/plain": [
       "\n",
       "\tWelch Two Sample t-test\n",
       "\n",
       "data:  ori_kmer_CV_result$CNN and structure_porperty_CV_result$CNN\n",
       "t = -0.098566, df = 5.9825, p-value = 0.9247\n",
       "alternative hypothesis: true difference in means is not equal to 0\n",
       "95 percent confidence interval:\n",
       " -0.02797175  0.02580697\n",
       "sample estimates:\n",
       "mean of x mean of y \n",
       "0.6731001 0.6741825 \n"
      ]
     },
     "metadata": {},
     "output_type": "display_data"
    }
   ],
   "source": [
    "t.test(ori_kmer_CV_result$CNN,structure_porperty_CV_result$CNN)"
   ]
  },
  {
   "cell_type": "code",
   "execution_count": 96,
   "id": "hollywood-steel",
   "metadata": {},
   "outputs": [],
   "source": [
    "# lgb, svm, lr, CNN, CNN_RNN\n",
    "ori_kmer_test_result <- data.frame(auc = c(0.7984119782214156,0.7086963097398669))\n",
    "ori_kmer_test_result$model <- c(\"lgb\",\"CNN\")\n",
    "ori_kmer_test_result$feature <- \"ori_kmer\"\n",
    "\n",
    "structure_porperty_test_result <- data.frame(auc = c(0.8126134301270418,0.696952510586812))\n",
    "structure_porperty_test_result$model <- c(\"lgb\",\"CNN\")\n",
    "structure_porperty_test_result$feature <- \"structure_porperty\""
   ]
  },
  {
   "cell_type": "code",
   "execution_count": 97,
   "id": "tutorial-tournament",
   "metadata": {},
   "outputs": [],
   "source": [
    "total_feature_test_df <-rbind(ori_kmer_test_result,structure_porperty_test_result)\n",
    "total_feature_test_df$model <- factor(total_feature_test_df$model,levels = c(\"lgb\",\"CNN\"))\n",
    "total_feature_test_df$feature <- factor(total_feature_test_df$feature,levels = c(\"ori_kmer\",\"structure_porperty\"))"
   ]
  },
  {
   "cell_type": "code",
   "execution_count": 98,
   "id": "varying-bacon",
   "metadata": {},
   "outputs": [
    {
     "data": {
      "image/png": "[encoded data removed]",
      "text/plain": [
       "plot without title"
      ]
     },
     "metadata": {
      "image/png": {
       "height": 420,
       "width": 420
      }
     },
     "output_type": "display_data"
    }
   ],
   "source": [
    "p_auc_RNALight_bar <- ggplot(total_feature_test_df,aes(x=model,y=auc,fill = feature))+\n",
    "geom_bar(stat=\"identity\",position=position_dodge(0.7),width=0.6)+\n",
    "ylim(0,1) +\n",
    "theme_classic()+\n",
    "scale_fill_manual(values=c(\"#bda0bc\",\"#ff928b\"))+\n",
    "theme(axis.text = element_text(size=14),\n",
    "      axis.title = element_text(size=14),\n",
    "element_line(size = 1.2))\n",
    "ggsave(\"./mRNA_test_comparison_add_structure_property_with_text.pdf\",p_auc_RNALight_bar, width = 10, height = 10) \n",
    "p_auc_RNALight_bar"
   ]
  },
  {
   "cell_type": "code",
   "execution_count": 100,
   "id": "discrete-divide",
   "metadata": {},
   "outputs": [
    {
     "data": {
      "image/png": "[encoded data removed]",
      "text/plain": [
       "plot without title"
      ]
     },
     "metadata": {
      "image/png": {
       "height": 420,
       "width": 420
      }
     },
     "output_type": "display_data"
    }
   ],
   "source": [
    "p_auc_RNALight_bar2 <-p_auc_RNALight_bar  + theme(axis.text = element_blank(),axis.title = element_blank(),axis.ticks = element_blank(),legend.position = \"None\")\n",
    "ggsave(\"./mRNA_test_comparison_add_structure_property.pdf\",p_auc_RNALight_bar2 , width = 10, height = 10)\n",
    "p_auc_RNALight_bar2 "
   ]
  },
  {
   "cell_type": "code",
   "execution_count": null,
   "id": "received-desert",
   "metadata": {},
   "outputs": [],
   "source": []
  }
 ],
 "metadata": {
  "kernelspec": {
   "display_name": "R",
   "language": "R",
   "name": "ir"
  },
  "language_info": {
   "codemirror_mode": "r",
   "file_extension": ".r",
   "mimetype": "text/x-r-source",
   "name": "R",
   "pygments_lexer": "r",
   "version": "3.6.3"
  }
 },
 "nbformat": 4,
 "nbformat_minor": 5
}
