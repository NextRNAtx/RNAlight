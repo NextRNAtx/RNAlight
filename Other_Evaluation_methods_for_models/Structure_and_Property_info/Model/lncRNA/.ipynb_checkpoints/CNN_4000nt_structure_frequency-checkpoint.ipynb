{
 "cells": [
  {
   "cell_type": "markdown",
   "metadata": {},
   "source": [
    "# Python"
   ]
  },
  {
   "cell_type": "markdown",
   "metadata": {},
   "source": [
    "## 1. Python import and define functions"
   ]
  },
  {
   "cell_type": "markdown",
   "metadata": {},
   "source": [
    "*** \n",
    "###  "
   ]
  },
  {
   "cell_type": "code",
   "execution_count": 3,
   "metadata": {},
   "outputs": [],
   "source": [
    "# Python import\n",
    "import os\n",
    "import argparse\n",
    "import collections\n",
    "import random\n",
    "import copy\n",
    "import numpy as np\n",
    "import pandas as pd\n",
    "import scipy\n",
    "from scipy import stats\n",
    "import matplotlib.pyplot as plt\n",
    "import sklearn.metrics as metrics\n",
    "import  sklearn.preprocessing as preprocessing\n",
    "from sklearn.model_selection import KFold\n",
    "import tensorflow as tf\n",
    "from tensorflow import keras\n",
    "from tensorflow.keras import layers,  Model, backend\n",
    "from tensorflow.compat.v1 import ConfigProto\n",
    "from tensorflow.compat.v1 import InteractiveSession\n",
    "from tfdeterminism import patch"
   ]
  },
  {
   "cell_type": "code",
   "execution_count": 134,
   "metadata": {},
   "outputs": [],
   "source": [
    "# Architecture of deep learning model\n",
    "class CNN_Structure_Property(Model):\n",
    "    def __init__(self, filter_num, units):\n",
    "        super().__init__()\n",
    "        self.conv1_seq =  layers.Conv1D(filters = filter_num,kernel_size = 12,strides = 1,padding = \"valid\",input_shape = (4000,4),activation = \"relu\")\n",
    "        \n",
    "        self.conv2_seq =  layers.Conv1D(filters = int(filter_num/2),kernel_size = 6,strides = 1,padding = \"valid\",activation = \"relu\")\n",
    "        self.drop1 = layers.Dropout(0.3)\n",
    "        \n",
    "        self.pooling_seq = layers.MaxPooling1D(pool_size =4, strides =4)\n",
    "        self.drop2 = layers.Dropout(0.3)\n",
    "        \n",
    "        self.dense1 = layers.Dense(units = 128, activation = \"sigmoid\")\n",
    "        \n",
    "        self.flatten_seq = layers.Flatten()\n",
    "        self.flatten_structure_property = layers.Flatten()\n",
    "        \n",
    "        self.dense2 = layers.Dense(units = units, activation = \"relu\")\n",
    "        self.drop3 = layers.Dropout(0.3)\n",
    "        self.dense3 = layers.Dense(units = 2, activation = \"softmax\")\n",
    "        \n",
    "    def call(self,inputs):\n",
    "        seq = self.flatten_seq(self.drop2(self.pooling_seq(self.drop1(self.conv2_seq(self.conv1_seq(inputs[0]))))))\n",
    "        structure_property = self.flatten_structure_property(self.dense1(inputs[1]))\n",
    "        \n",
    "        x = layers.concatenate([seq, structure_property],axis=-1)\n",
    "        x = self.dense2(x)\n",
    "        x = self.drop3(x)\n",
    "        y = self.dense3(x)\n",
    "        return y"
   ]
  },
  {
   "cell_type": "code",
   "execution_count": 5,
   "metadata": {},
   "outputs": [],
   "source": [
    "# Whether in jupyter notebook\n",
    "def isnotebook() -> bool:\n",
    "    \"\"\"\n",
    "    Returns True if the current execution environment is a jupyter notebook\n",
    "    https://stackoverflow.com/questions/15411967/how-can-i-check-if-code-is-executed-in-the-ipython-notebook\n",
    "    \"\"\"\n",
    "    try:\n",
    "        shell = get_ipython().__class__.__name__\n",
    "        if shell == 'ZMQInteractiveShell':\n",
    "            return True   # Jupyter notebook or qtconsole\n",
    "        elif shell == 'TerminalInteractiveShell':\n",
    "            return False  # Terminal running IPython\n",
    "        else:\n",
    "            return False  # Other type (?)\n",
    "    except NameError:\n",
    "        return False      # Probably standard Python interpreter"
   ]
  },
  {
   "cell_type": "code",
   "execution_count": 6,
   "metadata": {},
   "outputs": [],
   "source": [
    "#get filepath of input and output\n",
    "def get_filepath():\n",
    "    parser = argparse.ArgumentParser()\n",
    "    parser.add_argument(\"--training\",dest = \"training\", help = \"TrainingSet file\")\n",
    "    parser.add_argument(\"--test\",dest = \"test\",default = 20,help = \"TestSet file\")\n",
    "    parser.add_argument(\"-O\",\"-o\",\"--outputdir\",dest = \"outputdir\",help = \"Output dir of models\")\n",
    "    args = parser.parse_args()\n",
    "    return args"
   ]
  },
  {
   "cell_type": "code",
   "execution_count": 7,
   "metadata": {},
   "outputs": [],
   "source": [
    "# padding sequence to 4000nt\n",
    "def padding_truncate_seq(seq):\n",
    "    length = len(seq)  \n",
    "    if length > 4000: \n",
    "        seq = seq[:4000]   # trancate seq to 4000nt\n",
    "    else:\n",
    "        seq = seq + (4000 -length)*'N'  #padding N after seq to 4000nt\n",
    "    return seq"
   ]
  },
  {
   "cell_type": "code",
   "execution_count": 117,
   "metadata": {},
   "outputs": [],
   "source": [
    "# Convert data to tensor\n",
    "def convert2tensor(data):\n",
    "    NT_dict = {'A':np.array([1,0,0,0]),'T':np.array([0,1,0,0]),'G':np.array([0,0,1,0]),'C':np.array([0,0,0,1]),'N':np.array([0,0,0,0])}\n",
    "    label_dict = {'0': 0, '1':1}\n",
    "    \n",
    "    seq = tf.convert_to_tensor(data[\"cdna\"].apply(lambda x:np.array([ NT_dict[i] for i in x],dtype=np.float32)))\n",
    "    structure = tf.convert_to_tensor(np.array(data.iloc[:,1:15]),dtype=np.float32)\n",
    "    rna_property = tf.convert_to_tensor(np.array(data.iloc[:,15:-1]),dtype=np.float32)\n",
    "    structure_property = tf.concat([structure,rna_property], -1)\n",
    "    label = tf.convert_to_tensor(data[\"tag\"].apply(lambda x:np.array(label_dict[str(x)],dtype=np.float32)))\n",
    "    \n",
    "    X = [seq, structure_property]\n",
    "    y = label\n",
    "    return X,y"
   ]
  },
  {
   "cell_type": "code",
   "execution_count": 10,
   "metadata": {},
   "outputs": [],
   "source": [
    "#Evaluate performance of model\n",
    "def evaluate_performance(y_test, y_pred, y_prob):\n",
    "    # AUROC\n",
    "    auroc = metrics.roc_auc_score(y_test,y_prob)\n",
    "    auroc_curve = metrics.roc_curve(y_test, y_prob)\n",
    "    # AUPRC\n",
    "    auprc=metrics.average_precision_score(y_test, y_prob) \n",
    "    auprc_curve=metrics.precision_recall_curve(y_test, y_prob)\n",
    "    #Accuracy\n",
    "    accuracy=metrics.accuracy_score(y_test,y_pred) \n",
    "    #MCC\n",
    "    mcc=metrics.matthews_corrcoef(y_test,y_pred)\n",
    "    \n",
    "    recall=metrics.recall_score(y_test, y_pred)\n",
    "    precision=metrics.precision_score(y_test, y_pred)\n",
    "    f1=metrics.f1_score(y_test, y_pred)\n",
    "    class_report=metrics.classification_report(y_test, y_pred,target_names = [\"control\",\"case\"])\n",
    "\n",
    "    model_perf = {\"auroc\":auroc,\"auroc_curve\":auroc_curve,\n",
    "                  \"auprc\":auprc,\"auprc_curve\":auprc_curve,\n",
    "                  \"accuracy\":accuracy, \"mcc\": mcc,\n",
    "                  \"recall\":recall,\"precision\":precision,\"f1\":f1,\n",
    "                  \"class_report\":class_report}\n",
    "        \n",
    "    return model_perf"
   ]
  },
  {
   "cell_type": "code",
   "execution_count": 11,
   "metadata": {},
   "outputs": [],
   "source": [
    "# Output result of evaluation\n",
    "def eval_output(model_perf,path):\n",
    "    with open(os.path.join(path,\"Evaluate_Result_TestSet.txt\"),'w') as f:\n",
    "        f.write(\"AUROC=%s\\tAUPRC=%s\\tAccuracy=%s\\tMCC=%s\\tRecall=%s\\tPrecision=%s\\tf1_score=%s\\n\" %\n",
    "               (model_perf[\"auroc\"],model_perf[\"auprc\"],model_perf[\"accuracy\"],model_perf[\"mcc\"],model_perf[\"recall\"],model_perf[\"precision\"],model_perf[\"f1\"]))\n",
    "        f.write(\"\\n######NOTE#######\\n\")\n",
    "        f.write(\"#According to help_documentation of sklearn.metrics.classification_report:in binary classification, recall of the positive class is also known as sensitivity; recall of the negative class is specificity#\\n\\n\")\n",
    "        f.write(model_perf[\"class_report\"])"
   ]
  },
  {
   "cell_type": "code",
   "execution_count": 12,
   "metadata": {},
   "outputs": [],
   "source": [
    "# Plot AUROC of model\n",
    "def plot_AUROC(model_perf,path):\n",
    "    #get AUROC,FPR,TPR and threshold\n",
    "    roc_auc = model_perf[\"auroc\"]\n",
    "    fpr,tpr,threshold = model_perf[\"auroc_curve\"]\n",
    "    #return AUROC info\n",
    "    temp_df = pd.DataFrame({\"FPR\":fpr,\"TPR\":tpr})\n",
    "    temp_df.to_csv(os.path.join(path,\"AUROC_info.txt\"),header = True,index = False, sep = '\\t')\n",
    "    #plot\n",
    "    plt.figure()\n",
    "    lw = 2\n",
    "    plt.figure(figsize=(10,10))\n",
    "    plt.plot(fpr, tpr, color='darkorange',\n",
    "             lw=lw, label='AUROC (area = %0.2f)' % roc_auc) \n",
    "    plt.plot([0, 1], [0, 1], color='navy', lw=lw, linestyle='--')\n",
    "    plt.xlim([0.0, 1.0])\n",
    "    plt.ylim([0.0, 1.0])\n",
    "    plt.xlabel(\"False Positive Rate\")\n",
    "    plt.ylabel(\"True Positive Rate\")\n",
    "    plt.title(\"AUROC of Models\")\n",
    "    plt.legend(loc=\"lower right\")\n",
    "    plt.savefig(os.path.join(path,\"AUROC_TestSet.pdf\"),format = \"pdf\")"
   ]
  },
  {
   "cell_type": "markdown",
   "metadata": {},
   "source": [
    "*** \n",
    "###  "
   ]
  },
  {
   "cell_type": "markdown",
   "metadata": {},
   "source": [
    "## 2. Configution"
   ]
  },
  {
   "cell_type": "code",
   "execution_count": 13,
   "metadata": {},
   "outputs": [
    {
     "name": "stderr",
     "output_type": "stream",
     "text": [
      "TensorFlow version 2.0.0 has been patched using tfdeterminism version 0.3.0\n"
     ]
    }
   ],
   "source": [
    "# GPU Device\n",
    "CONFIG = ConfigProto()\n",
    "CONFIG.gpu_options.allow_growth = True\n",
    "SESSION = InteractiveSession(config=CONFIG)\n",
    "TF_DETERMINISTIC_OPS=1\n",
    "# hdf5 \n",
    "os.environ[\"HDF5_USE_FILE_LOCKING\"] = \"FALSE\"\n",
    "# Random seed\n",
    "patch()\n",
    "SEED = 100\n",
    "random.seed(SEED)\n",
    "np.random.seed(SEED)\n",
    "tf.random.set_seed(SEED)\n",
    "# Hyper-parameters\n",
    "OPTIMIZER = \"adam\"\n",
    "BATCH = 32\n",
    "SHUFFLE = True\n",
    "EPOCH = 100\n",
    "LOSS = \"sparse_categorical_crossentropy\"\n",
    "METRICS = [\"accuracy\",\"sparse_categorical_crossentropy\"]\n",
    "PATIENCE = 10\n",
    "filters_num_list = [32,64,128]\n",
    "units_list = [256,512,1024]\n",
    "\n",
    "# Index of model performance\n",
    "ModelPerf = collections.namedtuple('ModelPerf',\n",
    "                                   ['auroc', 'auroc_curve', 'auprc', 'auprc_curve', 'accuracy', \n",
    "                                    'mcc','recall', 'precision', 'f1', 'class_report','ce_loss'])\n",
    "\n",
    "# Output direction\n",
    "output_dir = \"./01_CNN_Output/CNN_4000nt_structure_frequency_Model_Output\"\n",
    "if not (os.path.exists(output_dir)):\n",
    "    os.makedirs(output_dir)"
   ]
  },
  {
   "cell_type": "markdown",
   "metadata": {},
   "source": [
    "*** \n",
    "###  "
   ]
  },
  {
   "cell_type": "markdown",
   "metadata": {},
   "source": [
    "## 3. Data Processing"
   ]
  },
  {
   "cell_type": "code",
   "execution_count": 14,
   "metadata": {},
   "outputs": [],
   "source": [
    "# Load dataset files\n",
    "Training_set_sequence = pd.read_csv(\"/data/rnomics8/yuanguohua/RNAlight_Private/lncRNA/03_Model_Construction/lncRNA_sublocation_TrainingSet.tsv\",sep='\\t')\n",
    "Training_set_structure = pd.read_csv(\"../../Structure_Dataset/lncRNA/lncRNA_sublocation_TrainingSet_structure.txt\",sep='\\t')\n",
    "Training_set_property = pd.read_csv(\"../../Property_Dataset/lncRNA/lncRNA_sublocation_TrainingSet_biochemical.txt\",sep='\\t')\n",
    "\n",
    "Test_set_sequence = pd.read_csv(\"/data/rnomics8/yuanguohua/RNAlight_Private/lncRNA/03_Model_Construction/lncRNA_sublocation_TestSet.tsv\",sep='\\t')\n",
    "Test_set_structure = pd.read_csv(\"../../Structure_Dataset/lncRNA/lncRNA_sublocation_TestSet_structure.txt\",sep='\\t')\n",
    "Test_set_property = pd.read_csv(\"../../Property_Dataset/lncRNA/lncRNA_sublocation_TestSet_biochemical.txt\",sep='\\t')\n",
    "\n",
    "# property info\n",
    "Train_df_property  = Training_set_property.iloc[:,1:]\n",
    "# Z-Score using scipy\n",
    "Train_df_property['length'] = stats.zscore(Train_df_property['length'])\n",
    "Train_df_property['MFE'] = stats.zscore(Train_df_property['MFE'])\n",
    "# property info\n",
    "Test_df_property  = Test_set_property.iloc[:,1:]\n",
    "# Z-Score using scipy\n",
    "Train_df_property['length'] = stats.zscore(Train_df_property['length'])\n",
    "Train_df_property['MFE'] = stats.zscore(Train_df_property['MFE'])\n",
    "\n",
    "# Format :[seq] [structure] [label]\n",
    "dataset_training = pd.concat([Training_set_sequence.iloc[:,2],Training_set_structure.iloc[:,2:],Train_df_property,Training_set_sequence.iloc[:,3]],axis = 1)\n",
    "dataset_test = pd.concat([Test_set_sequence.iloc[:,2],Test_set_structure.iloc[:,2:],Test_df_property,Test_set_sequence.iloc[:,3]],axis = 1)\n",
    "\n",
    "# Fix seq to 4000nt\n",
    "dataset_training[\"cdna\"] = dataset_training[\"cdna\"].apply(lambda x:padding_truncate_seq(x))\n",
    "dataset_test[\"cdna\"] = dataset_test[\"cdna\"].apply(lambda x:padding_truncate_seq(x))"
   ]
  },
  {
   "cell_type": "markdown",
   "metadata": {},
   "source": [
    "*** \n",
    "###  "
   ]
  },
  {
   "cell_type": "code",
   "execution_count": 118,
   "metadata": {},
   "outputs": [],
   "source": [
    "X_Whole_training,y_Whole_training = convert2tensor(dataset_training)"
   ]
  },
  {
   "cell_type": "markdown",
   "metadata": {},
   "source": [
    "## 4. Optimize hyperparameters by five-fold cross validation"
   ]
  },
  {
   "cell_type": "code",
   "execution_count": 26,
   "metadata": {},
   "outputs": [
    {
     "name": "stdout",
     "output_type": "stream",
     "text": [
      "WARNING:tensorflow:Early stopping conditioned on metric `val_accuracy` which is not available. Available metrics are: \n"
     ]
    },
    {
     "ename": "ResourceExhaustedError",
     "evalue": " OOM when allocating tensor with shape[63766,1024] and type float on /job:localhost/replica:0/task:0/device:GPU:0 by allocator GPU_0_bfc\n\t [[node MatMul_3 (defined at /picb/rnomics3/yuanguohua/anaconda3/envs/tensorflow2/lib/python3.6/site-packages/tensorflow_core/python/framework/ops.py:1751) ]]\nHint: If you want to see a list of allocated tensors when OOM happens, add report_tensor_allocations_upon_oom to RunOptions for current allocation info.\n [Op:__inference_distributed_function_446872]\n\nFunction call stack:\ndistributed_function\n",
     "output_type": "error",
     "traceback": [
      "\u001b[0;31m---------------------------------------------------------------------------\u001b[0m",
      "\u001b[0;31mResourceExhaustedError\u001b[0m                    Traceback (most recent call last)",
      "\u001b[0;32m<ipython-input-26-7dfe5ea26fcb>\u001b[0m in \u001b[0;36m<module>\u001b[0;34m\u001b[0m\n\u001b[1;32m     27\u001b[0m                                   \u001b[0mcallbacks\u001b[0m \u001b[0;34m=\u001b[0m \u001b[0mcallbacks\u001b[0m\u001b[0;34m,\u001b[0m\u001b[0;34m\u001b[0m\u001b[0;34m\u001b[0m\u001b[0m\n\u001b[1;32m     28\u001b[0m                                   \u001b[0mvalidation_data\u001b[0m \u001b[0;34m=\u001b[0m \u001b[0;34m(\u001b[0m\u001b[0mValidationSet_seq_structure_property\u001b[0m\u001b[0;34m,\u001b[0m\u001b[0mValidationSet_label\u001b[0m\u001b[0;34m)\u001b[0m\u001b[0;34m,\u001b[0m\u001b[0;34m\u001b[0m\u001b[0;34m\u001b[0m\u001b[0m\n\u001b[0;32m---> 29\u001b[0;31m                                   verbose = 0)\n\u001b[0m\u001b[1;32m     30\u001b[0m \u001b[0;34m\u001b[0m\u001b[0m\n\u001b[1;32m     31\u001b[0m             \u001b[0;31m# Get the auroc of the model with maximum accuracy on validation set per fold\u001b[0m\u001b[0;34m\u001b[0m\u001b[0;34m\u001b[0m\u001b[0;34m\u001b[0m\u001b[0m\n",
      "\u001b[0;32m/picb/rnomics3/yuanguohua/anaconda3/envs/tensorflow2/lib/python3.6/site-packages/tensorflow_core/python/keras/engine/training.py\u001b[0m in \u001b[0;36mfit\u001b[0;34m(self, x, y, batch_size, epochs, verbose, callbacks, validation_split, validation_data, shuffle, class_weight, sample_weight, initial_epoch, steps_per_epoch, validation_steps, validation_freq, max_queue_size, workers, use_multiprocessing, **kwargs)\u001b[0m\n\u001b[1;32m    726\u001b[0m         \u001b[0mmax_queue_size\u001b[0m\u001b[0;34m=\u001b[0m\u001b[0mmax_queue_size\u001b[0m\u001b[0;34m,\u001b[0m\u001b[0;34m\u001b[0m\u001b[0;34m\u001b[0m\u001b[0m\n\u001b[1;32m    727\u001b[0m         \u001b[0mworkers\u001b[0m\u001b[0;34m=\u001b[0m\u001b[0mworkers\u001b[0m\u001b[0;34m,\u001b[0m\u001b[0;34m\u001b[0m\u001b[0;34m\u001b[0m\u001b[0m\n\u001b[0;32m--> 728\u001b[0;31m         use_multiprocessing=use_multiprocessing)\n\u001b[0m\u001b[1;32m    729\u001b[0m \u001b[0;34m\u001b[0m\u001b[0m\n\u001b[1;32m    730\u001b[0m   def evaluate(self,\n",
      "\u001b[0;32m/picb/rnomics3/yuanguohua/anaconda3/envs/tensorflow2/lib/python3.6/site-packages/tensorflow_core/python/keras/engine/training_v2.py\u001b[0m in \u001b[0;36mfit\u001b[0;34m(self, model, x, y, batch_size, epochs, verbose, callbacks, validation_split, validation_data, shuffle, class_weight, sample_weight, initial_epoch, steps_per_epoch, validation_steps, validation_freq, **kwargs)\u001b[0m\n\u001b[1;32m    322\u001b[0m                 \u001b[0mmode\u001b[0m\u001b[0;34m=\u001b[0m\u001b[0mModeKeys\u001b[0m\u001b[0;34m.\u001b[0m\u001b[0mTRAIN\u001b[0m\u001b[0;34m,\u001b[0m\u001b[0;34m\u001b[0m\u001b[0;34m\u001b[0m\u001b[0m\n\u001b[1;32m    323\u001b[0m                 \u001b[0mtraining_context\u001b[0m\u001b[0;34m=\u001b[0m\u001b[0mtraining_context\u001b[0m\u001b[0;34m,\u001b[0m\u001b[0;34m\u001b[0m\u001b[0;34m\u001b[0m\u001b[0m\n\u001b[0;32m--> 324\u001b[0;31m                 total_epochs=epochs)\n\u001b[0m\u001b[1;32m    325\u001b[0m             \u001b[0mcbks\u001b[0m\u001b[0;34m.\u001b[0m\u001b[0mmake_logs\u001b[0m\u001b[0;34m(\u001b[0m\u001b[0mmodel\u001b[0m\u001b[0;34m,\u001b[0m \u001b[0mepoch_logs\u001b[0m\u001b[0;34m,\u001b[0m \u001b[0mtraining_result\u001b[0m\u001b[0;34m,\u001b[0m \u001b[0mModeKeys\u001b[0m\u001b[0;34m.\u001b[0m\u001b[0mTRAIN\u001b[0m\u001b[0;34m)\u001b[0m\u001b[0;34m\u001b[0m\u001b[0;34m\u001b[0m\u001b[0m\n\u001b[1;32m    326\u001b[0m \u001b[0;34m\u001b[0m\u001b[0m\n",
      "\u001b[0;32m/picb/rnomics3/yuanguohua/anaconda3/envs/tensorflow2/lib/python3.6/site-packages/tensorflow_core/python/keras/engine/training_v2.py\u001b[0m in \u001b[0;36mrun_one_epoch\u001b[0;34m(model, iterator, execution_function, dataset_size, batch_size, strategy, steps_per_epoch, num_samples, mode, training_context, total_epochs)\u001b[0m\n\u001b[1;32m    121\u001b[0m         step=step, mode=mode, size=current_batch_size) as batch_logs:\n\u001b[1;32m    122\u001b[0m       \u001b[0;32mtry\u001b[0m\u001b[0;34m:\u001b[0m\u001b[0;34m\u001b[0m\u001b[0;34m\u001b[0m\u001b[0m\n\u001b[0;32m--> 123\u001b[0;31m         \u001b[0mbatch_outs\u001b[0m \u001b[0;34m=\u001b[0m \u001b[0mexecution_function\u001b[0m\u001b[0;34m(\u001b[0m\u001b[0miterator\u001b[0m\u001b[0;34m)\u001b[0m\u001b[0;34m\u001b[0m\u001b[0;34m\u001b[0m\u001b[0m\n\u001b[0m\u001b[1;32m    124\u001b[0m       \u001b[0;32mexcept\u001b[0m \u001b[0;34m(\u001b[0m\u001b[0mStopIteration\u001b[0m\u001b[0;34m,\u001b[0m \u001b[0merrors\u001b[0m\u001b[0;34m.\u001b[0m\u001b[0mOutOfRangeError\u001b[0m\u001b[0;34m)\u001b[0m\u001b[0;34m:\u001b[0m\u001b[0;34m\u001b[0m\u001b[0;34m\u001b[0m\u001b[0m\n\u001b[1;32m    125\u001b[0m         \u001b[0;31m# TODO(kaftan): File bug about tf function and errors.OutOfRangeError?\u001b[0m\u001b[0;34m\u001b[0m\u001b[0;34m\u001b[0m\u001b[0;34m\u001b[0m\u001b[0m\n",
      "\u001b[0;32m/picb/rnomics3/yuanguohua/anaconda3/envs/tensorflow2/lib/python3.6/site-packages/tensorflow_core/python/keras/engine/training_v2_utils.py\u001b[0m in \u001b[0;36mexecution_function\u001b[0;34m(input_fn)\u001b[0m\n\u001b[1;32m     84\u001b[0m     \u001b[0;31m# `numpy` translates Tensors to values in Eager mode.\u001b[0m\u001b[0;34m\u001b[0m\u001b[0;34m\u001b[0m\u001b[0;34m\u001b[0m\u001b[0m\n\u001b[1;32m     85\u001b[0m     return nest.map_structure(_non_none_constant_value,\n\u001b[0;32m---> 86\u001b[0;31m                               distributed_function(input_fn))\n\u001b[0m\u001b[1;32m     87\u001b[0m \u001b[0;34m\u001b[0m\u001b[0m\n\u001b[1;32m     88\u001b[0m   \u001b[0;32mreturn\u001b[0m \u001b[0mexecution_function\u001b[0m\u001b[0;34m\u001b[0m\u001b[0;34m\u001b[0m\u001b[0m\n",
      "\u001b[0;32m/picb/rnomics3/yuanguohua/anaconda3/envs/tensorflow2/lib/python3.6/site-packages/tensorflow_core/python/eager/def_function.py\u001b[0m in \u001b[0;36m__call__\u001b[0;34m(self, *args, **kwds)\u001b[0m\n\u001b[1;32m    455\u001b[0m \u001b[0;34m\u001b[0m\u001b[0m\n\u001b[1;32m    456\u001b[0m     \u001b[0mtracing_count\u001b[0m \u001b[0;34m=\u001b[0m \u001b[0mself\u001b[0m\u001b[0;34m.\u001b[0m\u001b[0m_get_tracing_count\u001b[0m\u001b[0;34m(\u001b[0m\u001b[0;34m)\u001b[0m\u001b[0;34m\u001b[0m\u001b[0;34m\u001b[0m\u001b[0m\n\u001b[0;32m--> 457\u001b[0;31m     \u001b[0mresult\u001b[0m \u001b[0;34m=\u001b[0m \u001b[0mself\u001b[0m\u001b[0;34m.\u001b[0m\u001b[0m_call\u001b[0m\u001b[0;34m(\u001b[0m\u001b[0;34m*\u001b[0m\u001b[0margs\u001b[0m\u001b[0;34m,\u001b[0m \u001b[0;34m**\u001b[0m\u001b[0mkwds\u001b[0m\u001b[0;34m)\u001b[0m\u001b[0;34m\u001b[0m\u001b[0;34m\u001b[0m\u001b[0m\n\u001b[0m\u001b[1;32m    458\u001b[0m     \u001b[0;32mif\u001b[0m \u001b[0mtracing_count\u001b[0m \u001b[0;34m==\u001b[0m \u001b[0mself\u001b[0m\u001b[0;34m.\u001b[0m\u001b[0m_get_tracing_count\u001b[0m\u001b[0;34m(\u001b[0m\u001b[0;34m)\u001b[0m\u001b[0;34m:\u001b[0m\u001b[0;34m\u001b[0m\u001b[0;34m\u001b[0m\u001b[0m\n\u001b[1;32m    459\u001b[0m       \u001b[0mself\u001b[0m\u001b[0;34m.\u001b[0m\u001b[0m_call_counter\u001b[0m\u001b[0;34m.\u001b[0m\u001b[0mcalled_without_tracing\u001b[0m\u001b[0;34m(\u001b[0m\u001b[0;34m)\u001b[0m\u001b[0;34m\u001b[0m\u001b[0;34m\u001b[0m\u001b[0m\n",
      "\u001b[0;32m/picb/rnomics3/yuanguohua/anaconda3/envs/tensorflow2/lib/python3.6/site-packages/tensorflow_core/python/eager/def_function.py\u001b[0m in \u001b[0;36m_call\u001b[0;34m(self, *args, **kwds)\u001b[0m\n\u001b[1;32m    518\u001b[0m         \u001b[0;31m# Lifting succeeded, so variables are initialized and we can run the\u001b[0m\u001b[0;34m\u001b[0m\u001b[0;34m\u001b[0m\u001b[0;34m\u001b[0m\u001b[0m\n\u001b[1;32m    519\u001b[0m         \u001b[0;31m# stateless function.\u001b[0m\u001b[0;34m\u001b[0m\u001b[0;34m\u001b[0m\u001b[0;34m\u001b[0m\u001b[0m\n\u001b[0;32m--> 520\u001b[0;31m         \u001b[0;32mreturn\u001b[0m \u001b[0mself\u001b[0m\u001b[0;34m.\u001b[0m\u001b[0m_stateless_fn\u001b[0m\u001b[0;34m(\u001b[0m\u001b[0;34m*\u001b[0m\u001b[0margs\u001b[0m\u001b[0;34m,\u001b[0m \u001b[0;34m**\u001b[0m\u001b[0mkwds\u001b[0m\u001b[0;34m)\u001b[0m\u001b[0;34m\u001b[0m\u001b[0;34m\u001b[0m\u001b[0m\n\u001b[0m\u001b[1;32m    521\u001b[0m     \u001b[0;32melse\u001b[0m\u001b[0;34m:\u001b[0m\u001b[0;34m\u001b[0m\u001b[0;34m\u001b[0m\u001b[0m\n\u001b[1;32m    522\u001b[0m       \u001b[0mcanon_args\u001b[0m\u001b[0;34m,\u001b[0m \u001b[0mcanon_kwds\u001b[0m \u001b[0;34m=\u001b[0m\u001b[0;31m \u001b[0m\u001b[0;31m\\\u001b[0m\u001b[0;34m\u001b[0m\u001b[0;34m\u001b[0m\u001b[0m\n",
      "\u001b[0;32m/picb/rnomics3/yuanguohua/anaconda3/envs/tensorflow2/lib/python3.6/site-packages/tensorflow_core/python/eager/function.py\u001b[0m in \u001b[0;36m__call__\u001b[0;34m(self, *args, **kwargs)\u001b[0m\n\u001b[1;32m   1821\u001b[0m     \u001b[0;34m\"\"\"Calls a graph function specialized to the inputs.\"\"\"\u001b[0m\u001b[0;34m\u001b[0m\u001b[0;34m\u001b[0m\u001b[0m\n\u001b[1;32m   1822\u001b[0m     \u001b[0mgraph_function\u001b[0m\u001b[0;34m,\u001b[0m \u001b[0margs\u001b[0m\u001b[0;34m,\u001b[0m \u001b[0mkwargs\u001b[0m \u001b[0;34m=\u001b[0m \u001b[0mself\u001b[0m\u001b[0;34m.\u001b[0m\u001b[0m_maybe_define_function\u001b[0m\u001b[0;34m(\u001b[0m\u001b[0margs\u001b[0m\u001b[0;34m,\u001b[0m \u001b[0mkwargs\u001b[0m\u001b[0;34m)\u001b[0m\u001b[0;34m\u001b[0m\u001b[0;34m\u001b[0m\u001b[0m\n\u001b[0;32m-> 1823\u001b[0;31m     \u001b[0;32mreturn\u001b[0m \u001b[0mgraph_function\u001b[0m\u001b[0;34m.\u001b[0m\u001b[0m_filtered_call\u001b[0m\u001b[0;34m(\u001b[0m\u001b[0margs\u001b[0m\u001b[0;34m,\u001b[0m \u001b[0mkwargs\u001b[0m\u001b[0;34m)\u001b[0m  \u001b[0;31m# pylint: disable=protected-access\u001b[0m\u001b[0;34m\u001b[0m\u001b[0;34m\u001b[0m\u001b[0m\n\u001b[0m\u001b[1;32m   1824\u001b[0m \u001b[0;34m\u001b[0m\u001b[0m\n\u001b[1;32m   1825\u001b[0m   \u001b[0;34m@\u001b[0m\u001b[0mproperty\u001b[0m\u001b[0;34m\u001b[0m\u001b[0;34m\u001b[0m\u001b[0m\n",
      "\u001b[0;32m/picb/rnomics3/yuanguohua/anaconda3/envs/tensorflow2/lib/python3.6/site-packages/tensorflow_core/python/eager/function.py\u001b[0m in \u001b[0;36m_filtered_call\u001b[0;34m(self, args, kwargs)\u001b[0m\n\u001b[1;32m   1139\u001b[0m          if isinstance(t, (ops.Tensor,\n\u001b[1;32m   1140\u001b[0m                            resource_variable_ops.BaseResourceVariable))),\n\u001b[0;32m-> 1141\u001b[0;31m         self.captured_inputs)\n\u001b[0m\u001b[1;32m   1142\u001b[0m \u001b[0;34m\u001b[0m\u001b[0m\n\u001b[1;32m   1143\u001b[0m   \u001b[0;32mdef\u001b[0m \u001b[0m_call_flat\u001b[0m\u001b[0;34m(\u001b[0m\u001b[0mself\u001b[0m\u001b[0;34m,\u001b[0m \u001b[0margs\u001b[0m\u001b[0;34m,\u001b[0m \u001b[0mcaptured_inputs\u001b[0m\u001b[0;34m,\u001b[0m \u001b[0mcancellation_manager\u001b[0m\u001b[0;34m=\u001b[0m\u001b[0;32mNone\u001b[0m\u001b[0;34m)\u001b[0m\u001b[0;34m:\u001b[0m\u001b[0;34m\u001b[0m\u001b[0;34m\u001b[0m\u001b[0m\n",
      "\u001b[0;32m/picb/rnomics3/yuanguohua/anaconda3/envs/tensorflow2/lib/python3.6/site-packages/tensorflow_core/python/eager/function.py\u001b[0m in \u001b[0;36m_call_flat\u001b[0;34m(self, args, captured_inputs, cancellation_manager)\u001b[0m\n\u001b[1;32m   1222\u001b[0m     \u001b[0;32mif\u001b[0m \u001b[0mexecuting_eagerly\u001b[0m\u001b[0;34m:\u001b[0m\u001b[0;34m\u001b[0m\u001b[0;34m\u001b[0m\u001b[0m\n\u001b[1;32m   1223\u001b[0m       flat_outputs = forward_function.call(\n\u001b[0;32m-> 1224\u001b[0;31m           ctx, args, cancellation_manager=cancellation_manager)\n\u001b[0m\u001b[1;32m   1225\u001b[0m     \u001b[0;32melse\u001b[0m\u001b[0;34m:\u001b[0m\u001b[0;34m\u001b[0m\u001b[0;34m\u001b[0m\u001b[0m\n\u001b[1;32m   1226\u001b[0m       \u001b[0mgradient_name\u001b[0m \u001b[0;34m=\u001b[0m \u001b[0mself\u001b[0m\u001b[0;34m.\u001b[0m\u001b[0m_delayed_rewrite_functions\u001b[0m\u001b[0;34m.\u001b[0m\u001b[0mregister\u001b[0m\u001b[0;34m(\u001b[0m\u001b[0;34m)\u001b[0m\u001b[0;34m\u001b[0m\u001b[0;34m\u001b[0m\u001b[0m\n",
      "\u001b[0;32m/picb/rnomics3/yuanguohua/anaconda3/envs/tensorflow2/lib/python3.6/site-packages/tensorflow_core/python/eager/function.py\u001b[0m in \u001b[0;36mcall\u001b[0;34m(self, ctx, args, cancellation_manager)\u001b[0m\n\u001b[1;32m    509\u001b[0m               \u001b[0minputs\u001b[0m\u001b[0;34m=\u001b[0m\u001b[0margs\u001b[0m\u001b[0;34m,\u001b[0m\u001b[0;34m\u001b[0m\u001b[0;34m\u001b[0m\u001b[0m\n\u001b[1;32m    510\u001b[0m               \u001b[0mattrs\u001b[0m\u001b[0;34m=\u001b[0m\u001b[0;34m(\u001b[0m\u001b[0;34m\"executor_type\"\u001b[0m\u001b[0;34m,\u001b[0m \u001b[0mexecutor_type\u001b[0m\u001b[0;34m,\u001b[0m \u001b[0;34m\"config_proto\"\u001b[0m\u001b[0;34m,\u001b[0m \u001b[0mconfig\u001b[0m\u001b[0;34m)\u001b[0m\u001b[0;34m,\u001b[0m\u001b[0;34m\u001b[0m\u001b[0;34m\u001b[0m\u001b[0m\n\u001b[0;32m--> 511\u001b[0;31m               ctx=ctx)\n\u001b[0m\u001b[1;32m    512\u001b[0m         \u001b[0;32melse\u001b[0m\u001b[0;34m:\u001b[0m\u001b[0;34m\u001b[0m\u001b[0;34m\u001b[0m\u001b[0m\n\u001b[1;32m    513\u001b[0m           outputs = execute.execute_with_cancellation(\n",
      "\u001b[0;32m/picb/rnomics3/yuanguohua/anaconda3/envs/tensorflow2/lib/python3.6/site-packages/tensorflow_core/python/eager/execute.py\u001b[0m in \u001b[0;36mquick_execute\u001b[0;34m(op_name, num_outputs, inputs, attrs, ctx, name)\u001b[0m\n\u001b[1;32m     65\u001b[0m     \u001b[0;32melse\u001b[0m\u001b[0;34m:\u001b[0m\u001b[0;34m\u001b[0m\u001b[0;34m\u001b[0m\u001b[0m\n\u001b[1;32m     66\u001b[0m       \u001b[0mmessage\u001b[0m \u001b[0;34m=\u001b[0m \u001b[0me\u001b[0m\u001b[0;34m.\u001b[0m\u001b[0mmessage\u001b[0m\u001b[0;34m\u001b[0m\u001b[0;34m\u001b[0m\u001b[0m\n\u001b[0;32m---> 67\u001b[0;31m     \u001b[0msix\u001b[0m\u001b[0;34m.\u001b[0m\u001b[0mraise_from\u001b[0m\u001b[0;34m(\u001b[0m\u001b[0mcore\u001b[0m\u001b[0;34m.\u001b[0m\u001b[0m_status_to_exception\u001b[0m\u001b[0;34m(\u001b[0m\u001b[0me\u001b[0m\u001b[0;34m.\u001b[0m\u001b[0mcode\u001b[0m\u001b[0;34m,\u001b[0m \u001b[0mmessage\u001b[0m\u001b[0;34m)\u001b[0m\u001b[0;34m,\u001b[0m \u001b[0;32mNone\u001b[0m\u001b[0;34m)\u001b[0m\u001b[0;34m\u001b[0m\u001b[0;34m\u001b[0m\u001b[0m\n\u001b[0m\u001b[1;32m     68\u001b[0m   \u001b[0;32mexcept\u001b[0m \u001b[0mTypeError\u001b[0m \u001b[0;32mas\u001b[0m \u001b[0me\u001b[0m\u001b[0;34m:\u001b[0m\u001b[0;34m\u001b[0m\u001b[0;34m\u001b[0m\u001b[0m\n\u001b[1;32m     69\u001b[0m     keras_symbolic_tensors = [\n",
      "\u001b[0;32m/picb/rnomics3/yuanguohua/anaconda3/envs/tensorflow2/lib/python3.6/site-packages/six.py\u001b[0m in \u001b[0;36mraise_from\u001b[0;34m(value, from_value)\u001b[0m\n",
      "\u001b[0;31mResourceExhaustedError\u001b[0m:  OOM when allocating tensor with shape[63766,1024] and type float on /job:localhost/replica:0/task:0/device:GPU:0 by allocator GPU_0_bfc\n\t [[node MatMul_3 (defined at /picb/rnomics3/yuanguohua/anaconda3/envs/tensorflow2/lib/python3.6/site-packages/tensorflow_core/python/framework/ops.py:1751) ]]\nHint: If you want to see a list of allocated tensors when OOM happens, add report_tensor_allocations_upon_oom to RunOptions for current allocation info.\n [Op:__inference_distributed_function_446872]\n\nFunction call stack:\ndistributed_function\n"
     ]
    }
   ],
   "source": [
    "# This dataframe can store the highest mean of auroc among five-fold cross validations with each combination of hyperparameters\n",
    "comb_auroc = pd.DataFrame(columns = [\"filter_num\",\"units\",\"auroc_on_CV\"])\n",
    "\n",
    "# Optimize hyperparameters about model architechture\n",
    "for filter_num in filters_num_list:\n",
    "    for units in units_list:\n",
    "        # Five-fold cross validation\n",
    "        cvscore_auroc_iter = []\n",
    "        kfold = KFold(n_splits=5, random_state=SEED, shuffle=True)\n",
    "        for train_index, validate_index in kfold.split(dataset_training):\n",
    "            # Get cross validation set\n",
    "            TrainingSet_seq_structure_property = [tf.gather(X_Whole_training[0], axis=0, indices=train_index),tf.gather(X_Whole_training[1], axis=0, indices=train_index),tf.gather(X_Whole_training[2], axis=0, indices=train_index)]\n",
    "            TrainingSet_label = tf.gather(y_Whole_training, axis=0, indices=train_index)\n",
    "            ValidationSet_seq_structure_property = [tf.gather(X_Whole_training[0], axis=0, indices=validate_index),tf.gather(X_Whole_training[1], axis=0, indices=validate_index),tf.gather(X_Whole_training[2], axis=0, indices=validate_index)]\n",
    "            ValidationSet_label = tf.gather(y_Whole_training, axis=0, indices=validate_index)\n",
    "\n",
    "            # Train model\n",
    "            Net = CNN_Structure_Property(filter_num = filter_num, units = units)\n",
    "            callbacks = [keras.callbacks.EarlyStopping(monitor = \"val_accuracy\",patience=PATIENCE, \n",
    "                                                       min_delta=1e-3,mode = \"auto\",restore_best_weights = True)]\n",
    "            Net.compile(optimizer = OPTIMIZER, loss = LOSS, metrics = METRICS)\n",
    "            Net_history = Net.fit(TrainingSet_seq_structure_property,\n",
    "                                  TrainingSet_label,\n",
    "                                  batch_size = BATCH,\n",
    "                                  epochs = EPOCH,\n",
    "                                  shuffle = SHUFFLE,\n",
    "                                  callbacks = callbacks,\n",
    "                                  validation_data = (ValidationSet_seq_structure_property,ValidationSet_label),\n",
    "                                  verbose = 0)\n",
    "\n",
    "            # Get the auroc of the model with maximum accuracy on validation set per fold\n",
    "            cvscore_auroc_iter.append(Net_history.history[\"val_accuracy\"][-(PATIENCE+1)])\n",
    "            \n",
    "        # Add to the dataframe    \n",
    "        comb_auroc.loc[len(comb_auroc)] = [filter_num,units,cvscore_auroc_iter]\n",
    "\n",
    "        \n",
    "# Choose the optimal combnation of hyperparameters\n",
    "comb_auroc[\"mean_auroc_on_CV\"] = comb_auroc[\"auroc_on_CV\"].apply(np.mean)\n",
    "optimal_comb_index = comb_auroc[\"mean_auroc_on_CV\"].argmax()\n",
    "optimal_filter_num = comb_auroc[\"filter_num\"].loc[optimal_comb_index]\n",
    "optimal_units = comb_auroc[\"units\"].loc[optimal_comb_index]\n",
    "\n",
    "# Output result of cross validation\n",
    "comb_auroc.to_csv(os.path.join(output_dir,\"CNN_CV_result.tsv\"),sep = '\\t',header = True,index = False)"
   ]
  },
  {
   "cell_type": "markdown",
   "metadata": {},
   "source": [
    "*** \n",
    "###  "
   ]
  },
  {
   "cell_type": "markdown",
   "metadata": {},
   "source": [
    "## 5. Refit model with the optimal hyperparameters and whole training set"
   ]
  },
  {
   "cell_type": "code",
   "execution_count": 31,
   "metadata": {},
   "outputs": [],
   "source": [
    "optimal_filter_num = 64\n",
    "optimal_units = 512"
   ]
  },
  {
   "cell_type": "code",
   "execution_count": 135,
   "metadata": {},
   "outputs": [
    {
     "name": "stdout",
     "output_type": "stream",
     "text": [
      "Train on 3070 samples, validate on 342 samples\n",
      "Epoch 1/100\n",
      "WARNING:tensorflow:Method (on_train_batch_end) is slow compared to the batch update (0.233765). Check your callbacks.\n",
      "3070/3070 - 7s - loss: 0.7398 - accuracy: 0.5674 - sparse_categorical_crossentropy: 0.7398 - val_loss: 0.7733 - val_accuracy: 0.1637 - val_sparse_categorical_crossentropy: 0.7733\n",
      "Epoch 2/100\n",
      "3070/3070 - 4s - loss: 0.6379 - accuracy: 0.6169 - sparse_categorical_crossentropy: 0.6379 - val_loss: 1.0578 - val_accuracy: 0.1316 - val_sparse_categorical_crossentropy: 1.0578\n",
      "Epoch 3/100\n",
      "3070/3070 - 5s - loss: 0.6052 - accuracy: 0.6384 - sparse_categorical_crossentropy: 0.6052 - val_loss: 0.8540 - val_accuracy: 0.4591 - val_sparse_categorical_crossentropy: 0.8540\n",
      "Epoch 4/100\n",
      "3070/3070 - 5s - loss: 0.5728 - accuracy: 0.6684 - sparse_categorical_crossentropy: 0.5728 - val_loss: 0.8191 - val_accuracy: 0.5673 - val_sparse_categorical_crossentropy: 0.8191\n",
      "Epoch 5/100\n",
      "3070/3070 - 4s - loss: 0.5258 - accuracy: 0.7182 - sparse_categorical_crossentropy: 0.5258 - val_loss: 0.8452 - val_accuracy: 0.4912 - val_sparse_categorical_crossentropy: 0.8452\n",
      "Epoch 6/100\n",
      "3070/3070 - 4s - loss: 0.4844 - accuracy: 0.7430 - sparse_categorical_crossentropy: 0.4844 - val_loss: 1.2530 - val_accuracy: 0.3070 - val_sparse_categorical_crossentropy: 1.2530\n",
      "Epoch 7/100\n",
      "3070/3070 - 4s - loss: 0.4294 - accuracy: 0.7909 - sparse_categorical_crossentropy: 0.4294 - val_loss: 1.4016 - val_accuracy: 0.3246 - val_sparse_categorical_crossentropy: 1.4016\n",
      "Epoch 8/100\n",
      "3070/3070 - 4s - loss: 0.3730 - accuracy: 0.8173 - sparse_categorical_crossentropy: 0.3730 - val_loss: 1.3412 - val_accuracy: 0.3889 - val_sparse_categorical_crossentropy: 1.3412\n",
      "Epoch 9/100\n",
      "3070/3070 - 4s - loss: 0.3199 - accuracy: 0.8518 - sparse_categorical_crossentropy: 0.3199 - val_loss: 1.4453 - val_accuracy: 0.5292 - val_sparse_categorical_crossentropy: 1.4453\n",
      "Epoch 10/100\n",
      "3070/3070 - 4s - loss: 0.2673 - accuracy: 0.8863 - sparse_categorical_crossentropy: 0.2673 - val_loss: 1.5984 - val_accuracy: 0.4386 - val_sparse_categorical_crossentropy: 1.5984\n",
      "Epoch 11/100\n",
      "3070/3070 - 4s - loss: 0.2376 - accuracy: 0.8971 - sparse_categorical_crossentropy: 0.2376 - val_loss: 1.0754 - val_accuracy: 0.6520 - val_sparse_categorical_crossentropy: 1.0754\n",
      "Epoch 12/100\n",
      "3070/3070 - 4s - loss: 0.1945 - accuracy: 0.9182 - sparse_categorical_crossentropy: 0.1945 - val_loss: 1.9934 - val_accuracy: 0.4854 - val_sparse_categorical_crossentropy: 1.9934\n",
      "Epoch 13/100\n",
      "3070/3070 - 4s - loss: 0.1553 - accuracy: 0.9371 - sparse_categorical_crossentropy: 0.1553 - val_loss: 2.6429 - val_accuracy: 0.3421 - val_sparse_categorical_crossentropy: 2.6429\n",
      "Epoch 14/100\n",
      "3070/3070 - 4s - loss: 0.1554 - accuracy: 0.9410 - sparse_categorical_crossentropy: 0.1554 - val_loss: 2.1628 - val_accuracy: 0.5205 - val_sparse_categorical_crossentropy: 2.1628\n",
      "Epoch 15/100\n",
      "3070/3070 - 4s - loss: 0.1164 - accuracy: 0.9560 - sparse_categorical_crossentropy: 0.1164 - val_loss: 2.4900 - val_accuracy: 0.4211 - val_sparse_categorical_crossentropy: 2.4900\n",
      "Epoch 16/100\n",
      "3070/3070 - 4s - loss: 0.1164 - accuracy: 0.9590 - sparse_categorical_crossentropy: 0.1164 - val_loss: 2.6938 - val_accuracy: 0.4211 - val_sparse_categorical_crossentropy: 2.6938\n",
      "Epoch 17/100\n",
      "3070/3070 - 4s - loss: 0.0975 - accuracy: 0.9645 - sparse_categorical_crossentropy: 0.0975 - val_loss: 1.7991 - val_accuracy: 0.5351 - val_sparse_categorical_crossentropy: 1.7991\n",
      "Epoch 18/100\n",
      "3070/3070 - 4s - loss: 0.0890 - accuracy: 0.9655 - sparse_categorical_crossentropy: 0.0890 - val_loss: 2.8745 - val_accuracy: 0.4064 - val_sparse_categorical_crossentropy: 2.8745\n",
      "Epoch 19/100\n",
      "3070/3070 - 4s - loss: 0.0813 - accuracy: 0.9746 - sparse_categorical_crossentropy: 0.0813 - val_loss: 3.6191 - val_accuracy: 0.3743 - val_sparse_categorical_crossentropy: 3.6191\n",
      "Epoch 20/100\n",
      "3070/3070 - 4s - loss: 0.0709 - accuracy: 0.9788 - sparse_categorical_crossentropy: 0.0709 - val_loss: 2.0597 - val_accuracy: 0.5585 - val_sparse_categorical_crossentropy: 2.0597\n",
      "Epoch 21/100\n",
      "3070/3070 - 4s - loss: 0.0605 - accuracy: 0.9782 - sparse_categorical_crossentropy: 0.0605 - val_loss: 3.1475 - val_accuracy: 0.4532 - val_sparse_categorical_crossentropy: 3.1475\n",
      "Model: \"cnn__structure__property_23\"\n",
      "_________________________________________________________________\n",
      "Layer (type)                 Output Shape              Param #   \n",
      "=================================================================\n",
      "conv1d_46 (Conv1D)           multiple                  3136      \n",
      "_________________________________________________________________\n",
      "conv1d_47 (Conv1D)           multiple                  12320     \n",
      "_________________________________________________________________\n",
      "dropout_51 (Dropout)         multiple                  0         \n",
      "_________________________________________________________________\n",
      "max_pooling1d_23 (MaxPooling multiple                  0         \n",
      "_________________________________________________________________\n",
      "dropout_52 (Dropout)         multiple                  0         \n",
      "_________________________________________________________________\n",
      "dense_49 (Dense)             multiple                  2944      \n",
      "_________________________________________________________________\n",
      "flatten_54 (Flatten)         multiple                  0         \n",
      "_________________________________________________________________\n",
      "flatten_55 (Flatten)         multiple                  0         \n",
      "_________________________________________________________________\n",
      "dense_50 (Dense)             multiple                  16384512  \n",
      "_________________________________________________________________\n",
      "dropout_53 (Dropout)         multiple                  0         \n",
      "_________________________________________________________________\n",
      "dense_51 (Dense)             multiple                  1026      \n",
      "=================================================================\n",
      "Total params: 16,403,938\n",
      "Trainable params: 16,403,938\n",
      "Non-trainable params: 0\n",
      "_________________________________________________________________\n"
     ]
    }
   ],
   "source": [
    "# Refit model\n",
    "logdir = os.path.join(output_dir,\"log\")\n",
    "Net_final = CNN_Structure_Property(filter_num = optimal_filter_num , units = optimal_units)\n",
    "callbacks_final = [keras.callbacks.TensorBoard(log_dir=logdir),\n",
    "                   keras.callbacks.EarlyStopping(monitor = \"val_accuracy\",patience=PATIENCE,restore_best_weights = True),\n",
    "                   keras.callbacks.ModelCheckpoint(filepath = os.path.join(output_dir, \"best_model\"), monitor=\"val_accuracy\",\n",
    "                                                   save_weight_only = True, save_best_only=True,mode = \"auto\")]\n",
    "Net_final.compile(optimizer = OPTIMIZER, loss = LOSS, metrics = METRICS)\n",
    "Net_final_history = Net_final.fit(X_Whole_training,\n",
    "                                  y_Whole_training,\n",
    "                                  batch_size = BATCH,\n",
    "                                  epochs = EPOCH,\n",
    "                                  shuffle = SHUFFLE,\n",
    "                                  callbacks = callbacks_final,\n",
    "                                  validation_split = 0.1,\n",
    "                                  verbose = 2)\n",
    "Net_final.summary()"
   ]
  },
  {
   "cell_type": "markdown",
   "metadata": {},
   "source": [
    "*** \n",
    "###  "
   ]
  },
  {
   "cell_type": "markdown",
   "metadata": {},
   "source": [
    "## 6. Evaluate model performance on Test set"
   ]
  },
  {
   "cell_type": "code",
   "execution_count": 136,
   "metadata": {},
   "outputs": [
    {
     "name": "stdout",
     "output_type": "stream",
     "text": [
      "\n",
      "********************** Start Model Construction ***********************\n"
     ]
    },
    {
     "data": {
      "text/plain": [
       "<tensorflow.python.training.tracking.util.CheckpointLoadStatus at 0x7f8ba077be80>"
      ]
     },
     "execution_count": 136,
     "metadata": {},
     "output_type": "execute_result"
    },
    {
     "data": {
      "text/plain": [
       "<Figure size 432x288 with 0 Axes>"
      ]
     },
     "metadata": {},
     "output_type": "display_data"
    },
    {
     "data": {
      "image/png": "[encoded data removed]",
      "text/plain": [
       "<Figure size 720x720 with 1 Axes>"
      ]
     },
     "metadata": {
      "needs_background": "light"
     },
     "output_type": "display_data"
    }
   ],
   "source": [
    "################################# Model Construction #############################\n",
    "print(\"\\n********************** Start Model Construction ***********************\")\n",
    "# Whole test set\n",
    "X_test,y_test = convert2tensor(dataset_test)\n",
    "\n",
    "# Load best model\n",
    "# Load best model\n",
    "best_model = CNN_Structure_Property(filter_num = optimal_filter_num , units = optimal_units)\n",
    "best_model.load_weights(os.path.join(output_dir,\"best_model\"))\n",
    "\n",
    "# Predict\n",
    "prediction = best_model.predict(X_test)\n",
    "# Evaluate\n",
    "pre_label = np.argmax(prediction,axis=1)\n",
    "true_label = y_test.numpy()\n",
    "posi_prob = prediction[:,1]\n",
    "model_perf = evaluate_performance(true_label,pre_label,posi_prob)\n",
    "\n",
    "# Plot AUROC\n",
    "plot_AUROC(model_perf,output_dir)\n",
    "# Output performance\n",
    "eval_output(model_perf,output_dir)"
   ]
  },
  {
   "cell_type": "code",
   "execution_count": null,
   "metadata": {},
   "outputs": [],
   "source": []
  }
 ],
 "metadata": {
  "kernelspec": {
   "display_name": "tensorflow2",
   "language": "python",
   "name": "tensorflow2"
  },
  "language_info": {
   "codemirror_mode": {
    "name": "ipython",
    "version": 3
   },
   "file_extension": ".py",
   "mimetype": "text/x-python",
   "name": "python",
   "nbconvert_exporter": "python",
   "pygments_lexer": "ipython3",
   "version": "3.6.12"
  }
 },
 "nbformat": 4,
 "nbformat_minor": 4
}
