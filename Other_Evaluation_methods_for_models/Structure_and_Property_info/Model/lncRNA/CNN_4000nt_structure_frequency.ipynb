{
 "cells": [
  {
   "cell_type": "markdown",
   "metadata": {},
   "source": [
    "# Python"
   ]
  },
  {
   "cell_type": "markdown",
   "metadata": {},
   "source": [
    "## 1. Python import and define functions"
   ]
  },
  {
   "cell_type": "markdown",
   "metadata": {},
   "source": [
    "*** \n",
    "###  "
   ]
  },
  {
   "cell_type": "code",
   "execution_count": 1,
   "metadata": {},
   "outputs": [],
   "source": [
    "# Python import\n",
    "import os\n",
    "import argparse\n",
    "import collections\n",
    "import random\n",
    "import copy\n",
    "import numpy as np\n",
    "import pandas as pd\n",
    "import scipy\n",
    "from scipy import stats\n",
    "import matplotlib.pyplot as plt\n",
    "import sklearn.metrics as metrics\n",
    "import  sklearn.preprocessing as preprocessing\n",
    "from sklearn.model_selection import KFold\n",
    "import tensorflow as tf\n",
    "from tensorflow import keras\n",
    "from tensorflow.keras import layers,  Model, backend\n",
    "from tensorflow.compat.v1 import ConfigProto\n",
    "from tensorflow.compat.v1 import InteractiveSession\n",
    "from tfdeterminism import patch"
   ]
  },
  {
   "cell_type": "code",
   "execution_count": 2,
   "metadata": {},
   "outputs": [],
   "source": [
    "# Architecture of deep learning model\n",
    "class CNN_Structure_Property(Model):\n",
    "    def __init__(self, filter_num, units):\n",
    "        super().__init__()\n",
    "        self.conv1_seq =  layers.Conv1D(filters = filter_num,kernel_size = 12,strides = 1,padding = \"valid\",input_shape = (4000,4),activation = \"relu\")\n",
    "        \n",
    "        self.conv2_seq =  layers.Conv1D(filters = int(filter_num/2),kernel_size = 6,strides = 1,padding = \"valid\",activation = \"relu\")\n",
    "        self.drop1 = layers.Dropout(0.3)\n",
    "        \n",
    "        self.pooling_seq = layers.MaxPooling1D(pool_size =4, strides =4)\n",
    "        self.drop2 = layers.Dropout(0.3)\n",
    "        \n",
    "        self.dense1 = layers.Dense(units = 128, activation = \"sigmoid\")\n",
    "        \n",
    "        self.flatten_seq = layers.Flatten()\n",
    "        self.flatten_structure_property = layers.Flatten()\n",
    "        \n",
    "        self.dense2 = layers.Dense(units = units, activation = \"relu\")\n",
    "        self.drop3 = layers.Dropout(0.3)\n",
    "        self.dense3 = layers.Dense(units = 2, activation = \"softmax\")\n",
    "        \n",
    "    def call(self,inputs):\n",
    "        seq = self.flatten_seq(self.drop2(self.pooling_seq(self.drop1(self.conv2_seq(self.conv1_seq(inputs[0]))))))\n",
    "        structure_property = self.flatten_structure_property(self.dense1(inputs[1]))\n",
    "        \n",
    "        x = layers.concatenate([seq, structure_property],axis=-1)\n",
    "        x = self.dense2(x)\n",
    "        x = self.drop3(x)\n",
    "        y = self.dense3(x)\n",
    "        return y"
   ]
  },
  {
   "cell_type": "code",
   "execution_count": 3,
   "metadata": {},
   "outputs": [],
   "source": [
    "# Whether in jupyter notebook\n",
    "def isnotebook() -> bool:\n",
    "    \"\"\"\n",
    "    Returns True if the current execution environment is a jupyter notebook\n",
    "    https://stackoverflow.com/questions/15411967/how-can-i-check-if-code-is-executed-in-the-ipython-notebook\n",
    "    \"\"\"\n",
    "    try:\n",
    "        shell = get_ipython().__class__.__name__\n",
    "        if shell == 'ZMQInteractiveShell':\n",
    "            return True   # Jupyter notebook or qtconsole\n",
    "        elif shell == 'TerminalInteractiveShell':\n",
    "            return False  # Terminal running IPython\n",
    "        else:\n",
    "            return False  # Other type (?)\n",
    "    except NameError:\n",
    "        return False      # Probably standard Python interpreter"
   ]
  },
  {
   "cell_type": "code",
   "execution_count": 4,
   "metadata": {},
   "outputs": [],
   "source": [
    "#get filepath of input and output\n",
    "def get_filepath():\n",
    "    parser = argparse.ArgumentParser()\n",
    "    parser.add_argument(\"--training\",dest = \"training\", help = \"TrainingSet file\")\n",
    "    parser.add_argument(\"--test\",dest = \"test\",default = 20,help = \"TestSet file\")\n",
    "    parser.add_argument(\"-O\",\"-o\",\"--outputdir\",dest = \"outputdir\",help = \"Output dir of models\")\n",
    "    args = parser.parse_args()\n",
    "    return args"
   ]
  },
  {
   "cell_type": "code",
   "execution_count": 5,
   "metadata": {},
   "outputs": [],
   "source": [
    "# padding sequence to 4000nt\n",
    "def padding_truncate_seq(seq):\n",
    "    length = len(seq)  \n",
    "    if length > 4000: \n",
    "        seq = seq[:4000]   # trancate seq to 4000nt\n",
    "    else:\n",
    "        seq = seq + (4000 -length)*'N'  #padding N after seq to 4000nt\n",
    "    return seq"
   ]
  },
  {
   "cell_type": "code",
   "execution_count": 6,
   "metadata": {},
   "outputs": [],
   "source": [
    "# Convert data to tensor\n",
    "def convert2tensor(data):\n",
    "    NT_dict = {'A':np.array([1,0,0,0]),'T':np.array([0,1,0,0]),'G':np.array([0,0,1,0]),'C':np.array([0,0,0,1]),'N':np.array([0,0,0,0])}\n",
    "    label_dict = {'0': 0, '1':1}\n",
    "    \n",
    "    seq = tf.convert_to_tensor(data[\"cdna\"].apply(lambda x:np.array([ NT_dict[i] for i in x],dtype=np.float32)))\n",
    "    structure = tf.convert_to_tensor(np.array(data.iloc[:,1:15]),dtype=np.float32)\n",
    "    rna_property = tf.convert_to_tensor(np.array(data.iloc[:,15:-1]),dtype=np.float32)\n",
    "    structure_property = tf.concat([structure,rna_property], -1)\n",
    "    label = tf.convert_to_tensor(data[\"tag\"].apply(lambda x:np.array(label_dict[str(x)],dtype=np.float32)))\n",
    "    \n",
    "    X = [seq, structure_property]\n",
    "    y = label\n",
    "    return X,y"
   ]
  },
  {
   "cell_type": "code",
   "execution_count": 7,
   "metadata": {},
   "outputs": [],
   "source": [
    "#Evaluate performance of model\n",
    "def evaluate_performance(y_test, y_pred, y_prob):\n",
    "    # AUROC\n",
    "    auroc = metrics.roc_auc_score(y_test,y_prob)\n",
    "    auroc_curve = metrics.roc_curve(y_test, y_prob)\n",
    "    # AUPRC\n",
    "    auprc=metrics.average_precision_score(y_test, y_prob) \n",
    "    auprc_curve=metrics.precision_recall_curve(y_test, y_prob)\n",
    "    #Accuracy\n",
    "    accuracy=metrics.accuracy_score(y_test,y_pred) \n",
    "    #MCC\n",
    "    mcc=metrics.matthews_corrcoef(y_test,y_pred)\n",
    "    \n",
    "    recall=metrics.recall_score(y_test, y_pred)\n",
    "    precision=metrics.precision_score(y_test, y_pred)\n",
    "    f1=metrics.f1_score(y_test, y_pred)\n",
    "    class_report=metrics.classification_report(y_test, y_pred,target_names = [\"control\",\"case\"])\n",
    "\n",
    "    model_perf = {\"auroc\":auroc,\"auroc_curve\":auroc_curve,\n",
    "                  \"auprc\":auprc,\"auprc_curve\":auprc_curve,\n",
    "                  \"accuracy\":accuracy, \"mcc\": mcc,\n",
    "                  \"recall\":recall,\"precision\":precision,\"f1\":f1,\n",
    "                  \"class_report\":class_report}\n",
    "        \n",
    "    return model_perf"
   ]
  },
  {
   "cell_type": "code",
   "execution_count": 8,
   "metadata": {},
   "outputs": [],
   "source": [
    "# Output result of evaluation\n",
    "def eval_output(model_perf,path):\n",
    "    with open(os.path.join(path,\"Evaluate_Result_TestSet.txt\"),'w') as f:\n",
    "        f.write(\"AUROC=%s\\tAUPRC=%s\\tAccuracy=%s\\tMCC=%s\\tRecall=%s\\tPrecision=%s\\tf1_score=%s\\n\" %\n",
    "               (model_perf[\"auroc\"],model_perf[\"auprc\"],model_perf[\"accuracy\"],model_perf[\"mcc\"],model_perf[\"recall\"],model_perf[\"precision\"],model_perf[\"f1\"]))\n",
    "        f.write(\"\\n######NOTE#######\\n\")\n",
    "        f.write(\"#According to help_documentation of sklearn.metrics.classification_report:in binary classification, recall of the positive class is also known as sensitivity; recall of the negative class is specificity#\\n\\n\")\n",
    "        f.write(model_perf[\"class_report\"])"
   ]
  },
  {
   "cell_type": "code",
   "execution_count": 9,
   "metadata": {},
   "outputs": [],
   "source": [
    "# Plot AUROC of model\n",
    "def plot_AUROC(model_perf,path):\n",
    "    #get AUROC,FPR,TPR and threshold\n",
    "    roc_auc = model_perf[\"auroc\"]\n",
    "    fpr,tpr,threshold = model_perf[\"auroc_curve\"]\n",
    "    #return AUROC info\n",
    "    temp_df = pd.DataFrame({\"FPR\":fpr,\"TPR\":tpr})\n",
    "    temp_df.to_csv(os.path.join(path,\"AUROC_info.txt\"),header = True,index = False, sep = '\\t')\n",
    "    #plot\n",
    "    plt.figure()\n",
    "    lw = 2\n",
    "    plt.figure(figsize=(10,10))\n",
    "    plt.plot(fpr, tpr, color='darkorange',\n",
    "             lw=lw, label='AUROC (area = %0.2f)' % roc_auc) \n",
    "    plt.plot([0, 1], [0, 1], color='navy', lw=lw, linestyle='--')\n",
    "    plt.xlim([0.0, 1.0])\n",
    "    plt.ylim([0.0, 1.0])\n",
    "    plt.xlabel(\"False Positive Rate\")\n",
    "    plt.ylabel(\"True Positive Rate\")\n",
    "    plt.title(\"AUROC of Models\")\n",
    "    plt.legend(loc=\"lower right\")\n",
    "    plt.savefig(os.path.join(path,\"AUROC_TestSet.pdf\"),format = \"pdf\")"
   ]
  },
  {
   "cell_type": "markdown",
   "metadata": {},
   "source": [
    "*** \n",
    "###  "
   ]
  },
  {
   "cell_type": "markdown",
   "metadata": {},
   "source": [
    "## 2. Configution"
   ]
  },
  {
   "cell_type": "code",
   "execution_count": 10,
   "metadata": {},
   "outputs": [
    {
     "name": "stderr",
     "output_type": "stream",
     "text": [
      "TensorFlow version 2.0.0 has been patched using tfdeterminism version 0.3.0\n"
     ]
    }
   ],
   "source": [
    "# GPU Device\n",
    "CONFIG = ConfigProto()\n",
    "CONFIG.gpu_options.allow_growth = True\n",
    "SESSION = InteractiveSession(config=CONFIG)\n",
    "TF_DETERMINISTIC_OPS=1\n",
    "# hdf5 \n",
    "os.environ[\"HDF5_USE_FILE_LOCKING\"] = \"FALSE\"\n",
    "# Random seed\n",
    "patch()\n",
    "SEED = 100\n",
    "random.seed(SEED)\n",
    "np.random.seed(SEED)\n",
    "tf.random.set_seed(SEED)\n",
    "# Hyper-parameters\n",
    "OPTIMIZER = \"adam\"\n",
    "BATCH = 32\n",
    "SHUFFLE = True\n",
    "EPOCH = 100\n",
    "LOSS = \"sparse_categorical_crossentropy\"\n",
    "METRICS = [\"accuracy\",\"sparse_categorical_crossentropy\"]\n",
    "PATIENCE = 10\n",
    "filters_num_list = [32,64,128]\n",
    "units_list = [256,512,1024]\n",
    "\n",
    "# Index of model performance\n",
    "ModelPerf = collections.namedtuple('ModelPerf',\n",
    "                                   ['auroc', 'auroc_curve', 'auprc', 'auprc_curve', 'accuracy', \n",
    "                                    'mcc','recall', 'precision', 'f1', 'class_report','ce_loss'])\n",
    "\n",
    "# Output direction\n",
    "output_dir = \"./01_CNN_Output/CNN_4000nt_structure_frequency_Model_Output\"\n",
    "if not (os.path.exists(output_dir)):\n",
    "    os.makedirs(output_dir)"
   ]
  },
  {
   "cell_type": "markdown",
   "metadata": {},
   "source": [
    "*** \n",
    "###  "
   ]
  },
  {
   "cell_type": "markdown",
   "metadata": {},
   "source": [
    "## 3. Data Processing"
   ]
  },
  {
   "cell_type": "code",
   "execution_count": 11,
   "metadata": {},
   "outputs": [],
   "source": [
    "# Load dataset files\n",
    "Training_set_sequence = pd.read_csv(\"/data/rnomics8/yuanguohua/RNAlight_Private/lncRNA/03_Model_Construction/lncRNA_sublocation_TrainingSet.tsv\",sep='\\t')\n",
    "Training_set_structure = pd.read_csv(\"../../Structure_Dataset/lncRNA/lncRNA_sublocation_TrainingSet_structure.txt\",sep='\\t')\n",
    "Training_set_property = pd.read_csv(\"../../Property_Dataset/lncRNA/lncRNA_sublocation_TrainingSet_biochemical.txt\",sep='\\t')\n",
    "\n",
    "Test_set_sequence = pd.read_csv(\"/data/rnomics8/yuanguohua/RNAlight_Private/lncRNA/03_Model_Construction/lncRNA_sublocation_TestSet.tsv\",sep='\\t')\n",
    "Test_set_structure = pd.read_csv(\"../../Structure_Dataset/lncRNA/lncRNA_sublocation_TestSet_structure.txt\",sep='\\t')\n",
    "Test_set_property = pd.read_csv(\"../../Property_Dataset/lncRNA/lncRNA_sublocation_TestSet_biochemical.txt\",sep='\\t')\n",
    "\n",
    "# property info\n",
    "Train_df_property  = Training_set_property.iloc[:,1:]\n",
    "# Z-Score using scipy\n",
    "Train_df_property['length'] = stats.zscore(Train_df_property['length'])\n",
    "Train_df_property['MFE'] = stats.zscore(Train_df_property['MFE'])\n",
    "# property info\n",
    "Test_df_property  = Test_set_property.iloc[:,1:]\n",
    "# Z-Score using scipy\n",
    "Train_df_property['length'] = stats.zscore(Train_df_property['length'])\n",
    "Train_df_property['MFE'] = stats.zscore(Train_df_property['MFE'])\n",
    "\n",
    "# Format :[seq] [structure] [label]\n",
    "dataset_training = pd.concat([Training_set_sequence.iloc[:,2],Training_set_structure.iloc[:,2:],Train_df_property,Training_set_sequence.iloc[:,3]],axis = 1)\n",
    "dataset_test = pd.concat([Test_set_sequence.iloc[:,2],Test_set_structure.iloc[:,2:],Test_df_property,Test_set_sequence.iloc[:,3]],axis = 1)\n",
    "\n",
    "# Fix seq to 4000nt\n",
    "dataset_training[\"cdna\"] = dataset_training[\"cdna\"].apply(lambda x:padding_truncate_seq(x))\n",
    "dataset_test[\"cdna\"] = dataset_test[\"cdna\"].apply(lambda x:padding_truncate_seq(x))"
   ]
  },
  {
   "cell_type": "markdown",
   "metadata": {},
   "source": [
    "*** \n",
    "###  "
   ]
  },
  {
   "cell_type": "code",
   "execution_count": 12,
   "metadata": {},
   "outputs": [],
   "source": [
    "X_Whole_training,y_Whole_training = convert2tensor(dataset_training)"
   ]
  },
  {
   "cell_type": "markdown",
   "metadata": {},
   "source": [
    "## 4. Optimize hyperparameters by five-fold cross validation"
   ]
  },
  {
   "cell_type": "code",
   "execution_count": 15,
   "metadata": {},
   "outputs": [],
   "source": [
    "# This dataframe can store the highest mean of auroc among five-fold cross validations with each combination of hyperparameters\n",
    "comb_auroc = pd.DataFrame(columns = [\"filter_num\",\"units\",\"auroc_on_CV\"])\n",
    "\n",
    "# Optimize hyperparameters about model architechture\n",
    "for filter_num in filters_num_list:\n",
    "    for units in units_list:\n",
    "        # Five-fold cross validation\n",
    "        cvscore_auroc_iter = []\n",
    "        kfold = KFold(n_splits=5, random_state=SEED, shuffle=True)\n",
    "        for train_index, validate_index in kfold.split(dataset_training):\n",
    "            # Get cross validation set\n",
    "            TrainingSet_seq_structure_property = [tf.gather(X_Whole_training[0], axis=0, indices=train_index),tf.gather(X_Whole_training[1], axis=0, indices=train_index)]\n",
    "            TrainingSet_label = tf.gather(y_Whole_training, axis=0, indices=train_index)\n",
    "            ValidationSet_seq_structure_property = [tf.gather(X_Whole_training[0], axis=0, indices=validate_index),tf.gather(X_Whole_training[1], axis=0, indices=validate_index)]\n",
    "            ValidationSet_label = tf.gather(y_Whole_training, axis=0, indices=validate_index)\n",
    "\n",
    "            # Train model\n",
    "            Net = CNN_Structure_Property(filter_num = filter_num, units = units)\n",
    "            callbacks = [keras.callbacks.EarlyStopping(monitor = \"val_accuracy\",patience=PATIENCE, \n",
    "                                                       min_delta=1e-3,mode = \"auto\",restore_best_weights = True)]\n",
    "            Net.compile(optimizer = OPTIMIZER, loss = LOSS, metrics = METRICS)\n",
    "            Net_history = Net.fit(TrainingSet_seq_structure_property,\n",
    "                                  TrainingSet_label,\n",
    "                                  batch_size = BATCH,\n",
    "                                  epochs = EPOCH,\n",
    "                                  shuffle = SHUFFLE,\n",
    "                                  callbacks = callbacks,\n",
    "                                  validation_data = (ValidationSet_seq_structure_property,ValidationSet_label),\n",
    "                                  verbose = 0)\n",
    "\n",
    "            # Get the auroc of the model with maximum accuracy on validation set per fold\n",
    "            cvscore_auroc_iter.append(Net_history.history[\"val_accuracy\"][-(PATIENCE+1)])\n",
    "            \n",
    "        # Add to the dataframe    \n",
    "        comb_auroc.loc[len(comb_auroc)] = [filter_num,units,cvscore_auroc_iter]\n",
    "\n",
    "        \n",
    "# Choose the optimal combnation of hyperparameters\n",
    "comb_auroc[\"mean_auroc_on_CV\"] = comb_auroc[\"auroc_on_CV\"].apply(np.mean)\n",
    "optimal_comb_index = comb_auroc[\"mean_auroc_on_CV\"].argmax()\n",
    "optimal_filter_num = comb_auroc[\"filter_num\"].loc[optimal_comb_index]\n",
    "optimal_units = comb_auroc[\"units\"].loc[optimal_comb_index]\n",
    "\n",
    "# Output result of cross validation\n",
    "comb_auroc.to_csv(os.path.join(output_dir,\"CNN_CV_result.tsv\"),sep = '\\t',header = True,index = False)"
   ]
  },
  {
   "cell_type": "markdown",
   "metadata": {},
   "source": [
    "*** \n",
    "###  "
   ]
  },
  {
   "cell_type": "markdown",
   "metadata": {},
   "source": [
    "## 5. Refit model with the optimal hyperparameters and whole training set"
   ]
  },
  {
   "cell_type": "code",
   "execution_count": 16,
   "metadata": {},
   "outputs": [
    {
     "name": "stdout",
     "output_type": "stream",
     "text": [
      "Train on 3070 samples, validate on 342 samples\n",
      "Epoch 1/100\n",
      "WARNING:tensorflow:Method (on_train_batch_end) is slow compared to the batch update (0.999229). Check your callbacks.\n",
      "WARNING:tensorflow:Method (on_train_batch_end) is slow compared to the batch update (0.763855). Check your callbacks.\n",
      "WARNING:tensorflow:Method (on_train_batch_end) is slow compared to the batch update (0.528482). Check your callbacks.\n",
      "WARNING:tensorflow:Method (on_train_batch_end) is slow compared to the batch update (0.264260). Check your callbacks.\n",
      "3070/3070 - 7s - loss: 0.7214 - accuracy: 0.5707 - sparse_categorical_crossentropy: 0.7214 - val_loss: 0.8119 - val_accuracy: 0.0906 - val_sparse_categorical_crossentropy: 0.8119\n",
      "Epoch 2/100\n",
      "3070/3070 - 3s - loss: 0.6465 - accuracy: 0.6065 - sparse_categorical_crossentropy: 0.6465 - val_loss: 1.0680 - val_accuracy: 0.0497 - val_sparse_categorical_crossentropy: 1.0680\n",
      "Epoch 3/100\n",
      "3070/3070 - 4s - loss: 0.6085 - accuracy: 0.6479 - sparse_categorical_crossentropy: 0.6085 - val_loss: 0.9562 - val_accuracy: 0.3567 - val_sparse_categorical_crossentropy: 0.9562\n",
      "Epoch 4/100\n",
      "3070/3070 - 4s - loss: 0.5615 - accuracy: 0.6840 - sparse_categorical_crossentropy: 0.5615 - val_loss: 0.9005 - val_accuracy: 0.5497 - val_sparse_categorical_crossentropy: 0.9005\n",
      "Epoch 5/100\n",
      "3070/3070 - 3s - loss: 0.5196 - accuracy: 0.7098 - sparse_categorical_crossentropy: 0.5196 - val_loss: 0.9974 - val_accuracy: 0.4942 - val_sparse_categorical_crossentropy: 0.9974\n",
      "Epoch 6/100\n",
      "3070/3070 - 3s - loss: 0.4664 - accuracy: 0.7544 - sparse_categorical_crossentropy: 0.4664 - val_loss: 1.2649 - val_accuracy: 0.3713 - val_sparse_categorical_crossentropy: 1.2649\n",
      "Epoch 7/100\n",
      "3070/3070 - 3s - loss: 0.4312 - accuracy: 0.7837 - sparse_categorical_crossentropy: 0.4312 - val_loss: 1.3938 - val_accuracy: 0.4678 - val_sparse_categorical_crossentropy: 1.3938\n",
      "Epoch 8/100\n",
      "3070/3070 - 3s - loss: 0.3808 - accuracy: 0.8160 - sparse_categorical_crossentropy: 0.3808 - val_loss: 1.5580 - val_accuracy: 0.4211 - val_sparse_categorical_crossentropy: 1.5580\n",
      "Epoch 9/100\n",
      "3070/3070 - 3s - loss: 0.3641 - accuracy: 0.8199 - sparse_categorical_crossentropy: 0.3641 - val_loss: 1.5441 - val_accuracy: 0.4825 - val_sparse_categorical_crossentropy: 1.5441\n",
      "Epoch 10/100\n",
      "3070/3070 - 3s - loss: 0.3314 - accuracy: 0.8505 - sparse_categorical_crossentropy: 0.3314 - val_loss: 1.7958 - val_accuracy: 0.4386 - val_sparse_categorical_crossentropy: 1.7958\n",
      "Epoch 11/100\n",
      "3070/3070 - 3s - loss: 0.3195 - accuracy: 0.8531 - sparse_categorical_crossentropy: 0.3195 - val_loss: 1.5391 - val_accuracy: 0.4766 - val_sparse_categorical_crossentropy: 1.5391\n",
      "Epoch 12/100\n",
      "3070/3070 - 4s - loss: 0.2795 - accuracy: 0.8730 - sparse_categorical_crossentropy: 0.2795 - val_loss: 1.4908 - val_accuracy: 0.5585 - val_sparse_categorical_crossentropy: 1.4908\n",
      "Epoch 13/100\n",
      "3070/3070 - 3s - loss: 0.2674 - accuracy: 0.8792 - sparse_categorical_crossentropy: 0.2674 - val_loss: 2.4538 - val_accuracy: 0.4064 - val_sparse_categorical_crossentropy: 2.4538\n",
      "Epoch 14/100\n",
      "3070/3070 - 3s - loss: 0.2690 - accuracy: 0.8821 - sparse_categorical_crossentropy: 0.2690 - val_loss: 2.3655 - val_accuracy: 0.3977 - val_sparse_categorical_crossentropy: 2.3655\n",
      "Epoch 15/100\n",
      "3070/3070 - 3s - loss: 0.2180 - accuracy: 0.9059 - sparse_categorical_crossentropy: 0.2180 - val_loss: 1.8445 - val_accuracy: 0.5292 - val_sparse_categorical_crossentropy: 1.8445\n",
      "Epoch 16/100\n",
      "3070/3070 - 3s - loss: 0.2227 - accuracy: 0.8997 - sparse_categorical_crossentropy: 0.2227 - val_loss: 2.3210 - val_accuracy: 0.4357 - val_sparse_categorical_crossentropy: 2.3210\n",
      "Epoch 17/100\n",
      "3070/3070 - 3s - loss: 0.2167 - accuracy: 0.9101 - sparse_categorical_crossentropy: 0.2167 - val_loss: 2.0715 - val_accuracy: 0.4766 - val_sparse_categorical_crossentropy: 2.0715\n",
      "Epoch 18/100\n",
      "3070/3070 - 3s - loss: 0.2020 - accuracy: 0.9137 - sparse_categorical_crossentropy: 0.2020 - val_loss: 2.0519 - val_accuracy: 0.5146 - val_sparse_categorical_crossentropy: 2.0519\n",
      "Epoch 19/100\n",
      "3070/3070 - 3s - loss: 0.1813 - accuracy: 0.9267 - sparse_categorical_crossentropy: 0.1813 - val_loss: 2.8212 - val_accuracy: 0.4357 - val_sparse_categorical_crossentropy: 2.8212\n",
      "Epoch 20/100\n",
      "3070/3070 - 3s - loss: 0.1845 - accuracy: 0.9221 - sparse_categorical_crossentropy: 0.1845 - val_loss: 2.6617 - val_accuracy: 0.5117 - val_sparse_categorical_crossentropy: 2.6617\n",
      "Epoch 21/100\n",
      "3070/3070 - 3s - loss: 0.1713 - accuracy: 0.9309 - sparse_categorical_crossentropy: 0.1713 - val_loss: 2.8900 - val_accuracy: 0.4181 - val_sparse_categorical_crossentropy: 2.8900\n",
      "Epoch 22/100\n",
      "3070/3070 - 3s - loss: 0.1633 - accuracy: 0.9365 - sparse_categorical_crossentropy: 0.1633 - val_loss: 3.0318 - val_accuracy: 0.4561 - val_sparse_categorical_crossentropy: 3.0318\n",
      "Model: \"cnn__structure__property_46\"\n",
      "_________________________________________________________________\n",
      "Layer (type)                 Output Shape              Param #   \n",
      "=================================================================\n",
      "conv1d_92 (Conv1D)           multiple                  1568      \n",
      "_________________________________________________________________\n",
      "conv1d_93 (Conv1D)           multiple                  3088      \n",
      "_________________________________________________________________\n",
      "dropout_138 (Dropout)        multiple                  0         \n",
      "_________________________________________________________________\n",
      "max_pooling1d_46 (MaxPooling multiple                  0         \n",
      "_________________________________________________________________\n",
      "dropout_139 (Dropout)        multiple                  0         \n",
      "_________________________________________________________________\n",
      "dense_138 (Dense)            multiple                  2944      \n",
      "_________________________________________________________________\n",
      "flatten_92 (Flatten)         multiple                  0         \n",
      "_________________________________________________________________\n",
      "flatten_93 (Flatten)         multiple                  0         \n",
      "_________________________________________________________________\n",
      "dense_139 (Dense)            multiple                  4112640   \n",
      "_________________________________________________________________\n",
      "dropout_140 (Dropout)        multiple                  0         \n",
      "_________________________________________________________________\n",
      "dense_140 (Dense)            multiple                  514       \n",
      "=================================================================\n",
      "Total params: 4,120,754\n",
      "Trainable params: 4,120,754\n",
      "Non-trainable params: 0\n",
      "_________________________________________________________________\n"
     ]
    }
   ],
   "source": [
    "# Refit model\n",
    "logdir = os.path.join(output_dir,\"log\")\n",
    "Net_final = CNN_Structure_Property(filter_num = optimal_filter_num , units = optimal_units)\n",
    "callbacks_final = [keras.callbacks.TensorBoard(log_dir=logdir),\n",
    "                   keras.callbacks.EarlyStopping(monitor = \"val_accuracy\",patience=PATIENCE,restore_best_weights = True),\n",
    "                   keras.callbacks.ModelCheckpoint(filepath = os.path.join(output_dir, \"best_model\"), monitor=\"val_accuracy\",\n",
    "                                                   save_weight_only = True, save_best_only=True,mode = \"auto\")]\n",
    "Net_final.compile(optimizer = OPTIMIZER, loss = LOSS, metrics = METRICS)\n",
    "Net_final_history = Net_final.fit(X_Whole_training,\n",
    "                                  y_Whole_training,\n",
    "                                  batch_size = BATCH,\n",
    "                                  epochs = EPOCH,\n",
    "                                  shuffle = SHUFFLE,\n",
    "                                  callbacks = callbacks_final,\n",
    "                                  validation_split = 0.1,\n",
    "                                  verbose = 2)\n",
    "Net_final.summary()"
   ]
  },
  {
   "cell_type": "markdown",
   "metadata": {},
   "source": [
    "*** \n",
    "###  "
   ]
  },
  {
   "cell_type": "markdown",
   "metadata": {},
   "source": [
    "## 6. Evaluate model performance on Test set"
   ]
  },
  {
   "cell_type": "code",
   "execution_count": 17,
   "metadata": {},
   "outputs": [
    {
     "name": "stdout",
     "output_type": "stream",
     "text": [
      "\n",
      "********************** Start Model Construction ***********************\n"
     ]
    },
    {
     "data": {
      "text/plain": [
       "<tensorflow.python.training.tracking.util.CheckpointLoadStatus at 0x7f960051a198>"
      ]
     },
     "execution_count": 17,
     "metadata": {},
     "output_type": "execute_result"
    },
    {
     "data": {
      "text/plain": [
       "<Figure size 432x288 with 0 Axes>"
      ]
     },
     "metadata": {},
     "output_type": "display_data"
    },
    {
     "data": {
      "image/png": "[encoded data removed]",
      "text/plain": [
       "<Figure size 720x720 with 1 Axes>"
      ]
     },
     "metadata": {
      "needs_background": "light"
     },
     "output_type": "display_data"
    }
   ],
   "source": [
    "################################# Model Construction #############################\n",
    "print(\"\\n********************** Start Model Construction ***********************\")\n",
    "# Whole test set\n",
    "X_test,y_test = convert2tensor(dataset_test)\n",
    "\n",
    "# Load best model\n",
    "# Load best model\n",
    "best_model = CNN_Structure_Property(filter_num = optimal_filter_num , units = optimal_units)\n",
    "best_model.load_weights(os.path.join(output_dir,\"best_model\"))\n",
    "\n",
    "# Predict\n",
    "prediction = best_model.predict(X_test)\n",
    "# Evaluate\n",
    "pre_label = np.argmax(prediction,axis=1)\n",
    "true_label = y_test.numpy()\n",
    "posi_prob = prediction[:,1]\n",
    "model_perf = evaluate_performance(true_label,pre_label,posi_prob)\n",
    "\n",
    "# Plot AUROC\n",
    "plot_AUROC(model_perf,output_dir)\n",
    "# Output performance\n",
    "eval_output(model_perf,output_dir)"
   ]
  },
  {
   "cell_type": "code",
   "execution_count": 18,
   "metadata": {},
   "outputs": [],
   "source": [
    "from numba import cuda\n",
    "cuda.close()"
   ]
  },
  {
   "cell_type": "code",
   "execution_count": null,
   "metadata": {},
   "outputs": [],
   "source": []
  }
 ],
 "metadata": {
  "kernelspec": {
   "display_name": "tensorflow2",
   "language": "python",
   "name": "tensorflow2"
  },
  "language_info": {
   "codemirror_mode": {
    "name": "ipython",
    "version": 3
   },
   "file_extension": ".py",
   "mimetype": "text/x-python",
   "name": "python",
   "nbconvert_exporter": "python",
   "pygments_lexer": "ipython3",
   "version": "3.6.12"
  }
 },
 "nbformat": 4,
 "nbformat_minor": 4
}
