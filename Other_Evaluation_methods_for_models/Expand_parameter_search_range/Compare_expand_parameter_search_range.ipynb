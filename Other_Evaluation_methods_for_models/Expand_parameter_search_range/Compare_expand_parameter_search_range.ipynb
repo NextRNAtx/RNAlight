{
 "cells": [
  {
   "cell_type": "code",
   "execution_count": 92,
   "id": "dedicated-source",
   "metadata": {},
   "outputs": [],
   "source": [
    "library(ggplot2)\n",
    "library(reshape2)"
   ]
  },
  {
   "cell_type": "code",
   "execution_count": 93,
   "id": "pleased-float",
   "metadata": {},
   "outputs": [],
   "source": [
    "# Get auroc on CV with the maximum mean in the model\n",
    "get_auroc <- function(cv,col_name){\n",
    "    auroc_on_CV_str <- cv[which.max(cv$mean_auroc_on_CV),\"auroc_on_CV\"]\n",
    "    auroc_on_CV_str <- gsub('\\\\]|\\\\[',\"\",auroc_on_CV_str)\n",
    "    auroc_on_CV_df <- data.frame(as.double(unlist(strsplit(auroc_on_CV_str,\",\"))))\n",
    "    colnames(auroc_on_CV_df) <- col_name\n",
    "    return(auroc_on_CV_df)\n",
    "}"
   ]
  },
  {
   "cell_type": "markdown",
   "id": "dense-census",
   "metadata": {},
   "source": [
    "# lncRNA"
   ]
  },
  {
   "cell_type": "code",
   "execution_count": 125,
   "id": "dirty-diagnosis",
   "metadata": {},
   "outputs": [],
   "source": [
    "# Original range of parameter \n",
    "ori_range_ML_CV <- read.csv(\"/data/rnomics8/yuanguohua/RNAlight_Private/lncRNA/03_Model_Construction/01_Machine_Learning_Model/01_ML_Model_Output/ML_CV_result.tsv\",sep = '\\t')\n",
    "ori_range_CNN_CV <- read.csv(\"/data/rnomics8/yuanguohua/RNAlight_Private/lncRNA/03_Model_Construction/02_Deep_Learning_Model/01_DL_Model_Output/CNN_4000nt_Model_Output/CNN_CV_result.tsv\",sep='\\t')\n",
    "ori_range_CNN_RNN_CV <- read.csv(\"/data/rnomics8/yuanguohua/RNAlight_Private/lncRNA/03_Model_Construction/02_Deep_Learning_Model/01_DL_Model_Output/CNN_RNN_4000nt_Model_Output/CNN_RNN_CV_result.tsv\",sep='\\t')\n",
    "ori_range_RNN_CV <- read.csv(\"/data/rnomics8/yuanguohua/RNAlight_Private/lncRNA/03_Model_Construction/02_Deep_Learning_Model/01_DL_Model_Output/RNN_4000nt_Model_Output/RNN_CV_result.tsv\",sep='\\t')\n",
    "ori_range_CNN <- get_auroc(ori_range_CNN_CV,\"CNN\")\n",
    "ori_range_CNN_RNN <- get_auroc(ori_range_CNN_RNN_CV,\"CNN_RNN\")\n",
    "ori_range_RNN <- get_auroc(ori_range_RNN_CV,\"RNN\")\n",
    "\n",
    "# Combination\n",
    "ori_range_CV_result <- cbind(ori_range_ML_CV,ori_range_CNN,ori_range_CNN_RNN,ori_range_RNN)\n",
    "ori_range_CV_result_long <-melt(ori_range_CV_result,measure.vars=colnames(ori_range_CV_result),variable.name=\"model\",value.name=\"auroc\")\n",
    "ori_range_CV_result_long$range <- \"ori\""
   ]
  },
  {
   "cell_type": "code",
   "execution_count": 127,
   "id": "moral-society",
   "metadata": {},
   "outputs": [],
   "source": [
    "# Expand range of parameter \n",
    "exp_range_ML_CV <- read.csv(\"./lncRNA/01_Machine_Learning_Model/01_ML_Model_Output/ML_CV_result.tsv\",sep = '\\t')\n",
    "exp_range_CNN_CV <- read.csv(\"./lncRNA/02_Deep_Learning_Model/01_DL_Model_Output/CNN_4000nt_Model_Output/CNN_CV_result.tsv\",sep='\\t')\n",
    "exp_range_CNN_RNN_CV <- read.csv(\"./lncRNA/02_Deep_Learning_Model/01_DL_Model_Output/CNN_RNN_4000nt_Model_Output/CNN_RNN_CV_result.tsv\",sep='\\t')\n",
    "exp_range_RNN_CV <- read.csv(\"./lncRNA/02_Deep_Learning_Model/01_DL_Model_Output/RNN_4000nt_Model_Output/RNN_CV_result.tsv\",sep='\\t')\n",
    "\n",
    "exp_range_CNN <- get_auroc(exp_range_CNN_CV,\"CNN\")\n",
    "exp_range_CNN_RNN <- get_auroc(exp_range_CNN_RNN_CV,\"CNN_RNN\")\n",
    "exp_range_RNN <- get_auroc(exp_range_RNN_CV,\"RNN\")\n",
    "\n",
    "# Combination\n",
    "exp_range_CV_result <- cbind(exp_range_ML_CV,exp_range_CNN,exp_range_CNN_RNN,exp_range_RNN)\n",
    "exp_range_CV_result_long <-melt(exp_range_CV_result,measure.vars=colnames(exp_range_CV_result),variable.name=\"model\",value.name=\"auroc\")\n",
    "exp_range_CV_result_long$range <- \"exp\""
   ]
  },
  {
   "cell_type": "code",
   "execution_count": 128,
   "id": "numerical-scheme",
   "metadata": {},
   "outputs": [],
   "source": [
    "total_range_CV_df <- rbind(ori_range_CV_result_long, exp_range_CV_result_long)\n",
    "total_range_CV_df$model <- factor(total_range_CV_df$model,levels = c(\"lgb\",\"SVM\",\"lr\",\"CNN\",\"CNN_RNN\",\"RNN\"))\n",
    "total_range_CV_df$range <- factor(total_range_CV_df$range,levels = c(\"ori\",\"exp\"))"
   ]
  },
  {
   "cell_type": "code",
   "execution_count": 129,
   "id": "liked-tiger",
   "metadata": {},
   "outputs": [
    {
     "data": {
      "text/html": [
       "<table>\n",
       "<caption>A data.frame: 6 × 3</caption>\n",
       "<thead>\n",
       "\t<tr><th></th><th scope=col>model</th><th scope=col>auroc</th><th scope=col>range</th></tr>\n",
       "\t<tr><th></th><th scope=col>&lt;fct&gt;</th><th scope=col>&lt;dbl&gt;</th><th scope=col>&lt;fct&gt;</th></tr>\n",
       "</thead>\n",
       "<tbody>\n",
       "\t<tr><th scope=row>1</th><td>SVM</td><td>0.7464461</td><td>ori</td></tr>\n",
       "\t<tr><th scope=row>2</th><td>SVM</td><td>0.7152471</td><td>ori</td></tr>\n",
       "\t<tr><th scope=row>3</th><td>SVM</td><td>0.7346196</td><td>ori</td></tr>\n",
       "\t<tr><th scope=row>4</th><td>SVM</td><td>0.7238258</td><td>ori</td></tr>\n",
       "\t<tr><th scope=row>5</th><td>SVM</td><td>0.7307832</td><td>ori</td></tr>\n",
       "\t<tr><th scope=row>6</th><td>lgb</td><td>0.7472712</td><td>ori</td></tr>\n",
       "</tbody>\n",
       "</table>\n"
      ],
      "text/latex": [
       "A data.frame: 6 × 3\n",
       "\\begin{tabular}{r|lll}\n",
       "  & model & auroc & range\\\\\n",
       "  & <fct> & <dbl> & <fct>\\\\\n",
       "\\hline\n",
       "\t1 & SVM & 0.7464461 & ori\\\\\n",
       "\t2 & SVM & 0.7152471 & ori\\\\\n",
       "\t3 & SVM & 0.7346196 & ori\\\\\n",
       "\t4 & SVM & 0.7238258 & ori\\\\\n",
       "\t5 & SVM & 0.7307832 & ori\\\\\n",
       "\t6 & lgb & 0.7472712 & ori\\\\\n",
       "\\end{tabular}\n"
      ],
      "text/markdown": [
       "\n",
       "A data.frame: 6 × 3\n",
       "\n",
       "| <!--/--> | model &lt;fct&gt; | auroc &lt;dbl&gt; | range &lt;fct&gt; |\n",
       "|---|---|---|---|\n",
       "| 1 | SVM | 0.7464461 | ori |\n",
       "| 2 | SVM | 0.7152471 | ori |\n",
       "| 3 | SVM | 0.7346196 | ori |\n",
       "| 4 | SVM | 0.7238258 | ori |\n",
       "| 5 | SVM | 0.7307832 | ori |\n",
       "| 6 | lgb | 0.7472712 | ori |\n",
       "\n"
      ],
      "text/plain": [
       "  model auroc     range\n",
       "1 SVM   0.7464461 ori  \n",
       "2 SVM   0.7152471 ori  \n",
       "3 SVM   0.7346196 ori  \n",
       "4 SVM   0.7238258 ori  \n",
       "5 SVM   0.7307832 ori  \n",
       "6 lgb   0.7472712 ori  "
      ]
     },
     "metadata": {},
     "output_type": "display_data"
    }
   ],
   "source": [
    "head(total_range_CV_df )"
   ]
  },
  {
   "cell_type": "code",
   "execution_count": 130,
   "id": "occasional-browser",
   "metadata": {},
   "outputs": [
    {
     "data": {
      "image/png": "[encoded data removed]",
      "text/plain": [
       "plot without title"
      ]
     },
     "metadata": {
      "image/png": {
       "height": 420,
       "width": 420
      }
     },
     "output_type": "display_data"
    }
   ],
   "source": [
    "# plot\n",
    "p_box <- ggplot(data=total_range_CV_df ,aes(x=model,y=auroc,fill = range))+\n",
    "geom_boxplot(width = 0.6,outlier.color=\"white\")+\n",
    "scale_fill_manual(values =  c(\"#98c1d9\",\"#eed7c5\"))+\n",
    "ylim(0.5,0.8)+theme_classic()+\n",
    "theme(axis.text = element_text(size=14),\n",
    "      axis.title = element_text(size=14),\n",
    "      element_line(size = 1.2))\n",
    "ggsave(\"./lncRNA_CV_comparison_expand_parameter_range_with_text.pdf\", p_box, width = 10, height = 10) \n",
    "\n",
    "p_box "
   ]
  },
  {
   "cell_type": "code",
   "execution_count": 131,
   "id": "surprised-declaration",
   "metadata": {},
   "outputs": [
    {
     "data": {
      "image/png": "[encoded data removed]",
      "text/plain": [
       "plot without title"
      ]
     },
     "metadata": {
      "image/png": {
       "height": 420,
       "width": 420
      }
     },
     "output_type": "display_data"
    }
   ],
   "source": [
    "p_box2 <- p_box + theme(axis.text = element_blank(),axis.title = element_blank(),axis.ticks = element_blank(),legend.position = \"None\")\n",
    "ggsave(\"./lncRNA_CV_comparison_expand_parameter_range.pdf\", p_box2, width = 10, height = 10) \n",
    "\n",
    "p_box2"
   ]
  },
  {
   "cell_type": "code",
   "execution_count": 132,
   "id": "level-radical",
   "metadata": {},
   "outputs": [
    {
     "data": {
      "text/plain": [
       "\n",
       "\tWelch Two Sample t-test\n",
       "\n",
       "data:  exp_range_CV_result$lgb and ori_range_CV_result$lgb\n",
       "t = 0.30077, df = 6.8985, p-value = 0.7725\n",
       "alternative hypothesis: true difference in means is not equal to 0\n",
       "95 percent confidence interval:\n",
       " -0.01229471  0.01586589\n",
       "sample estimates:\n",
       "mean of x mean of y \n",
       "0.7484516 0.7466660 \n"
      ]
     },
     "metadata": {},
     "output_type": "display_data"
    }
   ],
   "source": [
    "t.test(exp_range_CV_result$lgb, ori_range_CV_result$lgb)"
   ]
  },
  {
   "cell_type": "code",
   "execution_count": 133,
   "id": "crude-aberdeen",
   "metadata": {},
   "outputs": [
    {
     "data": {
      "text/plain": [
       "\n",
       "\tWelch Two Sample t-test\n",
       "\n",
       "data:  exp_range_CV_result$SVM and ori_range_CV_result$SVM\n",
       "t = -0.053591, df = 7.9945, p-value = 0.9586\n",
       "alternative hypothesis: true difference in means is not equal to 0\n",
       "95 percent confidence interval:\n",
       " -0.01770342  0.01689936\n",
       "sample estimates:\n",
       "mean of x mean of y \n",
       "0.7297823 0.7301843 \n"
      ]
     },
     "metadata": {},
     "output_type": "display_data"
    }
   ],
   "source": [
    "t.test(exp_range_CV_result$SVM, ori_range_CV_result$SVM)"
   ]
  },
  {
   "cell_type": "code",
   "execution_count": 134,
   "id": "nasty-automation",
   "metadata": {},
   "outputs": [
    {
     "data": {
      "text/plain": [
       "\n",
       "\tWelch Two Sample t-test\n",
       "\n",
       "data:  exp_range_CV_result$lr and ori_range_CV_result$lr\n",
       "t = 0.010343, df = 8, p-value = 0.992\n",
       "alternative hypothesis: true difference in means is not equal to 0\n",
       "95 percent confidence interval:\n",
       " -0.01872639  0.01889513\n",
       "sample estimates:\n",
       "mean of x mean of y \n",
       "0.7300360 0.7299517 \n"
      ]
     },
     "metadata": {},
     "output_type": "display_data"
    }
   ],
   "source": [
    "t.test(exp_range_CV_result$lr, ori_range_CV_result$lr)"
   ]
  },
  {
   "cell_type": "code",
   "execution_count": 135,
   "id": "exceptional-borough",
   "metadata": {},
   "outputs": [
    {
     "data": {
      "text/plain": [
       "\n",
       "\tWelch Two Sample t-test\n",
       "\n",
       "data:  exp_range_CV_result$CNN and ori_range_CV_result$CNN\n",
       "t = 2.2992, df = 5.351, p-value = 0.06642\n",
       "alternative hypothesis: true difference in means is not equal to 0\n",
       "95 percent confidence interval:\n",
       " -0.001412349  0.030732733\n",
       "sample estimates:\n",
       "mean of x mean of y \n",
       "0.6544600 0.6397998 \n"
      ]
     },
     "metadata": {},
     "output_type": "display_data"
    }
   ],
   "source": [
    "t.test(exp_range_CV_result$CNN, ori_range_CV_result$CNN)"
   ]
  },
  {
   "cell_type": "code",
   "execution_count": 136,
   "id": "alike-marketing",
   "metadata": {},
   "outputs": [
    {
     "data": {
      "text/plain": [
       "\n",
       "\tWelch Two Sample t-test\n",
       "\n",
       "data:  exp_range_CV_result$CNN_RNN and ori_range_CV_result$CNN_RNN\n",
       "t = 0.17071, df = 7.7041, p-value = 0.8688\n",
       "alternative hypothesis: true difference in means is not equal to 0\n",
       "95 percent confidence interval:\n",
       " -0.02214133  0.02565611\n",
       "sample estimates:\n",
       "mean of x mean of y \n",
       "0.6374577 0.6357003 \n"
      ]
     },
     "metadata": {},
     "output_type": "display_data"
    }
   ],
   "source": [
    "t.test(exp_range_CV_result$CNN_RNN, ori_range_CV_result$CNN_RNN)"
   ]
  },
  {
   "cell_type": "code",
   "execution_count": 137,
   "id": "breathing-formula",
   "metadata": {},
   "outputs": [
    {
     "data": {
      "text/plain": [
       "\n",
       "\tWelch Two Sample t-test\n",
       "\n",
       "data:  exp_range_CV_result$RNN and ori_range_CV_result$RNN\n",
       "t = 0.77036, df = 7.9987, p-value = 0.4632\n",
       "alternative hypothesis: true difference in means is not equal to 0\n",
       "95 percent confidence interval:\n",
       " -0.009346848  0.018724148\n",
       "sample estimates:\n",
       "mean of x mean of y \n",
       "0.6254411 0.6207524 \n"
      ]
     },
     "metadata": {},
     "output_type": "display_data"
    }
   ],
   "source": [
    "t.test(exp_range_CV_result$RNN, ori_range_CV_result$RNN)"
   ]
  },
  {
   "cell_type": "code",
   "execution_count": 138,
   "id": "blessed-hearing",
   "metadata": {},
   "outputs": [],
   "source": [
    "# lgb, svm, lr, CNN, CNN_RNN\n",
    "ori_test_result <- data.frame(auc = c(0.7833019077196096,0.7545474711623781,0.7561279946761312,0.718029059449867,0.7091559449866904,0.630129769299024))\n",
    "ori_test_result$model <- c(\"lgb\",\"SVM\",\"lr\",\"CNN\",\"CNN_RNN\",\"RNN\")\n",
    "ori_test_result$range <- \"ori\"\n",
    "\n",
    "exp_test_result <- data.frame(auc = c(0.7918700088731143,0.7550743123336292,0.7566548358473824,0.7190550133096718,0.7164485359361136,0.651120230700976))\n",
    "exp_test_result$model <- c(\"lgb\",\"SVM\",\"lr\",\"CNN\",\"CNN_RNN\",\"RNN\")\n",
    "exp_test_result$range <- \"exp\""
   ]
  },
  {
   "cell_type": "code",
   "execution_count": 139,
   "id": "previous-coral",
   "metadata": {},
   "outputs": [],
   "source": [
    "total_range_test_df <-rbind(ori_test_result,exp_test_result)\n",
    "total_range_test_df$model <- factor(total_range_test_df$model,levels = c(\"lgb\",\"SVM\",\"lr\",\"CNN\",\"CNN_RNN\",\"RNN\"))\n",
    "total_range_test_df$range <- factor(total_range_test_df$range,levels = c(\"ori\",\"exp\"))"
   ]
  },
  {
   "cell_type": "code",
   "execution_count": 140,
   "id": "behind-broadway",
   "metadata": {},
   "outputs": [
    {
     "data": {
      "image/png": "[encoded data removed]",
      "text/plain": [
       "plot without title"
      ]
     },
     "metadata": {
      "image/png": {
       "height": 420,
       "width": 420
      }
     },
     "output_type": "display_data"
    }
   ],
   "source": [
    "p_auc_RNALight_bar <- ggplot(total_range_test_df  ,aes(x=model,y=auc,fill = range))+\n",
    "geom_bar(stat=\"identity\",position=position_dodge(0.7),width=0.6)+\n",
    "ylim(0,1) +\n",
    "theme_classic()+\n",
    "scale_fill_manual(values=c(\"#98c1d9\",\"#eed7c5\"))+\n",
    "theme(axis.text = element_text(size=14),\n",
    "      axis.title = element_text(size=14),\n",
    "element_line(size = 1.2))\n",
    "ggsave(\"./lncRNA_test_comparison_expand_parameter_range_with_text.pdf\",p_auc_RNALight_bar, width = 10, height = 10) \n",
    "p_auc_RNALight_bar"
   ]
  },
  {
   "cell_type": "code",
   "execution_count": 141,
   "id": "informative-cancellation",
   "metadata": {},
   "outputs": [
    {
     "data": {
      "image/png": "[encoded data removed]",
      "text/plain": [
       "plot without title"
      ]
     },
     "metadata": {
      "image/png": {
       "height": 420,
       "width": 420
      }
     },
     "output_type": "display_data"
    }
   ],
   "source": [
    "p_auc_RNALight_bar2 <-p_auc_RNALight_bar  + theme(axis.text = element_blank(),axis.title = element_blank(),axis.ticks = element_blank(),legend.position = \"None\")\n",
    "ggsave(\"./lncRNA_test_comparison_expand_parameter_range.pdf\",p_auc_RNALight_bar2 , width = 10, height = 10)\n",
    "p_auc_RNALight_bar2 "
   ]
  },
  {
   "cell_type": "code",
   "execution_count": null,
   "id": "insured-transmission",
   "metadata": {},
   "outputs": [],
   "source": []
  },
  {
   "cell_type": "markdown",
   "id": "wooden-general",
   "metadata": {},
   "source": [
    "# mRNA"
   ]
  },
  {
   "cell_type": "code",
   "execution_count": 143,
   "id": "dried-mortgage",
   "metadata": {},
   "outputs": [],
   "source": [
    "# Original range of parameter \n",
    "ori_range_ML_CV <- read.csv(\"/data/rnomics8/yuanguohua/RNAlight_Private/mRNA/03_Model_Construction/01_Machine_Learning_Model/01_ML_Model_Output/ML_CV_result.tsv\",sep = '\\t')\n",
    "ori_range_CNN_CV <- read.csv(\"/data/rnomics8/yuanguohua/RNAlight_Private/mRNA/03_Model_Construction/02_Deep_Learning_Model/01_DL_Model_Output/CNN_9000nt_Model_Output/CNN_CV_result.tsv\",sep='\\t')\n",
    "ori_range_CNN_RNN_CV <- read.csv(\"/data/rnomics8/yuanguohua/RNAlight_Private/mRNA/03_Model_Construction/02_Deep_Learning_Model/01_DL_Model_Output/CNN_RNN_9000nt_Model_Output/CNN_RNN_CV_result.tsv\",sep='\\t')\n",
    "ori_range_RNN_CV <- read.csv(\"/data/rnomics8/yuanguohua/RNAlight_Private/mRNA/03_Model_Construction/02_Deep_Learning_Model/01_DL_Model_Output/RNN_9000nt_Model_Output/RNN_CV_result.tsv\",sep='\\t')\n",
    "\n",
    "ori_range_CNN <- get_auroc(ori_range_CNN_CV,\"CNN\")\n",
    "ori_range_CNN_RNN <- get_auroc(ori_range_CNN_RNN_CV,\"CNN_RNN\")\n",
    "ori_range_RNN <- get_auroc(ori_range_RNN_CV,\"RNN\")\n",
    "\n",
    "# Combination\n",
    "ori_range_CV_result <- cbind(ori_range_ML_CV,ori_range_CNN,ori_range_CNN_RNN,ori_range_RNN)\n",
    "ori_range_CV_result_long <-melt(ori_range_CV_result,measure.vars=colnames(ori_range_CV_result),variable.name=\"model\",value.name=\"auroc\")\n",
    "ori_range_CV_result_long$range <- \"ori\""
   ]
  },
  {
   "cell_type": "code",
   "execution_count": 144,
   "id": "further-reunion",
   "metadata": {},
   "outputs": [],
   "source": [
    "# Expand range of parameter \n",
    "exp_range_ML_CV <- read.csv(\"./mRNA/01_Machine_Learning_Model/01_ML_Model_Output/ML_CV_result.tsv\",sep = '\\t')\n",
    "exp_range_CNN_CV <- read.csv(\"./mRNA/02_Deep_Learning_Model/01_DL_Model_Output/CNN_9000nt_Model_Output/CNN_CV_result.tsv\",sep='\\t')\n",
    "exp_range_CNN_RNN_CV <- read.csv(\"./mRNA/02_Deep_Learning_Model/01_DL_Model_Output/CNN_RNN_9000nt_Model_Output/CNN_RNN_CV_result.tsv\",sep='\\t')\n",
    "exp_range_RNN_CV <- read.csv(\"./mRNA/02_Deep_Learning_Model/01_DL_Model_Output/RNN_9000nt_Model_Output/RNN_CV_result.tsv\",sep='\\t')\n",
    "\n",
    "\n",
    "exp_range_CNN <- get_auroc(exp_range_CNN_CV,\"CNN\")\n",
    "exp_range_CNN_RNN <- get_auroc(exp_range_CNN_RNN_CV,\"CNN_RNN\")\n",
    "exp_range_RNN <- get_auroc(exp_range_RNN_CV,\"RNN\")\n",
    "\n",
    "\n",
    "# Combination\n",
    "exp_range_CV_result <- cbind(exp_range_ML_CV,exp_range_CNN,exp_range_CNN_RNN,exp_range_RNN)\n",
    "exp_range_CV_result_long <-melt(exp_range_CV_result,measure.vars=colnames(exp_range_CV_result),variable.name=\"model\",value.name=\"auroc\")\n",
    "exp_range_CV_result_long$range <- \"exp\""
   ]
  },
  {
   "cell_type": "code",
   "execution_count": 145,
   "id": "applied-resort",
   "metadata": {},
   "outputs": [],
   "source": [
    "total_range_CV_df <- rbind(ori_range_CV_result_long, exp_range_CV_result_long)\n",
    "total_range_CV_df$model <- factor(total_range_CV_df$model,levels = c(\"lgb\",\"SVM\",\"lr\",\"CNN\",\"CNN_RNN\",\"RNN\"))\n",
    "total_range_CV_df$range <- factor(total_range_CV_df$range,levels = c(\"ori\",\"exp\"))"
   ]
  },
  {
   "cell_type": "code",
   "execution_count": 146,
   "id": "accompanied-conservative",
   "metadata": {},
   "outputs": [
    {
     "data": {
      "text/html": [
       "<table>\n",
       "<caption>A data.frame: 6 × 3</caption>\n",
       "<thead>\n",
       "\t<tr><th></th><th scope=col>model</th><th scope=col>auroc</th><th scope=col>range</th></tr>\n",
       "\t<tr><th></th><th scope=col>&lt;fct&gt;</th><th scope=col>&lt;dbl&gt;</th><th scope=col>&lt;fct&gt;</th></tr>\n",
       "</thead>\n",
       "<tbody>\n",
       "\t<tr><th scope=row>1</th><td>SVM</td><td>0.6947355</td><td>ori</td></tr>\n",
       "\t<tr><th scope=row>2</th><td>SVM</td><td>0.6663987</td><td>ori</td></tr>\n",
       "\t<tr><th scope=row>3</th><td>SVM</td><td>0.6349959</td><td>ori</td></tr>\n",
       "\t<tr><th scope=row>4</th><td>SVM</td><td>0.6721344</td><td>ori</td></tr>\n",
       "\t<tr><th scope=row>5</th><td>SVM</td><td>0.6694973</td><td>ori</td></tr>\n",
       "\t<tr><th scope=row>6</th><td>lgb</td><td>0.7573167</td><td>ori</td></tr>\n",
       "</tbody>\n",
       "</table>\n"
      ],
      "text/latex": [
       "A data.frame: 6 × 3\n",
       "\\begin{tabular}{r|lll}\n",
       "  & model & auroc & range\\\\\n",
       "  & <fct> & <dbl> & <fct>\\\\\n",
       "\\hline\n",
       "\t1 & SVM & 0.6947355 & ori\\\\\n",
       "\t2 & SVM & 0.6663987 & ori\\\\\n",
       "\t3 & SVM & 0.6349959 & ori\\\\\n",
       "\t4 & SVM & 0.6721344 & ori\\\\\n",
       "\t5 & SVM & 0.6694973 & ori\\\\\n",
       "\t6 & lgb & 0.7573167 & ori\\\\\n",
       "\\end{tabular}\n"
      ],
      "text/markdown": [
       "\n",
       "A data.frame: 6 × 3\n",
       "\n",
       "| <!--/--> | model &lt;fct&gt; | auroc &lt;dbl&gt; | range &lt;fct&gt; |\n",
       "|---|---|---|---|\n",
       "| 1 | SVM | 0.6947355 | ori |\n",
       "| 2 | SVM | 0.6663987 | ori |\n",
       "| 3 | SVM | 0.6349959 | ori |\n",
       "| 4 | SVM | 0.6721344 | ori |\n",
       "| 5 | SVM | 0.6694973 | ori |\n",
       "| 6 | lgb | 0.7573167 | ori |\n",
       "\n"
      ],
      "text/plain": [
       "  model auroc     range\n",
       "1 SVM   0.6947355 ori  \n",
       "2 SVM   0.6663987 ori  \n",
       "3 SVM   0.6349959 ori  \n",
       "4 SVM   0.6721344 ori  \n",
       "5 SVM   0.6694973 ori  \n",
       "6 lgb   0.7573167 ori  "
      ]
     },
     "metadata": {},
     "output_type": "display_data"
    }
   ],
   "source": [
    "head(total_range_CV_df )"
   ]
  },
  {
   "cell_type": "code",
   "execution_count": 147,
   "id": "offshore-lecture",
   "metadata": {},
   "outputs": [
    {
     "data": {
      "image/png": "[encoded data removed]",
      "text/plain": [
       "plot without title"
      ]
     },
     "metadata": {
      "image/png": {
       "height": 420,
       "width": 420
      }
     },
     "output_type": "display_data"
    }
   ],
   "source": [
    "# plot\n",
    "p_box <- ggplot(data=total_range_CV_df ,aes(x=model,y=auroc,fill = range))+\n",
    "geom_boxplot(width = 0.6,outlier.color=\"white\")+\n",
    "scale_fill_manual(values =  c(\"#98c1d9\",\"#eed7c5\"))+\n",
    "ylim(0.5,0.8)+theme_classic()+\n",
    "theme(axis.text = element_text(size=14),\n",
    "      axis.title = element_text(size=14),\n",
    "      element_line(size = 1.2))\n",
    "ggsave(\"./mRNA_CV_comparison_expand_parameter_range_with_text.pdf\", p_box, width = 10, height = 10) \n",
    "\n",
    "p_box "
   ]
  },
  {
   "cell_type": "code",
   "execution_count": 148,
   "id": "satisfactory-costume",
   "metadata": {},
   "outputs": [
    {
     "data": {
      "image/png": "[encoded data removed]",
      "text/plain": [
       "plot without title"
      ]
     },
     "metadata": {
      "image/png": {
       "height": 420,
       "width": 420
      }
     },
     "output_type": "display_data"
    }
   ],
   "source": [
    "p_box2 <- p_box + theme(axis.text = element_blank(),axis.title = element_blank(),axis.ticks = element_blank(),legend.position = \"None\")\n",
    "ggsave(\"./mRNA_CV_comparison_expand_parameter_range.pdf\", p_box2, width = 10, height = 10) \n",
    "\n",
    "p_box2"
   ]
  },
  {
   "cell_type": "code",
   "execution_count": 149,
   "id": "extended-perception",
   "metadata": {},
   "outputs": [
    {
     "data": {
      "text/plain": [
       "\n",
       "\tWelch Two Sample t-test\n",
       "\n",
       "data:  exp_range_CV_result$lgb and ori_range_CV_result$lgb\n",
       "t = 0.0086596, df = 7.6956, p-value = 0.9933\n",
       "alternative hypothesis: true difference in means is not equal to 0\n",
       "95 percent confidence interval:\n",
       " -0.01392391  0.01402815\n",
       "sample estimates:\n",
       "mean of x mean of y \n",
       "0.7568377 0.7567856 \n"
      ]
     },
     "metadata": {},
     "output_type": "display_data"
    }
   ],
   "source": [
    "t.test(exp_range_CV_result$lgb, ori_range_CV_result$lgb)"
   ]
  },
  {
   "cell_type": "code",
   "execution_count": 150,
   "id": "fossil-naples",
   "metadata": {},
   "outputs": [
    {
     "data": {
      "text/plain": [
       "\n",
       "\tWelch Two Sample t-test\n",
       "\n",
       "data:  exp_range_CV_result$SVM and ori_range_CV_result$SVM\n",
       "t = 5.6527, df = 4.8052, p-value = 0.002734\n",
       "alternative hypothesis: true difference in means is not equal to 0\n",
       "95 percent confidence interval:\n",
       " 0.03058471 0.08276648\n",
       "sample estimates:\n",
       "mean of x mean of y \n",
       "0.7242279 0.6675524 \n"
      ]
     },
     "metadata": {},
     "output_type": "display_data"
    }
   ],
   "source": [
    "t.test(exp_range_CV_result$SVM, ori_range_CV_result$SVM)"
   ]
  },
  {
   "cell_type": "code",
   "execution_count": 151,
   "id": "entire-times",
   "metadata": {},
   "outputs": [
    {
     "data": {
      "text/plain": [
       "\n",
       "\tWelch Two Sample t-test\n",
       "\n",
       "data:  exp_range_CV_result$lr and ori_range_CV_result$lr\n",
       "t = 0.44974, df = 7.591, p-value = 0.6655\n",
       "alternative hypothesis: true difference in means is not equal to 0\n",
       "95 percent confidence interval:\n",
       " -0.01932586  0.02858164\n",
       "sample estimates:\n",
       "mean of x mean of y \n",
       "0.6811972 0.6765694 \n"
      ]
     },
     "metadata": {},
     "output_type": "display_data"
    }
   ],
   "source": [
    "t.test(exp_range_CV_result$lr, ori_range_CV_result$lr)"
   ]
  },
  {
   "cell_type": "code",
   "execution_count": 152,
   "id": "joint-tragedy",
   "metadata": {},
   "outputs": [
    {
     "data": {
      "text/plain": [
       "\n",
       "\tWelch Two Sample t-test\n",
       "\n",
       "data:  exp_range_CV_result$CNN and ori_range_CV_result$CNN\n",
       "t = 0.41941, df = 7.2118, p-value = 0.6871\n",
       "alternative hypothesis: true difference in means is not equal to 0\n",
       "95 percent confidence interval:\n",
       " -0.01678394  0.02407407\n",
       "sample estimates:\n",
       "mean of x mean of y \n",
       "0.6767451 0.6731001 \n"
      ]
     },
     "metadata": {},
     "output_type": "display_data"
    }
   ],
   "source": [
    "t.test(exp_range_CV_result$CNN, ori_range_CV_result$CNN)"
   ]
  },
  {
   "cell_type": "code",
   "execution_count": 153,
   "id": "municipal-invalid",
   "metadata": {},
   "outputs": [
    {
     "data": {
      "text/plain": [
       "\n",
       "\tWelch Two Sample t-test\n",
       "\n",
       "data:  exp_range_CV_result$CNN_RNN and ori_range_CV_result$CNN_RNN\n",
       "t = 0.028217, df = 7.9508, p-value = 0.9782\n",
       "alternative hypothesis: true difference in means is not equal to 0\n",
       "95 percent confidence interval:\n",
       " -0.03464730  0.03550479\n",
       "sample estimates:\n",
       "mean of x mean of y \n",
       "0.5963191 0.5958903 \n"
      ]
     },
     "metadata": {},
     "output_type": "display_data"
    }
   ],
   "source": [
    "t.test(exp_range_CV_result$CNN_RNN, ori_range_CV_result$CNN_RNN)"
   ]
  },
  {
   "cell_type": "code",
   "execution_count": 154,
   "id": "compatible-timeline",
   "metadata": {},
   "outputs": [
    {
     "data": {
      "text/plain": [
       "\n",
       "\tWelch Two Sample t-test\n",
       "\n",
       "data:  exp_range_CV_result$RNN and ori_range_CV_result$RNN\n",
       "t = -0.19171, df = 7.8441, p-value = 0.8528\n",
       "alternative hypothesis: true difference in means is not equal to 0\n",
       "95 percent confidence interval:\n",
       " -0.03922838  0.03322577\n",
       "sample estimates:\n",
       "mean of x mean of y \n",
       "0.5892428 0.5922441 \n"
      ]
     },
     "metadata": {},
     "output_type": "display_data"
    }
   ],
   "source": [
    "t.test(exp_range_CV_result$RNN, ori_range_CV_result$RNN)"
   ]
  },
  {
   "cell_type": "code",
   "execution_count": 155,
   "id": "french-delaware",
   "metadata": {},
   "outputs": [],
   "source": [
    "# lgb, svm, lr, CNN, CNN_RNN\n",
    "ori_test_result <- data.frame(auc = c(0.7984119782214156,0.6981170598911071,0.7136721113127648,0.7086963097398669,0.5650332728372656, 0.5252419842710224))\n",
    "ori_test_result$model <- c(\"lgb\",\"SVM\",\"lr\",\"CNN\",\"CNN_RNN\",\"RNN\")\n",
    "ori_test_result$range <- \"ori\"\n",
    "\n",
    "exp_test_result <- data.frame(auc = c(0.809739866908651,0.7668179068360558,0.7208711433756805,0.7704627949183304,0.5728372655777374, 0.5349969751966122))\n",
    "exp_test_result$model <- c(\"lgb\",\"SVM\",\"lr\",\"CNN\",\"CNN_RNN\",\"RNN\")\n",
    "exp_test_result$range <- \"exp\""
   ]
  },
  {
   "cell_type": "code",
   "execution_count": 156,
   "id": "liquid-sister",
   "metadata": {},
   "outputs": [],
   "source": [
    "total_range_test_df <-rbind(ori_test_result,exp_test_result)\n",
    "total_range_test_df$model <- factor(total_range_test_df$model,levels = c(\"lgb\",\"SVM\",\"lr\",\"CNN\",\"CNN_RNN\",\"RNN\"))\n",
    "total_range_test_df$range <- factor(total_range_test_df$range,levels = c(\"ori\",\"exp\"))"
   ]
  },
  {
   "cell_type": "code",
   "execution_count": 157,
   "id": "intense-distribution",
   "metadata": {},
   "outputs": [
    {
     "data": {
      "image/png": "[encoded data removed]",
      "text/plain": [
       "plot without title"
      ]
     },
     "metadata": {
      "image/png": {
       "height": 420,
       "width": 420
      }
     },
     "output_type": "display_data"
    }
   ],
   "source": [
    "p_auc_RNALight_bar <- ggplot(total_range_test_df  ,aes(x=model,y=auc,fill = range))+\n",
    "geom_bar(stat=\"identity\",position=position_dodge(0.7),width=0.6)+\n",
    "ylim(0,1) +\n",
    "theme_classic()+\n",
    "scale_fill_manual(values=c(\"#98c1d9\",\"#eed7c5\"))+\n",
    "theme(axis.text = element_text(size=14),\n",
    "      axis.title = element_text(size=14),\n",
    "element_line(size = 1.2))\n",
    "ggsave(\"./mRNA_test_comparison_expand_parameter_range_with_text.pdf\",p_auc_RNALight_bar, width = 10, height = 10) \n",
    "p_auc_RNALight_bar"
   ]
  },
  {
   "cell_type": "code",
   "execution_count": 158,
   "id": "unlimited-richardson",
   "metadata": {},
   "outputs": [
    {
     "data": {
      "image/png": "[encoded data removed]",
      "text/plain": [
       "plot without title"
      ]
     },
     "metadata": {
      "image/png": {
       "height": 420,
       "width": 420
      }
     },
     "output_type": "display_data"
    }
   ],
   "source": [
    "p_auc_RNALight_bar2 <-p_auc_RNALight_bar  + theme(axis.text = element_blank(),axis.title = element_blank(),axis.ticks = element_blank(),legend.position = \"None\")\n",
    "ggsave(\"./mRNA_test_comparison_expand_parameter_range.pdf\",p_auc_RNALight_bar2 , width = 10, height = 10)\n",
    "p_auc_RNALight_bar2 "
   ]
  },
  {
   "cell_type": "code",
   "execution_count": null,
   "id": "common-parliament",
   "metadata": {},
   "outputs": [],
   "source": []
  }
 ],
 "metadata": {
  "kernelspec": {
   "display_name": "R",
   "language": "R",
   "name": "ir"
  },
  "language_info": {
   "codemirror_mode": "r",
   "file_extension": ".r",
   "mimetype": "text/x-r-source",
   "name": "R",
   "pygments_lexer": "r",
   "version": "3.6.3"
  }
 },
 "nbformat": 4,
 "nbformat_minor": 5
}
