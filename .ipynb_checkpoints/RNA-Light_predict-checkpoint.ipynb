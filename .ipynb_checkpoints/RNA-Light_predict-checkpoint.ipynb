{
 "cells": [
  {
   "cell_type": "code",
   "execution_count": 2,
   "id": "legitimate-first",
   "metadata": {},
   "outputs": [
    {
     "name": "stderr",
     "output_type": "stream",
     "text": [
      "usage: RNA-Light -q query.fasta [-m mRNA] [-p Prefix] [-O Output_Dir] [-h] [-v]\n",
      "ipykernel_launcher.py: error: the following arguments are required: -q/--query\n"
     ]
    },
    {
     "ename": "SystemExit",
     "evalue": "2",
     "output_type": "error",
     "traceback": [
      "An exception has occurred, use %tb to see the full traceback.\n",
      "\u001b[0;31mSystemExit\u001b[0m\u001b[0;31m:\u001b[0m 2\n"
     ]
    },
    {
     "name": "stderr",
     "output_type": "stream",
     "text": [
      "/picb/rnomics3/yuanguohua/anaconda3/envs/pytorch/lib/python3.6/site-packages/IPython/core/interactiveshell.py:3351: UserWarning: To exit: use 'exit', 'quit', or Ctrl-D.\n",
      "  warn(\"To exit: use 'exit', 'quit', or Ctrl-D.\", stacklevel=1)\n"
     ]
    }
   ],
   "source": [
    "# Args\n",
    "import argparse\n",
    "\n",
    "# Get args\n",
    "def get_args():\n",
    "    parser = argparse.ArgumentParser(description = \"Predict diverse RNA subcellular localization with RNA sequence (cDNA format: ACGT)\", usage = \"RNA-Light -q query.fasta [-m mRNA] [-p Prefix] [-O Output_Dir] [-h] [-v]\", epilog=\"Happy Light!\")\n",
    "    parser.add_argument(\"-q\",\"--query\", dest = \"query\", type = str, metavar=(\"Query\"),required = True, help = \"query file to be predicted (fasta format)\")\n",
    "    parser.add_argument(\"-p\",\"--prefix\",dest = \"prefix\", type = str, default = \"query\", metavar=(\"Prefix\"), help = \"prefix of outputfiles (default: query)\")\n",
    "    parser.add_argument(\"-O\",\"--outputdir\",dest = \"outputdir\",type = str, default = \"./RNA-Light_output\", metavar=(\"Output_Dir\"), help = \"output directions of outputfiles (default:RNA-Light_output)\")\n",
    "    parser.add_argument(\"-m\",\"--mRNA\",dest = \"mRNA\", action = \"store_true\", help = \"query sequence is mRNA\")\n",
    "    parser.add_argument(\"--RNA\",dest = \"RNA\",action = \"store_false\", help = \"query sequence is RNA format(ACGU)\")\n",
    "    parser.add_argument(\"-v\",\"--version\",action=\"version\",version='RNA-Light v1.0',help = \"version for RNA-Light\")\n",
    "    args = parser.parse_args()\n",
    "    return args\n",
    "\n",
    "\n",
    "args = get_args()\n",
    "query_file = args.query\n",
    "mRNA = args.mRNA\n",
    "RNA = args.RNA\n",
    "prefix = args.prefix\n",
    "outputdir = args.outputdir"
   ]
  },
  {
   "cell_type": "code",
   "execution_count": 29,
   "id": "herbal-anthony",
   "metadata": {},
   "outputs": [],
   "source": [
    "# Python import\n",
    "import os\n",
    "import copy\n",
    "import time\n",
    "import itertools\n",
    "import numpy as np\n",
    "import pandas as pd\n",
    "from sklearn.externals import joblib"
   ]
  },
  {
   "cell_type": "code",
   "execution_count": 4,
   "id": "sought-thread",
   "metadata": {},
   "outputs": [],
   "source": [
    "# Count the frequency of k-mer in each RNA sequence\n",
    "# k-mer was normalized by total k-mer count of each RNA sequence\n",
    "def _count_kmer(Dataset,k): # k = 3,4,5\n",
    "    \n",
    "    # copy dataset\n",
    "    dataset = copy.deepcopy(Dataset)\n",
    "    # alphbet of nucleotide\n",
    "    nucleotide = ['A','C','G','T']\n",
    "    \n",
    "    # generate k-mers\n",
    "    #  k == 5:\n",
    "    five = list(itertools.product(nucleotide,repeat=5))\n",
    "    pentamer = []\n",
    "    for n in five:\n",
    "        pentamer.append(\"\".join(n))\n",
    "    \n",
    "    #  k == 4:\n",
    "    four = list(itertools.product(nucleotide,repeat=4))\n",
    "    tetramer = []\n",
    "    for n in four:\n",
    "        tetramer.append(\"\".join(n))\n",
    "\n",
    "    # k == 3:\n",
    "    three = list(itertools.product(nucleotide,repeat=3))\n",
    "    threemer = []\n",
    "    for n in three:\n",
    "        threemer.append(\"\".join(n))\n",
    "    \n",
    "    # input features can be combinations of diffrent k values\n",
    "    if k == 34:\n",
    "        table_kmer = dict.fromkeys(threemer,0)\n",
    "        table_kmer.update(dict.fromkeys(tetramer,0))\n",
    "    if k == 45:\n",
    "        table_kmer = dict.fromkeys(tetramer,0)\n",
    "        table_kmer.update(dict.fromkeys(pentamer,0))\n",
    "    if k == 345:\n",
    "        table_kmer = dict.fromkeys(threemer,0)\n",
    "        table_kmer.update(dict.fromkeys(tetramer,0))\n",
    "        table_kmer.update(dict.fromkeys(pentamer,0))\n",
    "\n",
    "    # count k-mer for each sequence\n",
    "    for mer in table_kmer.keys():\n",
    "        table_kmer[mer] = dataset[\"cdna\"].apply(lambda x : x.count(mer))\n",
    "    \n",
    "    # for k-mer raw count without normalization\n",
    "    rawcount_kmer_df = pd.DataFrame(table_kmer)\n",
    "    df1_rawcount = pd.concat([rawcount_kmer_df,dataset[\"seq_id\"]],axis = 1)\n",
    "\n",
    "\n",
    "    # for k-mer frequency with normalization\n",
    "    freq_kmer_df = rawcount_kmer_df.apply(lambda x: x/x.sum(),axis=1)\n",
    "    df1 = pd.concat([freq_kmer_df,dataset[\"seq_id\"]],axis = 1)\n",
    "\n",
    "    return df1,df1_rawcount"
   ]
  },
  {
   "cell_type": "code",
   "execution_count": 58,
   "id": "advanced-school",
   "metadata": {},
   "outputs": [],
   "source": [
    "# Output dir\n",
    "if not (os.path.exists(outputdir)):\n",
    "    os.mkdir(outputdir)\n",
    "\n",
    "# tmp_dir\n",
    "tmp_dir_name = prefix + \".tmp\"\n",
    "tmp_dir = os.path.join(outputdir,tmp_dir_name)\n",
    "if not (os.path.exists(tmp_dir)):\n",
    "    os.mkdir(tmp_dir)\n",
    "\n",
    "# Convert fasta file to tab format\n",
    "tab_tmp = prefix + \".txt\"\n",
    "if RNA:\n",
    "    fa2tab = \"seqkit seq --dna2rna \" + query_file +\" | seqkit fx2tab > \" + os.path.join(tmp_dir,tab_tmp)\n",
    "else:\n",
    "    fa2tab = \"seqkit fx2ta \" + query_file + \" > \" + os.path.join(tmp_dir,tab_tmp)\n",
    "\n",
    "os.system(fa2tab)"
   ]
  },
  {
   "cell_type": "code",
   "execution_count": 28,
   "id": "prerequisite-parallel",
   "metadata": {},
   "outputs": [],
   "source": [
    "# Load RNA-Light model\n",
    "print(time.strftime(\"%Y-%m-%d %H:%M:%S\", time.localtime()),\"\\tStart Loading RNA-Light......\\n\")\n",
    "\n",
    "\n",
    "absolute_path = os.popen(\"dirname `which RNA-Light`\").read().strip('\\n')\n",
    "\n",
    "if mRNA:\n",
    "    RNA_Light = joblib.load(os.path.join(absolute_path,\"src/RNA-Light_model/RNA-Light_mRNA_model.pkl\"))\n",
    "else:\n",
    "    RNA_Light = joblib.load(os.path.join(absolute_path,\"src/RNA-Light_model/RNA-Light_lncRNA_model.pkl\"))\n",
    "\n",
    "\n",
    "print(time.strftime(\"%Y-%m-%d %H:%M:%S\", time.localtime()),\"\\tSuccessfully Loaded RNA-Light!\\n\")"
   ]
  },
  {
   "cell_type": "code",
   "execution_count": null,
   "id": "generous-issue",
   "metadata": {},
   "outputs": [],
   "source": [
    "# Data Processing\n",
    "print(time.strftime(\"%Y-%m-%d %H:%M:%S\", time.localtime()),\"\\tStart Data Processing......\\n\")\n",
    "\n",
    "\n",
    "query = pd.read_csv(os.path.join(tmp_dir,tab_tmp),sep='\\t',index_col = False, names = [\"seq_id\",\"cdna\"])\n",
    "df_kmer_345,df_kmer_345_rawcount = _count_kmer(query,345)\n",
    "\n",
    "kmer_file = prefix + \"_df_kmer345_freq.tsv\"\n",
    "kmer_rowcount_file = prefix + \"_df_kmer345_rawcount.tsv\"\n",
    "df_kmer_345.to_csv(os.path.join(outputdir,kmer_file),sep='\\t')\n",
    "df_kmer_345_rawcount.to_csv(os.path.join(outputdir,kmer_rowcount_file),sep='\\t')\n",
    "\n",
    "\n",
    "print(time.strftime(\"%Y-%m-%d %H:%M:%S\", time.localtime()),\"\\tSuccessfully Finished Data Processing!\\n\")"
   ]
  },
  {
   "cell_type": "code",
   "execution_count": null,
   "id": "stylish-nitrogen",
   "metadata": {},
   "outputs": [],
   "source": [
    "# Predict \n",
    "print(time.strftime(\"%Y-%m-%d %H:%M:%S\", time.localtime()),\"\\tStart Predicting......\\n\")\n",
    "\n",
    "\n",
    "del df_kmer_345['seq_id']\n",
    "x_kmer = df_kmer_345.values\n",
    "\n",
    "y_pred = RNA_Light.predict(x_kmer)\n",
    "y_prob = RNA_Light.predict_proba(x_kmer)[:,1]\n",
    "\n",
    "# Output\n",
    "query[\"RNALight_pred_label\"] =  y_pred\n",
    "query[\"RNALight_pred_prob\"] = y_prob\n",
    "query[\"Light_score\"] = 2*y_prob-1 \n",
    "\n",
    "outputfile = prefix + \"_RNA-Light_predict_df\"\n",
    "query.to_csv(os.path.join(outputdir,outputfile),sep = '\\t',index=False)\n",
    "\n",
    "\n",
    "print(time.strftime(\"%Y-%m-%d %H:%M:%S\", time.localtime()),\"\\tSuccessfully Finished Predicting!\\n\")"
   ]
  }
 ],
 "metadata": {
  "kernelspec": {
   "display_name": "pytorch",
   "language": "python",
   "name": "pytorch"
  },
  "language_info": {
   "codemirror_mode": {
    "name": "ipython",
    "version": 3
   },
   "file_extension": ".py",
   "mimetype": "text/x-python",
   "name": "python",
   "nbconvert_exporter": "python",
   "pygments_lexer": "ipython3",
   "version": "3.6.10"
  }
 },
 "nbformat": 4,
 "nbformat_minor": 5
}
