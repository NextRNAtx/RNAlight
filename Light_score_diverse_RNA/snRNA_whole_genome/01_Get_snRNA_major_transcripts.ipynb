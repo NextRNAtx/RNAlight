{
 "cells": [
  {
   "cell_type": "markdown",
   "id": "standard-stream",
   "metadata": {},
   "source": [
    "# Bash"
   ]
  },
  {
   "cell_type": "markdown",
   "id": "ongoing-flexibility",
   "metadata": {},
   "source": [
    "***\n",
    "###  "
   ]
  },
  {
   "cell_type": "markdown",
   "id": "simplified-nitrogen",
   "metadata": {},
   "source": [
    "- File: gencode.v30.transcripts.fa\n",
    "- URL: http://ftp.ebi.ac.uk/pub/databases/gencode/Gencode_human/release_30/gencode.v30.transcripts.fa.gz"
   ]
  },
  {
   "cell_type": "code",
   "execution_count": 2,
   "id": "correct-function",
   "metadata": {},
   "outputs": [],
   "source": [
    "seqkit fx2tab ../gencode.v30.transcripts.fa | grep \"snRNA\" \\\n",
    "| sort -t '|'  -k5 | awk -F '|'  '!a[$6]++' \\\n",
    "| grep \"201\" | sed 's/|/\\t/g' > ./gencode.v30.snRNA_transcripts_major.txt"
   ]
  },
  {
   "cell_type": "code",
   "execution_count": null,
   "id": "prescribed-export",
   "metadata": {},
   "outputs": [],
   "source": []
  }
 ],
 "metadata": {
  "kernelspec": {
   "display_name": "Bash",
   "language": "bash",
   "name": "bash"
  },
  "language_info": {
   "codemirror_mode": "shell",
   "file_extension": ".sh",
   "mimetype": "text/x-sh",
   "name": "bash"
  }
 },
 "nbformat": 4,
 "nbformat_minor": 5
}
