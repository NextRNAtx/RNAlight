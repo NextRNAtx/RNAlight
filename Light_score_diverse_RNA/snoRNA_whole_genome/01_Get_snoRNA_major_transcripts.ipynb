{
 "cells": [
  {
   "cell_type": "markdown",
   "id": "written-subdivision",
   "metadata": {},
   "source": [
    "# Bash"
   ]
  },
  {
   "cell_type": "markdown",
   "id": "sufficient-check",
   "metadata": {},
   "source": [
    "***\n",
    "###  "
   ]
  },
  {
   "cell_type": "markdown",
   "id": "photographic-single",
   "metadata": {},
   "source": [
    "- File: gencode.v30.transcripts.fa\n",
    "- URL: http://ftp.ebi.ac.uk/pub/databases/gencode/Gencode_human/release_30/gencode.v30.transcripts.fa.gz"
   ]
  },
  {
   "cell_type": "code",
   "execution_count": 1,
   "id": "excess-prospect",
   "metadata": {},
   "outputs": [],
   "source": [
    "seqkit fx2tab ../gencode.v30.transcripts.fa | grep \"snoRNA\" \\\n",
    "| sort -t '|'  -k5 | awk -F '|'  '!a[$6]++' \\\n",
    "| grep \"201\" | sed 's/|/\\t/g' > ./gencode.v30.snoRNA_transcripts_major.txt"
   ]
  },
  {
   "cell_type": "code",
   "execution_count": null,
   "id": "historical-nelson",
   "metadata": {},
   "outputs": [],
   "source": []
  }
 ],
 "metadata": {
  "kernelspec": {
   "display_name": "Bash",
   "language": "bash",
   "name": "bash"
  },
  "language_info": {
   "codemirror_mode": "shell",
   "file_extension": ".sh",
   "mimetype": "text/x-sh",
   "name": "bash"
  }
 },
 "nbformat": 4,
 "nbformat_minor": 5
}
