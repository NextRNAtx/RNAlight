{
 "cells": [
  {
   "cell_type": "code",
   "execution_count": 6,
   "id": "complicated-group",
   "metadata": {},
   "outputs": [],
   "source": [
    "%%bash\n",
    "\n",
    "seqkit fx2tab gencode.v30.transcripts.fa | grep \"snoRNA\" \\\n",
    "| sort -t '|'  -k5 | awk -F '|'  '!a[$6]++' \\\n",
    "| grep \"201\" | sed 's/|/\\t/g' > ./gencode.v30.snoRNA_transcripts_major.txt"
   ]
  },
  {
   "cell_type": "code",
   "execution_count": 8,
   "id": "devoted-paint",
   "metadata": {},
   "outputs": [],
   "source": [
    "%%bash\n",
    "\n",
    "seqkit fx2tab gencode.v30.transcripts.fa | grep \"snRNA\" \\\n",
    "| sort -t '|'  -k5 | awk -F '|'  '!a[$6]++' \\\n",
    "| grep \"201\" | sed 's/|/\\t/g' > ./gencode.v30.snRNA_transcripts_major.txt"
   ]
  },
  {
   "cell_type": "code",
   "execution_count": null,
   "id": "based-blade",
   "metadata": {},
   "outputs": [],
   "source": []
  }
 ],
 "metadata": {
  "kernelspec": {
   "display_name": "pytorch",
   "language": "python",
   "name": "pytorch"
  },
  "language_info": {
   "codemirror_mode": {
    "name": "ipython",
    "version": 3
   },
   "file_extension": ".py",
   "mimetype": "text/x-python",
   "name": "python",
   "nbconvert_exporter": "python",
   "pygments_lexer": "ipython3",
   "version": "3.6.10"
  }
 },
 "nbformat": 4,
 "nbformat_minor": 5
}
