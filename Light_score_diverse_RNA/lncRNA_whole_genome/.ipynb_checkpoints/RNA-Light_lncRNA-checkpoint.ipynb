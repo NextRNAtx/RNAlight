{
 "cells": [
  {
   "cell_type": "code",
   "execution_count": 1,
   "metadata": {},
   "outputs": [],
   "source": [
    "import os\n",
    "import copy\n",
    "import collections\n",
    "import itertools\n",
    "import sklearn.metrics as metrics\n",
    "import matplotlib.pyplot as plt\n",
    "import numpy as np\n",
    "import pandas as pd\n",
    "from sklearn.externals import joblib"
   ]
  },
  {
   "cell_type": "code",
   "execution_count": 2,
   "metadata": {},
   "outputs": [],
   "source": [
    "# Count the frequency of k-mer in each RNA sequence\n",
    "#k-mer was normalized by total k-mer count of each RNA sequence\n",
    "def _count_kmer(Dataset,k): # k = 3,4,5,6,7 & length info\n",
    "    \n",
    "    # copy dataset\n",
    "    dataset = copy.deepcopy(Dataset)\n",
    "    # alphbet of nucleotide\n",
    "    nucleotide = ['A','C','G','T']\n",
    "    \n",
    "    # generate k-mers\n",
    "    #  k == 7:\n",
    "    seven = list(itertools.product(nucleotide,repeat=7))\n",
    "    sevenmer = []\n",
    "    for n in seven:\n",
    "        sevenmer.append(\"\".join(n))\n",
    "    \n",
    "    #  k == 6:\n",
    "    six = list(itertools.product(nucleotide,repeat=6))\n",
    "    hexamer = []\n",
    "    for n in six:\n",
    "        hexamer.append(\"\".join(n))\n",
    "\n",
    "    #  k == 5:\n",
    "    five = list(itertools.product(nucleotide,repeat=5))\n",
    "    pentamer = []\n",
    "    for n in five:\n",
    "        pentamer.append(\"\".join(n))\n",
    "    \n",
    "    #  k == 4:\n",
    "    four = list(itertools.product(nucleotide,repeat=4))\n",
    "    tetramer = []\n",
    "    for n in four:\n",
    "        tetramer.append(\"\".join(n))\n",
    "\n",
    "    # k == 3:\n",
    "    three = list(itertools.product(nucleotide,repeat=3))\n",
    "    threemer = []\n",
    "    for n in three:\n",
    "        threemer.append(\"\".join(n))\n",
    "    \n",
    "    # input features can be combinations of diffrent k values\n",
    "    if k == 34:\n",
    "        table_kmer = dict.fromkeys(threemer,0)\n",
    "        table_kmer.update(dict.fromkeys(tetramer,0))\n",
    "    if k == 45:\n",
    "        table_kmer = dict.fromkeys(tetramer,0)\n",
    "        table_kmer.update(dict.fromkeys(pentamer,0))\n",
    "    if k == 56:\n",
    "        table_kmer = dict.fromkeys(pentamer,0)\n",
    "        table_kmer.update(dict.fromkeys(hexamer,0))\n",
    "    if k == 345:\n",
    "        table_kmer = dict.fromkeys(threemer,0)\n",
    "        table_kmer.update(dict.fromkeys(tetramer,0))\n",
    "        table_kmer.update(dict.fromkeys(pentamer,0))\n",
    "    if k == 456:\n",
    "        table_kmer = dict.fromkeys(tetramer,0)\n",
    "        table_kmer.update(dict.fromkeys(pentamer,0))\n",
    "        table_kmer.update(dict.fromkeys(hexamer,0))\n",
    "    if k == 7:\n",
    "        table_kmer = dict.fromkeys(sevenmer,0)\n",
    "\n",
    "    # count k-mer for each sequence\n",
    "    for mer in table_kmer.keys():\n",
    "        table_kmer[mer] = dataset[\"cdna\"].apply(lambda x : x.count(mer))\n",
    "    \n",
    "    # new series of length\n",
    "    length = dataset[\"cdna\"].apply(len)\n",
    "    length.name = \"length\"\n",
    "    # for k-mer raw count without normalization, index: nuc:1 or cyto:0\n",
    "    rawcount_kmer_df = pd.DataFrame(table_kmer)\n",
    "    df1_rawcount = pd.concat([rawcount_kmer_df,dataset[\"ensembl_transcript_id\"],length],axis = 1)\n",
    "    #df1_rawcount.index = dataset[\"tag\"]\n",
    "\n",
    "    # for k-mer frequency with normalization , index: nuc:1 or cyto:0\n",
    "    freq_kmer_df = rawcount_kmer_df.apply(lambda x: x/x.sum(),axis=1)\n",
    "    df1 = pd.concat([freq_kmer_df,dataset[\"ensembl_transcript_id\"],length],axis = 1)\n",
    "    #df1.index = dataset[\"tag\"]\n",
    "\n",
    "    return df1,df1_rawcount"
   ]
  },
  {
   "cell_type": "code",
   "execution_count": 3,
   "metadata": {},
   "outputs": [],
   "source": [
    "#Evaluate performance of model\n",
    "def evaluate_performance(y_test, y_pred, y_prob):\n",
    "    # AUROC\n",
    "    auroc = metrics.roc_auc_score(y_test,y_prob)\n",
    "    auroc_curve = metrics.roc_curve(y_test, y_prob)\n",
    "    # AUPRC\n",
    "    auprc=metrics.average_precision_score(y_test, y_prob) \n",
    "    auprc_curve=metrics.precision_recall_curve(y_test, y_prob)\n",
    "    #Accuracy\n",
    "    accuracy=metrics.accuracy_score(y_test,y_pred) \n",
    "    #MCC\n",
    "    mcc=metrics.matthews_corrcoef(y_test,y_pred)\n",
    "    \n",
    "    recall=metrics.recall_score(y_test, y_pred)\n",
    "    precision=metrics.precision_score(y_test, y_pred)\n",
    "    f1=metrics.f1_score(y_test, y_pred)\n",
    "    class_report=metrics.classification_report(y_test, y_pred,target_names = [\"control\",\"case\"])\n",
    "\n",
    "    model_perf = {\"auroc\":auroc,\"auroc_curve\":auroc_curve,\n",
    "                  \"auprc\":auprc,\"auprc_curve\":auprc_curve,\n",
    "                  \"accuracy\":accuracy, \"mcc\": mcc,\n",
    "                  \"recall\":recall,\"precision\":precision,\"f1\":f1,\n",
    "                  \"class_report\":class_report}\n",
    "        \n",
    "    return model_perf"
   ]
  },
  {
   "cell_type": "code",
   "execution_count": 4,
   "metadata": {},
   "outputs": [],
   "source": [
    "# Output result of evaluation\n",
    "def eval_output(model_perf,path):\n",
    "    with open(os.path.join(path,\"Evaluate_Result_TestSet.txt\"),'w') as f:\n",
    "        f.write(\"AUROC=%s\\tAUPRC=%s\\tAccuracy=%s\\tMCC=%s\\tRecall=%s\\tPrecision=%s\\tf1_score=%s\\n\" %\n",
    "               (model_perf[\"auroc\"],model_perf[\"auprc\"],model_perf[\"accuracy\"],model_perf[\"mcc\"],model_perf[\"recall\"],model_perf[\"precision\"],model_perf[\"f1\"]))\n",
    "        f.write(\"\\n######NOTE#######\\n\")\n",
    "        f.write(\"#According to help_documentation of sklearn.metrics.classification_report:in binary classification, recall of the positive class is also known as sensitivity; recall of the negative class is specificity#\\n\\n\")\n",
    "        f.write(model_perf[\"class_report\"])"
   ]
  },
  {
   "cell_type": "code",
   "execution_count": 5,
   "metadata": {},
   "outputs": [],
   "source": [
    "# Plot AUROC of model\n",
    "def plot_AUROC(model_perf,path):\n",
    "    #get AUROC,FPR,TPR and threshold\n",
    "    roc_auc = model_perf[\"auroc\"]\n",
    "    fpr,tpr,threshold = model_perf[\"auroc_curve\"]\n",
    "    #return AUROC info\n",
    "    temp_df = pd.DataFrame({\"FPR\":fpr,\"TPR\":tpr})\n",
    "    temp_df.to_csv(os.path.join(path,\"AUROC_info.txt\"),header = True,index = False, sep = '\\t')\n",
    "    #plot\n",
    "    plt.figure()\n",
    "    lw = 2\n",
    "    plt.figure(figsize=(10,10))\n",
    "    plt.plot(fpr, tpr, color='darkorange',\n",
    "             lw=lw, label='AUROC (area = %0.2f)' % roc_auc) \n",
    "    plt.plot([0, 1], [0, 1], color='navy', lw=lw, linestyle='--')\n",
    "    plt.xlim([0.0, 1.0])\n",
    "    plt.ylim([0.0, 1.0])\n",
    "    plt.xlabel(\"False Positive Rate\")\n",
    "    plt.ylabel(\"True Positive Rate\")\n",
    "    plt.title(\"AUROC of Models\")\n",
    "    plt.legend(loc=\"lower right\")\n",
    "    plt.savefig(os.path.join(path,\"AUROC_TestSet.pdf\"),format = \"pdf\")"
   ]
  },
  {
   "cell_type": "code",
   "execution_count": 6,
   "metadata": {},
   "outputs": [],
   "source": [
    "# Input dir \n",
    "lncRNA_input_dir = \"./lncRNA-subcellular-localization/ML_original_lncRNA/20210208_cv_test\"\n",
    "mRNA_input_dir = \"./mRNA-subcellular-localization/ML_original_mRNA/20210218_cv_test\"\n",
    "\n",
    "# Output dir\n",
    "output_dir = \"LncLight_Mlight_predict_total_set_result\"\n",
    "if not (os.path.exists(output_dir)):\n",
    "    os.mkdir(output_dir)\n",
    "    \n",
    "# Load model\n",
    "LncLight = joblib.load(os.path.join(lncRNA_input_dir,\"LightGBM/best_LightGBM_model.pkl\"))\n",
    "MLight = joblib.load(os.path.join(mRNA_input_dir,\"LightGBM/best_LightGBM_model.pkl\"))"
   ]
  },
  {
   "cell_type": "code",
   "execution_count": 6,
   "metadata": {},
   "outputs": [],
   "source": [
    "# Load input file\n",
    "lncRNAs_file = pd.read_csv(os.path.join(lncRNA_input_dir,\"df_kmer345_freq.tsv\"),sep = '\\t')\n",
    "mRNAs_file = pd.read_csv(os.path.join(mRNA_input_dir,\"df_kmer345_freq.tsv\"),sep = '\\t')\n",
    "\n",
    "lncRNAs_x = lncRNAs_file.iloc[:,1:-2]\n",
    "lncRNAs_y = np.array(lncRNAs_file.iloc[:,0])\n",
    "\n",
    "mRNAs_x = mRNAs_file.iloc[:,1:-2]\n",
    "mRNAs_y = np.array(mRNAs_file.iloc[:,0])"
   ]
  },
  {
   "cell_type": "code",
   "execution_count": 7,
   "metadata": {},
   "outputs": [],
   "source": [
    "# For LncLight\n",
    "LncLight_lncRNA_pred = LncLight.predict(lncRNAs_x)\n",
    "LncLight_lncRNA_y_prob = LncLight.predict_proba(lncRNAs_x)[:,1]\n",
    "\n",
    "LncLight_mRNA_pred = LncLight.predict(mRNAs_x)\n",
    "LncLight_mRNA_y_prob = LncLight.predict_proba(mRNAs_x)[:,1]\n",
    "\n",
    "LncLight_lnc_perf = evaluate_performance(lncRNAs_y, LncLight_lncRNA_pred, LncLight_lncRNA_y_prob)\n",
    "LncLight_mRNA_perf = evaluate_performance(mRNAs_y, LncLight_mRNA_pred, LncLight_mRNA_y_prob)"
   ]
  },
  {
   "cell_type": "code",
   "execution_count": 8,
   "metadata": {},
   "outputs": [
    {
     "data": {
      "text/plain": [
       "<Figure size 432x288 with 0 Axes>"
      ]
     },
     "metadata": {},
     "output_type": "display_data"
    },
    {
     "data": {
      "image/png": "[encoded data removed]",
      "text/plain": [
       "<Figure size 720x720 with 1 Axes>"
      ]
     },
     "metadata": {
      "needs_background": "light"
     },
     "output_type": "display_data"
    }
   ],
   "source": [
    "LncLight_lnc_perf = evaluate_performance(lncRNAs_y, LncLight_lncRNA_pred, LncLight_lncRNA_y_prob)\n",
    "LncLight_lnc_path = os.path.join(output_dir,\"LncLight_lnc\")\n",
    "if not (os.path.exists(LncLight_lnc_path)):\n",
    "    os.mkdir(LncLight_lnc_path)\n",
    "eval_output(LncLight_lnc_perf,LncLight_lnc_path)\n",
    "plot_AUROC(LncLight_lnc_perf,LncLight_lnc_path)"
   ]
  },
  {
   "cell_type": "code",
   "execution_count": 9,
   "metadata": {},
   "outputs": [
    {
     "data": {
      "text/plain": [
       "<Figure size 432x288 with 0 Axes>"
      ]
     },
     "metadata": {},
     "output_type": "display_data"
    },
    {
     "data": {
      "image/png": "[encoded data removed]",
      "text/plain": [
       "<Figure size 720x720 with 1 Axes>"
      ]
     },
     "metadata": {
      "needs_background": "light"
     },
     "output_type": "display_data"
    }
   ],
   "source": [
    "LncLight_mRNA_perf = evaluate_performance(mRNAs_y, LncLight_mRNA_pred, LncLight_mRNA_y_prob)\n",
    "LncLight_mRNA_path = os.path.join(output_dir,\"LncLight_mRNA\")\n",
    "if not (os.path.exists(LncLight_mRNA_path)):\n",
    "    os.mkdir(LncLight_mRNA_path)\n",
    "eval_output(LncLight_mRNA_perf,LncLight_mRNA_path)\n",
    "plot_AUROC(LncLight_mRNA_perf,LncLight_mRNA_path)"
   ]
  },
  {
   "cell_type": "code",
   "execution_count": 10,
   "metadata": {},
   "outputs": [],
   "source": [
    "# For MLight\n",
    "MLight_lncRNA_pred = MLight.predict(lncRNAs_x)\n",
    "MLight_lncRNA_y_prob = MLight.predict_proba(lncRNAs_x)[:,1]\n",
    "\n",
    "MLight_mRNA_pred = MLight.predict(mRNAs_x)\n",
    "MLight_mRNA_y_prob = MLight.predict_proba(mRNAs_x)[:,1]\n",
    "\n",
    "MLight_lnc_perf = evaluate_performance(lncRNAs_y, MLight_lncRNA_pred, MLight_lncRNA_y_prob)\n",
    "MLight_mRNA_perf = evaluate_performance(mRNAs_y, MLight_mRNA_pred, MLight_mRNA_y_prob)"
   ]
  },
  {
   "cell_type": "code",
   "execution_count": 11,
   "metadata": {},
   "outputs": [
    {
     "data": {
      "text/plain": [
       "<Figure size 432x288 with 0 Axes>"
      ]
     },
     "metadata": {},
     "output_type": "display_data"
    },
    {
     "data": {
      "image/png": "[encoded data removed]",
      "text/plain": [
       "<Figure size 720x720 with 1 Axes>"
      ]
     },
     "metadata": {
      "needs_background": "light"
     },
     "output_type": "display_data"
    }
   ],
   "source": [
    "MLight_lnc_perf = evaluate_performance(lncRNAs_y, MLight_lncRNA_pred, MLight_lncRNA_y_prob)\n",
    "MLight_lnc_path = os.path.join(output_dir,\"MLight_lnc\")\n",
    "if not (os.path.exists(MLight_lnc_path)):\n",
    "    os.mkdir(MLight_lnc_path)\n",
    "eval_output(MLight_lnc_perf,MLight_lnc_path)\n",
    "plot_AUROC(MLight_lnc_perf,MLight_lnc_path)"
   ]
  },
  {
   "cell_type": "code",
   "execution_count": 12,
   "metadata": {},
   "outputs": [
    {
     "data": {
      "text/plain": [
       "<Figure size 432x288 with 0 Axes>"
      ]
     },
     "metadata": {},
     "output_type": "display_data"
    },
    {
     "data": {
      "image/png": "[encoded data removed]",
      "text/plain": [
       "<Figure size 720x720 with 1 Axes>"
      ]
     },
     "metadata": {
      "needs_background": "light"
     },
     "output_type": "display_data"
    }
   ],
   "source": [
    "MLight_mRNA_perf = evaluate_performance(mRNAs_y, MLight_mRNA_pred, MLight_mRNA_y_prob)\n",
    "MLight_mRNA_path = os.path.join(output_dir,\"MLight_mRNA\")\n",
    "if not (os.path.exists(MLight_mRNA_path)):\n",
    "    os.mkdir(MLight_mRNA_path)\n",
    "eval_output(MLight_mRNA_perf,MLight_mRNA_path)\n",
    "plot_AUROC(MLight_mRNA_perf,MLight_mRNA_path)"
   ]
  },
  {
   "cell_type": "code",
   "execution_count": 13,
   "metadata": {},
   "outputs": [],
   "source": [
    "# lncRNA index\n",
    "lncRNA_cyto_f = \"./lncRNA-subcellular-localization/Datasets/lncRNA_info_cyto_woRNALocate.tsv\"\n",
    "lncRNA_nuc_f = \"./lncRNA-subcellular-localization/Datasets/lncRNA_info_nuc_woRNALocate.tsv\"\n",
    "\n",
    "# load data\n",
    "lncRNA_dataset_cyto = pd.read_csv(lncRNA_cyto_f,sep='\\t',index_col = False)    #1806    \n",
    "lncRNA_dataset_nuc = pd.read_csv(lncRNA_nuc_f,sep='\\t',index_col = False)    #1986\n",
    "# Set the tag of RCI(log2FC): nuclear 1 / cytosol 0\n",
    "lncRNA_dataset_nuc['tag'] = 1;lncRNA_dataset_cyto['tag'] = 0\n",
    "# merge the nuc and cyto dataset\n",
    "lncRNA_dataset = pd.concat([lncRNA_dataset_nuc,lncRNA_dataset_cyto]) # 3792\n",
    "# remove duplications(actually,each lncRNA is unique in its class)\n",
    "lncRNA_dataset.drop_duplicates(keep=\"first\",subset=[\"ensembl_transcript_id\",\"name\",\"cdna\"],inplace=True) # 3792"
   ]
  },
  {
   "cell_type": "code",
   "execution_count": 14,
   "metadata": {},
   "outputs": [],
   "source": [
    "# mRNA index\n",
    "mRNA_cyto_f = \"./mRNA-subcellular-localization/Datasets/mRNA_info_cyto_cefra_apex.tsv\"\n",
    "mRNA_nuc_f = \"./mRNA-subcellular-localization/Datasets/mRNA_info_nuc_cefra_apex.tsv\"\n",
    "\n",
    "# load data\n",
    "mRNA_dataset_cyto = pd.read_csv(mRNA_cyto_f,sep='\\t',index_col = False)    #1806    \n",
    "mRNA_dataset_nuc = pd.read_csv(mRNA_nuc_f,sep='\\t',index_col = False)    #1986\n",
    "# Set the tag of RCI(log2FC): nuclear 1 / cytosol 0\n",
    "mRNA_dataset_nuc['tag'] = 1;mRNA_dataset_cyto['tag'] = 0\n",
    "# merge the nuc and cyto dataset\n",
    "mRNA_dataset = pd.concat([mRNA_dataset_nuc,mRNA_dataset_cyto]) # 3792\n",
    "# remove duplications(actually,each lncRNA is unique in its class)\n",
    "mRNA_dataset.drop_duplicates(keep=\"first\",subset=[\"ensembl_transcript_id\",\"name\",\"cdna\"],inplace=True) # 3792"
   ]
  },
  {
   "cell_type": "code",
   "execution_count": 36,
   "metadata": {},
   "outputs": [
    {
     "data": {
      "text/html": [
       "<div>\n",
       "<style>\n",
       "    .dataframe thead tr:only-child th {\n",
       "        text-align: right;\n",
       "    }\n",
       "\n",
       "    .dataframe thead th {\n",
       "        text-align: left;\n",
       "    }\n",
       "\n",
       "    .dataframe tbody tr th {\n",
       "        vertical-align: top;\n",
       "    }\n",
       "</style>\n",
       "<table border=\"1\" class=\"dataframe\">\n",
       "  <thead>\n",
       "    <tr style=\"text-align: right;\">\n",
       "      <th></th>\n",
       "      <th>ensembl_transcript_id</th>\n",
       "      <th>name</th>\n",
       "      <th>cdna</th>\n",
       "      <th>True_label</th>\n",
       "      <th>LncLight_pred_label</th>\n",
       "      <th>LncLight_pred_prob</th>\n",
       "      <th>MLight_pred_label</th>\n",
       "      <th>MLight_pred_prob</th>\n",
       "    </tr>\n",
       "  </thead>\n",
       "  <tbody>\n",
       "    <tr>\n",
       "      <th>631</th>\n",
       "      <td>ENST00000508832</td>\n",
       "      <td>MALAT1</td>\n",
       "      <td>GGCAAATATTGGCAATTAGTTGGCAGTGGCCTGTTACGGTTGGGAT...</td>\n",
       "      <td>1</td>\n",
       "      <td>1</td>\n",
       "      <td>0.835907</td>\n",
       "      <td>0</td>\n",
       "      <td>0.204815</td>\n",
       "    </tr>\n",
       "  </tbody>\n",
       "</table>\n",
       "</div>"
      ],
      "text/plain": [
       "    ensembl_transcript_id    name  \\\n",
       "631       ENST00000508832  MALAT1   \n",
       "\n",
       "                                                  cdna  True_label  \\\n",
       "631  GGCAAATATTGGCAATTAGTTGGCAGTGGCCTGTTACGGTTGGGAT...           1   \n",
       "\n",
       "     LncLight_pred_label  LncLight_pred_prob  MLight_pred_label  \\\n",
       "631                    1            0.835907                  0   \n",
       "\n",
       "     MLight_pred_prob  \n",
       "631          0.204815  "
      ]
     },
     "execution_count": 36,
     "metadata": {},
     "output_type": "execute_result"
    },
    {
     "data": {
      "text/html": [
       "<div>\n",
       "<style>\n",
       "    .dataframe thead tr:only-child th {\n",
       "        text-align: right;\n",
       "    }\n",
       "\n",
       "    .dataframe thead th {\n",
       "        text-align: left;\n",
       "    }\n",
       "\n",
       "    .dataframe tbody tr th {\n",
       "        vertical-align: top;\n",
       "    }\n",
       "</style>\n",
       "<table border=\"1\" class=\"dataframe\">\n",
       "  <thead>\n",
       "    <tr style=\"text-align: right;\">\n",
       "      <th></th>\n",
       "      <th>ensembl_transcript_id</th>\n",
       "      <th>name</th>\n",
       "      <th>cdna</th>\n",
       "      <th>True_label</th>\n",
       "      <th>LncLight_pred_label</th>\n",
       "      <th>LncLight_pred_prob</th>\n",
       "      <th>MLight_pred_label</th>\n",
       "      <th>MLight_pred_prob</th>\n",
       "    </tr>\n",
       "  </thead>\n",
       "  <tbody>\n",
       "    <tr>\n",
       "      <th>524</th>\n",
       "      <td>ENST00000499732</td>\n",
       "      <td>NEAT1</td>\n",
       "      <td>GCAAAAGTTGTGGCAAGTCCAGCCGGAGTTAGCGACAGGGAGGGAT...</td>\n",
       "      <td>1</td>\n",
       "      <td>1</td>\n",
       "      <td>0.94948</td>\n",
       "      <td>0</td>\n",
       "      <td>0.213687</td>\n",
       "    </tr>\n",
       "  </tbody>\n",
       "</table>\n",
       "</div>"
      ],
      "text/plain": [
       "    ensembl_transcript_id   name  \\\n",
       "524       ENST00000499732  NEAT1   \n",
       "\n",
       "                                                  cdna  True_label  \\\n",
       "524  GCAAAAGTTGTGGCAAGTCCAGCCGGAGTTAGCGACAGGGAGGGAT...           1   \n",
       "\n",
       "     LncLight_pred_label  LncLight_pred_prob  MLight_pred_label  \\\n",
       "524                    1             0.94948                  0   \n",
       "\n",
       "     MLight_pred_prob  \n",
       "524          0.213687  "
      ]
     },
     "execution_count": 36,
     "metadata": {},
     "output_type": "execute_result"
    },
    {
     "data": {
      "text/html": [
       "<div>\n",
       "<style>\n",
       "    .dataframe thead tr:only-child th {\n",
       "        text-align: right;\n",
       "    }\n",
       "\n",
       "    .dataframe thead th {\n",
       "        text-align: left;\n",
       "    }\n",
       "\n",
       "    .dataframe tbody tr th {\n",
       "        vertical-align: top;\n",
       "    }\n",
       "</style>\n",
       "<table border=\"1\" class=\"dataframe\">\n",
       "  <thead>\n",
       "    <tr style=\"text-align: right;\">\n",
       "      <th></th>\n",
       "      <th>ensembl_transcript_id</th>\n",
       "      <th>name</th>\n",
       "      <th>cdna</th>\n",
       "      <th>True_label</th>\n",
       "      <th>LncLight_pred_label</th>\n",
       "      <th>LncLight_pred_prob</th>\n",
       "      <th>MLight_pred_label</th>\n",
       "      <th>MLight_pred_prob</th>\n",
       "    </tr>\n",
       "  </thead>\n",
       "  <tbody>\n",
       "    <tr>\n",
       "      <th>94</th>\n",
       "      <td>ENST00000398460</td>\n",
       "      <td>MEG3</td>\n",
       "      <td>ATGTTAGAAAGCGCGTAGCCTTAGGATCTGGCAGACCCAGGGGCCA...</td>\n",
       "      <td>1</td>\n",
       "      <td>1</td>\n",
       "      <td>0.985932</td>\n",
       "      <td>0</td>\n",
       "      <td>0.434156</td>\n",
       "    </tr>\n",
       "  </tbody>\n",
       "</table>\n",
       "</div>"
      ],
      "text/plain": [
       "   ensembl_transcript_id  name  \\\n",
       "94       ENST00000398460  MEG3   \n",
       "\n",
       "                                                 cdna  True_label  \\\n",
       "94  ATGTTAGAAAGCGCGTAGCCTTAGGATCTGGCAGACCCAGGGGCCA...           1   \n",
       "\n",
       "    LncLight_pred_label  LncLight_pred_prob  MLight_pred_label  \\\n",
       "94                    1            0.985932                  0   \n",
       "\n",
       "    MLight_pred_prob  \n",
       "94          0.434156  "
      ]
     },
     "execution_count": 36,
     "metadata": {},
     "output_type": "execute_result"
    },
    {
     "data": {
      "text/html": [
       "<div>\n",
       "<style>\n",
       "    .dataframe thead tr:only-child th {\n",
       "        text-align: right;\n",
       "    }\n",
       "\n",
       "    .dataframe thead th {\n",
       "        text-align: left;\n",
       "    }\n",
       "\n",
       "    .dataframe tbody tr th {\n",
       "        vertical-align: top;\n",
       "    }\n",
       "</style>\n",
       "<table border=\"1\" class=\"dataframe\">\n",
       "  <thead>\n",
       "    <tr style=\"text-align: right;\">\n",
       "      <th></th>\n",
       "      <th>ensembl_transcript_id</th>\n",
       "      <th>name</th>\n",
       "      <th>cdna</th>\n",
       "      <th>True_label</th>\n",
       "      <th>LncLight_pred_label</th>\n",
       "      <th>LncLight_pred_prob</th>\n",
       "      <th>MLight_pred_label</th>\n",
       "      <th>MLight_pred_prob</th>\n",
       "    </tr>\n",
       "  </thead>\n",
       "  <tbody>\n",
       "    <tr>\n",
       "      <th>267</th>\n",
       "      <td>ENST00000416330</td>\n",
       "      <td>XIST</td>\n",
       "      <td>GGACACATGGAAGGCCTAAGAACTGAGACTTGTGACACAAGGCCAA...</td>\n",
       "      <td>1</td>\n",
       "      <td>1</td>\n",
       "      <td>0.927058</td>\n",
       "      <td>0</td>\n",
       "      <td>0.170337</td>\n",
       "    </tr>\n",
       "  </tbody>\n",
       "</table>\n",
       "</div>"
      ],
      "text/plain": [
       "    ensembl_transcript_id  name  \\\n",
       "267       ENST00000416330  XIST   \n",
       "\n",
       "                                                  cdna  True_label  \\\n",
       "267  GGACACATGGAAGGCCTAAGAACTGAGACTTGTGACACAAGGCCAA...           1   \n",
       "\n",
       "     LncLight_pred_label  LncLight_pred_prob  MLight_pred_label  \\\n",
       "267                    1            0.927058                  0   \n",
       "\n",
       "     MLight_pred_prob  \n",
       "267          0.170337  "
      ]
     },
     "execution_count": 36,
     "metadata": {},
     "output_type": "execute_result"
    }
   ],
   "source": [
    "# LncRNA_predict_df\n",
    "LncRNA_predict_df = lncRNA_dataset.iloc[:,0:3]\n",
    "LncRNA_predict_df[\"True_label\"] = lncRNA_dataset[\"tag\"]\n",
    "LncRNA_predict_df[\"LncLight_pred_label\"] =  LncLight_lncRNA_pred \n",
    "LncRNA_predict_df[\"LncLight_pred_prob\"] = LncLight_lncRNA_y_prob\n",
    "LncRNA_predict_df[\"MLight_pred_label\"] = MLight_lncRNA_pred\n",
    "LncRNA_predict_df[\"MLight_pred_prob\"] = MLight_lncRNA_y_prob\n",
    "\n",
    "# MALAT1 NEAT1\n",
    "LncRNA_predict_df.loc[LncRNA_predict_df[\"name\"] == \"MALAT1\"]\n",
    "LncRNA_predict_df.loc[LncRNA_predict_df[\"name\"] == \"NEAT1\"]\n",
    "LncRNA_predict_df.loc[LncRNA_predict_df[\"name\"] == \"MEG3\"]\n",
    "LncRNA_predict_df.loc[LncRNA_predict_df[\"name\"] == \"XIST\"]"
   ]
  },
  {
   "cell_type": "code",
   "execution_count": 16,
   "metadata": {},
   "outputs": [],
   "source": [
    "# mRNA_predict_df\n",
    "mRNA_predict_df = mRNA_dataset.iloc[:,0:3]\n",
    "mRNA_predict_df[\"True_label\"] = mRNA_dataset[\"tag\"]\n",
    "mRNA_predict_df[\"LncLight_pred_label\"] =  LncLight_mRNA_pred \n",
    "mRNA_predict_df[\"LncLight_pred_prob\"] = LncLight_mRNA_y_prob\n",
    "mRNA_predict_df[\"MLight_pred_label\"] = MLight_mRNA_pred\n",
    "mRNA_predict_df[\"MLight_pred_prob\"] = MLight_mRNA_y_prob"
   ]
  },
  {
   "cell_type": "code",
   "execution_count": 17,
   "metadata": {},
   "outputs": [],
   "source": [
    "# Output\n",
    "LncRNA_predict_df.to_csv(os.path.join(output_dir,\"LncRNA_predict_df.tsv\"),sep = '\\t',index=False)\n",
    "mRNA_predict_df.to_csv(os.path.join(output_dir,\"mRNA_predict_df.tsv\"),sep = '\\t',index=False)"
   ]
  },
  {
   "cell_type": "code",
   "execution_count": 8,
   "metadata": {},
   "outputs": [],
   "source": [
    "# whole genome lncRNA data\n",
    "total_lncRNAs = pd.read_csv(\"./lncRNA-subcellular-localization/Original_data/gencode.v30.lncRNA_transcripts_major_compact_trans_id.txt\",sep ='\\t')\n",
    "total_df_kmer_345,total_df_kmer_345_rawcount = _count_kmer(total_lncRNAs,345)\n",
    "del total_df_kmer_345['ensembl_transcript_id']\n",
    "del total_df_kmer_345['length']\n",
    "total_x_kmer = total_df_kmer_345.values\n",
    "\n",
    "# prediction\n",
    "LncLight_total_lncRNA_pred = LncLight.predict(total_x_kmer)\n",
    "LncLight_total_lncRNA_y_prob = LncLight.predict_proba(total_x_kmer)[:,1]\n",
    "MLight_total_lncRNA_pred = MLight.predict(total_x_kmer)\n",
    "MLight_total_lncRNA_y_prob = MLight.predict_proba(total_x_kmer)[:,1]\n",
    "\n",
    "total_lncRNAs[\"LncLight_pred_label\"] =  LncLight_total_lncRNA_pred\n",
    "total_lncRNAs[\"LncLight_pred_prob\"] = LncLight_total_lncRNA_y_prob\n",
    "total_lncRNAs[\"MLight_pred_label\"] =  MLight_total_lncRNA_pred\n",
    "total_lncRNAs[\"MLight_pred_prob\"] = MLight_total_lncRNA_y_prob\n",
    "\n",
    "total_lncRNAs.to_csv(os.path.join(output_dir,\"Whole_genome_LncRNA_predict_df.tsv\"),sep = '\\t',index=False)"
   ]
  },
  {
   "cell_type": "code",
   "execution_count": 9,
   "metadata": {},
   "outputs": [],
   "source": [
    "# whole genome mRNA data\n",
    "total_mRNAs = pd.read_csv(\"./mRNA-subcellular-localization/Original_data/gencode.v30.pc_mRNA_transcripts_major_compact_trans_id.txt\",sep ='\\t')\n",
    "mRNA_total_df_kmer_345,mRNA_total_df_kmer_345_rawcount = _count_kmer(total_mRNAs,345)\n",
    "del mRNA_total_df_kmer_345['ensembl_transcript_id']\n",
    "del mRNA_total_df_kmer_345['length']\n",
    "mRNA_total_x_kmer = mRNA_total_df_kmer_345.values\n",
    "\n",
    "# prediction\n",
    "LncLight_total_mRNA_pred = LncLight.predict(mRNA_total_x_kmer)\n",
    "LncLight_total_mRNA_y_prob = LncLight.predict_proba(mRNA_total_x_kmer)[:,1]\n",
    "MLight_total_mRNA_pred = MLight.predict(mRNA_total_x_kmer)\n",
    "MLight_total_mRNA_y_prob = MLight.predict_proba(mRNA_total_x_kmer)[:,1]\n",
    "\n",
    "total_mRNAs[\"LncLight_pred_label\"] =  LncLight_total_mRNA_pred\n",
    "total_mRNAs[\"LncLight_pred_prob\"] = LncLight_total_mRNA_y_prob\n",
    "total_mRNAs[\"MLight_pred_label\"] =  MLight_total_mRNA_pred\n",
    "total_mRNAs[\"MLight_pred_prob\"] = MLight_total_mRNA_y_prob\n",
    "total_mRNAs.to_csv(os.path.join(output_dir,\"Whole_genome_mRNA_predict_df.tsv\"),sep = '\\t',index=False)"
   ]
  },
  {
   "cell_type": "markdown",
   "metadata": {},
   "source": [
    "# Using lncRNA and mRNA as entire dataset for model training"
   ]
  },
  {
   "cell_type": "code",
   "execution_count": 17,
   "metadata": {},
   "outputs": [],
   "source": [
    "# Input dir \n",
    "RNA_input_dir = \"./total_RNA-subcellular-localization/20210322_cv_test/\"\n",
    "\n",
    "\n",
    "# Output dir\n",
    "output_dir = \"RNALight_predict_total_set_result\"\n",
    "if not (os.path.exists(output_dir)):\n",
    "    os.mkdir(output_dir)\n",
    "    \n",
    "# Load model\n",
    "RNALight = joblib.load(os.path.join(RNA_input_dir,\"LightGBM/best_LightGBM_model.pkl\"))"
   ]
  },
  {
   "cell_type": "code",
   "execution_count": 18,
   "metadata": {},
   "outputs": [],
   "source": [
    "# whole genome lncRNA data\n",
    "total_lncRNAs = pd.read_csv(\"./lncRNA-subcellular-localization/Original_data/gencode.v30.lncRNA_transcripts_major_compact_trans_id.txt\",sep ='\\t')\n",
    "total_df_kmer_345,total_df_kmer_345_rawcount = _count_kmer(total_lncRNAs,345)\n",
    "del total_df_kmer_345['ensembl_transcript_id']\n",
    "del total_df_kmer_345['length']\n",
    "total_x_kmer = total_df_kmer_345.values\n",
    "\n",
    "# prediction\n",
    "RNALight_total_lncRNA_pred = RNALight.predict(total_x_kmer)\n",
    "RNALight_total_lncRNA_y_prob = RNALight.predict_proba(total_x_kmer)[:,1]\n",
    "\n",
    "\n",
    "total_lncRNAs[\"RNALight_pred_label\"] =  RNALight_total_lncRNA_pred\n",
    "total_lncRNAs[\"RNALight_pred_prob\"] = RNALight_total_lncRNA_y_prob\n",
    "\n",
    "total_lncRNAs.to_csv(os.path.join(output_dir,\"Whole_genome_LncRNA_predict_df.tsv\"),sep = '\\t',index=False)"
   ]
  },
  {
   "cell_type": "code",
   "execution_count": 19,
   "metadata": {},
   "outputs": [],
   "source": [
    "# whole genome mRNA data\n",
    "total_mRNAs = pd.read_csv(\"./mRNA-subcellular-localization/Original_data/gencode.v30.pc_mRNA_transcripts_major_compact_trans_id.txt\",sep ='\\t')\n",
    "mRNA_total_df_kmer_345,mRNA_total_df_kmer_345_rawcount = _count_kmer(total_mRNAs,345)\n",
    "del mRNA_total_df_kmer_345['ensembl_transcript_id']\n",
    "del mRNA_total_df_kmer_345['length']\n",
    "mRNA_total_x_kmer = mRNA_total_df_kmer_345.values\n",
    "\n",
    "# prediction\n",
    "RNALight_total_mRNA_pred = RNALight.predict(mRNA_total_x_kmer)\n",
    "RNALight_total_mRNA_y_prob = RNALight.predict_proba(mRNA_total_x_kmer)[:,1]\n",
    "\n",
    "total_mRNAs[\"RNALight_pred_label\"] =  RNALight_total_mRNA_pred\n",
    "total_mRNAs[\"RNALight_pred_prob\"] = RNALight_total_mRNA_y_prob\n",
    "\n",
    "total_mRNAs.to_csv(os.path.join(output_dir,\"Whole_genome_mRNA_predict_df.tsv\"),sep = '\\t',index=False)"
   ]
  },
  {
   "cell_type": "code",
   "execution_count": null,
   "metadata": {},
   "outputs": [],
   "source": []
  }
 ],
 "metadata": {
  "kernelspec": {
   "display_name": "pytorch",
   "language": "python",
   "name": "pytorch"
  },
  "language_info": {
   "codemirror_mode": {
    "name": "ipython",
    "version": 3
   },
   "file_extension": ".py",
   "mimetype": "text/x-python",
   "name": "python",
   "nbconvert_exporter": "python",
   "pygments_lexer": "ipython3",
   "version": "3.6.10"
  }
 },
 "nbformat": 4,
 "nbformat_minor": 4
}
