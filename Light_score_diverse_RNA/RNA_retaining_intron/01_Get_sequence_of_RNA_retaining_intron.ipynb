{
 "cells": [
  {
   "cell_type": "markdown",
   "id": "removed-chance",
   "metadata": {},
   "source": [
    "# Bash"
   ]
  },
  {
   "cell_type": "markdown",
   "id": "frozen-workshop",
   "metadata": {},
   "source": [
    "***\n",
    "###   "
   ]
  },
  {
   "cell_type": "markdown",
   "id": "falling-hierarchy",
   "metadata": {},
   "source": [
    "## 1. lncRNA with intron"
   ]
  },
  {
   "cell_type": "code",
   "execution_count": 2,
   "id": "scientific-analyst",
   "metadata": {},
   "outputs": [],
   "source": [
    "# lncRNA bed12\n",
    "touch ./01_RNA_retaining_intron_files/Whole_genome_major_lncRNA.bed12\n",
    "\n",
    "sed 1d ../../lncRNA/01_Resources/References/gencode.v30.lncRNA_transcripts_major_compact_trans_id.txt \\\n",
    "| cut -f1 | while read trans_id\n",
    "do\n",
    "    grep \"$trans_id\" ../../mRNA/01_Resources/References/gencode.v30.annotation.bed12 | sed -n 1p  >> ./01_RNA_retaining_intron_files/Whole_genome_major_lncRNA.bed12\n",
    "done\n",
    "\n",
    "# lncRNA sequence with intron\n",
    "echo \"cDNA\" > lncRNA_with_intron_seq.temp\n",
    "bedtools getfasta -fi /picb/rnomics1/database/Human/hg38/genome/hg38_all.fa -bed ./01_RNA_retaining_intron_files/Whole_genome_major_lncRNA.bed12 -s -tab | cut -f2 | tr [:lower:] [:upper:] >> lncRNA_with_intron_seq.temp\n",
    "\n",
    "cut -f1-2 ../../lncRNA/01_Resources/References/gencode.v30.lncRNA_transcripts_major_compact_trans_id.txt > gencode.v30.lncRNA_transcripts_major_compact_trans_id.temp\n",
    "\n",
    "paste gencode.v30.lncRNA_transcripts_major_compact_trans_id.temp lncRNA_with_intron_seq.temp > ./01_RNA_retaining_intron_files/gencode.v30.lncRNA_transcripts_with_intron_major_compact_trans_id.tsv\n",
    "\n",
    "rm *temp"
   ]
  },
  {
   "cell_type": "markdown",
   "id": "cubic-sheep",
   "metadata": {},
   "source": [
    "***\n",
    "###   "
   ]
  },
  {
   "cell_type": "markdown",
   "id": "progressive-bookmark",
   "metadata": {},
   "source": [
    "## 2. mRNA with intron"
   ]
  },
  {
   "cell_type": "code",
   "execution_count": 3,
   "id": "directed-suspect",
   "metadata": {},
   "outputs": [],
   "source": [
    "# mRNA bed12\n",
    "touch ./01_RNA_retaining_intron_files/Whole_genome_major_mRNA.bed12\n",
    "\n",
    "sed 1d ../../mRNA/01_Resources/References/gencode.v30.pc_mRNA_transcripts_major_compact_trans_id.txt \\\n",
    "| cut -f1 | while read trans_id\n",
    "do\n",
    "    grep \"$trans_id\" ../../mRNA/01_Resources/References/gencode.v30.annotation.bed12 | sed -n 1p >> ./01_RNA_retaining_intron_files/Whole_genome_major_mRNA.bed12\n",
    "done\n",
    "\n",
    "# mRNA sequence with intron\n",
    "echo \"cDNA\" > mRNA_with_intron_seq.temp\n",
    "bedtools getfasta -fi /picb/rnomics1/database/Human/hg38/genome/hg38_all.fa -bed ./01_RNA_retaining_intron_files/Whole_genome_major_mRNA.bed12 -s -tab | cut -f2 >> mRNA_with_intron_seq.temp\n",
    "\n",
    "cut -f1-2 ../../mRNA/01_Resources/References/gencode.v30.pc_mRNA_transcripts_major_compact_trans_id.txt > gencode.v30.pc_mRNA_transcripts_major_compact_trans_id.temp\n",
    "\n",
    "paste gencode.v30.pc_mRNA_transcripts_major_compact_trans_id.temp mRNA_with_intron_seq.temp > ./01_RNA_retaining_intron_files/gencode.v30.pc_mRNA_transcripts_with_intron_major_compact_trans_id.tsv\n",
    "\n",
    "rm *temp"
   ]
  },
  {
   "cell_type": "markdown",
   "id": "aware-property",
   "metadata": {},
   "source": [
    "***\n",
    "###   "
   ]
  },
  {
   "cell_type": "markdown",
   "id": "opened-concert",
   "metadata": {},
   "source": [
    "## 3. circRNA with intron in PA1 cells"
   ]
  },
  {
   "cell_type": "code",
   "execution_count": 6,
   "id": "velvet-street",
   "metadata": {},
   "outputs": [],
   "source": [
    "# Get sequences of circRNAs\n",
    "echo \"cDNA\" > circ_with_intron_seq.temp\n",
    "bedtools getfasta -fi /picb/rnomics1/database/Human/hg38/genome/hg38_all.fa -bed ../circular_RNA/2016_Cell_Rep_PA1/03_PA1_high_exp_circ.bed12 -s -tab | tr [:lower:] [:upper:] | cut -f2 >> circ_with_intron_seq.temp\n",
    "\n",
    "paste ../circular_RNA/2016_Cell_Rep_PA1/02_PA1_high_exp_circ_info.tsv circ_with_intron_seq.temp > ./01_RNA_retaining_intron_files/PA1_high_exp_circ_info_with_intron_seq.tsv\n",
    "\n",
    "rm *temp"
   ]
  },
  {
   "cell_type": "code",
   "execution_count": null,
   "id": "australian-brain",
   "metadata": {},
   "outputs": [],
   "source": []
  }
 ],
 "metadata": {
  "kernelspec": {
   "display_name": "Bash",
   "language": "bash",
   "name": "bash"
  },
  "language_info": {
   "codemirror_mode": "shell",
   "file_extension": ".sh",
   "mimetype": "text/x-sh",
   "name": "bash"
  }
 },
 "nbformat": 4,
 "nbformat_minor": 5
}
