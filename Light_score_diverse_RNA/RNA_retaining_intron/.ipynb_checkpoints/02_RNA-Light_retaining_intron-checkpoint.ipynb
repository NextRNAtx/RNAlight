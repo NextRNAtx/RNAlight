{
 "cells": [
  {
   "cell_type": "markdown",
   "id": "attached-binding",
   "metadata": {},
   "source": [
    "# Python"
   ]
  },
  {
   "cell_type": "markdown",
   "id": "proprietary-source",
   "metadata": {},
   "source": [
    "***\n",
    "###  "
   ]
  },
  {
   "cell_type": "code",
   "execution_count": 1,
   "id": "virtual-myrtle",
   "metadata": {},
   "outputs": [],
   "source": [
    "import os\n",
    "import copy\n",
    "import itertools\n",
    "import numpy as np\n",
    "import pandas as pd\n",
    "from sklearn.externals import joblib"
   ]
  },
  {
   "cell_type": "code",
   "execution_count": 7,
   "id": "fifteen-eight",
   "metadata": {},
   "outputs": [],
   "source": [
    "# Count the frequency of k-mer in each RNA sequence\n",
    "#k-mer was normalized by total k-mer count of each RNA sequence\n",
    "def _count_kmer(Dataset,k): # k = 3,4,5,6,7 & length info\n",
    "    \n",
    "    # copy dataset\n",
    "    dataset = copy.deepcopy(Dataset)\n",
    "    # alphbet of nucleotide\n",
    "    nucleotide = ['A','C','G','T']\n",
    "    \n",
    "    # generate k-mers\n",
    "    #  k == 5:\n",
    "    five = list(itertools.product(nucleotide,repeat=5))\n",
    "    pentamer = []\n",
    "    for n in five:\n",
    "        pentamer.append(\"\".join(n))\n",
    "    \n",
    "    #  k == 4:\n",
    "    four = list(itertools.product(nucleotide,repeat=4))\n",
    "    tetramer = []\n",
    "    for n in four:\n",
    "        tetramer.append(\"\".join(n))\n",
    "\n",
    "    # k == 3:\n",
    "    three = list(itertools.product(nucleotide,repeat=3))\n",
    "    threemer = []\n",
    "    for n in three:\n",
    "        threemer.append(\"\".join(n))\n",
    "    \n",
    "    # input features can be combinations of diffrent k values\n",
    "    if k == 34:\n",
    "        table_kmer = dict.fromkeys(threemer,0)\n",
    "        table_kmer.update(dict.fromkeys(tetramer,0))\n",
    "    if k == 45:\n",
    "        table_kmer = dict.fromkeys(tetramer,0)\n",
    "        table_kmer.update(dict.fromkeys(pentamer,0))\n",
    "    if k == 345:\n",
    "        table_kmer = dict.fromkeys(threemer,0)\n",
    "        table_kmer.update(dict.fromkeys(tetramer,0))\n",
    "        table_kmer.update(dict.fromkeys(pentamer,0))\n",
    "\n",
    "    # count k-mer for each sequence\n",
    "    for mer in table_kmer.keys():\n",
    "        table_kmer[mer] = dataset[\"cdna\"].apply(lambda x : x.count(mer))\n",
    "    \n",
    "    # for k-mer raw count without normalization, index: nuc:1 or cyto:0\n",
    "    rawcount_kmer_df = pd.DataFrame(table_kmer)\n",
    "    df1_rawcount = pd.concat([rawcount_kmer_df,dataset[\"ensembl_transcript_id\"]],axis = 1)\n",
    "    #df1_rawcount.index = dataset[\"tag\"]\n",
    "\n",
    "    # for k-mer frequency with normalization , index: nuc:1 or cyto:0\n",
    "    freq_kmer_df = rawcount_kmer_df.apply(lambda x: x/x.sum(),axis=1)\n",
    "    df1 = pd.concat([freq_kmer_df,dataset[\"ensembl_transcript_id\"]],axis = 1)\n",
    "    #df1.index = dataset[\"tag\"]\n",
    "\n",
    "    return df1,df1_rawcount"
   ]
  },
  {
   "cell_type": "code",
   "execution_count": 2,
   "id": "formal-sixth",
   "metadata": {},
   "outputs": [],
   "source": [
    "# Count the frequency of k-mer in each RNA sequence\n",
    "#k-mer was normalized by total k-mer count of each RNA sequence\n",
    "def _count_kmer(Dataset,k): # k = 3,4,5,6,7 & length info\n",
    "    \n",
    "    # copy dataset\n",
    "    dataset = copy.deepcopy(Dataset)\n",
    "    # alphbet of nucleotide\n",
    "    nucleotide = ['A','C','G','T']\n",
    "    \n",
    "    # generate k-mers\n",
    "    #  k == 5:\n",
    "    five = list(itertools.product(nucleotide,repeat=5))\n",
    "    pentamer = []\n",
    "    for n in five:\n",
    "        pentamer.append(\"\".join(n))\n",
    "    \n",
    "    #  k == 4:\n",
    "    four = list(itertools.product(nucleotide,repeat=4))\n",
    "    tetramer = []\n",
    "    for n in four:\n",
    "        tetramer.append(\"\".join(n))\n",
    "\n",
    "    # k == 3:\n",
    "    three = list(itertools.product(nucleotide,repeat=3))\n",
    "    threemer = []\n",
    "    for n in three:\n",
    "        threemer.append(\"\".join(n))\n",
    "    \n",
    "    # input features can be combinations of diffrent k values\n",
    "    if k == 34:\n",
    "        table_kmer = dict.fromkeys(threemer,0)\n",
    "        table_kmer.update(dict.fromkeys(tetramer,0))\n",
    "    if k == 45:\n",
    "        table_kmer = dict.fromkeys(tetramer,0)\n",
    "        table_kmer.update(dict.fromkeys(pentamer,0))\n",
    "    if k == 345:\n",
    "        table_kmer = dict.fromkeys(threemer,0)\n",
    "        table_kmer.update(dict.fromkeys(tetramer,0))\n",
    "        table_kmer.update(dict.fromkeys(pentamer,0))\n",
    "\n",
    "    # count k-mer for each sequence\n",
    "    for mer in table_kmer.keys():\n",
    "        table_kmer[mer] = dataset[\"cdna\"].apply(lambda x : x.count(mer))\n",
    "\n",
    "    # for k-mer raw count without normalization, index: nuc:1 or cyto:0\n",
    "    rawcount_kmer_df = pd.DataFrame(table_kmer)\n",
    "    df1_rawcount = pd.concat([rawcount_kmer_df],axis = 1)\n",
    "    #df1_rawcount.index = dataset[\"tag\"]\n",
    "\n",
    "    # for k-mer frequency with normalization , index: nuc:1 or cyto:0\n",
    "    freq_kmer_df = rawcount_kmer_df.apply(lambda x: x/x.sum(),axis=1)\n",
    "    df1 = pd.concat([freq_kmer_df],axis = 1)\n",
    "    #df1.index = dataset[\"tag\"]\n",
    "\n",
    "    return df1,df1_rawcount"
   ]
  },
  {
   "cell_type": "code",
   "execution_count": 8,
   "id": "convenient-combining",
   "metadata": {},
   "outputs": [],
   "source": [
    "# Input dir \n",
    "RNALight_input_dir = \"../../lncRNA/03_Model_Construction/01_Machine_Learning_Model/01_ML_Model_Output\"\n",
    "\n",
    "# Load model\n",
    "RNALight = joblib.load(os.path.join(RNALight_input_dir,\"LightGBM/best_LightGBM_model.pkl\"))"
   ]
  },
  {
   "cell_type": "markdown",
   "id": "improving-abraham",
   "metadata": {},
   "source": [
    "***\n",
    "###   "
   ]
  },
  {
   "cell_type": "markdown",
   "id": "weekly-peeing",
   "metadata": {},
   "source": [
    "## 1. lncRNA with intron"
   ]
  },
  {
   "cell_type": "code",
   "execution_count": 9,
   "id": "wound-tamil",
   "metadata": {},
   "outputs": [],
   "source": [
    "# Load lncRNA with intron file\n",
    "lncRNA_with_intron_file = pd.read_csv(\"./01_RNA_retaining_intron_files/gencode.v30.lncRNA_transcripts_with_intron_major_compact_trans_id.tsv\",sep = '\\t',header= None)\n",
    "lncRNA_with_intron_file.columns = [\"ensembl_transcript_id\",\"name\",\"cdna\"]"
   ]
  },
  {
   "cell_type": "code",
   "execution_count": 10,
   "id": "joined-mileage",
   "metadata": {},
   "outputs": [
    {
     "ename": "KeyboardInterrupt",
     "evalue": "",
     "output_type": "error",
     "traceback": [
      "\u001b[0;31m---------------------------------------------------------------------------\u001b[0m",
      "\u001b[0;31mKeyboardInterrupt\u001b[0m                         Traceback (most recent call last)",
      "\u001b[0;32m<ipython-input-10-fd9b03fb3888>\u001b[0m in \u001b[0;36m<module>\u001b[0;34m\u001b[0m\n\u001b[0;32m----> 1\u001b[0;31m \u001b[0mdf_kmer_345\u001b[0m\u001b[0;34m,\u001b[0m\u001b[0mdf_kmer_345_rawcount\u001b[0m \u001b[0;34m=\u001b[0m \u001b[0m_count_kmer\u001b[0m\u001b[0;34m(\u001b[0m\u001b[0mlncRNA_with_intron_file\u001b[0m\u001b[0;34m,\u001b[0m\u001b[0;36m345\u001b[0m\u001b[0;34m)\u001b[0m\u001b[0;34m\u001b[0m\u001b[0;34m\u001b[0m\u001b[0m\n\u001b[0m\u001b[1;32m      2\u001b[0m \u001b[0mdf_kmer_345\u001b[0m\u001b[0;34m.\u001b[0m\u001b[0mto_csv\u001b[0m\u001b[0;34m(\u001b[0m\u001b[0;34m\"lncRNA_with_intron_df_kmer345_freq.tsv\"\u001b[0m\u001b[0;34m,\u001b[0m\u001b[0msep\u001b[0m\u001b[0;34m=\u001b[0m\u001b[0;34m'\\t'\u001b[0m\u001b[0;34m)\u001b[0m\u001b[0;34m\u001b[0m\u001b[0;34m\u001b[0m\u001b[0m\n\u001b[1;32m      3\u001b[0m \u001b[0mdf_kmer_345_rawcount\u001b[0m\u001b[0;34m.\u001b[0m\u001b[0mto_csv\u001b[0m\u001b[0;34m(\u001b[0m\u001b[0;34m\"lncRNA_with_intron_df_kmer345_rawcount.tsv\"\u001b[0m\u001b[0;34m,\u001b[0m\u001b[0msep\u001b[0m\u001b[0;34m=\u001b[0m\u001b[0;34m'\\t'\u001b[0m\u001b[0;34m)\u001b[0m\u001b[0;34m\u001b[0m\u001b[0;34m\u001b[0m\u001b[0m\n\u001b[1;32m      4\u001b[0m \u001b[0;34m\u001b[0m\u001b[0m\n\u001b[1;32m      5\u001b[0m \u001b[0;32mdel\u001b[0m \u001b[0mdf_kmer_345\u001b[0m\u001b[0;34m[\u001b[0m\u001b[0;34m'ensembl_transcript_id'\u001b[0m\u001b[0;34m]\u001b[0m\u001b[0;34m\u001b[0m\u001b[0;34m\u001b[0m\u001b[0m\n",
      "\u001b[0;32m<ipython-input-7-8b2512e850f2>\u001b[0m in \u001b[0;36m_count_kmer\u001b[0;34m(Dataset, k)\u001b[0m\n\u001b[1;32m     41\u001b[0m     \u001b[0;31m# count k-mer for each sequence\u001b[0m\u001b[0;34m\u001b[0m\u001b[0;34m\u001b[0m\u001b[0;34m\u001b[0m\u001b[0m\n\u001b[1;32m     42\u001b[0m     \u001b[0;32mfor\u001b[0m \u001b[0mmer\u001b[0m \u001b[0;32min\u001b[0m \u001b[0mtable_kmer\u001b[0m\u001b[0;34m.\u001b[0m\u001b[0mkeys\u001b[0m\u001b[0;34m(\u001b[0m\u001b[0;34m)\u001b[0m\u001b[0;34m:\u001b[0m\u001b[0;34m\u001b[0m\u001b[0;34m\u001b[0m\u001b[0m\n\u001b[0;32m---> 43\u001b[0;31m         \u001b[0mtable_kmer\u001b[0m\u001b[0;34m[\u001b[0m\u001b[0mmer\u001b[0m\u001b[0;34m]\u001b[0m \u001b[0;34m=\u001b[0m \u001b[0mdataset\u001b[0m\u001b[0;34m[\u001b[0m\u001b[0;34m\"cdna\"\u001b[0m\u001b[0;34m]\u001b[0m\u001b[0;34m.\u001b[0m\u001b[0mapply\u001b[0m\u001b[0;34m(\u001b[0m\u001b[0;32mlambda\u001b[0m \u001b[0mx\u001b[0m \u001b[0;34m:\u001b[0m \u001b[0mx\u001b[0m\u001b[0;34m.\u001b[0m\u001b[0mcount\u001b[0m\u001b[0;34m(\u001b[0m\u001b[0mmer\u001b[0m\u001b[0;34m)\u001b[0m\u001b[0;34m)\u001b[0m\u001b[0;34m\u001b[0m\u001b[0;34m\u001b[0m\u001b[0m\n\u001b[0m\u001b[1;32m     44\u001b[0m \u001b[0;34m\u001b[0m\u001b[0m\n\u001b[1;32m     45\u001b[0m     \u001b[0;31m# for k-mer raw count without normalization, index: nuc:1 or cyto:0\u001b[0m\u001b[0;34m\u001b[0m\u001b[0;34m\u001b[0m\u001b[0;34m\u001b[0m\u001b[0m\n",
      "\u001b[0;32m/picb/rnomics3/yuanguohua/anaconda3/envs/pytorch/lib/python3.6/site-packages/pandas/core/series.py\u001b[0m in \u001b[0;36mapply\u001b[0;34m(self, func, convert_dtype, args, **kwds)\u001b[0m\n\u001b[1;32m   2508\u001b[0m             \u001b[0;32melse\u001b[0m\u001b[0;34m:\u001b[0m\u001b[0;34m\u001b[0m\u001b[0;34m\u001b[0m\u001b[0m\n\u001b[1;32m   2509\u001b[0m                 \u001b[0mvalues\u001b[0m \u001b[0;34m=\u001b[0m \u001b[0mself\u001b[0m\u001b[0;34m.\u001b[0m\u001b[0masobject\u001b[0m\u001b[0;34m\u001b[0m\u001b[0;34m\u001b[0m\u001b[0m\n\u001b[0;32m-> 2510\u001b[0;31m                 \u001b[0mmapped\u001b[0m \u001b[0;34m=\u001b[0m \u001b[0mlib\u001b[0m\u001b[0;34m.\u001b[0m\u001b[0mmap_infer\u001b[0m\u001b[0;34m(\u001b[0m\u001b[0mvalues\u001b[0m\u001b[0;34m,\u001b[0m \u001b[0mf\u001b[0m\u001b[0;34m,\u001b[0m \u001b[0mconvert\u001b[0m\u001b[0;34m=\u001b[0m\u001b[0mconvert_dtype\u001b[0m\u001b[0;34m)\u001b[0m\u001b[0;34m\u001b[0m\u001b[0;34m\u001b[0m\u001b[0m\n\u001b[0m\u001b[1;32m   2511\u001b[0m \u001b[0;34m\u001b[0m\u001b[0m\n\u001b[1;32m   2512\u001b[0m         \u001b[0;32mif\u001b[0m \u001b[0mlen\u001b[0m\u001b[0;34m(\u001b[0m\u001b[0mmapped\u001b[0m\u001b[0;34m)\u001b[0m \u001b[0;32mand\u001b[0m \u001b[0misinstance\u001b[0m\u001b[0;34m(\u001b[0m\u001b[0mmapped\u001b[0m\u001b[0;34m[\u001b[0m\u001b[0;36m0\u001b[0m\u001b[0;34m]\u001b[0m\u001b[0;34m,\u001b[0m \u001b[0mSeries\u001b[0m\u001b[0;34m)\u001b[0m\u001b[0;34m:\u001b[0m\u001b[0;34m\u001b[0m\u001b[0;34m\u001b[0m\u001b[0m\n",
      "\u001b[0;32mpandas/_libs/src/inference.pyx\u001b[0m in \u001b[0;36mpandas._libs.lib.map_infer\u001b[0;34m()\u001b[0m\n",
      "\u001b[0;32m<ipython-input-7-8b2512e850f2>\u001b[0m in \u001b[0;36m<lambda>\u001b[0;34m(x)\u001b[0m\n\u001b[1;32m     41\u001b[0m     \u001b[0;31m# count k-mer for each sequence\u001b[0m\u001b[0;34m\u001b[0m\u001b[0;34m\u001b[0m\u001b[0;34m\u001b[0m\u001b[0m\n\u001b[1;32m     42\u001b[0m     \u001b[0;32mfor\u001b[0m \u001b[0mmer\u001b[0m \u001b[0;32min\u001b[0m \u001b[0mtable_kmer\u001b[0m\u001b[0;34m.\u001b[0m\u001b[0mkeys\u001b[0m\u001b[0;34m(\u001b[0m\u001b[0;34m)\u001b[0m\u001b[0;34m:\u001b[0m\u001b[0;34m\u001b[0m\u001b[0;34m\u001b[0m\u001b[0m\n\u001b[0;32m---> 43\u001b[0;31m         \u001b[0mtable_kmer\u001b[0m\u001b[0;34m[\u001b[0m\u001b[0mmer\u001b[0m\u001b[0;34m]\u001b[0m \u001b[0;34m=\u001b[0m \u001b[0mdataset\u001b[0m\u001b[0;34m[\u001b[0m\u001b[0;34m\"cdna\"\u001b[0m\u001b[0;34m]\u001b[0m\u001b[0;34m.\u001b[0m\u001b[0mapply\u001b[0m\u001b[0;34m(\u001b[0m\u001b[0;32mlambda\u001b[0m \u001b[0mx\u001b[0m \u001b[0;34m:\u001b[0m \u001b[0mx\u001b[0m\u001b[0;34m.\u001b[0m\u001b[0mcount\u001b[0m\u001b[0;34m(\u001b[0m\u001b[0mmer\u001b[0m\u001b[0;34m)\u001b[0m\u001b[0;34m)\u001b[0m\u001b[0;34m\u001b[0m\u001b[0;34m\u001b[0m\u001b[0m\n\u001b[0m\u001b[1;32m     44\u001b[0m \u001b[0;34m\u001b[0m\u001b[0m\n\u001b[1;32m     45\u001b[0m     \u001b[0;31m# for k-mer raw count without normalization, index: nuc:1 or cyto:0\u001b[0m\u001b[0;34m\u001b[0m\u001b[0;34m\u001b[0m\u001b[0;34m\u001b[0m\u001b[0m\n",
      "\u001b[0;31mKeyboardInterrupt\u001b[0m: "
     ]
    }
   ],
   "source": [
    "df_kmer_345,df_kmer_345_rawcount = _count_kmer(lncRNA_with_intron_file,345)\n",
    "df_kmer_345.to_csv(\"lncRNA_with_intron_df_kmer345_freq.tsv\",sep='\\t')\n",
    "df_kmer_345_rawcount.to_csv(\"lncRNA_with_intron_df_kmer345_rawcount.tsv\",sep='\\t')\n",
    "\n",
    "del df_kmer_345['ensembl_transcript_id']\n",
    "x_kmer = df_kmer_345.values\n",
    "\n",
    "y_pred = RNALight.predict(x_kmer)\n",
    "y_prob = RNALight.predict_proba(x_kmer)[:,1]"
   ]
  },
  {
   "cell_type": "code",
   "execution_count": null,
   "id": "green-yugoslavia",
   "metadata": {},
   "outputs": [],
   "source": [
    "lncRNA_with_intron_file[\"RNALight_pred_label\"] =  y_pred\n",
    "lncRNA_with_intron_file[\"RNALight_pred_prob\"] = y_prob\n",
    "lncRNA_with_intron_file.to_csv(\"lncRNA_with_intron_file_predict_df.tsv\",sep = '\\t',index=False)"
   ]
  },
  {
   "cell_type": "markdown",
   "id": "valued-terry",
   "metadata": {},
   "source": [
    "***\n",
    "###   "
   ]
  },
  {
   "cell_type": "markdown",
   "id": "handed-updating",
   "metadata": {},
   "source": [
    "## 2. mRNA with intron"
   ]
  },
  {
   "cell_type": "code",
   "execution_count": 9,
   "id": "twelve-election",
   "metadata": {},
   "outputs": [],
   "source": [
    "# Load mRNA with intron file\n",
    "mRNA_with_intron_file = pd.read_csv(\"./01_RNA_retaining_intron_files/gencode.v30.pc_mRNA_transcripts_with_intron_major_compact_trans_id.tsv\",sep = '\\t',header= None)\n",
    "mRNA_with_intron_file.columns = [\"ensembl_transcript_id\",\"name\",\"cdna\"]"
   ]
  },
  {
   "cell_type": "code",
   "execution_count": null,
   "id": "common-vaccine",
   "metadata": {},
   "outputs": [],
   "source": [
    "df_kmer_345,df_kmer_345_rawcount = _count_kmer(mRNA_with_intron_file,345)\n",
    "df_kmer_345.to_csv(\"mRNA_with_intron_df_kmer345_freq.tsv\",sep='\\t')\n",
    "df_kmer_345_rawcount.to_csv(\"mRNA_with_intron_df_kmer345_rawcount.tsv\",sep='\\t')\n",
    "\n",
    "del df_kmer_345['ensembl_transcript_id']\n",
    "x_kmer = df_kmer_345.values\n",
    "\n",
    "y_pred = RNALight.predict(x_kmer)\n",
    "y_prob = RNALight.predict_proba(x_kmer)[:,1]"
   ]
  },
  {
   "cell_type": "code",
   "execution_count": null,
   "id": "missing-arkansas",
   "metadata": {},
   "outputs": [],
   "source": [
    "mRNA_with_intron_file[\"RNALight_pred_label\"] =  y_pred\n",
    "mRNA_with_intron_file[\"RNALight_pred_prob\"] = y_prob\n",
    "mRNA_with_intron_file.to_csv(\"mRNA_with_intron_file_predict_df.tsv\",sep = '\\t',index=False)"
   ]
  },
  {
   "cell_type": "code",
   "execution_count": null,
   "id": "supreme-journey",
   "metadata": {},
   "outputs": [],
   "source": []
  }
 ],
 "metadata": {
  "kernelspec": {
   "display_name": "pytorch",
   "language": "python",
   "name": "pytorch"
  },
  "language_info": {
   "codemirror_mode": {
    "name": "ipython",
    "version": 3
   },
   "file_extension": ".py",
   "mimetype": "text/x-python",
   "name": "python",
   "nbconvert_exporter": "python",
   "pygments_lexer": "ipython3",
   "version": "3.6.10"
  }
 },
 "nbformat": 4,
 "nbformat_minor": 5
}
