{
 "cells": [
  {
   "cell_type": "markdown",
   "id": "corporate-junior",
   "metadata": {},
   "source": [
    "# Python"
   ]
  },
  {
   "cell_type": "markdown",
   "id": "absent-navigation",
   "metadata": {},
   "source": [
    "***\n",
    "###  "
   ]
  },
  {
   "cell_type": "code",
   "execution_count": 1,
   "id": "sunset-advertising",
   "metadata": {},
   "outputs": [],
   "source": [
    "import os\n",
    "import copy\n",
    "import itertools\n",
    "import numpy as np\n",
    "import pandas as pd\n",
    "from sklearn.externals import joblib"
   ]
  },
  {
   "cell_type": "code",
   "execution_count": 2,
   "id": "fifty-questionnaire",
   "metadata": {},
   "outputs": [],
   "source": [
    "# Count the frequency of k-mer in each RNA sequence\n",
    "#k-mer was normalized by total k-mer count of each RNA sequence\n",
    "def _count_kmer(Dataset,k): # k = 3,4,5,6,7 & length info\n",
    "    \n",
    "    # copy dataset\n",
    "    dataset = copy.deepcopy(Dataset)\n",
    "    # alphbet of nucleotide\n",
    "    nucleotide = ['A','C','G','T']\n",
    "    \n",
    "    # generate k-mers\n",
    "    #  k == 5:\n",
    "    five = list(itertools.product(nucleotide,repeat=5))\n",
    "    pentamer = []\n",
    "    for n in five:\n",
    "        pentamer.append(\"\".join(n))\n",
    "    \n",
    "    #  k == 4:\n",
    "    four = list(itertools.product(nucleotide,repeat=4))\n",
    "    tetramer = []\n",
    "    for n in four:\n",
    "        tetramer.append(\"\".join(n))\n",
    "\n",
    "    # k == 3:\n",
    "    three = list(itertools.product(nucleotide,repeat=3))\n",
    "    threemer = []\n",
    "    for n in three:\n",
    "        threemer.append(\"\".join(n))\n",
    "    \n",
    "    # input features can be combinations of diffrent k values\n",
    "    if k == 34:\n",
    "        table_kmer = dict.fromkeys(threemer,0)\n",
    "        table_kmer.update(dict.fromkeys(tetramer,0))\n",
    "    if k == 45:\n",
    "        table_kmer = dict.fromkeys(tetramer,0)\n",
    "        table_kmer.update(dict.fromkeys(pentamer,0))\n",
    "    if k == 345:\n",
    "        table_kmer = dict.fromkeys(threemer,0)\n",
    "        table_kmer.update(dict.fromkeys(tetramer,0))\n",
    "        table_kmer.update(dict.fromkeys(pentamer,0))\n",
    "\n",
    "    # count k-mer for each sequence\n",
    "    for mer in table_kmer.keys():\n",
    "        table_kmer[mer] = dataset[\"cdna\"].apply(lambda x : x.count(mer))\n",
    "    \n",
    "    # for k-mer raw count without normalization, index: nuc:1 or cyto:0\n",
    "    rawcount_kmer_df = pd.DataFrame(table_kmer)\n",
    "    df1_rawcount = pd.concat([rawcount_kmer_df,dataset[\"ensembl_transcript_id\"]],axis = 1)\n",
    "    #df1_rawcount.index = dataset[\"tag\"]\n",
    "\n",
    "    # for k-mer frequency with normalization , index: nuc:1 or cyto:0\n",
    "    freq_kmer_df = rawcount_kmer_df.apply(lambda x: x/x.sum(),axis=1)\n",
    "    df1 = pd.concat([freq_kmer_df,dataset[\"ensembl_transcript_id\"]],axis = 1)\n",
    "    #df1.index = dataset[\"tag\"]\n",
    "\n",
    "    return df1,df1_rawcount"
   ]
  },
  {
   "cell_type": "code",
   "execution_count": 19,
   "id": "speaking-steam",
   "metadata": {},
   "outputs": [],
   "source": [
    "# Input dir \n",
    "RNALight_lncRNA_input_dir = \"../../lncRNA/03_Model_Construction/01_Machine_Learning_Model/01_ML_Model_Output\"\n",
    "RNALight_mRNA_input_dir = \"../../mRNA/03_Model_Construction/01_Machine_Learning_Model/01_ML_Model_Output\"\n",
    "\n",
    "# Load model\n",
    "RNALight_lncRNA = joblib.load(os.path.join(RNALight_lncRNA_input_dir,\"LightGBM/best_LightGBM_model.pkl\"))\n",
    "RNALight_mRNA = joblib.load(os.path.join(RNALight_mRNA_input_dir,\"LightGBM/best_LightGBM_model.pkl\"))"
   ]
  },
  {
   "cell_type": "markdown",
   "id": "unusual-child",
   "metadata": {},
   "source": [
    "***\n",
    "###   "
   ]
  },
  {
   "cell_type": "markdown",
   "id": "greater-activation",
   "metadata": {},
   "source": [
    "## 1. lncRNA with intron"
   ]
  },
  {
   "cell_type": "code",
   "execution_count": 4,
   "id": "matched-cattle",
   "metadata": {},
   "outputs": [],
   "source": [
    "# Load lncRNA with intron file\n",
    "lncRNA_with_intron_file = pd.read_csv(\"./01_RNA_retaining_intron_files/gencode.v30.lncRNA_transcripts_with_intron_major_compact_trans_id.tsv\",sep = '\\t',header= None)\n",
    "lncRNA_with_intron_file.columns = [\"ensembl_transcript_id\",\"name\",\"cdna\"]"
   ]
  },
  {
   "cell_type": "code",
   "execution_count": 5,
   "id": "local-blast",
   "metadata": {},
   "outputs": [],
   "source": [
    "df_kmer_345,df_kmer_345_rawcount = _count_kmer(lncRNA_with_intron_file,345)\n",
    "df_kmer_345.to_csv(\"lncRNA_with_intron_df_kmer345_freq.tsv\",sep='\\t')\n",
    "df_kmer_345_rawcount.to_csv(\"lncRNA_with_intron_df_kmer345_rawcount.tsv\",sep='\\t')\n",
    "\n",
    "del df_kmer_345['ensembl_transcript_id']\n",
    "x_kmer = df_kmer_345.values\n",
    "\n",
    "y_pred = RNALight_lncRNA.predict(x_kmer)\n",
    "y_prob = RNALight_lncRNA.predict_proba(x_kmer)[:,1]"
   ]
  },
  {
   "cell_type": "code",
   "execution_count": 6,
   "id": "bulgarian-conducting",
   "metadata": {},
   "outputs": [],
   "source": [
    "lncRNA_with_intron_file[\"RNALight_pred_label\"] =  y_pred\n",
    "lncRNA_with_intron_file[\"RNALight_pred_prob\"] = y_prob\n",
    "lncRNA_with_intron_file.to_csv(\"lncRNA_with_intron_file_predict_df.tsv\",sep = '\\t',index=False)"
   ]
  },
  {
   "cell_type": "markdown",
   "id": "radio-night",
   "metadata": {},
   "source": [
    "***\n",
    "###   "
   ]
  },
  {
   "cell_type": "markdown",
   "id": "timely-harvest",
   "metadata": {},
   "source": [
    "## 2. mRNA with intron"
   ]
  },
  {
   "cell_type": "code",
   "execution_count": 20,
   "id": "preceding-transition",
   "metadata": {},
   "outputs": [],
   "source": [
    "# Load mRNA with intron file\n",
    "mRNA_with_intron_file = pd.read_csv(\"./01_RNA_retaining_intron_files/gencode.v30.pc_mRNA_transcripts_with_intron_major_compact_trans_id.tsv\",sep = '\\t',header= None)\n",
    "mRNA_with_intron_file.columns = [\"ensembl_transcript_id\",\"name\",\"cdna\"]"
   ]
  },
  {
   "cell_type": "code",
   "execution_count": 21,
   "id": "imported-thriller",
   "metadata": {},
   "outputs": [],
   "source": [
    "df_kmer_345,df_kmer_345_rawcount = _count_kmer(mRNA_with_intron_file,345)\n",
    "df_kmer_345.to_csv(\"mRNA_with_intron_df_kmer345_freq.tsv\",sep='\\t')\n",
    "df_kmer_345_rawcount.to_csv(\"mRNA_with_intron_df_kmer345_rawcount.tsv\",sep='\\t')\n",
    "\n",
    "del df_kmer_345['ensembl_transcript_id']\n",
    "x_kmer = df_kmer_345.values\n",
    "\n",
    "y_pred = RNALight_mRNA.predict(x_kmer)\n",
    "y_prob = RNALight_mRNA.predict_proba(x_kmer)[:,1]"
   ]
  },
  {
   "cell_type": "code",
   "execution_count": 22,
   "id": "human-blocking",
   "metadata": {},
   "outputs": [],
   "source": [
    "mRNA_with_intron_file[\"RNALight_pred_label\"] =  y_pred\n",
    "mRNA_with_intron_file[\"RNALight_pred_prob\"] = y_prob\n",
    "mRNA_with_intron_file.to_csv(\"mRNA_with_intron_file_predict_df.tsv\",sep = '\\t',index=False)"
   ]
  },
  {
   "cell_type": "markdown",
   "id": "concrete-winner",
   "metadata": {},
   "source": [
    "***\n",
    "###   "
   ]
  },
  {
   "cell_type": "markdown",
   "id": "daily-manchester",
   "metadata": {},
   "source": [
    "## 2. circRNA with intron"
   ]
  },
  {
   "cell_type": "code",
   "execution_count": 15,
   "id": "biological-helmet",
   "metadata": {},
   "outputs": [],
   "source": [
    "# Load circRNA with intron file\n",
    "circRNA_with_intron_file = pd.read_csv(\"./01_RNA_retaining_intron_files/PA1_high_exp_circ_info_with_intron_seq.tsv\",sep = '\\t')\n",
    "circRNA_with_intron = circRNA_with_intron_file.iloc[:,[4,4,8]]\n",
    "circRNA_with_intron.columns = [\"ensembl_transcript_id\",\"name\",\"cdna\"]"
   ]
  },
  {
   "cell_type": "code",
   "execution_count": 16,
   "id": "tutorial-custody",
   "metadata": {},
   "outputs": [],
   "source": [
    "df_kmer_345,df_kmer_345_rawcount = _count_kmer(circRNA_with_intron,345)\n",
    "df_kmer_345.to_csv(\"circRNA_with_intron_df_kmer345_freq.tsv\",sep='\\t')\n",
    "df_kmer_345_rawcount.to_csv(\"circRNA_with_intron_df_kmer345_rawcount.tsv\",sep='\\t')\n",
    "\n",
    "del df_kmer_345['ensembl_transcript_id']\n",
    "x_kmer = df_kmer_345.values\n",
    "\n",
    "y_pred = RNALight_lncRNA.predict(x_kmer)\n",
    "y_prob = RNALight_lncRNA.predict_proba(x_kmer)[:,1]"
   ]
  },
  {
   "cell_type": "code",
   "execution_count": 17,
   "id": "acquired-speaker",
   "metadata": {},
   "outputs": [
    {
     "name": "stderr",
     "output_type": "stream",
     "text": [
      "/picb/rnomics3/yuanguohua/anaconda3/envs/pytorch/lib/python3.6/site-packages/ipykernel_launcher.py:1: SettingWithCopyWarning: \n",
      "A value is trying to be set on a copy of a slice from a DataFrame.\n",
      "Try using .loc[row_indexer,col_indexer] = value instead\n",
      "\n",
      "See the caveats in the documentation: http://pandas.pydata.org/pandas-docs/stable/indexing.html#indexing-view-versus-copy\n",
      "  \"\"\"Entry point for launching an IPython kernel.\n",
      "/picb/rnomics3/yuanguohua/anaconda3/envs/pytorch/lib/python3.6/site-packages/ipykernel_launcher.py:2: SettingWithCopyWarning: \n",
      "A value is trying to be set on a copy of a slice from a DataFrame.\n",
      "Try using .loc[row_indexer,col_indexer] = value instead\n",
      "\n",
      "See the caveats in the documentation: http://pandas.pydata.org/pandas-docs/stable/indexing.html#indexing-view-versus-copy\n",
      "  \n"
     ]
    }
   ],
   "source": [
    "circRNA_with_intron[\"RNALight_pred_label\"] =  y_pred\n",
    "circRNA_with_intron[\"RNALight_pred_prob\"] = y_prob\n",
    "circRNA_with_intron.to_csv(\"circRNA_with_intron_file_predict_df.tsv\",sep = '\\t',index=False)"
   ]
  },
  {
   "cell_type": "code",
   "execution_count": null,
   "id": "subject-possibility",
   "metadata": {},
   "outputs": [],
   "source": []
  }
 ],
 "metadata": {
  "kernelspec": {
   "display_name": "pytorch",
   "language": "python",
   "name": "pytorch"
  },
  "language_info": {
   "codemirror_mode": {
    "name": "ipython",
    "version": 3
   },
   "file_extension": ".py",
   "mimetype": "text/x-python",
   "name": "python",
   "nbconvert_exporter": "python",
   "pygments_lexer": "ipython3",
   "version": "3.6.10"
  }
 },
 "nbformat": 4,
 "nbformat_minor": 5
}
