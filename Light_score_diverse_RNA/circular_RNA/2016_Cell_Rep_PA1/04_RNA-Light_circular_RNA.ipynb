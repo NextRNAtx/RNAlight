{
 "cells": [
  {
   "cell_type": "markdown",
   "id": "empirical-smart",
   "metadata": {},
   "source": [
    "# Python"
   ]
  },
  {
   "cell_type": "markdown",
   "id": "equipped-logistics",
   "metadata": {},
   "source": [
    "***\n",
    "###  "
   ]
  },
  {
   "cell_type": "code",
   "execution_count": 1,
   "id": "parallel-bachelor",
   "metadata": {},
   "outputs": [],
   "source": [
    "import os\n",
    "import copy\n",
    "import itertools\n",
    "import numpy as np\n",
    "import pandas as pd\n",
    "from sklearn.externals import joblib"
   ]
  },
  {
   "cell_type": "code",
   "execution_count": 2,
   "id": "czech-earthquake",
   "metadata": {},
   "outputs": [],
   "source": [
    "# Count the frequency of k-mer in each RNA sequence\n",
    "#k-mer was normalized by total k-mer count of each RNA sequence\n",
    "def _count_kmer(Dataset,k): # k = 3,4,5\n",
    "    \n",
    "    # copy dataset\n",
    "    dataset = copy.deepcopy(Dataset)\n",
    "    # alphbet of nucleotide\n",
    "    nucleotide = ['A','C','G','T']\n",
    "    \n",
    "    # generate k-mers\n",
    "    #  k == 5:\n",
    "    five = list(itertools.product(nucleotide,repeat=5))\n",
    "    pentamer = []\n",
    "    for n in five:\n",
    "        pentamer.append(\"\".join(n))\n",
    "    \n",
    "    #  k == 4:\n",
    "    four = list(itertools.product(nucleotide,repeat=4))\n",
    "    tetramer = []\n",
    "    for n in four:\n",
    "        tetramer.append(\"\".join(n))\n",
    "\n",
    "    # k == 3:\n",
    "    three = list(itertools.product(nucleotide,repeat=3))\n",
    "    threemer = []\n",
    "    for n in three:\n",
    "        threemer.append(\"\".join(n))\n",
    "    \n",
    "    # input features can be combinations of diffrent k values\n",
    "    if k == 34:\n",
    "        table_kmer = dict.fromkeys(threemer,0)\n",
    "        table_kmer.update(dict.fromkeys(tetramer,0))\n",
    "    if k == 45:\n",
    "        table_kmer = dict.fromkeys(tetramer,0)\n",
    "        table_kmer.update(dict.fromkeys(pentamer,0))\n",
    "    if k == 345:\n",
    "        table_kmer = dict.fromkeys(threemer,0)\n",
    "        table_kmer.update(dict.fromkeys(tetramer,0))\n",
    "        table_kmer.update(dict.fromkeys(pentamer,0))\n",
    "\n",
    "    # count k-mer for each sequence\n",
    "    for mer in table_kmer.keys():\n",
    "        table_kmer[mer] = dataset[\"cdna\"].apply(lambda x : x.count(mer))\n",
    "    \n",
    "    # for k-mer raw count without normalization, index: nuc:1 or cyto:0\n",
    "    rawcount_kmer_df = pd.DataFrame(table_kmer)\n",
    "    df1_rawcount = pd.concat([rawcount_kmer_df,dataset[\"ensembl_transcript_id\"]],axis = 1)\n",
    "    #df1_rawcount.index = dataset[\"tag\"]\n",
    "\n",
    "    # for k-mer frequency with normalization , index: nuc:1 or cyto:0\n",
    "    freq_kmer_df = rawcount_kmer_df.apply(lambda x: x/x.sum(),axis=1)\n",
    "    df1 = pd.concat([freq_kmer_df,dataset[\"ensembl_transcript_id\"]],axis = 1)\n",
    "    #df1.index = dataset[\"tag\"]\n",
    "\n",
    "    return df1,df1_rawcount"
   ]
  },
  {
   "cell_type": "code",
   "execution_count": 7,
   "id": "micro-steel",
   "metadata": {},
   "outputs": [],
   "source": [
    "# Model input dir \n",
    "RNALight_input_dir = \"../../../lncRNA/03_Model_Construction/01_Machine_Learning_Model/01_ML_Model_Output\"\n",
    "    \n",
    "# Load model\n",
    "RNALight = joblib.load(os.path.join(RNALight_input_dir,\"LightGBM/best_LightGBM_model.pkl\"))"
   ]
  },
  {
   "cell_type": "code",
   "execution_count": 8,
   "id": "advance-french",
   "metadata": {},
   "outputs": [],
   "source": [
    "# Load circRNA input file\n",
    "circRNA_file = pd.read_csv(\"./03_PA1_high_exp_circ_info_with_seq.tsv\",sep = '\\t')\n",
    "\n",
    "circRNAs = circRNA_file.iloc[:,[4,8]]\n",
    "circRNAs.columns = [\"ensembl_transcript_id\",\"cdna\"]\n",
    "\n",
    "df_kmer_345,df_kmer_345_rawcount = _count_kmer(circRNAs,345)\n",
    "df_kmer_345.to_csv(\"circRNAs_df_kmer345_freq.tsv\",sep='\\t')\n",
    "df_kmer_345_rawcount.to_csv(\"circRNAs_df_kmer345_rawcount.tsv\",sep='\\t')\n",
    "\n",
    "del df_kmer_345['ensembl_transcript_id']\n",
    "x_kmer = df_kmer_345.values\n",
    "\n",
    "y_pred = RNALight.predict(x_kmer)\n",
    "y_prob = RNALight.predict_proba(x_kmer)[:,1]"
   ]
  },
  {
   "cell_type": "code",
   "execution_count": 10,
   "id": "personal-startup",
   "metadata": {},
   "outputs": [
    {
     "name": "stderr",
     "output_type": "stream",
     "text": [
      "/picb/rnomics3/yuanguohua/anaconda3/envs/pytorch/lib/python3.6/site-packages/ipykernel_launcher.py:1: SettingWithCopyWarning: \n",
      "A value is trying to be set on a copy of a slice from a DataFrame.\n",
      "Try using .loc[row_indexer,col_indexer] = value instead\n",
      "\n",
      "See the caveats in the documentation: http://pandas.pydata.org/pandas-docs/stable/indexing.html#indexing-view-versus-copy\n",
      "  \"\"\"Entry point for launching an IPython kernel.\n",
      "/picb/rnomics3/yuanguohua/anaconda3/envs/pytorch/lib/python3.6/site-packages/ipykernel_launcher.py:2: SettingWithCopyWarning: \n",
      "A value is trying to be set on a copy of a slice from a DataFrame.\n",
      "Try using .loc[row_indexer,col_indexer] = value instead\n",
      "\n",
      "See the caveats in the documentation: http://pandas.pydata.org/pandas-docs/stable/indexing.html#indexing-view-versus-copy\n",
      "  \n"
     ]
    }
   ],
   "source": [
    "circRNAs[\"RNALight_pred_label\"] =  y_pred\n",
    "circRNAs[\"RNALight_pred_prob\"] = y_prob\n",
    "circRNAs.to_csv(\"circRNAs_predict_df.tsv\",sep = '\\t',index=False)"
   ]
  },
  {
   "cell_type": "code",
   "execution_count": 11,
   "id": "monetary-spiritual",
   "metadata": {},
   "outputs": [],
   "source": [
    "# Load ciRNA input file\n",
    "ciRNA_file = pd.read_csv(\"./03_PA1_high_exp_ci_info_with_seq.tsv\",sep = '\\t')\n",
    "\n",
    "ciRNAs = ciRNA_file.iloc[:,[4,8]]\n",
    "ciRNAs.columns = [\"ensembl_transcript_id\",\"cdna\"]\n",
    "\n",
    "df_kmer_345,df_kmer_345_rawcount = _count_kmer(ciRNAs,345)\n",
    "df_kmer_345.to_csv(\"ciRNAs_df_kmer345_freq.tsv\",sep='\\t')\n",
    "df_kmer_345_rawcount.to_csv(\"ciRNAs_df_kmer345_rawcount.tsv\",sep='\\t')\n",
    "\n",
    "del df_kmer_345['ensembl_transcript_id']\n",
    "\n",
    "x_kmer = df_kmer_345.values\n",
    "\n",
    "y_pred = RNALight.predict(x_kmer)\n",
    "y_prob = RNALight.predict_proba(x_kmer)[:,1]"
   ]
  },
  {
   "cell_type": "code",
   "execution_count": 12,
   "id": "fifteen-nutrition",
   "metadata": {},
   "outputs": [
    {
     "name": "stderr",
     "output_type": "stream",
     "text": [
      "/picb/rnomics3/yuanguohua/anaconda3/envs/pytorch/lib/python3.6/site-packages/ipykernel_launcher.py:1: SettingWithCopyWarning: \n",
      "A value is trying to be set on a copy of a slice from a DataFrame.\n",
      "Try using .loc[row_indexer,col_indexer] = value instead\n",
      "\n",
      "See the caveats in the documentation: http://pandas.pydata.org/pandas-docs/stable/indexing.html#indexing-view-versus-copy\n",
      "  \"\"\"Entry point for launching an IPython kernel.\n",
      "/picb/rnomics3/yuanguohua/anaconda3/envs/pytorch/lib/python3.6/site-packages/ipykernel_launcher.py:2: SettingWithCopyWarning: \n",
      "A value is trying to be set on a copy of a slice from a DataFrame.\n",
      "Try using .loc[row_indexer,col_indexer] = value instead\n",
      "\n",
      "See the caveats in the documentation: http://pandas.pydata.org/pandas-docs/stable/indexing.html#indexing-view-versus-copy\n",
      "  \n"
     ]
    }
   ],
   "source": [
    "ciRNAs[\"RNALight_pred_label\"] =  y_pred\n",
    "ciRNAs[\"RNALight_pred_prob\"] = y_prob\n",
    "ciRNAs.to_csv(\"ciRNAs_predict_df.tsv\",sep = '\\t',index=False)"
   ]
  },
  {
   "cell_type": "code",
   "execution_count": null,
   "id": "organic-forwarding",
   "metadata": {},
   "outputs": [],
   "source": []
  }
 ],
 "metadata": {
  "kernelspec": {
   "display_name": "pytorch",
   "language": "python",
   "name": "pytorch"
  },
  "language_info": {
   "codemirror_mode": {
    "name": "ipython",
    "version": 3
   },
   "file_extension": ".py",
   "mimetype": "text/x-python",
   "name": "python",
   "nbconvert_exporter": "python",
   "pygments_lexer": "ipython3",
   "version": "3.6.10"
  }
 },
 "nbformat": 4,
 "nbformat_minor": 5
}
