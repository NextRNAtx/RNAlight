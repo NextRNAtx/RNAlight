{
 "cells": [
  {
   "cell_type": "markdown",
   "id": "christian-setup",
   "metadata": {},
   "source": [
    "# Bash"
   ]
  },
  {
   "cell_type": "markdown",
   "id": "unable-mainland",
   "metadata": {},
   "source": [
    "***\n",
    "###  "
   ]
  },
  {
   "cell_type": "code",
   "execution_count": 1,
   "id": "intended-heavy",
   "metadata": {},
   "outputs": [],
   "source": [
    "# Get bed12 file of total circRNAs in PA1 cell \n",
    "cat 01_PA1_steady_ribominus_rep1_circRNA.txt 01_PA1_steady_ribominus_rep2_circRNA.txt \\\n",
    "| cut -f1-12 | awk '!a[$1,$2,$3,$6]++' > 03_PA1_steady_ribominus_circRNA.bed12\n",
    "\n",
    "# Get bed12 file of highly expressed circRNAs in PA1 cell \n",
    "touch 03_PA1_high_exp_circ.bed12\n",
    "sed 1d 02_PA1_high_exp_circ_info.tsv | cut -f1-3 | while read circ_pos\n",
    "do\n",
    "    grep \"$circ_pos\"  03_PA1_steady_ribominus_circRNA.bed12 >> 03_PA1_high_exp_circ.bed12\n",
    "done\n",
    "\n",
    "# Get sequences of circRNAs\n",
    "echo \"cDNA\" > circ_seq.temp\n",
    "bedtools getfasta -fi /picb/rnomics1/database/Human/hg38/genome/hg38_all.fa -bed 03_PA1_high_exp_circ.bed12 -split -s -tab |  cut -f2 | tr [:lower:] [:upper:] >> circ_seq.temp\n",
    "\n",
    "paste 02_PA1_high_exp_circ_info.tsv circ_seq.temp > 03_PA1_high_exp_circ_info_with_seq.tsv"
   ]
  },
  {
   "cell_type": "code",
   "execution_count": 2,
   "id": "northern-symbol",
   "metadata": {},
   "outputs": [],
   "source": [
    "# Get bed12 file of total ciRNAs in PA1 cell \n",
    "cat 01_PA1_steady_ribominus_rep1_ciRNA.txt 01_PA1_steady_ribominus_rep2_ciRNA.txt \\\n",
    "| cut -f1-12 | awk '!a[$1,$2,$3,$6]++' > 03_PA1_steady_ribominus_ciRNA.bed12\n",
    "\n",
    "# Get bed12 file of highly expressed ciRNAs in PA1 cell \n",
    "touch 03_PA1_high_exp_ci.bed12\n",
    "sed 1d 02_PA1_high_exp_ci_info.tsv | cut -f1-3 | while read ci_pos\n",
    "do\n",
    "    grep \"$ci_pos\" 03_PA1_steady_ribominus_ciRNA.bed12 >> 03_PA1_high_exp_ci.bed12\n",
    "done\n",
    "\n",
    "# Get sequences of ciRNAs\n",
    "echo \"cDNA\" > ci_seq.temp\n",
    "bedtools getfasta -fi /picb/rnomics1/database/Human/hg38/genome/hg38_all.fa -bed 03_PA1_high_exp_ci.bed12 -split -s -tab | cut -f2 | tr [:lower:] [:upper:] >> ci_seq.temp\n",
    "\n",
    "paste 02_PA1_high_exp_ci_info.tsv ci_seq.temp > 03_PA1_high_exp_ci_info_with_seq.tsv"
   ]
  },
  {
   "cell_type": "code",
   "execution_count": 3,
   "id": "third-forest",
   "metadata": {},
   "outputs": [],
   "source": [
    "rm *temp"
   ]
  },
  {
   "cell_type": "code",
   "execution_count": null,
   "id": "manufactured-eagle",
   "metadata": {},
   "outputs": [],
   "source": []
  }
 ],
 "metadata": {
  "kernelspec": {
   "display_name": "Bash",
   "language": "bash",
   "name": "bash"
  },
  "language_info": {
   "codemirror_mode": "shell",
   "file_extension": ".sh",
   "mimetype": "text/x-sh",
   "name": "bash"
  }
 },
 "nbformat": 4,
 "nbformat_minor": 5
}
