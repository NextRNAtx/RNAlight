{
 "cells": [
  {
   "cell_type": "code",
   "execution_count": 12,
   "id": "prescribed-penny",
   "metadata": {},
   "outputs": [],
   "source": [
    "# Get bed12 file of total circRNAs in PA1 cell \n",
    "cat PA1-scram-rep1_ribominus_circRNA_quant.txt PA1-scram-rep2_ribominus_circRNA_quant.txt \\\n",
    "| cut -f1-12 | awk '!a[$1,$2,$3,$6]++' > PA1-scram_ribominus_circRNA.bed12\n",
    "\n",
    "# Get bed12 file of highly expressed circRNAs in PA1 cell \n",
    "touch PA1_high_exp_circ.bed12\n",
    "sed 1d PA1_high_exp_circ_info.tsv | cut -f1-3 | while read circ_pos\n",
    "do\n",
    "    grep \"$circ_pos\" PA1-scram_ribominus_circRNA.bed12 >> PA1_high_exp_circ.bed12\n",
    "done\n",
    "\n",
    "# Get sequences of circRNAs\n",
    "echo \"cDNA\" > circ_seq.temp\n",
    "bedtools getfasta -fi /picb/rnomics1/database/Human/hg38/genome/hg38_all.fa -bed PA1_high_exp_circ.bed12 -split -s -tab |  cut -f2 | tr [:lower:] [:upper:] >> circ_seq.temp\n",
    "\n",
    "paste PA1_high_exp_circ_info.tsv circ_seq.temp > PA1_high_exp_circ_info_with_seq.tsv"
   ]
  },
  {
   "cell_type": "code",
   "execution_count": 13,
   "id": "aggregate-label",
   "metadata": {},
   "outputs": [],
   "source": [
    "# Get sequences of circRNAs\n",
    "echo \"cDNA\" > circ_with_intron_seq.temp\n",
    "bedtools getfasta -fi /picb/rnomics1/database/Human/hg38/genome/hg38_all.fa -bed PA1_high_exp_circ.bed12 -s -tab | tr [:lower:] [:upper:] | cut -f2 >> circ_with_intron_seq.temp\n",
    "\n",
    "paste PA1_high_exp_circ_info.tsv circ_with_intron_seq.temp > PA1_high_exp_circ_info_with_intron_seq.tsv"
   ]
  },
  {
   "cell_type": "code",
   "execution_count": 14,
   "id": "collected-still",
   "metadata": {},
   "outputs": [],
   "source": [
    "# Get bed12 file of total ciRNAs in PA1 cell \n",
    "cat PA1-scram-rep1_ribominus_ciRNA_quant.txt PA1-scram-rep2_ribominus_ciRNA_quant.txt \\\n",
    "| cut -f1-12 | awk '!a[$1,$2,$3,$6]++' > PA1-scram_ribominus_ciRNA.bed12\n",
    "\n",
    "# Get bed12 file of highly expressed ciRNAs in PA1 cell \n",
    "touch PA1_high_exp_ci.bed12\n",
    "sed 1d PA1_high_exp_ci_info.tsv | cut -f1-3 | while read ci_pos\n",
    "do\n",
    "    grep \"$ci_pos\" PA1-scram_ribominus_ciRNA.bed12 >> PA1_high_exp_ci.bed12\n",
    "done\n",
    "\n",
    "# Get sequences of ciRNAs\n",
    "echo \"cDNA\" > ci_seq.temp\n",
    "bedtools getfasta -fi /picb/rnomics1/database/Human/hg38/genome/hg38_all.fa -bed PA1_high_exp_ci.bed12 -split -s -tab | cut -f2 | tr [:lower:] [:upper:] >> ci_seq.temp\n",
    "\n",
    "paste PA1_high_exp_ci_info.tsv ci_seq.temp > PA1_high_exp_ci_info_with_seq.tsv"
   ]
  },
  {
   "cell_type": "code",
   "execution_count": 15,
   "id": "promotional-hudson",
   "metadata": {},
   "outputs": [],
   "source": [
    "rm *temp"
   ]
  },
  {
   "cell_type": "code",
   "execution_count": null,
   "id": "needed-ultimate",
   "metadata": {},
   "outputs": [],
   "source": []
  }
 ],
 "metadata": {
  "kernelspec": {
   "display_name": "Bash",
   "language": "bash",
   "name": "bash"
  },
  "language_info": {
   "codemirror_mode": "shell",
   "file_extension": ".sh",
   "mimetype": "text/x-sh",
   "name": "bash"
  }
 },
 "nbformat": 4,
 "nbformat_minor": 5
}
