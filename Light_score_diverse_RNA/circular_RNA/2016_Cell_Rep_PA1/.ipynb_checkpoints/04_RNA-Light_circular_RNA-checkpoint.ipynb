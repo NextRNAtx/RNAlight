{
 "cells": [
  {
   "cell_type": "code",
   "execution_count": 11,
   "id": "copyrighted-participant",
   "metadata": {},
   "outputs": [],
   "source": [
    "import os\n",
    "import copy\n",
    "import collections\n",
    "import itertools\n",
    "import numpy as np\n",
    "import pandas as pd\n",
    "from sklearn.externals import joblib"
   ]
  },
  {
   "cell_type": "code",
   "execution_count": 12,
   "id": "stretch-corner",
   "metadata": {},
   "outputs": [],
   "source": [
    "# Count the frequency of k-mer in each RNA sequence\n",
    "#k-mer was normalized by total k-mer count of each RNA sequence\n",
    "def _count_kmer(Dataset,k): # k = 3,4,5,6,7 & length info\n",
    "    \n",
    "    # copy dataset\n",
    "    dataset = copy.deepcopy(Dataset)\n",
    "    # alphbet of nucleotide\n",
    "    nucleotide = ['A','C','G','T']\n",
    "    \n",
    "    # generate k-mers\n",
    "    #  k == 7:\n",
    "    seven = list(itertools.product(nucleotide,repeat=7))\n",
    "    sevenmer = []\n",
    "    for n in seven:\n",
    "        sevenmer.append(\"\".join(n))\n",
    "    \n",
    "    #  k == 6:\n",
    "    six = list(itertools.product(nucleotide,repeat=6))\n",
    "    hexamer = []\n",
    "    for n in six:\n",
    "        hexamer.append(\"\".join(n))\n",
    "\n",
    "    #  k == 5:\n",
    "    five = list(itertools.product(nucleotide,repeat=5))\n",
    "    pentamer = []\n",
    "    for n in five:\n",
    "        pentamer.append(\"\".join(n))\n",
    "    \n",
    "    #  k == 4:\n",
    "    four = list(itertools.product(nucleotide,repeat=4))\n",
    "    tetramer = []\n",
    "    for n in four:\n",
    "        tetramer.append(\"\".join(n))\n",
    "\n",
    "    # k == 3:\n",
    "    three = list(itertools.product(nucleotide,repeat=3))\n",
    "    threemer = []\n",
    "    for n in three:\n",
    "        threemer.append(\"\".join(n))\n",
    "    \n",
    "    # input features can be combinations of diffrent k values\n",
    "    if k == 34:\n",
    "        table_kmer = dict.fromkeys(threemer,0)\n",
    "        table_kmer.update(dict.fromkeys(tetramer,0))\n",
    "    if k == 45:\n",
    "        table_kmer = dict.fromkeys(tetramer,0)\n",
    "        table_kmer.update(dict.fromkeys(pentamer,0))\n",
    "    if k == 56:\n",
    "        table_kmer = dict.fromkeys(pentamer,0)\n",
    "        table_kmer.update(dict.fromkeys(hexamer,0))\n",
    "    if k == 345:\n",
    "        table_kmer = dict.fromkeys(threemer,0)\n",
    "        table_kmer.update(dict.fromkeys(tetramer,0))\n",
    "        table_kmer.update(dict.fromkeys(pentamer,0))\n",
    "    if k == 456:\n",
    "        table_kmer = dict.fromkeys(tetramer,0)\n",
    "        table_kmer.update(dict.fromkeys(pentamer,0))\n",
    "        table_kmer.update(dict.fromkeys(hexamer,0))\n",
    "    if k == 7:\n",
    "        table_kmer = dict.fromkeys(sevenmer,0)\n",
    "\n",
    "    # count k-mer for each sequence\n",
    "    for mer in table_kmer.keys():\n",
    "        table_kmer[mer] = dataset[\"cdna\"].apply(lambda x : x.count(mer))\n",
    "    \n",
    "    # new series of length\n",
    "    length = dataset[\"cdna\"].apply(len)\n",
    "    length.name = \"length\"\n",
    "    # for k-mer raw count without normalization, index: nuc:1 or cyto:0\n",
    "    rawcount_kmer_df = pd.DataFrame(table_kmer)\n",
    "    df1_rawcount = pd.concat([rawcount_kmer_df,dataset[\"ensembl_transcript_id\"],length],axis = 1)\n",
    "    #df1_rawcount.index = dataset[\"tag\"]\n",
    "\n",
    "    # for k-mer frequency with normalization , index: nuc:1 or cyto:0\n",
    "    freq_kmer_df = rawcount_kmer_df.apply(lambda x: x/x.sum(),axis=1)\n",
    "    df1 = pd.concat([freq_kmer_df,dataset[\"ensembl_transcript_id\"],length],axis = 1)\n",
    "    #df1.index = dataset[\"tag\"]\n",
    "\n",
    "    return df1,df1_rawcount"
   ]
  },
  {
   "cell_type": "code",
   "execution_count": 13,
   "id": "alpha-reverse",
   "metadata": {},
   "outputs": [],
   "source": [
    "# Input dir \n",
    "circular_RNA_input_dir = \"../ML_original_lncRNA/20210208_cv_test\"\n",
    "\n",
    "# Output dir\n",
    "output_dir = \"./LncLight_circular_RNA_predict\"\n",
    "if not (os.path.exists(output_dir)):\n",
    "    os.mkdir(output_dir)\n",
    "    \n",
    "# Load model\n",
    "LncLight = joblib.load(os.path.join(circular_RNA_input_dir,\"LightGBM/best_LightGBM_model.pkl\"))"
   ]
  },
  {
   "cell_type": "code",
   "execution_count": 14,
   "id": "aboriginal-reply",
   "metadata": {},
   "outputs": [],
   "source": [
    "# Load circRNA input file\n",
    "circRNA_file = pd.read_csv(\"./PA1_high_exp_circ_info_with_seq.tsv\",sep = '\\t')\n",
    "\n",
    "circRNAs = circRNA_file.iloc[:,[4,8,9]]\n",
    "circRNAs.columns = [\"ensembl_transcript_id\",\"name\",\"cdna\"]\n",
    "\n",
    "df_kmer_345,df_kmer_345_rawcount = _count_kmer(circRNAs,345)\n",
    "df_kmer_345.to_csv(os.path.join(output_dir,\"circRNAs_df_kmer345_freq.tsv\"),sep='\\t')\n",
    "df_kmer_345_rawcount.to_csv(os.path.join(output_dir,\"circRNAs_df_kmer345_rawcount.tsv\"),sep='\\t')\n",
    "\n",
    "del df_kmer_345['ensembl_transcript_id']\n",
    "del df_kmer_345['length']\n",
    "x_kmer = df_kmer_345.values\n",
    "\n",
    "y_pred = LncLight.predict(x_kmer)\n",
    "y_prob = LncLight.predict_proba(x_kmer)[:,1]"
   ]
  },
  {
   "cell_type": "code",
   "execution_count": 15,
   "id": "tired-blogger",
   "metadata": {},
   "outputs": [
    {
     "name": "stderr",
     "output_type": "stream",
     "text": [
      "/picb/rnomics3/yuanguohua/anaconda3/envs/pytorch/lib/python3.6/site-packages/ipykernel_launcher.py:1: SettingWithCopyWarning: \n",
      "A value is trying to be set on a copy of a slice from a DataFrame.\n",
      "Try using .loc[row_indexer,col_indexer] = value instead\n",
      "\n",
      "See the caveats in the documentation: http://pandas.pydata.org/pandas-docs/stable/indexing.html#indexing-view-versus-copy\n",
      "  \"\"\"Entry point for launching an IPython kernel.\n",
      "/picb/rnomics3/yuanguohua/anaconda3/envs/pytorch/lib/python3.6/site-packages/ipykernel_launcher.py:2: SettingWithCopyWarning: \n",
      "A value is trying to be set on a copy of a slice from a DataFrame.\n",
      "Try using .loc[row_indexer,col_indexer] = value instead\n",
      "\n",
      "See the caveats in the documentation: http://pandas.pydata.org/pandas-docs/stable/indexing.html#indexing-view-versus-copy\n",
      "  \n"
     ]
    }
   ],
   "source": [
    "circRNAs[\"LncLight_pred_label\"] =  y_pred\n",
    "circRNAs[\"LncLight_pred_prob\"] = y_prob\n",
    "circRNAs.to_csv(os.path.join(output_dir,\"circRNAs_predict_df.tsv\"),sep = '\\t',index=False)"
   ]
  },
  {
   "cell_type": "code",
   "execution_count": 16,
   "id": "caring-savannah",
   "metadata": {},
   "outputs": [],
   "source": [
    "# Load circRNA_with_intron input file\n",
    "circRNA_file = pd.read_csv(\"./PA1_high_exp_circ_info_with_intron_seq.tsv\",sep = '\\t')\n",
    "\n",
    "circRNAs = circRNA_file.iloc[:,[4,8,9]]\n",
    "circRNAs.columns = [\"ensembl_transcript_id\",\"name\",\"cdna\"]\n",
    "\n",
    "df_kmer_345,df_kmer_345_rawcount = _count_kmer(circRNAs,345)\n",
    "df_kmer_345.to_csv(os.path.join(output_dir,\"circRNAs_with_intron_df_kmer345_freq.tsv\"),sep='\\t')\n",
    "df_kmer_345_rawcount.to_csv(os.path.join(output_dir,\"circRNAs_with_intron_df_kmer345_rawcount.tsv\"),sep='\\t')\n",
    "\n",
    "del df_kmer_345['ensembl_transcript_id']\n",
    "del df_kmer_345['length']\n",
    "x_kmer = df_kmer_345.values\n",
    "\n",
    "y_pred = LncLight.predict(x_kmer)\n",
    "y_prob = LncLight.predict_proba(x_kmer)[:,1]"
   ]
  },
  {
   "cell_type": "code",
   "execution_count": 17,
   "id": "equal-tackle",
   "metadata": {},
   "outputs": [
    {
     "name": "stderr",
     "output_type": "stream",
     "text": [
      "/picb/rnomics3/yuanguohua/anaconda3/envs/pytorch/lib/python3.6/site-packages/ipykernel_launcher.py:1: SettingWithCopyWarning: \n",
      "A value is trying to be set on a copy of a slice from a DataFrame.\n",
      "Try using .loc[row_indexer,col_indexer] = value instead\n",
      "\n",
      "See the caveats in the documentation: http://pandas.pydata.org/pandas-docs/stable/indexing.html#indexing-view-versus-copy\n",
      "  \"\"\"Entry point for launching an IPython kernel.\n",
      "/picb/rnomics3/yuanguohua/anaconda3/envs/pytorch/lib/python3.6/site-packages/ipykernel_launcher.py:2: SettingWithCopyWarning: \n",
      "A value is trying to be set on a copy of a slice from a DataFrame.\n",
      "Try using .loc[row_indexer,col_indexer] = value instead\n",
      "\n",
      "See the caveats in the documentation: http://pandas.pydata.org/pandas-docs/stable/indexing.html#indexing-view-versus-copy\n",
      "  \n"
     ]
    }
   ],
   "source": [
    "circRNAs[\"LncLight_pred_label\"] =  y_pred\n",
    "circRNAs[\"LncLight_pred_prob\"] = y_prob\n",
    "circRNAs.to_csv(os.path.join(output_dir,\"circRNAs_with_intron_predict_df.tsv\"),sep = '\\t',index=False)"
   ]
  },
  {
   "cell_type": "code",
   "execution_count": 18,
   "id": "serial-orange",
   "metadata": {},
   "outputs": [],
   "source": [
    "# Load ciRNA input file\n",
    "ciRNA_file = pd.read_csv(\"./PA1_high_exp_ci_info_with_seq.tsv\",sep = '\\t')\n",
    "\n",
    "ciRNAs = ciRNA_file.iloc[:,[4,8,9]]\n",
    "ciRNAs.columns = [\"ensembl_transcript_id\",\"name\",\"cdna\"]\n",
    "\n",
    "df_kmer_345,df_kmer_345_rawcount = _count_kmer(ciRNAs,345)\n",
    "df_kmer_345.to_csv(os.path.join(output_dir,\"ciRNAs_df_kmer345_freq.tsv\"),sep='\\t')\n",
    "df_kmer_345_rawcount.to_csv(os.path.join(output_dir,\"ciRNAs_df_kmer345_rawcount.tsv\"),sep='\\t')\n",
    "\n",
    "del df_kmer_345['ensembl_transcript_id']\n",
    "del df_kmer_345['length']\n",
    "x_kmer = df_kmer_345.values\n",
    "\n",
    "y_pred = LncLight.predict(x_kmer)\n",
    "y_prob = LncLight.predict_proba(x_kmer)[:,1]"
   ]
  },
  {
   "cell_type": "code",
   "execution_count": 19,
   "id": "extreme-creator",
   "metadata": {},
   "outputs": [
    {
     "name": "stderr",
     "output_type": "stream",
     "text": [
      "/picb/rnomics3/yuanguohua/anaconda3/envs/pytorch/lib/python3.6/site-packages/ipykernel_launcher.py:1: SettingWithCopyWarning: \n",
      "A value is trying to be set on a copy of a slice from a DataFrame.\n",
      "Try using .loc[row_indexer,col_indexer] = value instead\n",
      "\n",
      "See the caveats in the documentation: http://pandas.pydata.org/pandas-docs/stable/indexing.html#indexing-view-versus-copy\n",
      "  \"\"\"Entry point for launching an IPython kernel.\n",
      "/picb/rnomics3/yuanguohua/anaconda3/envs/pytorch/lib/python3.6/site-packages/ipykernel_launcher.py:2: SettingWithCopyWarning: \n",
      "A value is trying to be set on a copy of a slice from a DataFrame.\n",
      "Try using .loc[row_indexer,col_indexer] = value instead\n",
      "\n",
      "See the caveats in the documentation: http://pandas.pydata.org/pandas-docs/stable/indexing.html#indexing-view-versus-copy\n",
      "  \n"
     ]
    }
   ],
   "source": [
    "ciRNAs[\"LncLight_pred_label\"] =  y_pred\n",
    "ciRNAs[\"LncLight_pred_prob\"] = y_prob\n",
    "ciRNAs.to_csv(os.path.join(output_dir,\"ciRNAs_predict_df.tsv\"),sep = '\\t',index=False)"
   ]
  },
  {
   "cell_type": "code",
   "execution_count": null,
   "id": "aware-nelson",
   "metadata": {},
   "outputs": [],
   "source": []
  }
 ],
 "metadata": {
  "kernelspec": {
   "display_name": "pytorch",
   "language": "python",
   "name": "pytorch"
  },
  "language_info": {
   "codemirror_mode": {
    "name": "ipython",
    "version": 3
   },
   "file_extension": ".py",
   "mimetype": "text/x-python",
   "name": "python",
   "nbconvert_exporter": "python",
   "pygments_lexer": "ipython3",
   "version": "3.6.10"
  }
 },
 "nbformat": 4,
 "nbformat_minor": 5
}
