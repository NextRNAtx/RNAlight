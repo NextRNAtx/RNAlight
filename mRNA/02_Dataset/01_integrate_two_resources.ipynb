{
 "cells": [
  {
   "cell_type": "markdown",
   "id": "generous-humanity",
   "metadata": {},
   "source": [
    "# R script"
   ]
  },
  {
   "cell_type": "markdown",
   "id": "final-liechtenstein",
   "metadata": {},
   "source": [
    "*** "
   ]
  },
  {
   "cell_type": "markdown",
   "id": "moral-lobby",
   "metadata": {
    "papermill": {
     "duration": 0.020513,
     "end_time": "2021-02-02T05:24:10.198470",
     "exception": false,
     "start_time": "2021-02-02T05:24:10.177957",
     "status": "completed"
    },
    "tags": []
   },
   "source": [
    "## 1. Load files"
   ]
  },
  {
   "cell_type": "code",
   "execution_count": 2,
   "id": "surprised-russia",
   "metadata": {
    "papermill": {
     "duration": 2.685166,
     "end_time": "2021-02-02T05:24:12.899735",
     "exception": false,
     "start_time": "2021-02-02T05:24:10.214569",
     "status": "completed"
    },
    "tags": []
   },
   "outputs": [],
   "source": [
    "# Human protein coding mRNA GENCODE v30 information\n",
    "mRNA <- read.csv('../01_Resources/References/gencode.v30.pc_mRNA_transcripts_major_compact.txt',sep = '\\t',header = T) #18607\n",
    "# Modify ensebl gene id of mRNA\n",
    "mRNA[1] <- apply(mRNA[1],1,function(x) {strsplit(x, split='.', fixed=TRUE)[[1]][1]})\n",
    "\n",
    "# Two raw datasets\n",
    "APEX = read.csv('../01_Resources/Resources/2019_CELL_APEXSeq.tsv',sep ='\\t', header = T) # 3335 RNAs\n",
    "Cefra = read.csv('../01_Resources/Resources/2018_CeFra_Seq_polyA_plus.tsv',sep = '\\t',header = T) # 63677 RNAs"
   ]
  },
  {
   "cell_type": "markdown",
   "id": "amber-sweet",
   "metadata": {},
   "source": [
    "***"
   ]
  },
  {
   "cell_type": "markdown",
   "id": "photographic-minneapolis",
   "metadata": {},
   "source": [
    "## 2. Data processing"
   ]
  },
  {
   "cell_type": "markdown",
   "id": "threatened-training",
   "metadata": {
    "papermill": {
     "duration": 0.018401,
     "end_time": "2021-02-02T05:24:13.594232",
     "exception": false,
     "start_time": "2021-02-02T05:24:13.575831",
     "status": "completed"
    },
    "tags": []
   },
   "source": [
    "- APEX-Seq"
   ]
  },
  {
   "cell_type": "code",
   "execution_count": 6,
   "id": "correct-update",
   "metadata": {
    "papermill": {
     "duration": 0.054955,
     "end_time": "2021-02-02T05:24:13.666707",
     "exception": false,
     "start_time": "2021-02-02T05:24:13.611752",
     "status": "completed"
    },
    "tags": []
   },
   "outputs": [],
   "source": [
    "# Select human mRNAs \n",
    "APEX = APEX[which(APEX$Ensembl_Gene %in% mRNA$ensembl_gene_id),] # 3026\n",
    "\n",
    "# For APEX (as mentioned in the original article, log fd > 0.75 is considered for enrichment)\n",
    "# Collapsed 8 loc into binary loc\n",
    "Nuc=vector(); Cyto=vector()\n",
    "for (i in c(1:nrow(APEX))) {\n",
    "  if (APEX[i,'Nucleus_log2FC']>0.75) {Nuc[i] = 1}\n",
    "  else if (APEX[i,'Nucleolus_log2FC']>0.75) {Nuc[i] = 1}\n",
    "  else if (APEX[i,'Lamina_log2FC']>0.75) {Nuc[i] = 1}\n",
    "  else if (APEX[i,'Nuclear_Pore_log2FC']>0.75) {Nuc[i] = 1}\n",
    "  else {Nuc[i] = 0}\n",
    "  if (APEX[i,'Cytosol_log2FC']>0.75) {Cyto[i] = 1}\n",
    "  else if (APEX[i,'ERM_log2FC']>0.75) {Cyto[i] = 1}\n",
    "  else if (APEX[i,'OMM_log2FC']>0.75) {Cyto[i] = 1}\n",
    "  else if (APEX[i,'ER_Lumen_log2FC']>0.75) {Cyto[i] = 1}\n",
    "  else {Cyto[i] = 0}\n",
    "}\n",
    "APEX_loc <- as.data.frame(cbind(APEX,Nuc,Cyto)) # 62\n",
    "APEX_Nuc <- as.character(APEX_loc[which(APEX_loc$Nuc == 1 & APEX_loc$Cyto == 0),'Ensembl_Gene']) # 1145 of 1759\n",
    "APEX_Cyto <- as.character(APEX_loc[which(APEX_loc$Nuc == 0 & APEX_loc$Cyto == 1),'Ensembl_Gene']) # 1261 of 1875"
   ]
  },
  {
   "cell_type": "code",
   "execution_count": 7,
   "id": "better-march",
   "metadata": {},
   "outputs": [
    {
     "data": {
      "text/html": [
       "3026"
      ],
      "text/latex": [
       "3026"
      ],
      "text/markdown": [
       "3026"
      ],
      "text/plain": [
       "[1] 3026"
      ]
     },
     "metadata": {},
     "output_type": "display_data"
    }
   ],
   "source": [
    "nrow(APEX_loc)"
   ]
  },
  {
   "cell_type": "code",
   "execution_count": 8,
   "id": "improved-warehouse",
   "metadata": {
    "papermill": {
     "duration": 0.037592,
     "end_time": "2021-02-02T05:24:13.781061",
     "exception": false,
     "start_time": "2021-02-02T05:24:13.743469",
     "status": "completed"
    },
    "tags": []
   },
   "outputs": [
    {
     "data": {
      "text/html": [
       "1145"
      ],
      "text/latex": [
       "1145"
      ],
      "text/markdown": [
       "1145"
      ],
      "text/plain": [
       "[1] 1145"
      ]
     },
     "metadata": {},
     "output_type": "display_data"
    }
   ],
   "source": [
    "length(APEX_Nuc)"
   ]
  },
  {
   "cell_type": "code",
   "execution_count": 9,
   "id": "toxic-fortune",
   "metadata": {
    "papermill": {
     "duration": 0.047972,
     "end_time": "2021-02-02T05:24:13.852746",
     "exception": false,
     "start_time": "2021-02-02T05:24:13.804774",
     "status": "completed"
    },
    "tags": []
   },
   "outputs": [
    {
     "data": {
      "text/html": [
       "1261"
      ],
      "text/latex": [
       "1261"
      ],
      "text/markdown": [
       "1261"
      ],
      "text/plain": [
       "[1] 1261"
      ]
     },
     "metadata": {},
     "output_type": "display_data"
    }
   ],
   "source": [
    "length(APEX_Cyto)"
   ]
  },
  {
   "cell_type": "markdown",
   "id": "interesting-triumph",
   "metadata": {
    "papermill": {
     "duration": 0.018023,
     "end_time": "2021-02-02T05:24:13.895625",
     "exception": false,
     "start_time": "2021-02-02T05:24:13.877602",
     "status": "completed"
    },
    "tags": []
   },
   "source": [
    "- Cefra-Seq"
   ]
  },
  {
   "cell_type": "code",
   "execution_count": 10,
   "id": "naked-dylan",
   "metadata": {
    "papermill": {
     "duration": 1.638076,
     "end_time": "2021-02-02T05:24:15.551637",
     "exception": false,
     "start_time": "2021-02-02T05:24:13.913561",
     "status": "completed"
    },
    "tags": []
   },
   "outputs": [],
   "source": [
    "# 22414 mRNAs\n",
    "Cefra <- Cefra[which(Cefra$gene_biotype %in% c(\"protein_coding\")),]\n",
    "\n",
    "ExpressedRNA <- function(cyto_A,cyto_B,insol_A,insol_B,membr_A,membr_B,nucl_A,nucl_B){\n",
    "  exp_cyto <- (cyto_A+cyto_B)/2; exp_insol = (insol_A+insol_B)/2\n",
    "  exp_membr <- (membr_A+membr_B)/2; exp_nucl = (nucl_A+nucl_B)/2\n",
    "  if (exp_cyto >=1|exp_insol>=1|exp_membr>=1|exp_nucl>=1) {expressed <- 1} else{expressed <- 0}\n",
    "  if (expressed == 1) {CNRCI <- max(exp_cyto,exp_insol,exp_membr)/(max(exp_cyto,exp_insol,exp_membr)+exp_nucl)} else{CNRCI<-0}\n",
    "  return(list(expressed = expressed,CNRCI = CNRCI))\n",
    "}\n",
    "\n",
    "expressed = vector(); CNRCI= vector()\n",
    "for (i in c(1:nrow(Cefra))) {\n",
    "  result <- ExpressedRNA(Cefra[i,'cyto_A'],Cefra[i,'cyto_B'],Cefra[i,'insol_A'],Cefra[i,'insol_B'],\n",
    "               Cefra[i,'membr_A'],Cefra[i,'membr_B'],Cefra[i,'nucl_A'],Cefra[i,'nucl_B'])\n",
    "  expressed[i] <- result$expressed; CNRCI[i] <- result$CNRCI\n",
    "}\n",
    "\n",
    "Cefra_high <- Cefra[which(expressed == 1),] # 10783 mRNAs with high expression\n",
    "CN_RCI_high <- as.data.frame(unlist(CNRCI[which(expressed == 1)]))\n",
    "colnames(CN_RCI_high) <- \"CN_RCI\"\n",
    "Cefra_high <- as.data.frame(cbind(Cefra_high,CN_RCI_high))\n",
    "\n",
    "Cefra_Nuc = as.character(Cefra_high[which(Cefra_high$CN_RCI<0.4),'ensembl_gene_id']) # 1963\n",
    "Cefra_Cyto = as.character(Cefra_high[which(Cefra_high$CN_RCI>0.8),'ensembl_gene_id']) # 2172"
   ]
  },
  {
   "cell_type": "code",
   "execution_count": 11,
   "id": "headed-government",
   "metadata": {
    "papermill": {
     "duration": 0.041636,
     "end_time": "2021-02-02T05:24:15.623401",
     "exception": false,
     "start_time": "2021-02-02T05:24:15.581765",
     "status": "completed"
    },
    "tags": []
   },
   "outputs": [
    {
     "data": {
      "text/html": [
       "22414"
      ],
      "text/latex": [
       "22414"
      ],
      "text/markdown": [
       "22414"
      ],
      "text/plain": [
       "[1] 22414"
      ]
     },
     "metadata": {},
     "output_type": "display_data"
    }
   ],
   "source": [
    "nrow(Cefra)"
   ]
  },
  {
   "cell_type": "code",
   "execution_count": 12,
   "id": "fuzzy-inspector",
   "metadata": {
    "papermill": {
     "duration": 0.036009,
     "end_time": "2021-02-02T05:24:15.681677",
     "exception": false,
     "start_time": "2021-02-02T05:24:15.645668",
     "status": "completed"
    },
    "tags": []
   },
   "outputs": [
    {
     "data": {
      "text/html": [
       "10783"
      ],
      "text/latex": [
       "10783"
      ],
      "text/markdown": [
       "10783"
      ],
      "text/plain": [
       "[1] 10783"
      ]
     },
     "metadata": {},
     "output_type": "display_data"
    }
   ],
   "source": [
    "nrow(Cefra_high)"
   ]
  },
  {
   "cell_type": "code",
   "execution_count": 13,
   "id": "optimum-remove",
   "metadata": {
    "papermill": {
     "duration": 0.039082,
     "end_time": "2021-02-02T05:24:15.742670",
     "exception": false,
     "start_time": "2021-02-02T05:24:15.703588",
     "status": "completed"
    },
    "tags": []
   },
   "outputs": [
    {
     "data": {
      "text/html": [
       "1963"
      ],
      "text/latex": [
       "1963"
      ],
      "text/markdown": [
       "1963"
      ],
      "text/plain": [
       "[1] 1963"
      ]
     },
     "metadata": {},
     "output_type": "display_data"
    }
   ],
   "source": [
    "length(Cefra_Nuc)"
   ]
  },
  {
   "cell_type": "code",
   "execution_count": 14,
   "id": "alpha-demographic",
   "metadata": {
    "papermill": {
     "duration": 0.049147,
     "end_time": "2021-02-02T05:24:15.813849",
     "exception": false,
     "start_time": "2021-02-02T05:24:15.764702",
     "status": "completed"
    },
    "tags": []
   },
   "outputs": [
    {
     "data": {
      "text/html": [
       "2172"
      ],
      "text/latex": [
       "2172"
      ],
      "text/markdown": [
       "2172"
      ],
      "text/plain": [
       "[1] 2172"
      ]
     },
     "metadata": {},
     "output_type": "display_data"
    }
   ],
   "source": [
    "length(Cefra_Cyto)"
   ]
  },
  {
   "cell_type": "markdown",
   "id": "seasonal-forum",
   "metadata": {},
   "source": [
    "***\n",
    "###  "
   ]
  },
  {
   "cell_type": "markdown",
   "id": "quantitative-interim",
   "metadata": {
    "papermill": {
     "duration": 0.019795,
     "end_time": "2021-02-02T05:24:15.855428",
     "exception": false,
     "start_time": "2021-02-02T05:24:15.835633",
     "status": "completed"
    },
    "tags": []
   },
   "source": [
    "## 3. Union and remove bi-localized lncRNAs "
   ]
  },
  {
   "cell_type": "code",
   "execution_count": 15,
   "id": "defensive-ordinance",
   "metadata": {
    "papermill": {
     "duration": 0.035055,
     "end_time": "2021-02-02T05:24:15.909662",
     "exception": false,
     "start_time": "2021-02-02T05:24:15.874607",
     "status": "completed"
    },
    "tags": []
   },
   "outputs": [],
   "source": [
    "# Union\n",
    "Nuc_Union <- union(APEX_Nuc,Cefra_Nuc)\n",
    "Cyto_Union <- union(APEX_Cyto,Cefra_Cyto)"
   ]
  },
  {
   "cell_type": "code",
   "execution_count": 16,
   "id": "nearby-ridge",
   "metadata": {
    "papermill": {
     "duration": 0.045948,
     "end_time": "2021-02-02T05:24:15.978024",
     "exception": false,
     "start_time": "2021-02-02T05:24:15.932076",
     "status": "completed"
    },
    "tags": []
   },
   "outputs": [],
   "source": [
    "# Remove bi-localized lncRNAs\n",
    "Nuc_final <- as.data.frame(setdiff(Nuc_Union,Cyto_Union))\n",
    "Cyto_final <- as.data.frame(setdiff(Cyto_Union,Nuc_Union))\n",
    "colnames(Nuc_final) = colnames(Cyto_final) = 'ensembl_gene_id'"
   ]
  },
  {
   "cell_type": "code",
   "execution_count": 17,
   "id": "protecting-clinic",
   "metadata": {
    "papermill": {
     "duration": 0.037659,
     "end_time": "2021-02-02T05:24:16.041670",
     "exception": false,
     "start_time": "2021-02-02T05:24:16.004011",
     "status": "completed"
    },
    "tags": []
   },
   "outputs": [
    {
     "data": {
      "text/html": [
       "2430"
      ],
      "text/latex": [
       "2430"
      ],
      "text/markdown": [
       "2430"
      ],
      "text/plain": [
       "[1] 2430"
      ]
     },
     "metadata": {},
     "output_type": "display_data"
    }
   ],
   "source": [
    "nrow(Nuc_final)"
   ]
  },
  {
   "cell_type": "code",
   "execution_count": 18,
   "id": "encouraging-average",
   "metadata": {
    "papermill": {
     "duration": 0.036252,
     "end_time": "2021-02-02T05:24:16.102473",
     "exception": false,
     "start_time": "2021-02-02T05:24:16.066221",
     "status": "completed"
    },
    "tags": []
   },
   "outputs": [
    {
     "data": {
      "text/html": [
       "3056"
      ],
      "text/latex": [
       "3056"
      ],
      "text/markdown": [
       "3056"
      ],
      "text/plain": [
       "[1] 3056"
      ]
     },
     "metadata": {},
     "output_type": "display_data"
    }
   ],
   "source": [
    "nrow(Cyto_final)"
   ]
  },
  {
   "cell_type": "markdown",
   "id": "portable-operation",
   "metadata": {},
   "source": [
    "***\n",
    "###  "
   ]
  },
  {
   "cell_type": "markdown",
   "id": "established-track",
   "metadata": {
    "papermill": {
     "duration": 0.021029,
     "end_time": "2021-02-02T05:24:16.148464",
     "exception": false,
     "start_time": "2021-02-02T05:24:16.127435",
     "status": "completed"
    },
    "tags": []
   },
   "source": [
    "## 4. Filter by GENCODE annotation"
   ]
  },
  {
   "cell_type": "code",
   "execution_count": 20,
   "id": "innocent-escape",
   "metadata": {
    "papermill": {
     "duration": 0.065572,
     "end_time": "2021-02-02T05:24:16.235307",
     "exception": false,
     "start_time": "2021-02-02T05:24:16.169735",
     "status": "completed"
    },
    "tags": []
   },
   "outputs": [],
   "source": [
    "Nuc_info <- merge.data.frame(mRNA,Nuc_final,by = 'ensembl_gene_id')\n",
    "Cyto_info <- merge.data.frame(mRNA,Cyto_final,by = 'ensembl_gene_id')"
   ]
  },
  {
   "cell_type": "code",
   "execution_count": 21,
   "id": "southeast-armenia",
   "metadata": {
    "papermill": {
     "duration": 0.04846,
     "end_time": "2021-02-02T05:24:16.312785",
     "exception": false,
     "start_time": "2021-02-02T05:24:16.264325",
     "status": "completed"
    },
    "tags": []
   },
   "outputs": [
    {
     "data": {
      "text/html": [
       "2256"
      ],
      "text/latex": [
       "2256"
      ],
      "text/markdown": [
       "2256"
      ],
      "text/plain": [
       "[1] 2256"
      ]
     },
     "metadata": {},
     "output_type": "display_data"
    }
   ],
   "source": [
    "nrow(Nuc_info)"
   ]
  },
  {
   "cell_type": "code",
   "execution_count": 22,
   "id": "mature-neutral",
   "metadata": {
    "papermill": {
     "duration": 0.03976,
     "end_time": "2021-02-02T05:24:16.394016",
     "exception": false,
     "start_time": "2021-02-02T05:24:16.354256",
     "status": "completed"
    },
    "tags": []
   },
   "outputs": [
    {
     "data": {
      "text/html": [
       "2924"
      ],
      "text/latex": [
       "2924"
      ],
      "text/markdown": [
       "2924"
      ],
      "text/plain": [
       "[1] 2924"
      ]
     },
     "metadata": {},
     "output_type": "display_data"
    }
   ],
   "source": [
    "nrow(Cyto_info)"
   ]
  },
  {
   "cell_type": "markdown",
   "id": "respiratory-vanilla",
   "metadata": {},
   "source": [
    "***\n",
    "###  "
   ]
  },
  {
   "cell_type": "markdown",
   "id": "understood-graduate",
   "metadata": {
    "papermill": {
     "duration": 0.020762,
     "end_time": "2021-02-02T05:24:16.441631",
     "exception": false,
     "start_time": "2021-02-02T05:24:16.420869",
     "status": "completed"
    },
    "tags": []
   },
   "source": [
    "## 5. Output"
   ]
  },
  {
   "cell_type": "code",
   "execution_count": 23,
   "id": "exempt-blond",
   "metadata": {
    "papermill": {
     "duration": 0.146953,
     "end_time": "2021-02-02T05:24:16.609006",
     "exception": false,
     "start_time": "2021-02-02T05:24:16.462053",
     "status": "completed"
    },
    "tags": []
   },
   "outputs": [],
   "source": [
    "write.table(Nuc_info,'01_mRNA_info_nuc_gene.tsv',sep = '\\t', quote = FALSE,row.names = FALSE)\n",
    "write.table(Cyto_info,'01_mRNA_info_cyto_gene.tsv',sep = '\\t', quote = FALSE,row.names = FALSE)"
   ]
  },
  {
   "cell_type": "code",
   "execution_count": 25,
   "id": "acquired-individual",
   "metadata": {},
   "outputs": [
    {
     "data": {
      "text/html": [
       "<style>\n",
       ".dl-inline {width: auto; margin:0; padding: 0}\n",
       ".dl-inline>dt, .dl-inline>dd {float: none; width: auto; display: inline-block}\n",
       ".dl-inline>dt::after {content: \":\\0020\"; padding-right: .5ex}\n",
       ".dl-inline>dt:not(:first-of-type) {padding-left: .5ex}\n",
       "</style><dl class=dl-inline><dt>0%</dt><dd>207</dd><dt>5%</dt><dd>695.95</dd><dt>25%</dt><dd>1623</dd><dt>50%</dt><dd>2742</dd><dt>75%</dt><dd>4566.25</dd><dt>95%</dt><dd>8469.85</dd><dt>100%</dt><dd>34626</dd></dl>\n"
      ],
      "text/latex": [
       "\\begin{description*}\n",
       "\\item[0\\textbackslash{}\\%] 207\n",
       "\\item[5\\textbackslash{}\\%] 695.95\n",
       "\\item[25\\textbackslash{}\\%] 1623\n",
       "\\item[50\\textbackslash{}\\%] 2742\n",
       "\\item[75\\textbackslash{}\\%] 4566.25\n",
       "\\item[95\\textbackslash{}\\%] 8469.85\n",
       "\\item[100\\textbackslash{}\\%] 34626\n",
       "\\end{description*}\n"
      ],
      "text/markdown": [
       "0%\n",
       ":   2075%\n",
       ":   695.9525%\n",
       ":   162350%\n",
       ":   274275%\n",
       ":   4566.2595%\n",
       ":   8469.85100%\n",
       ":   34626\n",
       "\n"
      ],
      "text/plain": [
       "      0%       5%      25%      50%      75%      95%     100% \n",
       "  207.00   695.95  1623.00  2742.00  4566.25  8469.85 34626.00 "
      ]
     },
     "metadata": {},
     "output_type": "display_data"
    }
   ],
   "source": [
    "# Summary of sequence length\n",
    "total <- rbind(Nuc_info,Cyto_info)\n",
    "quantile(tapply(as.character(total$cdna),total$ensembl_gene_id,nchar),c(0,0.05,0.25,0.50,0.75,0.95,1))"
   ]
  },
  {
   "cell_type": "code",
   "execution_count": 1,
   "id": "considered-writing",
   "metadata": {},
   "outputs": [],
   "source": [
    "total <- read.table('01_mRNA_info_nuc_gene.tsv',sep ='\\t',header = T)"
   ]
  },
  {
   "cell_type": "code",
   "execution_count": 2,
   "id": "documentary-argentina",
   "metadata": {},
   "outputs": [],
   "source": [
    "total$length <- tapply(as.character(total$cdna),total$ensembl_gene_id,nchar)"
   ]
  },
  {
   "cell_type": "code",
   "execution_count": 3,
   "id": "stylish-border",
   "metadata": {},
   "outputs": [
    {
     "name": "stderr",
     "output_type": "stream",
     "text": [
      "Warning message:\n",
      "“replacing previous import ‘vctrs::data_frame’ by ‘tibble::data_frame’ when loading ‘dplyr’”\n"
     ]
    }
   ],
   "source": [
    "library(ggplot2)"
   ]
  },
  {
   "cell_type": "code",
   "execution_count": 13,
   "id": "confused-tractor",
   "metadata": {},
   "outputs": [
    {
     "data": {
      "image/png": "[encoded data removed]",
      "text/plain": [
       "plot without title"
      ]
     },
     "metadata": {
      "image/png": {
       "height": 420,
       "width": 420
      }
     },
     "output_type": "display_data"
    }
   ],
   "source": [
    "p_dis<- ggplot(total, aes(x=log10(length),color = \"mRNA\"))+\n",
    "geom_density()+\n",
    "geom_vline(xintercept = log10(8469.85))+\n",
    "geom_vline(xintercept = log10(9000))+\n",
    "scale_color_manual(values = c(\"#4483F8\"))+\n",
    "scale_x_continuous(breaks = c(2,3,4),limits = c(2,4.5))+\n",
    "theme_classic()+\n",
    "theme(axis.text = element_text(size=14),\n",
    "      axis.title = element_text(size=14),\n",
    "      element_line(size = 1.2))\n",
    "ggsave(\"./01_mRNA_length_distribution_with_text.pdf\", p_dis, width = 10, height = 10) \n",
    "p_dis"
   ]
  },
  {
   "cell_type": "code",
   "execution_count": 15,
   "id": "later-genome",
   "metadata": {},
   "outputs": [
    {
     "data": {
      "image/png": "[encoded data removed]",
      "text/plain": [
       "plot without title"
      ]
     },
     "metadata": {
      "image/png": {
       "height": 420,
       "width": 420
      }
     },
     "output_type": "display_data"
    }
   ],
   "source": [
    "p_dis_blank<- ggplot(total, aes(x=log10(length),color = \"mRNA\"))+\n",
    "geom_density(size = 2)+\n",
    "scale_color_manual(values = c(\"#4483F8\"))+\n",
    "scale_x_continuous(breaks = c(2,3,4),limits = c(2,4.5))+\n",
    "theme_classic()+\n",
    "theme(axis.text = element_text(size=14),\n",
    "      axis.title = element_text(size=14),\n",
    "      element_line(size = 1.2))+\n",
    "theme(axis.text = element_blank(),axis.title = element_blank(),axis.ticks = element_blank(),legend.position = \"None\")\n",
    "ggsave(\"./01_lncRNA_length_distribution.pdf\", p_dis_blank, width = 10, height = 10) \n",
    "p_dis_blank"
   ]
  }
 ],
 "metadata": {
  "kernelspec": {
   "display_name": "R",
   "language": "R",
   "name": "ir"
  },
  "language_info": {
   "codemirror_mode": "r",
   "file_extension": ".r",
   "mimetype": "text/x-r-source",
   "name": "R",
   "pygments_lexer": "r",
   "version": "3.6.3"
  },
  "papermill": {
   "default_parameters": {},
   "duration": 8.977063,
   "end_time": "2021-02-02T05:24:16.779119",
   "environment_variables": {},
   "exception": null,
   "input_path": "/data/rnomics9/yuanguohua/lncRNA-subcellular-localizations/Original_data/02_integret_three_datasets.ipynb",
   "output_path": "/data/rnomics9/yuanguohua/lncRNA-subcellular-localizations/Original_data/02_integret_three_datasets.ipynb",
   "parameters": {},
   "start_time": "2021-02-02T05:24:07.802056",
   "version": "2.3.1"
  }
 },
 "nbformat": 4,
 "nbformat_minor": 5
}
