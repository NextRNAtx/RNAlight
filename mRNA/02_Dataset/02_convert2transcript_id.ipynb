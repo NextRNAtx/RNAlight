{
 "cells": [
  {
   "cell_type": "markdown",
   "id": "rapid-hudson",
   "metadata": {},
   "source": [
    "# Bash"
   ]
  },
  {
   "cell_type": "markdown",
   "id": "expected-tract",
   "metadata": {},
   "source": [
    "***\n",
    "###  "
   ]
  },
  {
   "cell_type": "markdown",
   "id": "physical-tourism",
   "metadata": {},
   "source": [
    "## Convert gene id to transcript id"
   ]
  },
  {
   "cell_type": "code",
   "execution_count": 1,
   "id": "confident-cream",
   "metadata": {},
   "outputs": [],
   "source": [
    "# nuc_mRNA\n",
    "sed '1d' ./01_mRNA_info_nuc_gene.tsv | cut -f1 > nuc_gene_id.temp\n",
    "touch nuc_transcript_id.temp\n",
    "echo \"ensembl_transcript_id\" > nuc_transcript_id.temp\n",
    "cat nuc_gene_id.temp | while read gene_id\n",
    "do\n",
    "    grep \"$gene_id\" ../01_Resources/References/gencode.v30.pc_mRNA_transcripts_major.txt| cut -d. -f1 >> nuc_transcript_id.temp\n",
    "done\n",
    "cut -f2-3 ./01_mRNA_info_nuc_gene.tsv | paste nuc_transcript_id.temp - > ./02_mRNA_info_nuc_transcript.tsv"
   ]
  },
  {
   "cell_type": "code",
   "execution_count": 3,
   "id": "vertical-centre",
   "metadata": {},
   "outputs": [],
   "source": [
    "# cyto_mRNA\n",
    "sed '1d' ./01_mRNA_info_cyto_gene.tsv  | cut -f1 > cyto_gene_id.temp\n",
    "touch cyto_transcript_id.temp\n",
    "echo \"ensembl_transcript_id\" > cyto_transcript_id.temp\n",
    "cat cyto_gene_id.temp | while read gene_id\n",
    "do\n",
    "    grep \"$gene_id\" ../01_Resources/References/gencode.v30.pc_mRNA_transcripts_major.txt| cut -d. -f1 >> cyto_transcript_id.temp\n",
    "done\n",
    "cut -f2-3 ./01_mRNA_info_cyto_gene.tsv | paste cyto_transcript_id.temp - > ./02_mRNA_info_cyto_transcript.tsv"
   ]
  },
  {
   "cell_type": "code",
   "execution_count": 5,
   "id": "coordinate-truth",
   "metadata": {},
   "outputs": [],
   "source": [
    "rm *temp"
   ]
  }
 ],
 "metadata": {
  "kernelspec": {
   "display_name": "Bash",
   "language": "bash",
   "name": "bash"
  },
  "language_info": {
   "codemirror_mode": "shell",
   "file_extension": ".sh",
   "mimetype": "text/x-sh",
   "name": "bash"
  }
 },
 "nbformat": 4,
 "nbformat_minor": 5
}
