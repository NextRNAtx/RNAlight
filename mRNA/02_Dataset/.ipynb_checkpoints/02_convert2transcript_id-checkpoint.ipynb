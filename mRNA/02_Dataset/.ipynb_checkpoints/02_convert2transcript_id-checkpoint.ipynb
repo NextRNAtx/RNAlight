{
 "cells": [
  {
   "cell_type": "markdown",
   "metadata": {},
   "source": [
    "# To drop duplications which may be both in nuc and cyto classes"
   ]
  },
  {
   "cell_type": "code",
   "execution_count": 1,
   "metadata": {},
   "outputs": [],
   "source": [
    "import pandas as pd"
   ]
  },
  {
   "cell_type": "code",
   "execution_count": 2,
   "metadata": {},
   "outputs": [],
   "source": [
    "cyto_f = \"mRNA_info_cyto_cefra_apex.csv\"\n",
    "nuc_f = \"mRNA_info_nuc_cefra_apex.csv\"\n",
    "\n",
    "# load data\n",
    "dataset_cyto = pd.read_csv(cyto_f,sep=',',index_col = False)    # 2924    \n",
    "dataset_nuc = pd.read_csv(nuc_f,sep=',',index_col = False)    # 2256\n",
    "# set tag: nuclear 1 / cytosol 0\n",
    "dataset_nuc['tag'] = 1;dataset_cyto['tag'] = 0\n",
    "# concat the nuc and cyto dataset\n",
    "dataset = pd.concat([dataset_nuc,dataset_cyto]) # 5180\n",
    "# remove duplicated\n",
    "dataset.drop_duplicates(keep=\"first\",subset=[\"ensembl_gene_id\",\"name\",\"cdna\"],inplace=True) # 5180\n",
    "# output nuc_df cyto_df\n",
    "nuc_df = dataset[dataset[\"tag\"] == 1].iloc[:,0:3]\n",
    "nuc_df.to_csv(\"mRNA_info_nuc_cefra_apex.tsv.temp\",sep = '\\t', index = False) # 2256\n",
    "cyto_df = dataset[dataset[\"tag\"] == 0].iloc[:,0:3]\n",
    "cyto_df.to_csv(\"mRNA_info_cyto_cefra_apex.tsv.temp\",sep = '\\t',index = False) # 2924"
   ]
  },
  {
   "cell_type": "code",
   "execution_count": 3,
   "metadata": {},
   "outputs": [
    {
     "data": {
      "text/plain": [
       "count     5180.000000\n",
       "mean      3434.105985\n",
       "std       2590.048903\n",
       "min        207.000000\n",
       "5%         695.950000\n",
       "25%       1623.000000\n",
       "50%       2742.000000\n",
       "75%       4566.250000\n",
       "95%       8469.850000\n",
       "max      34626.000000\n",
       "Name: length, dtype: float64"
      ]
     },
     "execution_count": 3,
     "metadata": {},
     "output_type": "execute_result"
    }
   ],
   "source": [
    "dataset[\"length\"] = dataset[\"cdna\"].apply(len)\n",
    "dataset[\"length\"].describe(percentiles=[.05, .25, .75, .95])\n",
    "dataset.to_csv(\"mRNA_info_total_len_cefra_apex.tsv.temp\",sep = '\\t',index = False)"
   ]
  },
  {
   "cell_type": "markdown",
   "metadata": {},
   "source": [
    "# Convert gene id to transcript id"
   ]
  },
  {
   "cell_type": "code",
   "execution_count": 4,
   "metadata": {},
   "outputs": [],
   "source": [
    "%%bash\n",
    "# nuc_mRNA\n",
    "sed '1d' mRNA_info_nuc_cefra_apex.tsv.temp | cut -f1 > nuc_gene_id.temp\n",
    "touch nuc_transcript_id.temp\n",
    "echo \"ensembl_transcript_id\" > nuc_transcript_id.temp\n",
    "cat nuc_gene_id.temp | while read gene_id\n",
    "do\n",
    "    grep $gene_id ../Original_data/gencode.v30.pc_mRNA_transcripts_major.txt| cut -d. -f1 >> nuc_transcript_id.temp\n",
    "done\n",
    "cut -f2-3 mRNA_info_nuc_cefra_apex.tsv.temp | paste nuc_transcript_id.temp - > mRNA_info_nuc_cefra_apex.tsv\n",
    "\n",
    "# cyto_mRNA\n",
    "sed '1d' mRNA_info_cyto_cefra_apex.tsv.temp | cut -f1 > cyto_gene_id.temp\n",
    "touch cyto_transcript_id.temp\n",
    "echo \"ensembl_transcript_id\" > cyto_transcript_id.temp\n",
    "cat cyto_gene_id.temp | while read gene_id\n",
    "do\n",
    "    grep $gene_id ../Original_data/gencode.v30.pc_mRNA_transcripts_major.txt| cut -d. -f1 >> cyto_transcript_id.temp\n",
    "done\n",
    "cut -f2-3 mRNA_info_cyto_cefra_apex.tsv.temp | paste cyto_transcript_id.temp - > mRNA_info_cyto_cefra_apex.tsv\n",
    "\n",
    "# total_mRNA\n",
    "touch total_transcript_id.temp\n",
    "echo \"ensembl_transcript_id\" > total_transcript_id.temp\n",
    "sed '1d' nuc_transcript_id.temp >> total_transcript_id.temp\n",
    "sed '1d' cyto_transcript_id.temp >> total_transcript_id.temp\n",
    "cut -f2-5 mRNA_info_total_len_cefra_apex.tsv.temp | paste total_transcript_id.temp - > mRNA_info_total_len_cefra_apex.tsv\n",
    "\n",
    "rm *temp"
   ]
  },
  {
   "cell_type": "code",
   "execution_count": null,
   "metadata": {},
   "outputs": [],
   "source": []
  }
 ],
 "metadata": {
  "kernelspec": {
   "display_name": "pytorch",
   "language": "python",
   "name": "pytorch"
  },
  "language_info": {
   "codemirror_mode": {
    "name": "ipython",
    "version": 3
   },
   "file_extension": ".py",
   "mimetype": "text/x-python",
   "name": "python",
   "nbconvert_exporter": "python",
   "pygments_lexer": "ipython3",
   "version": "3.6.10"
  }
 },
 "nbformat": 4,
 "nbformat_minor": 5
}
