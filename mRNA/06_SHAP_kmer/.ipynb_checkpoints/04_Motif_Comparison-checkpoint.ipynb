{
 "cells": [
  {
   "cell_type": "markdown",
   "id": "mental-balloon",
   "metadata": {},
   "source": [
    "# Bash"
   ]
  },
  {
   "cell_type": "markdown",
   "id": "lasting-ordering",
   "metadata": {},
   "source": [
    "***\n",
    "###  "
   ]
  },
  {
   "cell_type": "code",
   "execution_count": 4,
   "id": "pursuant-designation",
   "metadata": {},
   "outputs": [],
   "source": [
    "if [ ! -d \"./04_Motif_Comparison_Output\" ]; then\n",
    "  mkdir 04_Motif_Comparison_Outputr\n",
    "fi"
   ]
  },
  {
   "cell_type": "markdown",
   "id": "valuable-dressing",
   "metadata": {},
   "source": [
    "## 1. Generate meme file"
   ]
  },
  {
   "cell_type": "code",
   "execution_count": 2,
   "id": "nutritional-jackson",
   "metadata": {},
   "outputs": [],
   "source": [
    "seqkit tab2fx ./03_Nuc_Cyto_kmer_assembly_Output/nuc_favour_motif_consensus.txt | seqkit seq  --dna2rna > ./04_Motif_Comparison_Output/nuc_favour_motif_consensus_seq_rna.fa\n",
    "rna2meme ./04_Motif_Comparison_Output/nuc_favour_motif_consensus_seq_rna.fa > ./04_Motif_Comparison_Output/nuc_favour_motif_consensus_seq_rna.meme\n",
    "\n",
    "seqkit tab2fx ./03_Nuc_Cyto_kmer_assembly_Output/cyto_favour_motif_consensus.txt | seqkit seq  --dna2rna  > ./04_Motif_Comparison_Output/cyto_favour_motif_consensus_seq_rna.fa\n",
    "rna2meme ./04_Motif_Comparison_Output/cyto_favour_motif_consensus_seq_rna.fa > ./04_Motif_Comparison_Output/cyto_favour_motif_consensus_seq_rna.meme"
   ]
  },
  {
   "cell_type": "markdown",
   "id": "endangered-square",
   "metadata": {},
   "source": [
    "***\n",
    "###  "
   ]
  },
  {
   "cell_type": "markdown",
   "id": "owned-automation",
   "metadata": {},
   "source": [
    "## 2. Compare with known RNA motifs by Tomtom\n",
    "- Motif Databases were downloaded from https://meme-suite.org/meme/meme-software/Databases/motifs/motif_databases.12.21.tgz"
   ]
  },
  {
   "cell_type": "code",
   "execution_count": 3,
   "id": "attempted-arctic",
   "metadata": {},
   "outputs": [],
   "source": [
    "tomtom -no-ssc -oc . -verbosity 1 -min-overlap 5 -dist pearson -evalue -thresh 0.1 \\\n",
    "-norc ./04_Motif_Comparison_Output/nuc_favour_motif_consensus_seq_rna.meme ../../motif_databases/CISBP-RNA/Homo_sapiens.meme -o ./04_Motif_Comparison_Output/nuc_tomtom\n",
    "\n",
    "tomtom -no-ssc -oc . -verbosity 1 -min-overlap 5 -dist pearson -evalue -thresh 0.1 \\\n",
    "-norc ./04_Motif_Comparison_Output/cyto_favour_motif_consensus_seq_rna.meme ../../motif_databases/CISBP-RNA/Homo_sapiens.meme -o ./04_Motif_Comparison_Output/cyto_tomtom"
   ]
  },
  {
   "cell_type": "markdown",
   "id": "canadian-delicious",
   "metadata": {},
   "source": [
    "***\n",
    "###  "
   ]
  },
  {
   "cell_type": "markdown",
   "id": "severe-ghana",
   "metadata": {},
   "source": [
    "## 3. Get related RBP names"
   ]
  },
  {
   "cell_type": "code",
   "execution_count": 5,
   "id": "junior-battle",
   "metadata": {},
   "outputs": [],
   "source": [
    "# Remove redundant and keep the best match\n",
    "grep \"M*_0.6\" ./04_Motif_Comparison_Output/nuc_tomtom/tomtom.tsv  | sort -k2,2 -k6,6n -u | awk '!a[$2]++'  > ./04_Motif_Comparison_Output/nuc_favour_motif_tomtom.tsv\n",
    "grep \"M*_0.6\" ./04_Motif_Comparison_Output/cyto_tomtom/tomtom.tsv  | sort -k2,2 -k6,6n -u | awk '!a[$2]++'  > ./04_Motif_Comparison_Output/cyto_favour_motif_tomtom.tsv\n",
    "\n",
    "RBP=\"../../motif_databases/CISBP-RNA/Homo_sapiens.meme\"\n",
    "\n",
    "# get Nuc_Related RBP name\n",
    "touch Nuc_Related_RBP.temp\n",
    "cat ./04_Motif_Comparison_Output/nuc_favour_motif_tomtom.tsv | grep \"M*_0.6\" | while read line \n",
    "do\n",
    "    Target_ID=`echo \"$line\" | cut -f2`\n",
    "    grep -w $Target_ID $RBP | cut -d\" \" -f3 >>  Nuc_Related_RBP.temp\n",
    "done\n",
    "paste Nuc_Related_RBP.temp ./04_Motif_Comparison_Output/nuc_favour_motif_tomtom.tsv > ./04_Motif_Comparison_Output/nuc_favour_motif_final.tsv #\n",
    "\n",
    "# get Cyto_Related RBP name\n",
    "cat ./04_Motif_Comparison_Output/cyto_favour_motif_tomtom.tsv | grep \"M*_0.6\"  | while read line \n",
    "do\n",
    "    Target_ID=`echo \"$line\" | cut -f2`\n",
    "    grep -w $Target_ID $RBP | cut -d\" \" -f3 >>  Cyto_Related_RBP.temp\n",
    "done\n",
    "paste Cyto_Related_RBP.temp ./04_Motif_Comparison_Output/cyto_favour_motif_tomtom.tsv> ./04_Motif_Comparison_Output/cyto_favour_motif_final.tsv #\n",
    "rm Nuc_Related_RBP.temp Cyto_Related_RBP.temp"
   ]
  },
  {
   "cell_type": "code",
   "execution_count": null,
   "id": "extended-improvement",
   "metadata": {},
   "outputs": [],
   "source": []
  }
 ],
 "metadata": {
  "kernelspec": {
   "display_name": "Bash",
   "language": "bash",
   "name": "bash"
  },
  "language_info": {
   "codemirror_mode": "shell",
   "file_extension": ".sh",
   "mimetype": "text/x-sh",
   "name": "bash"
  }
 },
 "nbformat": 4,
 "nbformat_minor": 5
}
