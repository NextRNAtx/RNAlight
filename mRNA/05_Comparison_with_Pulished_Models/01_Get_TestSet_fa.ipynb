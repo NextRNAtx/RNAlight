{
 "cells": [
  {
   "cell_type": "markdown",
   "id": "norwegian-religion",
   "metadata": {},
   "source": [
    "# Bash\n",
    "# To get mRNA_sublocation_TestSet.fa\n",
    "    Instance of mRNA_sublocation_TestSet.fa\n",
    "    \n",
    "    >ENST00000229416_1\n",
    "    ATAAAACCTGGAGCGCAGGATCGCGCCCAGGAGCGGCGAGCTAGCGGACGCAAAGACTGG\n",
    "    GCATGCTCCGCGGCGGCGCAGGTTTTGGTCACAAGTAGGAAGAAGCCAGTGCACCAGACC\n",
    "    \n",
    "    ENST00000229416 and 1 are the ensembl id and tag of mRNA, respectively.(0:Cytosplasm, 1:Nucleus)"
   ]
  },
  {
   "cell_type": "code",
   "execution_count": 1,
   "id": "cardiovascular-spiritual",
   "metadata": {},
   "outputs": [],
   "source": [
    "sed '1d' ../03_Model_Construction/mRNA_sublocation_TestSet.tsv \\\n",
    "| awk -v OFS='\\t' '{print $1\"_\"$4,$3}' \\\n",
    "| seqkit tab2fx > ./mRNA_sublocation_TestSet.fa"
   ]
  },
  {
   "cell_type": "code",
   "execution_count": null,
   "id": "simple-shipping",
   "metadata": {},
   "outputs": [],
   "source": []
  }
 ],
 "metadata": {
  "kernelspec": {
   "display_name": "Bash",
   "language": "bash",
   "name": "bash"
  },
  "language_info": {
   "codemirror_mode": "shell",
   "file_extension": ".sh",
   "mimetype": "text/x-sh",
   "name": "bash"
  }
 },
 "nbformat": 4,
 "nbformat_minor": 5
}
