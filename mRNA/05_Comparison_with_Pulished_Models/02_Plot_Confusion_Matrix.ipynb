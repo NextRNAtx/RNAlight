{
 "cells": [
  {
   "cell_type": "markdown",
   "id": "constitutional-necklace",
   "metadata": {},
   "source": [
    "# R script"
   ]
  },
  {
   "cell_type": "markdown",
   "id": "center-bread",
   "metadata": {},
   "source": [
    "***\n",
    "###   "
   ]
  },
  {
   "cell_type": "code",
   "execution_count": 1,
   "id": "expected-technique",
   "metadata": {},
   "outputs": [
    {
     "name": "stderr",
     "output_type": "stream",
     "text": [
      "Warning message:\n",
      "“replacing previous import ‘vctrs::data_frame’ by ‘tibble::data_frame’ when loading ‘dplyr’”\n"
     ]
    }
   ],
   "source": [
    "library(ggplot2)"
   ]
  },
  {
   "cell_type": "markdown",
   "id": "armed-membership",
   "metadata": {},
   "source": [
    "## 1. RNALight"
   ]
  },
  {
   "cell_type": "code",
   "execution_count": 2,
   "id": "sorted-arbitration",
   "metadata": {},
   "outputs": [],
   "source": [
    "RNALight_test_set <- read.csv(\"./RNA-Light_mRNA/Evaluation_Result/mRNA_sublocation_TestSet_RNA-Light_predict.tsv\",sep = '\\t')\n",
    "RNALight_test_set_df <- RNALight_test_set[,c(1,4,5)]\n",
    "RNALight_test_set_df$tag <- factor(RNALight_test_set_df$tag,levels = c(1,0),labels= c(\"Nuc\",\"Cyto\"))\n",
    "RNALight_test_set_df$predict_label <- factor(RNALight_test_set_df$predict_label,levels = c(1,0),labels= c(\"Nuc\",\"Cyto\"))\n",
    "RNALight_freq = as.data.frame(table(RNALight_test_set_df[,2:3]))"
   ]
  },
  {
   "cell_type": "code",
   "execution_count": 3,
   "id": "bound-carbon",
   "metadata": {},
   "outputs": [
    {
     "data": {
      "text/html": [
       "<table>\n",
       "<caption>A data.frame: 4 × 3</caption>\n",
       "<thead>\n",
       "\t<tr><th scope=col>tag</th><th scope=col>predict_label</th><th scope=col>Freq</th></tr>\n",
       "\t<tr><th scope=col>&lt;fct&gt;</th><th scope=col>&lt;fct&gt;</th><th scope=col>&lt;int&gt;</th></tr>\n",
       "</thead>\n",
       "<tbody>\n",
       "\t<tr><td>Nuc </td><td>Nuc </td><td>134</td></tr>\n",
       "\t<tr><td>Cyto</td><td>Nuc </td><td> 46</td></tr>\n",
       "\t<tr><td>Nuc </td><td>Cyto</td><td> 94</td></tr>\n",
       "\t<tr><td>Cyto</td><td>Cyto</td><td>244</td></tr>\n",
       "</tbody>\n",
       "</table>\n"
      ],
      "text/latex": [
       "A data.frame: 4 × 3\n",
       "\\begin{tabular}{lll}\n",
       " tag & predict\\_label & Freq\\\\\n",
       " <fct> & <fct> & <int>\\\\\n",
       "\\hline\n",
       "\t Nuc  & Nuc  & 134\\\\\n",
       "\t Cyto & Nuc  &  46\\\\\n",
       "\t Nuc  & Cyto &  94\\\\\n",
       "\t Cyto & Cyto & 244\\\\\n",
       "\\end{tabular}\n"
      ],
      "text/markdown": [
       "\n",
       "A data.frame: 4 × 3\n",
       "\n",
       "| tag &lt;fct&gt; | predict_label &lt;fct&gt; | Freq &lt;int&gt; |\n",
       "|---|---|---|\n",
       "| Nuc  | Nuc  | 134 |\n",
       "| Cyto | Nuc  |  46 |\n",
       "| Nuc  | Cyto |  94 |\n",
       "| Cyto | Cyto | 244 |\n",
       "\n"
      ],
      "text/plain": [
       "  tag  predict_label Freq\n",
       "1 Nuc  Nuc           134 \n",
       "2 Cyto Nuc            46 \n",
       "3 Nuc  Cyto           94 \n",
       "4 Cyto Cyto          244 "
      ]
     },
     "metadata": {},
     "output_type": "display_data"
    }
   ],
   "source": [
    "RNALight_freq"
   ]
  },
  {
   "cell_type": "code",
   "execution_count": 4,
   "id": "operating-capitol",
   "metadata": {},
   "outputs": [
    {
     "data": {
      "text/html": [
       "<table>\n",
       "<caption>A data.frame: 4 × 4</caption>\n",
       "<thead>\n",
       "\t<tr><th scope=col>tag</th><th scope=col>predict_label</th><th scope=col>Freq</th><th scope=col>Norm_Freq</th></tr>\n",
       "\t<tr><th scope=col>&lt;fct&gt;</th><th scope=col>&lt;fct&gt;</th><th scope=col>&lt;int&gt;</th><th scope=col>&lt;dbl&gt;</th></tr>\n",
       "</thead>\n",
       "<tbody>\n",
       "\t<tr><td>Nuc </td><td>Nuc </td><td>134</td><td>0.5877193</td></tr>\n",
       "\t<tr><td>Cyto</td><td>Nuc </td><td> 46</td><td>0.1586207</td></tr>\n",
       "\t<tr><td>Nuc </td><td>Cyto</td><td> 94</td><td>0.4122807</td></tr>\n",
       "\t<tr><td>Cyto</td><td>Cyto</td><td>244</td><td>0.8413793</td></tr>\n",
       "</tbody>\n",
       "</table>\n"
      ],
      "text/latex": [
       "A data.frame: 4 × 4\n",
       "\\begin{tabular}{llll}\n",
       " tag & predict\\_label & Freq & Norm\\_Freq\\\\\n",
       " <fct> & <fct> & <int> & <dbl>\\\\\n",
       "\\hline\n",
       "\t Nuc  & Nuc  & 134 & 0.5877193\\\\\n",
       "\t Cyto & Nuc  &  46 & 0.1586207\\\\\n",
       "\t Nuc  & Cyto &  94 & 0.4122807\\\\\n",
       "\t Cyto & Cyto & 244 & 0.8413793\\\\\n",
       "\\end{tabular}\n"
      ],
      "text/markdown": [
       "\n",
       "A data.frame: 4 × 4\n",
       "\n",
       "| tag &lt;fct&gt; | predict_label &lt;fct&gt; | Freq &lt;int&gt; | Norm_Freq &lt;dbl&gt; |\n",
       "|---|---|---|---|\n",
       "| Nuc  | Nuc  | 134 | 0.5877193 |\n",
       "| Cyto | Nuc  |  46 | 0.1586207 |\n",
       "| Nuc  | Cyto |  94 | 0.4122807 |\n",
       "| Cyto | Cyto | 244 | 0.8413793 |\n",
       "\n"
      ],
      "text/plain": [
       "  tag  predict_label Freq Norm_Freq\n",
       "1 Nuc  Nuc           134  0.5877193\n",
       "2 Cyto Nuc            46  0.1586207\n",
       "3 Nuc  Cyto           94  0.4122807\n",
       "4 Cyto Cyto          244  0.8413793"
      ]
     },
     "metadata": {},
     "output_type": "display_data"
    }
   ],
   "source": [
    "# Normalization\n",
    "RNALight_freq$Norm_Freq=0\n",
    "\n",
    "# TP and FP\n",
    "RNALight_freq[c(1,3),]$Norm_Freq <- RNALight_freq[c(1,3),]$Freq /sum(RNALight_freq[c(1,3),]$Freq)\n",
    "# TN and FN\n",
    "RNALight_freq[c(2,4),]$Norm_Freq <- RNALight_freq[c(2,4),]$Freq /sum(RNALight_freq[c(2,4),]$Freq)\n",
    "\n",
    "RNALight_freq"
   ]
  },
  {
   "cell_type": "code",
   "execution_count": 5,
   "id": "upper-throat",
   "metadata": {},
   "outputs": [
    {
     "data": {
      "image/png": "[encoded data removed]",
      "text/plain": [
       "plot without title"
      ]
     },
     "metadata": {
      "image/png": {
       "height": 420,
       "width": 420
      }
     },
     "output_type": "display_data"
    }
   ],
   "source": [
    "p <- ggplot(data =RNALight_freq,aes(x=predict_label,y=factor(tag,levels = c(\"Cyto\",\"Nuc\")),fill=Norm_Freq)) + \n",
    "geom_tile()+\n",
    "theme_classic()+\n",
    "theme(panel.border = element_rect(colour = \"black\", fill=NA,size = 1.5))+\n",
    "scale_y_discrete(expand = c(0,0))+\n",
    "scale_x_discrete(expand = c(0,0))+\n",
    "scale_fill_gradient(limits = c(0,1), breaks = c(0.2,0.4,0.6,0.8),low = \"white\", high = \"#0D47A1\")\n",
    "ggsave(\"./02_RNA-Light_Confusion_matrix_with_text.pdf\", p, width = 10, height = 10) \n",
    "\n",
    "p"
   ]
  },
  {
   "cell_type": "code",
   "execution_count": 6,
   "id": "boxed-island",
   "metadata": {},
   "outputs": [
    {
     "data": {
      "image/png": "[encoded data removed]",
      "text/plain": [
       "plot without title"
      ]
     },
     "metadata": {
      "image/png": {
       "height": 420,
       "width": 420
      }
     },
     "output_type": "display_data"
    }
   ],
   "source": [
    "p <- p +theme(legend.position = \"None\",\n",
    "         axis.text = element_blank(),\n",
    "         axis.title = element_blank(),\n",
    "         axis.ticks = element_blank())\n",
    "ggsave(\"./02_RNA-Light_Confusion_matrix.pdf\", p, width = 10, height = 10) \n",
    "\n",
    "p"
   ]
  },
  {
   "cell_type": "markdown",
   "id": "ruled-independence",
   "metadata": {},
   "source": [
    "*** \n",
    "###  "
   ]
  },
  {
   "cell_type": "markdown",
   "id": "annoying-mongolia",
   "metadata": {},
   "source": [
    "## 2. iloc-mRNA"
   ]
  },
  {
   "cell_type": "code",
   "execution_count": 8,
   "id": "interim-class",
   "metadata": {},
   "outputs": [],
   "source": [
    "iLoc_test_set <- read.csv(\"./iLoc-mRNA/Linux/Evaluation_Result/mRNA_sublocation_TestSet_iLoc-mRNA_predict.tsv\",sep = '\\t')\n",
    "iLoc_test_set$tag <- factor(iLoc_test_set$tag,levels = c(1,0),labels= c(\"Nuc\",\"Cyto\"))\n",
    "iLoc_test_set$predict_label <- factor(iLoc_test_set$predict_label,levels = c(1,0),labels= c(\"Nuc\",\"Cyto\"))\n",
    "iLoc_freq = as.data.frame(table(iLoc_test_set[,2:3]))"
   ]
  },
  {
   "cell_type": "code",
   "execution_count": 9,
   "id": "color-portugal",
   "metadata": {},
   "outputs": [
    {
     "data": {
      "text/html": [
       "<table>\n",
       "<caption>A data.frame: 4 × 3</caption>\n",
       "<thead>\n",
       "\t<tr><th scope=col>tag</th><th scope=col>predict_label</th><th scope=col>Freq</th></tr>\n",
       "\t<tr><th scope=col>&lt;fct&gt;</th><th scope=col>&lt;fct&gt;</th><th scope=col>&lt;int&gt;</th></tr>\n",
       "</thead>\n",
       "<tbody>\n",
       "\t<tr><td>Nuc </td><td>Nuc </td><td> 21</td></tr>\n",
       "\t<tr><td>Cyto</td><td>Nuc </td><td>  7</td></tr>\n",
       "\t<tr><td>Nuc </td><td>Cyto</td><td>207</td></tr>\n",
       "\t<tr><td>Cyto</td><td>Cyto</td><td>283</td></tr>\n",
       "</tbody>\n",
       "</table>\n"
      ],
      "text/latex": [
       "A data.frame: 4 × 3\n",
       "\\begin{tabular}{lll}\n",
       " tag & predict\\_label & Freq\\\\\n",
       " <fct> & <fct> & <int>\\\\\n",
       "\\hline\n",
       "\t Nuc  & Nuc  &  21\\\\\n",
       "\t Cyto & Nuc  &   7\\\\\n",
       "\t Nuc  & Cyto & 207\\\\\n",
       "\t Cyto & Cyto & 283\\\\\n",
       "\\end{tabular}\n"
      ],
      "text/markdown": [
       "\n",
       "A data.frame: 4 × 3\n",
       "\n",
       "| tag &lt;fct&gt; | predict_label &lt;fct&gt; | Freq &lt;int&gt; |\n",
       "|---|---|---|\n",
       "| Nuc  | Nuc  |  21 |\n",
       "| Cyto | Nuc  |   7 |\n",
       "| Nuc  | Cyto | 207 |\n",
       "| Cyto | Cyto | 283 |\n",
       "\n"
      ],
      "text/plain": [
       "  tag  predict_label Freq\n",
       "1 Nuc  Nuc            21 \n",
       "2 Cyto Nuc             7 \n",
       "3 Nuc  Cyto          207 \n",
       "4 Cyto Cyto          283 "
      ]
     },
     "metadata": {},
     "output_type": "display_data"
    }
   ],
   "source": [
    "iLoc_freq"
   ]
  },
  {
   "cell_type": "code",
   "execution_count": 10,
   "id": "talented-transmission",
   "metadata": {},
   "outputs": [
    {
     "data": {
      "text/html": [
       "<table>\n",
       "<caption>A data.frame: 4 × 4</caption>\n",
       "<thead>\n",
       "\t<tr><th scope=col>tag</th><th scope=col>predict_label</th><th scope=col>Freq</th><th scope=col>Norm_Freq</th></tr>\n",
       "\t<tr><th scope=col>&lt;fct&gt;</th><th scope=col>&lt;fct&gt;</th><th scope=col>&lt;int&gt;</th><th scope=col>&lt;dbl&gt;</th></tr>\n",
       "</thead>\n",
       "<tbody>\n",
       "\t<tr><td>Nuc </td><td>Nuc </td><td> 21</td><td>0.09210526</td></tr>\n",
       "\t<tr><td>Cyto</td><td>Nuc </td><td>  7</td><td>0.02413793</td></tr>\n",
       "\t<tr><td>Nuc </td><td>Cyto</td><td>207</td><td>0.90789474</td></tr>\n",
       "\t<tr><td>Cyto</td><td>Cyto</td><td>283</td><td>0.97586207</td></tr>\n",
       "</tbody>\n",
       "</table>\n"
      ],
      "text/latex": [
       "A data.frame: 4 × 4\n",
       "\\begin{tabular}{llll}\n",
       " tag & predict\\_label & Freq & Norm\\_Freq\\\\\n",
       " <fct> & <fct> & <int> & <dbl>\\\\\n",
       "\\hline\n",
       "\t Nuc  & Nuc  &  21 & 0.09210526\\\\\n",
       "\t Cyto & Nuc  &   7 & 0.02413793\\\\\n",
       "\t Nuc  & Cyto & 207 & 0.90789474\\\\\n",
       "\t Cyto & Cyto & 283 & 0.97586207\\\\\n",
       "\\end{tabular}\n"
      ],
      "text/markdown": [
       "\n",
       "A data.frame: 4 × 4\n",
       "\n",
       "| tag &lt;fct&gt; | predict_label &lt;fct&gt; | Freq &lt;int&gt; | Norm_Freq &lt;dbl&gt; |\n",
       "|---|---|---|---|\n",
       "| Nuc  | Nuc  |  21 | 0.09210526 |\n",
       "| Cyto | Nuc  |   7 | 0.02413793 |\n",
       "| Nuc  | Cyto | 207 | 0.90789474 |\n",
       "| Cyto | Cyto | 283 | 0.97586207 |\n",
       "\n"
      ],
      "text/plain": [
       "  tag  predict_label Freq Norm_Freq \n",
       "1 Nuc  Nuc            21  0.09210526\n",
       "2 Cyto Nuc             7  0.02413793\n",
       "3 Nuc  Cyto          207  0.90789474\n",
       "4 Cyto Cyto          283  0.97586207"
      ]
     },
     "metadata": {},
     "output_type": "display_data"
    }
   ],
   "source": [
    "# Normalization\n",
    "iLoc_freq$Norm_Freq=0\n",
    "\n",
    "# TP and FP\n",
    "iLoc_freq[c(1,3),]$Norm_Freq <- iLoc_freq[c(1,3),]$Freq /sum(iLoc_freq[c(1,3),]$Freq)\n",
    "# TN and FN\n",
    "iLoc_freq[c(2,4),]$Norm_Freq <- iLoc_freq[c(2,4),]$Freq /sum(iLoc_freq[c(2,4),]$Freq)\n",
    "\n",
    "iLoc_freq"
   ]
  },
  {
   "cell_type": "code",
   "execution_count": 11,
   "id": "african-adams",
   "metadata": {},
   "outputs": [
    {
     "data": {
      "image/png": "[encoded data removed]",
      "text/plain": [
       "plot without title"
      ]
     },
     "metadata": {
      "image/png": {
       "height": 420,
       "width": 420
      }
     },
     "output_type": "display_data"
    }
   ],
   "source": [
    "p <- ggplot(data =iLoc_freq,aes(x=predict_label,y=factor(tag,levels = c(\"Cyto\",\"Nuc\")),fill=Norm_Freq)) + \n",
    "geom_tile()+\n",
    "theme_classic()+\n",
    "theme(panel.border = element_rect(colour = \"black\", fill=NA,size = 1.5))+\n",
    "scale_y_discrete(expand = c(0,0))+\n",
    "scale_x_discrete(expand = c(0,0))+\n",
    "scale_fill_gradient(limits = c(0,1), breaks = c(0.2,0.4,0.6,0.8),low = \"white\", high = \"#0D47A1\")\n",
    "ggsave(\"./02_iLoc-mRNA_Confusion_matrix_with_text.pdf\", p, width = 10, height = 10) \n",
    "\n",
    "p"
   ]
  },
  {
   "cell_type": "code",
   "execution_count": 12,
   "id": "current-preference",
   "metadata": {},
   "outputs": [
    {
     "data": {
      "image/png": "[encoded data removed]",
      "text/plain": [
       "plot without title"
      ]
     },
     "metadata": {
      "image/png": {
       "height": 420,
       "width": 420
      }
     },
     "output_type": "display_data"
    }
   ],
   "source": [
    "p <- p +theme(legend.position = \"None\",\n",
    "         axis.text = element_blank(),\n",
    "         axis.title = element_blank(),\n",
    "         axis.ticks = element_blank())\n",
    "ggsave(\"./02_iLoc-mRNA_Confusion_matrix.pdf\", p, width = 10, height = 10) \n",
    "\n",
    "p"
   ]
  },
  {
   "cell_type": "markdown",
   "id": "lucky-bronze",
   "metadata": {},
   "source": [
    "*** \n",
    "### "
   ]
  },
  {
   "cell_type": "markdown",
   "id": "likely-thong",
   "metadata": {},
   "source": [
    "## 3. mRNALoc"
   ]
  },
  {
   "cell_type": "code",
   "execution_count": 13,
   "id": "informed-compact",
   "metadata": {},
   "outputs": [],
   "source": [
    "mRNALoc_test_set <- read.csv(\"./mRNALoc/Evaluation_Result/mRNA_sublocation_TestSet_mRNALoc_predict.tsv\",sep = '\\t')\n",
    "mRNALoc_test_set$tag <- factor(mRNALoc_test_set$tag,levels = c(1,0),labels= c(\"Nuc\",\"Cyto\"))\n",
    "mRNALoc_test_set$predict_label <- factor(mRNALoc_test_set$predict_label,levels = c(1,0),labels= c(\"Nuc\",\"Cyto\"))\n",
    "mRNALoc_freq = as.data.frame(table(mRNALoc_test_set[,2:3]))"
   ]
  },
  {
   "cell_type": "code",
   "execution_count": 14,
   "id": "latest-honolulu",
   "metadata": {},
   "outputs": [
    {
     "data": {
      "text/html": [
       "<table>\n",
       "<caption>A data.frame: 4 × 3</caption>\n",
       "<thead>\n",
       "\t<tr><th scope=col>tag</th><th scope=col>predict_label</th><th scope=col>Freq</th></tr>\n",
       "\t<tr><th scope=col>&lt;fct&gt;</th><th scope=col>&lt;fct&gt;</th><th scope=col>&lt;int&gt;</th></tr>\n",
       "</thead>\n",
       "<tbody>\n",
       "\t<tr><td>Nuc </td><td>Nuc </td><td> 73</td></tr>\n",
       "\t<tr><td>Cyto</td><td>Nuc </td><td> 70</td></tr>\n",
       "\t<tr><td>Nuc </td><td>Cyto</td><td>155</td></tr>\n",
       "\t<tr><td>Cyto</td><td>Cyto</td><td>220</td></tr>\n",
       "</tbody>\n",
       "</table>\n"
      ],
      "text/latex": [
       "A data.frame: 4 × 3\n",
       "\\begin{tabular}{lll}\n",
       " tag & predict\\_label & Freq\\\\\n",
       " <fct> & <fct> & <int>\\\\\n",
       "\\hline\n",
       "\t Nuc  & Nuc  &  73\\\\\n",
       "\t Cyto & Nuc  &  70\\\\\n",
       "\t Nuc  & Cyto & 155\\\\\n",
       "\t Cyto & Cyto & 220\\\\\n",
       "\\end{tabular}\n"
      ],
      "text/markdown": [
       "\n",
       "A data.frame: 4 × 3\n",
       "\n",
       "| tag &lt;fct&gt; | predict_label &lt;fct&gt; | Freq &lt;int&gt; |\n",
       "|---|---|---|\n",
       "| Nuc  | Nuc  |  73 |\n",
       "| Cyto | Nuc  |  70 |\n",
       "| Nuc  | Cyto | 155 |\n",
       "| Cyto | Cyto | 220 |\n",
       "\n"
      ],
      "text/plain": [
       "  tag  predict_label Freq\n",
       "1 Nuc  Nuc            73 \n",
       "2 Cyto Nuc            70 \n",
       "3 Nuc  Cyto          155 \n",
       "4 Cyto Cyto          220 "
      ]
     },
     "metadata": {},
     "output_type": "display_data"
    }
   ],
   "source": [
    "mRNALoc_freq"
   ]
  },
  {
   "cell_type": "code",
   "execution_count": 15,
   "id": "exterior-webmaster",
   "metadata": {},
   "outputs": [
    {
     "data": {
      "text/html": [
       "<table>\n",
       "<caption>A data.frame: 4 × 4</caption>\n",
       "<thead>\n",
       "\t<tr><th scope=col>tag</th><th scope=col>predict_label</th><th scope=col>Freq</th><th scope=col>Norm_Freq</th></tr>\n",
       "\t<tr><th scope=col>&lt;fct&gt;</th><th scope=col>&lt;fct&gt;</th><th scope=col>&lt;int&gt;</th><th scope=col>&lt;dbl&gt;</th></tr>\n",
       "</thead>\n",
       "<tbody>\n",
       "\t<tr><td>Nuc </td><td>Nuc </td><td> 73</td><td>0.3201754</td></tr>\n",
       "\t<tr><td>Cyto</td><td>Nuc </td><td> 70</td><td>0.2413793</td></tr>\n",
       "\t<tr><td>Nuc </td><td>Cyto</td><td>155</td><td>0.6798246</td></tr>\n",
       "\t<tr><td>Cyto</td><td>Cyto</td><td>220</td><td>0.7586207</td></tr>\n",
       "</tbody>\n",
       "</table>\n"
      ],
      "text/latex": [
       "A data.frame: 4 × 4\n",
       "\\begin{tabular}{llll}\n",
       " tag & predict\\_label & Freq & Norm\\_Freq\\\\\n",
       " <fct> & <fct> & <int> & <dbl>\\\\\n",
       "\\hline\n",
       "\t Nuc  & Nuc  &  73 & 0.3201754\\\\\n",
       "\t Cyto & Nuc  &  70 & 0.2413793\\\\\n",
       "\t Nuc  & Cyto & 155 & 0.6798246\\\\\n",
       "\t Cyto & Cyto & 220 & 0.7586207\\\\\n",
       "\\end{tabular}\n"
      ],
      "text/markdown": [
       "\n",
       "A data.frame: 4 × 4\n",
       "\n",
       "| tag &lt;fct&gt; | predict_label &lt;fct&gt; | Freq &lt;int&gt; | Norm_Freq &lt;dbl&gt; |\n",
       "|---|---|---|---|\n",
       "| Nuc  | Nuc  |  73 | 0.3201754 |\n",
       "| Cyto | Nuc  |  70 | 0.2413793 |\n",
       "| Nuc  | Cyto | 155 | 0.6798246 |\n",
       "| Cyto | Cyto | 220 | 0.7586207 |\n",
       "\n"
      ],
      "text/plain": [
       "  tag  predict_label Freq Norm_Freq\n",
       "1 Nuc  Nuc            73  0.3201754\n",
       "2 Cyto Nuc            70  0.2413793\n",
       "3 Nuc  Cyto          155  0.6798246\n",
       "4 Cyto Cyto          220  0.7586207"
      ]
     },
     "metadata": {},
     "output_type": "display_data"
    }
   ],
   "source": [
    "# Normalization\n",
    "mRNALoc_freq$Norm_Freq=0\n",
    "\n",
    "# TP and FP\n",
    "mRNALoc_freq[c(1,3),]$Norm_Freq <- mRNALoc_freq[c(1,3),]$Freq /sum(mRNALoc_freq[c(1,3),]$Freq)\n",
    "# TN and FN\n",
    "mRNALoc_freq[c(2,4),]$Norm_Freq <- mRNALoc_freq[c(2,4),]$Freq /sum(mRNALoc_freq[c(2,4),]$Freq)\n",
    "\n",
    "mRNALoc_freq"
   ]
  },
  {
   "cell_type": "code",
   "execution_count": 16,
   "id": "entire-addition",
   "metadata": {},
   "outputs": [
    {
     "data": {
      "image/png": "[encoded data removed]",
      "text/plain": [
       "plot without title"
      ]
     },
     "metadata": {
      "image/png": {
       "height": 420,
       "width": 420
      }
     },
     "output_type": "display_data"
    }
   ],
   "source": [
    "p <- ggplot(data =mRNALoc_freq,aes(x=predict_label,y=factor(tag,levels = c(\"Cyto\",\"Nuc\")),fill=Norm_Freq)) + \n",
    "geom_tile()+\n",
    "theme_classic()+\n",
    "theme(panel.border = element_rect(colour = \"black\", fill=NA,size = 1.5))+\n",
    "scale_y_discrete(expand = c(0,0))+\n",
    "scale_x_discrete(expand = c(0,0))+\n",
    "scale_fill_gradient(limits = c(0,1), breaks = c(0.2,0.4,0.6,0.8),low = \"white\", high = \"#0D47A1\")\n",
    "ggsave(\"./02_mRNALoc_freq_Confusion_matrix_with_text.pdf\", p, width = 10, height = 10) \n",
    "\n",
    "p"
   ]
  },
  {
   "cell_type": "code",
   "execution_count": 17,
   "id": "sized-family",
   "metadata": {},
   "outputs": [
    {
     "data": {
      "image/png": "[encoded data removed]",
      "text/plain": [
       "plot without title"
      ]
     },
     "metadata": {
      "image/png": {
       "height": 420,
       "width": 420
      }
     },
     "output_type": "display_data"
    }
   ],
   "source": [
    "p <- p +theme(legend.position = \"None\",\n",
    "         axis.text = element_blank(),\n",
    "         axis.title = element_blank(),\n",
    "         axis.ticks = element_blank())\n",
    "ggsave(\"./02_mRNALoc_freq_Confusion_matrix.pdf\", p, width = 10, height = 10) \n",
    "\n",
    "p"
   ]
  },
  {
   "cell_type": "code",
   "execution_count": null,
   "id": "ranging-specific",
   "metadata": {},
   "outputs": [],
   "source": []
  }
 ],
 "metadata": {
  "kernelspec": {
   "display_name": "R",
   "language": "R",
   "name": "ir"
  },
  "language_info": {
   "codemirror_mode": "r",
   "file_extension": ".r",
   "mimetype": "text/x-r-source",
   "name": "R",
   "pygments_lexer": "r",
   "version": "3.6.3"
  }
 },
 "nbformat": 4,
 "nbformat_minor": 5
}
