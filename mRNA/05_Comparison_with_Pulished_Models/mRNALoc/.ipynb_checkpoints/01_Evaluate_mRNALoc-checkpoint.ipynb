{
 "cells": [
  {
   "cell_type": "markdown",
   "id": "improving-characteristic",
   "metadata": {},
   "source": [
    "# mRNALoc was performed on local Mac to predict mRNA localization\n",
    "    perl mRNALoc.pl mRNA_sublocation_TestSet.fa 0.1\n",
    "    \n",
    "    Then, we got mRNALoc_Result."
   ]
  },
  {
   "cell_type": "code",
   "execution_count": 21,
   "id": "cutting-position",
   "metadata": {},
   "outputs": [],
   "source": [
    "import pandas as pd\n",
    "import re\n",
    "import os"
   ]
  },
  {
   "cell_type": "code",
   "execution_count": 2,
   "id": "american-extension",
   "metadata": {},
   "outputs": [],
   "source": [
    "mRNALoc_Result = pd.read_csv(\"mRNALoc_Result\",sep = '\\t')"
   ]
  },
  {
   "cell_type": "code",
   "execution_count": 8,
   "id": "micro-industry",
   "metadata": {},
   "outputs": [],
   "source": [
    "ensemble_transcript_id = mRNALoc_Result[\"SeqID\"].apply(lambda x: re.split('_',x)[0])\n",
    "tag = mRNALoc_Result[\"SeqID\"].apply(lambda x: re.split('_',x)[1])\n",
    "predict_label =  mRNALoc_Result[\"Location\"].apply(lambda x: 1 if x==\"Nucleus\" else 0)"
   ]
  },
  {
   "cell_type": "code",
   "execution_count": 15,
   "id": "innovative-article",
   "metadata": {},
   "outputs": [],
   "source": [
    "outcome_df = pd.concat([ensemble_transcript_id,tag,predict_label],axis = 1)\n",
    "outcome_df.columns = [\"ensemble_transcript_id\",\"tag\",\"predict_label\"]"
   ]
  },
  {
   "cell_type": "code",
   "execution_count": 22,
   "id": "exact-mortgage",
   "metadata": {},
   "outputs": [],
   "source": [
    "path = \"./Evaluation_Result\"\n",
    "if not (os.path.exists(path)):\n",
    "    os.mkdir(path)"
   ]
  },
  {
   "cell_type": "code",
   "execution_count": 24,
   "id": "spatial-stamp",
   "metadata": {},
   "outputs": [],
   "source": [
    "outcome_df.to_csv(os.path.join(path,\"mRNA_sublocation_TestSet_mRNALoc_predict.tsv\"),sep = '\\t',index = False)"
   ]
  },
  {
   "cell_type": "code",
   "execution_count": null,
   "id": "placed-protection",
   "metadata": {},
   "outputs": [],
   "source": []
  }
 ],
 "metadata": {
  "kernelspec": {
   "display_name": "pytorch",
   "language": "python",
   "name": "pytorch"
  },
  "language_info": {
   "codemirror_mode": {
    "name": "ipython",
    "version": 3
   },
   "file_extension": ".py",
   "mimetype": "text/x-python",
   "name": "python",
   "nbconvert_exporter": "python",
   "pygments_lexer": "ipython3",
   "version": "3.6.10"
  }
 },
 "nbformat": 4,
 "nbformat_minor": 5
}
