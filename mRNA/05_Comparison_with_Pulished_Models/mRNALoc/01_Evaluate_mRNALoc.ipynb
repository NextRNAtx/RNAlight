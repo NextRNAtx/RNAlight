{
 "cells": [
  {
   "cell_type": "markdown",
   "id": "approved-mandate",
   "metadata": {},
   "source": [
    "# mRNALoc was performed on local Mac to predict mRNA localization\n",
    "    perl mRNALoc.pl mRNA_sublocation_TestSet.fa 0.1\n",
    "    \n",
    "    Then, we got mRNALoc_Result."
   ]
  },
  {
   "cell_type": "code",
   "execution_count": 1,
   "id": "difficult-fight",
   "metadata": {},
   "outputs": [],
   "source": [
    "import numpy as np\n",
    "import pandas as pd\n",
    "import sklearn.metrics as metrics\n",
    "import re\n",
    "import os"
   ]
  },
  {
   "cell_type": "code",
   "execution_count": 2,
   "id": "former-solution",
   "metadata": {},
   "outputs": [],
   "source": [
    "mRNALoc_Result = pd.read_csv(\"mRNALoc_Result\",sep = '\\t')"
   ]
  },
  {
   "cell_type": "code",
   "execution_count": 3,
   "id": "developing-phrase",
   "metadata": {},
   "outputs": [],
   "source": [
    "ensemble_transcript_id = mRNALoc_Result[\"SeqID\"].apply(lambda x: re.split('_',x)[0])\n",
    "tag = mRNALoc_Result[\"SeqID\"].apply(lambda x: re.split('_',x)[1])\n",
    "predict_label =  mRNALoc_Result[\"Location\"].apply(lambda x: 1 if x==\"Nucleus\" else 0)"
   ]
  },
  {
   "cell_type": "code",
   "execution_count": 4,
   "id": "crude-appreciation",
   "metadata": {},
   "outputs": [],
   "source": [
    "outcome_df = pd.concat([ensemble_transcript_id,tag,predict_label],axis = 1)\n",
    "outcome_df.columns = [\"ensemble_transcript_id\",\"tag\",\"predict_label\"]"
   ]
  },
  {
   "cell_type": "code",
   "execution_count": 5,
   "id": "unsigned-discharge",
   "metadata": {},
   "outputs": [],
   "source": [
    "path = \"./Evaluation_Result\"\n",
    "if not (os.path.exists(path)):\n",
    "    os.mkdir(path)"
   ]
  },
  {
   "cell_type": "code",
   "execution_count": 6,
   "id": "enhanced-saturday",
   "metadata": {},
   "outputs": [],
   "source": [
    "outcome_df.to_csv(os.path.join(path,\"mRNA_sublocation_TestSet_mRNALoc_predict.tsv\"),sep = '\\t',index = False)"
   ]
  },
  {
   "cell_type": "code",
   "execution_count": 7,
   "id": "rational-dealer",
   "metadata": {},
   "outputs": [],
   "source": [
    "#Evaluate performance of model\n",
    "def evaluate_performance_mRNALoc(y_test, y_pred):\n",
    "    #Accuracy\n",
    "    accuracy=metrics.accuracy_score(y_test,y_pred) \n",
    "    #MCC\n",
    "    mcc=metrics.matthews_corrcoef(y_test,y_pred)\n",
    "    \n",
    "    recall=metrics.recall_score(y_test, y_pred)\n",
    "    precision=metrics.precision_score(y_test, y_pred)\n",
    "    f1=metrics.f1_score(y_test, y_pred)\n",
    "    class_report=metrics.classification_report(y_test, y_pred,target_names = [\"control\",\"case\"])\n",
    "\n",
    "    model_perf = {\"accuracy\":accuracy, \"mcc\": mcc,\n",
    "                  \"recall\":recall,\"precision\":precision,\"f1\":f1,\n",
    "                  \"class_report\":class_report}\n",
    "        \n",
    "    return model_perf"
   ]
  },
  {
   "cell_type": "code",
   "execution_count": 8,
   "id": "increased-tongue",
   "metadata": {},
   "outputs": [],
   "source": [
    "# Output result of evaluation\n",
    "def eval_output_mRNALoc(model_perf,path):\n",
    "    with open(os.path.join(path,\"Evaluate_Result_TestSet.txt\"),'w') as f:\n",
    "        f.write(\"Accuracy=%s\\tMCC=%s\\tRecall=%s\\tPrecision=%s\\tf1_score=%s\\n\" %\n",
    "               (model_perf[\"accuracy\"],model_perf[\"mcc\"],model_perf[\"recall\"],model_perf[\"precision\"],model_perf[\"f1\"]))\n",
    "        f.write(\"\\n######NOTE#######\\n\")\n",
    "        f.write(\"#According to help_documentation of sklearn.metrics.classification_report:in binary classification, recall of the positive class is also known as sensitivity; recall of the negative class is specificity#\\n\\n\")\n",
    "        f.write(model_perf[\"class_report\"])"
   ]
  },
  {
   "cell_type": "code",
   "execution_count": 9,
   "id": "collect-paragraph",
   "metadata": {},
   "outputs": [],
   "source": [
    "# Evaluate model performance\n",
    "model_perf = evaluate_performance_mRNALoc(np.array(outcome_df[\"tag\"],dtype = int),np.array(outcome_df[\"predict_label\"],dtype = int))\n",
    "eval_output_mRNALoc(model_perf,path)"
   ]
  },
  {
   "cell_type": "code",
   "execution_count": null,
   "id": "reduced-charleston",
   "metadata": {},
   "outputs": [],
   "source": []
  }
 ],
 "metadata": {
  "kernelspec": {
   "display_name": "pytorch",
   "language": "python",
   "name": "pytorch"
  },
  "language_info": {
   "codemirror_mode": {
    "name": "ipython",
    "version": 3
   },
   "file_extension": ".py",
   "mimetype": "text/x-python",
   "name": "python",
   "nbconvert_exporter": "python",
   "pygments_lexer": "ipython3",
   "version": "3.6.10"
  }
 },
 "nbformat": 4,
 "nbformat_minor": 5
}
