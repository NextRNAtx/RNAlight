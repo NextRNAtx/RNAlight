{
 "cells": [
  {
   "cell_type": "markdown",
   "metadata": {},
   "source": [
    "# Gencode v30 Protein-coding transcript sequences\n",
    "  gencode.v30.pc_transcripts.fa\n",
    "  \n",
    "  https://www.gencodegenes.org/human/release_30.html"
   ]
  },
  {
   "cell_type": "markdown",
   "metadata": {},
   "source": [
    "# To obtain the major isoforms of protein coding mRNAs"
   ]
  },
  {
   "cell_type": "code",
   "execution_count": 1,
   "metadata": {},
   "outputs": [],
   "source": [
    "# Filter nonsense_mediated_decay, non_stop_decay, IG_*_gene, TR_*_gene, polymorphic_pseudogene\n",
    "grep -w 'gene_type \"protein_coding\"' gencode.v30.annotation.gtf \\\n",
    "| grep -w 'transcript_type \"protein_coding\"' > gencode.v30.pc_mRNA_annotation.gtf\n",
    "\n",
    "# Convert to genePred\n",
    "gtfToGenePred gencode.v30.pc_mRNA_annotation.gtf gencode.v30.pc_mRNA_annotation.refseq -genePredExt # 83645\n",
    "\n",
    "# Conver fasta to tabular file\n",
    "seqkit fx2tab  gencode.v30.pc_transcripts.fa > gencode.v30.pc_transcripts.tab\n",
    "\n",
    "# Get mRNA sequence \n",
    "cut -f1 gencode.v30.pc_mRNA_annotation.refseq > mRNA.temp\n",
    "grep -F -f mRNA.temp gencode.v30.pc_transcripts.tab  > gencode.v30.pc_mRNA_transcripts.tab\n",
    "\n",
    "# Get major isoform of mRNA\n",
    "cat gencode.v30.pc_mRNA_transcripts.tab \\\n",
    "| sort -t '|'  -k5 | awk -F '|'  '!a[$6]++' \\\n",
    "| grep \"201\" > ./gencode.v30.pc_mRNA_transcripts_major.txt # 18607\n",
    "\n",
    "sed \"s:\\t::g\" gencode.v30.pc_mRNA_transcripts_major.txt \\\n",
    "| awk -F '|' -v OFS='\\t' 'BEGIN{print \"ensembl_gene_id\\tname\\tcdna\"} {print $2,$6,$NF}'\\\n",
    "> ./gencode.v30.pc_mRNA_transcripts_major_compact.txt\n",
    "\n",
    "rm mRNA.temp"
   ]
  },
  {
   "cell_type": "markdown",
   "metadata": {
    "papermill": {
     "duration": 0.005339,
     "end_time": "2021-02-02T05:24:05.405061",
     "exception": false,
     "start_time": "2021-02-02T05:24:05.399722",
     "status": "completed"
    },
    "tags": []
   },
   "source": [
    "# To obtain protein coding mRNAs in LncATLAS"
   ]
  },
  {
   "cell_type": "code",
   "execution_count": 2,
   "metadata": {
    "papermill": {
     "duration": 1.166859,
     "end_time": "2021-02-02T05:24:06.576472",
     "exception": false,
     "start_time": "2021-02-02T05:24:05.409613",
     "status": "completed"
    },
    "tags": []
   },
   "outputs": [],
   "source": [
    "awk -F ',' '{if(NR==1||$3==\"CNRCI\" && $6==\"coding\"){print}}' 2021-01-29_lncATLAS_all_data_RCI.csv \\\n",
    "| sed 's/,/\\t/g' > 2021-01-29_lncATLAS_coding_data_RCI.tsv"
   ]
  }
 ],
 "metadata": {
  "kernelspec": {
   "display_name": "Bash",
   "language": "bash",
   "name": "bash"
  },
  "language_info": {
   "codemirror_mode": "shell",
   "file_extension": ".sh",
   "mimetype": "text/x-sh",
   "name": "bash"
  },
  "papermill": {
   "default_parameters": {},
   "duration": 53.752945,
   "end_time": "2021-02-02T05:24:07.762501",
   "environment_variables": {},
   "exception": null,
   "input_path": "/data/rnomics9/yuanguohua/lncRNA-subcellular-localizations/Original_data/01_generate_ref_and_input.ipynb",
   "output_path": "/data/rnomics9/yuanguohua/lncRNA-subcellular-localizations/Original_data/01_generate_ref_and_input.ipynb",
   "parameters": {},
   "start_time": "2021-02-02T05:23:14.009556",
   "version": "2.3.1"
  }
 },
 "nbformat": 4,
 "nbformat_minor": 5
}
