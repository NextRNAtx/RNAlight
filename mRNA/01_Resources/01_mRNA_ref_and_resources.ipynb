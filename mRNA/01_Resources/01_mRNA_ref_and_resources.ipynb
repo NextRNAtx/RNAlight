{
 "cells": [
  {
   "cell_type": "markdown",
   "id": "otherwise-cooler",
   "metadata": {},
   "source": [
    "# Bash "
   ]
  },
  {
   "cell_type": "markdown",
   "id": "coordinated-carrier",
   "metadata": {},
   "source": [
    "***\n",
    "###  "
   ]
  },
  {
   "cell_type": "markdown",
   "id": "stretch-square",
   "metadata": {},
   "source": [
    "## 1. mRNA annotation"
   ]
  },
  {
   "cell_type": "markdown",
   "id": "closed-forum",
   "metadata": {},
   "source": [
    "+ File1: gencode.v30.annotation.gtf\n",
    "+ URL1: http://ftp.ebi.ac.uk/pub/databases/gencode/Gencode_human/release_30/gencode.v30.annotation.gtf.gz\n",
    "\n",
    "+ File2: gencode.v30.pc_transcripts.fa\n",
    "+ URL2: http://ftp.ebi.ac.uk/pub/databases/gencode/Gencode_human/release_30/gencode.v30.pc_transcripts.fa.gz"
   ]
  },
  {
   "cell_type": "code",
   "execution_count": 2,
   "id": "literary-photograph",
   "metadata": {},
   "outputs": [],
   "source": [
    "# To obtain the major isoforms of protein coding mRNAs\n",
    "\n",
    "# Filter nonsense_mediated_decay, non_stop_decay, IG_*_gene, TR_*_gene, polymorphic_pseudogene\n",
    "grep -w 'gene_type \"protein_coding\"' ./References/gencode.v30.annotation.gtf \\\n",
    "| grep -w 'transcript_type \"protein_coding\"' > ./References/gencode.v30.pc_mRNA_annotation.gtf\n",
    "\n",
    "# Convert to genePred\n",
    "gtfToGenePred ./References/gencode.v30.pc_mRNA_annotation.gtf ./References/gencode.v30.pc_mRNA_annotation.refseq -genePredExt # 83645\n",
    "\n",
    "# Conver fasta to tabular file\n",
    "seqkit fx2tab  ./References/gencode.v30.pc_transcripts.fa > ./References/gencode.v30.pc_transcripts.tab\n",
    "\n",
    "# Get mRNA sequence \n",
    "cut -f1 ./References/gencode.v30.pc_mRNA_annotation.refseq > ./References/mRNA.temp\n",
    "grep -F -f ./References/mRNA.temp ./References/gencode.v30.pc_transcripts.tab  > ./References/gencode.v30.pc_mRNA_transcripts.tab\n",
    "\n",
    "# Get major isoform of mRNA\n",
    "cat ./References/gencode.v30.pc_mRNA_transcripts.tab \\\n",
    "| sort -t '|'  -k5 | awk -F '|'  '!a[$6]++' \\\n",
    "| grep \"201\" > ./References/gencode.v30.pc_mRNA_transcripts_major.txt # 18607\n",
    "\n",
    "sed \"s:\\t::g\" ./References/gencode.v30.pc_mRNA_transcripts_major.txt \\\n",
    "| awk -F '|' -v OFS='\\t' 'BEGIN{print \"ensembl_gene_id\\tname\\tcdna\"} {print $2,$6,$NF}'\\\n",
    "> ./References/gencode.v30.pc_mRNA_transcripts_major_compact.txt\n",
    "\n",
    "sed \"s:\\t::g\" ./References/gencode.v30.pc_mRNA_transcripts_major.txt \\\n",
    "| awk -F '|' -v OFS='\\t' 'BEGIN{print \"ensembl_transcript_id\\tname\\tcdna\"} {print $1,$6,$NF}'\\\n",
    "> ./References/gencode.v30.pc_mRNA_transcripts_major_compact_trans_id.txt\n",
    "\n",
    "rm ./References/mRNA.temp"
   ]
  },
  {
   "cell_type": "code",
   "execution_count": 6,
   "id": "charming-arlington",
   "metadata": {},
   "outputs": [],
   "source": [
    "# Convert to genePred format with gene name\n",
    "gtfToGenePred ./References/gencode.v30.annotation.gtf ./References/gencode.v30.annotation.refseq -genePredExt\n",
    "\n",
    "# Convert to bed12\n",
    "genePredToBed ./References/gencode.v30.annotation.refseq ./References/gencode.v30.annotation.bed12"
   ]
  },
  {
   "cell_type": "markdown",
   "id": "honest-fusion",
   "metadata": {},
   "source": [
    "***\n",
    "###  "
   ]
  },
  {
   "cell_type": "markdown",
   "id": "hollywood-absolute",
   "metadata": {},
   "source": [
    "## 2. mRNA localization resources"
   ]
  },
  {
   "cell_type": "markdown",
   "id": "prospective-devil",
   "metadata": {},
   "source": [
    "### 2.1 Cefra-seq\n",
    "- File: 2018_CeFra_Seq_polyA_plus.tsv\n",
    "- URL: https://rnajournal.cshlp.org/content/suppl/2017/10/27/rna.063172.117.DC1/Supplemental_File_3.tsv"
   ]
  },
  {
   "cell_type": "markdown",
   "id": "running-lecture",
   "metadata": {},
   "source": [
    "### 2.2 APEX-seq\n",
    "- File: 2019_CELL_APEXSeq.tsv\n",
    "- URL: https://www.ncbi.nlm.nih.gov/pmc/articles/PMC6786773/bin/NIHMS1531987-supplement-3.xlsx"
   ]
  },
  {
   "cell_type": "markdown",
   "id": "substantial-european",
   "metadata": {},
   "source": [
    "*** "
   ]
  },
  {
   "cell_type": "code",
   "execution_count": null,
   "id": "noticed-kazakhstan",
   "metadata": {},
   "outputs": [],
   "source": []
  }
 ],
 "metadata": {
  "kernelspec": {
   "display_name": "Bash",
   "language": "bash",
   "name": "bash"
  },
  "language_info": {
   "codemirror_mode": "shell",
   "file_extension": ".sh",
   "mimetype": "text/x-sh",
   "name": "bash"
  },
  "papermill": {
   "default_parameters": {},
   "duration": 53.752945,
   "end_time": "2021-02-02T05:24:07.762501",
   "environment_variables": {},
   "exception": null,
   "input_path": "/data/rnomics9/yuanguohua/lncRNA-subcellular-localizations/Original_data/01_generate_ref_and_input.ipynb",
   "output_path": "/data/rnomics9/yuanguohua/lncRNA-subcellular-localizations/Original_data/01_generate_ref_and_input.ipynb",
   "parameters": {},
   "start_time": "2021-02-02T05:23:14.009556",
   "version": "2.3.1"
  }
 },
 "nbformat": 4,
 "nbformat_minor": 5
}
